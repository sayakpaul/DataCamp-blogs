{
 "cells": [
  {
   "cell_type": "markdown",
   "metadata": {},
   "source": [
    "# Introduction to Automated Machine Learning with Auto-Keras\n",
    "\n",
    "Learn about automated machine learning and how it can be implemented with `auto-keras`."
   ]
  },
  {
   "cell_type": "markdown",
   "metadata": {},
   "source": [
    "Machine learning is not a very uncommon term these days because of organizations like DataCamp, Coursera, Udacity and many more are constantly working on how easily and flexibly they can bring the very education of machine learning to the commoners. With the virtue of their platforms it is really easy nowadays to get started in this field with almost no prerequisites. However, the term **Automated Machine Learning** is making a lot of headlines these days on the popular Data Science education forums. Many organizations like **Google**, **H2O.ai** etc. are working commendably on this area. This is not a very common topic as compared to _Machine Learning_. Because machine learning deals with the _automation_ part itself; so naturally the question that hits the mind first - \"_Can machine learning be also automated?_\"\n",
    "\n",
    "You will find the answers to many questions like these in this tutorial. This tutorial comprises the following:\n",
    "\n",
    "- Understanding a standard Machine Learning pipeline\n",
    "- How the  Machine Learning pipeline   can be automated?\n",
    "- Introduction to automated machine learning\n",
    "- Python libraries for automated machine learning\n",
    "- Introduction to auto-keras\n",
    "- A case study of AutoML using `auto-keras`\n",
    "- Further reading on the topic\n",
    "\n",
    "Let's get started."
   ]
  },
  {
   "cell_type": "markdown",
   "metadata": {},
   "source": [
    "<img src = \"https://raw.githubusercontent.com/rhiever/tpot/master/images/tpot-ml-pipeline.png\">\n",
    "\n",
    "**Source: KDNuggets**"
   ]
  },
  {
   "cell_type": "markdown",
   "metadata": {},
   "source": [
    "## Understanding a standard Machine Learning pipeline:\n",
    "\n",
    "When you are solving a problem as a Data Scientist, your standard workflow looks something like the following:\n",
    "\n",
    "1. Data Collection\n",
    "2. Data Preprocessing\n",
    "3. Initialize a machine learning model that may be suitable for the problem\n",
    "4. Train the model\n",
    "5. Test the model\n",
    "6. Tweak the hyperparameters of the model\n",
    "7. Again test the model\n",
    "8. Communicate the results\n",
    "\n",
    "The second step _Data Preprocessing_ is very broad in its context because it is essentially one of the most time consuming tasks in the above pipeline and it includes many sub tasks such as Data Cleaning, Data Transformation, Feature Selection etc. The steps from 3 to  7 is just for one machine learning model. A good practitioner will certainly not stop after just one model, he will try his experiments on different models so as to compare their results and finally decide on the best model for the problem. So, here comes another very time-consuming set of tasks - **Deciding on which model to choose?**\n",
    "\n",
    "\"_Debugging for machine learning happens in two cases: 1) your algorithm doesn't work or 2) your algorithm doesn't work well enough.[...] Very rarely does an algorithm work the first time and so this ends up being where the majority of time is spent in building algorithms._\" - [S. Zayd Enam](https://twitter.com/zaydenam)\n",
    "\n",
    "So, by now, you must have got a brief idea of a standard machine learning engineering task? Ultimately you will have to decide which model is the best for the problem at your hand and you also need to explain why it is the best. At times, you will be under situations where the number of possibilities to try is just too many but the deadline is not that far. - Getting the essence of the problem? Let's find out more. "
   ]
  },
  {
   "cell_type": "markdown",
   "metadata": {},
   "source": [
    "## How the Machine Learning pipeline can be automated?\n",
    "\n",
    "You will continue this section with the notion of deciding the best model for a problem and a situation where the number of possibilities and the deadline are inversely proportional to each other. \n",
    "\n",
    "At the very beginning of this tutorial you encountered one question \"Can machine learning be also automated?\" This question is not at all silly. Even the great [Sebastian Raschka](https://sebastianraschka.com/) in one of his interviews described Automated Machine Learning as **\"the automation of automating automation\"**. \n",
    "\n",
    "Revisit the step number 5 from the standard workflow of a data science task you just studied - _Tweak the hyperparameters of the model_. Say, you have finished preparing data for the further steps and you have just initiated a classifier $X$. Now, say, $X$ takes 5 different hyperparameters. So, you will have to try the same classifier $X$ but with different sets of hyperparameter values which is definitely not an easy task to execute. Now comes the more troubling part. After trying out various combinations, you discovered that the results are not well enough. So, you decided to test four more classifiers (each with 6 different hyperparameters). Can you imagine how time-consuming can this be? Even after that, what if you do not get good results? Investigation of that will be nothing but another heavily time-consuming process. \n",
    "\n",
    "So the very idea of Automated Machine Learning comes from this problem. \n",
    "\n",
    "\"_If numerous machine learning models must be built, using a variety of algorithms and a number of differing hyperparameter configurations, then this model building can be automated, as can the comparison of model performance and accuracy.\"_ - [KDNuggets](https://www.kdnuggets.com/2017/01/current-state-automated-machine-learning.html)"
   ]
  },
  {
   "cell_type": "markdown",
   "metadata": {},
   "source": [
    "You now have a reason why \"the term Automated Machine Learning is making a lot of headlines these days on the popular Data Science education forums.\" You will now study more about automated machine learning in the next section. "
   ]
  },
  {
   "cell_type": "markdown",
   "metadata": {},
   "source": [
    "## Introduction to automated machine learning: \n",
    "\n",
    "The task of tuning hyperparameters that too for different machine learning models is iterative in nature. So what if this process could itself be automated? Well, that is what automated machine learning basically does. Automated machine learning is a direct solution to the shortage of data scientists as it can drastically increase the performance and productivity of data scientists by speeding up work cycles, improving model accuracy, and ultimately, even\n",
    "possibly replace the need for data scientists. \n",
    "\n",
    "You now have enough knowledge about automated machine learning and you are ready to see it in action. But first, let's see what are some of the widely used Python libraries for doing automated machine learning. "
   ]
  },
  {
   "cell_type": "markdown",
   "metadata": {},
   "source": [
    "## Python libraries for automated machine learning:\n",
    "\n",
    "There are many Python libraries available for performing automated machine learning. All of them attempt to achieve more or less the same goal, that of automating the machine learning process. Following are some of the most widely used Python libraries for automated machine learning:\n",
    "\n",
    "- [Auto-Sklearn](https://www.kdnuggets.com/2016/08/winning-automl-challenge-auto-sklearn.html)\n",
    "- [TPOT](https://www.kdnuggets.com/2016/05/tpot-python-automating-data-science.html)\n",
    "- [Auto-ML](https://www.automl.org/automl/)\n",
    "- [Auto-Keras](http://autokeras.com/)\n",
    "- And many more!\n",
    "\n",
    "Each of these libraries has their own approach to tackle process of \"automation of automating automation\". But for this tutorial, you will use _Auto-Keras_. Why wait then? Let's do it.  "
   ]
  },
  {
   "cell_type": "markdown",
   "metadata": {},
   "source": [
    "## Introduction to auto-keras:\n",
    "\n",
    "Auto-Keras is an open source software library for automated machine learning (AutoML). It is developed by [DATA Lab](http://faculty.cs.tamu.edu/xiahu/index.html) at Texas A&M University and community contributors. The ultimate goal of AutoML is to provide easily accessible deep learning tools to domain experts with limited data science or machine learning background. Auto-Keras provides functions to automatically search for architecture and hyperparameters of deep learning models.\n",
    "\n",
    "<img src = \"https://github.com/jhfjhfj1/autokeras/blob/master/logo.png?raw=true\">\n",
    "\n",
    "**Source: [Auto-Keras](https://autokeras.com/)**"
   ]
  },
  {
   "cell_type": "markdown",
   "metadata": {},
   "source": [
    "To install auto-keras just run the following command. \n",
    "\n",
    "**Note: currently, Auto-Keras is only compatible with: Python 3.6.**"
   ]
  }
 ],
 "metadata": {
  "anaconda-cloud": {},
  "kernelspec": {
   "display_name": "Python [default]",
   "language": "python",
   "name": "python3"
  },
  "language_info": {
   "codemirror_mode": {
    "name": "ipython",
    "version": 3
   },
   "file_extension": ".py",
   "mimetype": "text/x-python",
   "name": "python",
   "nbconvert_exporter": "python",
   "pygments_lexer": "ipython3",
   "version": "3.5.6"
  },
  "latex_envs": {
   "LaTeX_envs_menu_present": true,
   "autoclose": false,
   "autocomplete": true,
   "bibliofile": "biblio.bib",
   "cite_by": "apalike",
   "current_citInitial": 1,
   "eqLabelWithNumbers": true,
   "eqNumInitial": 1,
   "hotkeys": {
    "equation": "Ctrl-E",
    "itemize": "Ctrl-I"
   },
   "labels_anchors": false,
   "latex_user_defs": false,
   "report_style_numbering": false,
   "user_envs_cfg": false
  },
  "toc": {
   "base_numbering": 1,
   "nav_menu": {},
   "number_sections": false,
   "sideBar": true,
   "skip_h1_title": false,
   "title_cell": "Table of Contents",
   "title_sidebar": "Contents",
   "toc_cell": false,
   "toc_position": {},
   "toc_section_display": true,
   "toc_window_display": false
  }
 },
 "nbformat": 4,
 "nbformat_minor": 2
}
