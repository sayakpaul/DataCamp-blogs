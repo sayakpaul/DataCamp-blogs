{
 "cells": [
  {
   "cell_type": "markdown",
   "metadata": {},
   "source": [
    "# Introduction to Automated Machine Learning with Auto-Keras\n",
    "\n",
    "Learn about automated machine learning and how it can be implemented with `auto-keras`."
   ]
  },
  {
   "cell_type": "markdown",
   "metadata": {},
   "source": [
    "Machine learning is not a very uncommon term these days because of organizations like DataCamp, Coursera, Udacity and many more are constantly working on how easily and flexibly they can bring the very education of machine learning to the commoners. With the virtue of their platforms it is really easy nowadays to get started in this field with almost no prerequisites. However, the term **Automated Machine Learning** is making a lot of headlines these days on the popular Data Science education forums. Many organizations like **Google**, **H2O.ai** etc. are working commendably on this area. This is not a very common topic as compared to _Machine Learning_. Because machine learning deals with the _automation_ part itself; so naturally the question that hits the mind first - \"_Can machine learning be also automated?_\"\n",
    "\n",
    "You will find the answers to many questions like these in this tutorial. This tutorial comprises the following:\n",
    "\n",
    "- Understanding a standard Machine Learning pipeline\n",
    "- How the  Machine Learning pipeline   can be automated?\n",
    "- Introduction to automated machine learning\n",
    "- Python libraries for automated machine learning\n",
    "- Introduction to auto-keras\n",
    "- A case study of AutoML using `auto-keras`\n",
    "- Further reading on the topic\n",
    "\n",
    "Let's get started."
   ]
  },
  {
   "cell_type": "markdown",
   "metadata": {},
   "source": [
    "<img src = \"https://raw.githubusercontent.com/rhiever/tpot/master/images/tpot-ml-pipeline.png\">\n",
    "\n",
    "**Source: KDNuggets**"
   ]
  },
  {
   "cell_type": "markdown",
   "metadata": {},
   "source": [
    "## Understanding a standard Machine Learning pipeline:\n",
    "\n",
    "When you are solving a problem as a Data Scientist, your standard workflow looks something like the following:\n",
    "\n",
    "1. Data Collection\n",
    "2. Data Preprocessing\n",
    "3. Initialize a machine learning model that may be suitable for the problem\n",
    "4. Train the model\n",
    "5. Test the model\n",
    "6. Tweak the hyperparameters of the model\n",
    "7. Again test the model\n",
    "8. Communicate the results\n",
    "\n",
    "The second step _Data Preprocessing_ is very broad in its context because it is essentially one of the most time consuming tasks in the above pipeline and it includes many sub tasks such as Data Cleaning, Data Transformation, Feature Selection etc. The steps from 3 to  7 is just for one machine learning model. A good practitioner will certainly not stop after just one model, he will try his experiments on different models so as to compare their results and finally decide on the best model for the problem. So, here comes another very time-consuming set of tasks - **Deciding on which model to choose?**\n",
    "\n",
    "\"_Debugging for machine learning happens in two cases: 1) your algorithm doesn't work or 2) your algorithm doesn't work well enough.[...] Very rarely does an algorithm work the first time and so this ends up being where the majority of time is spent in building algorithms._\" - [S. Zayd Enam](https://twitter.com/zaydenam)\n",
    "\n",
    "So, by now, you must have got a brief idea of a standard machine learning engineering task? Ultimately you will have to decide which model is the best for the problem at your hand and you also need to explain why it is the best. At times, you will be under situations where the number of possibilities to try is just too many but the deadline is not that far. - Getting the essence of the problem? Let's find out more. "
   ]
  },
  {
   "cell_type": "markdown",
   "metadata": {},
   "source": [
    "## How the Machine Learning pipeline can be automated?\n",
    "\n",
    "You will continue this section with the notion of deciding the best model for a problem and a situation where the number of possibilities and the deadline are inversely proportional to each other. \n",
    "\n",
    "At the very beginning of this tutorial you encountered one question \"Can machine learning be also automated?\" This question is not at all silly. Even the great [Sebastian Raschka](https://sebastianraschka.com/) in one of his interviews described Automated Machine Learning as **\"the automation of automating automation\"**. \n",
    "\n",
    "Revisit the step number 5 from the standard workflow of a data science task you just studied - _Tweak the hyperparameters of the model_. Say, you have finished preparing data for the further steps and you have just initiated a classifier $X$. Now, say, $X$ takes 5 different hyperparameters. So, you will have to try the same classifier $X$ but with different sets of hyperparameter values which is definitely not an easy task to execute. Now comes the more troubling part. After trying out various combinations, you discovered that the results are not well enough. So, you decided to test four more classifiers (each with 6 different hyperparameters). Can you imagine how time-consuming can this be? Even after that, what if you do not get good results? Investigation of that will be nothing but another heavily time-consuming process. \n",
    "\n",
    "So the very idea of Automated Machine Learning comes from this problem. \n",
    "\n",
    "\"_If numerous machine learning models must be built, using a variety of algorithms and a number of differing hyperparameter configurations, then this model building can be automated, as can the comparison of model performance and accuracy.\"_ - [KDNuggets](https://www.kdnuggets.com/2017/01/current-state-automated-machine-learning.html)"
   ]
  },
  {
   "cell_type": "markdown",
   "metadata": {},
   "source": [
    "You now have a reason why \"the term Automated Machine Learning is making a lot of headlines these days on the popular Data Science education forums.\" You will now study more about automated machine learning in the next section. "
   ]
  },
  {
   "cell_type": "markdown",
   "metadata": {},
   "source": [
    "## Introduction to automated machine learning: \n",
    "\n",
    "The task of tuning hyperparameters that too for different machine learning models is iterative in nature. So what if this process could itself be automated? Well, that is what automated machine learning basically does. Automated machine learning is a direct solution to the shortage of data scientists as it can drastically increase the performance and productivity of data scientists by speeding up work cycles, improving model accuracy, and ultimately, even\n",
    "possibly replace the need for data scientists. \n",
    "\n",
    "You now have enough knowledge about automated machine learning and you are ready to see it in action. But first, let's see what are some of the widely used Python libraries for doing automated machine learning. "
   ]
  },
  {
   "cell_type": "markdown",
   "metadata": {},
   "source": [
    "## Python libraries for automated machine learning:\n",
    "\n",
    "There are many Python libraries available for performing automated machine learning. All of them attempt to achieve more or less the same goal, that of automating the machine learning process. Following are some of the most widely used Python libraries for automated machine learning:\n",
    "\n",
    "- [Auto-Sklearn](https://www.kdnuggets.com/2016/08/winning-automl-challenge-auto-sklearn.html)\n",
    "- [TPOT](https://www.kdnuggets.com/2016/05/tpot-python-automating-data-science.html)\n",
    "- [Auto-ML](https://www.automl.org/automl/)\n",
    "- [Auto-Keras](http://autokeras.com/)\n",
    "- And many more!\n",
    "\n",
    "Each of these libraries has their own approach to tackle process of \"automation of automating automation\". But for this tutorial, you will use _Auto-Keras_. Why wait then? Let's do it.  "
   ]
  },
  {
   "cell_type": "markdown",
   "metadata": {},
   "source": [
    "## Introduction to auto-keras:\n",
    "\n",
    "Auto-Keras is an open source software library for automated machine learning (AutoML). It is developed by [DATA Lab](http://faculty.cs.tamu.edu/xiahu/index.html) at Texas A&M University and community contributors. The ultimate goal of AutoML is to provide easily accessible deep learning tools to domain experts with limited data science or machine learning background. Auto-Keras provides functions to automatically search for architecture and hyperparameters of deep learning models.\n",
    "\n",
    "<img src = \"https://github.com/jhfjhfj1/autokeras/blob/master/logo.png?raw=true\">\n",
    "\n",
    "**Source: [Auto-Keras](https://autokeras.com/)**"
   ]
  },
  {
   "cell_type": "markdown",
   "metadata": {},
   "source": [
    "To install auto-keras just run the following command. \n",
    "\n",
    "**Note: Currently, Auto-Keras is only compatible with: Python 3.6.**"
   ]
  },
  {
   "cell_type": "code",
   "execution_count": 1,
   "metadata": {},
   "outputs": [
    {
     "name": "stdout",
     "output_type": "stream",
     "text": [
      "Collecting autokeras\n",
      "  Downloading https://files.pythonhosted.org/packages/31/e3/24b5e5dd3d29ad90e68ed9e6bb79f10a68b308d15199af0436acb0649860/autokeras-0.2.18.tar.gz\n",
      "Requirement already satisfied: torch==0.4.1 in /usr/local/lib/python3.6/site-packages (from autokeras) (0.4.1)\n",
      "Requirement already satisfied: torchvision==0.2.1 in /usr/local/lib/python3.6/site-packages (from autokeras) (0.2.1)\n",
      "Requirement already satisfied: numpy>=1.14.5 in /usr/local/lib/python3.6/site-packages (from autokeras) (1.15.1)\n",
      "Collecting keras==2.2.2 (from autokeras)\n",
      "\u001b[?25l  Downloading https://files.pythonhosted.org/packages/34/7d/b1dedde8af99bd82f20ed7e9697aac0597de3049b1f786aa2aac3b9bd4da/Keras-2.2.2-py2.py3-none-any.whl (299kB)\n",
      "\u001b[K    100% |████████████████████████████████| 307kB 17.3MB/s \n",
      "\u001b[?25hCollecting scikit-learn==0.19.1 (from autokeras)\n",
      "\u001b[?25l  Downloading https://files.pythonhosted.org/packages/3d/2d/9fbc7baa5f44bc9e88ffb7ed32721b879bfa416573e85031e16f52569bc9/scikit_learn-0.19.1-cp36-cp36m-manylinux1_x86_64.whl (12.4MB)\n",
      "\u001b[K    100% |████████████████████████████████| 12.4MB 4.9MB/s \n",
      "\u001b[?25hCollecting tensorflow>=1.10.0 (from autokeras)\n",
      "\u001b[?25l  Downloading https://files.pythonhosted.org/packages/ce/d5/38cd4543401708e64c9ee6afa664b936860f4630dd93a49ab863f9998cd2/tensorflow-1.11.0-cp36-cp36m-manylinux1_x86_64.whl (63.0MB)\n",
      "\u001b[K    100% |████████████████████████████████| 63.0MB 1.1MB/s \n",
      "\u001b[?25hRequirement already satisfied: tqdm==4.25.0 in /usr/local/lib/python3.6/site-packages (from autokeras) (4.25.0)\n",
      "Requirement already satisfied: six in /usr/local/lib/python3.6/site-packages (from torchvision==0.2.1->autokeras) (1.11.0)\n",
      "Requirement already satisfied: pillow>=4.1.1 in /usr/local/lib/python3.6/site-packages (from torchvision==0.2.1->autokeras) (5.2.0)\n",
      "Requirement already satisfied: scipy>=0.14 in /usr/local/lib/python3.6/site-packages (from keras==2.2.2->autokeras) (1.1.0)\n",
      "Requirement already satisfied: h5py in /usr/local/lib/python3.6/site-packages (from keras==2.2.2->autokeras) (2.8.0)\n",
      "Collecting keras-preprocessing==1.0.2 (from keras==2.2.2->autokeras)\n",
      "  Downloading https://files.pythonhosted.org/packages/71/26/1e778ebd737032749824d5cba7dbd3b0cf9234b87ab5ec79f5f0403ca7e9/Keras_Preprocessing-1.0.2-py2.py3-none-any.whl\n",
      "Requirement already satisfied: pyyaml in /usr/local/lib/python3.6/site-packages (from keras==2.2.2->autokeras) (3.13)\n",
      "Collecting keras-applications==1.0.4 (from keras==2.2.2->autokeras)\n",
      "\u001b[?25l  Downloading https://files.pythonhosted.org/packages/54/90/8f327deaa37a71caddb59b7b4aaa9d4b3e90c0e76f8c2d1572005278ddc5/Keras_Applications-1.0.4-py2.py3-none-any.whl (43kB)\n",
      "\u001b[K    100% |████████████████████████████████| 51kB 19.0MB/s \n",
      "\u001b[?25hRequirement already satisfied: wheel>=0.26 in /usr/local/lib/python3.6/site-packages (from tensorflow>=1.10.0->autokeras) (0.31.1)\n",
      "Requirement already satisfied: termcolor>=1.1.0 in /usr/local/lib/python3.6/site-packages (from tensorflow>=1.10.0->autokeras) (1.1.0)\n",
      "Requirement already satisfied: protobuf>=3.6.0 in /usr/local/lib/python3.6/site-packages (from tensorflow>=1.10.0->autokeras) (3.6.1)\n",
      "Collecting tensorboard<1.12.0,>=1.11.0 (from tensorflow>=1.10.0->autokeras)\n",
      "\u001b[?25l  Downloading https://files.pythonhosted.org/packages/9b/2f/4d788919b1feef04624d63ed6ea45a49d1d1c834199ec50716edb5d310f4/tensorboard-1.11.0-py3-none-any.whl (3.0MB)\n",
      "\u001b[K    100% |████████████████████████████████| 3.0MB 12.9MB/s \n",
      "\u001b[?25hRequirement already satisfied: astor>=0.6.0 in /usr/local/lib/python3.6/site-packages (from tensorflow>=1.10.0->autokeras) (0.7.1)\n",
      "Requirement already satisfied: gast>=0.2.0 in /usr/local/lib/python3.6/site-packages (from tensorflow>=1.10.0->autokeras) (0.2.0)\n",
      "Requirement already satisfied: grpcio>=1.8.6 in /usr/local/lib/python3.6/site-packages (from tensorflow>=1.10.0->autokeras) (1.14.2)\n",
      "Requirement already satisfied: absl-py>=0.1.6 in /usr/local/lib/python3.6/site-packages (from tensorflow>=1.10.0->autokeras) (0.4.1)\n",
      "Requirement already satisfied: setuptools<=39.1.0 in /usr/local/lib/python3.6/site-packages (from tensorflow>=1.10.0->autokeras) (39.1.0)\n",
      "Requirement already satisfied: markdown>=2.6.8 in /usr/local/lib/python3.6/site-packages (from tensorboard<1.12.0,>=1.11.0->tensorflow>=1.10.0->autokeras) (2.6.11)\n",
      "Requirement already satisfied: werkzeug>=0.11.10 in /usr/local/lib/python3.6/site-packages (from tensorboard<1.12.0,>=1.11.0->tensorflow>=1.10.0->autokeras) (0.14.1)\n",
      "Building wheels for collected packages: autokeras\n",
      "  Running setup.py bdist_wheel for autokeras ... \u001b[?25ldone\n",
      "\u001b[?25h  Stored in directory: /root/.cache/pip/wheels/2e/43/47/cf83736eb82ecfbf5f6b360e8922b36056c1ab11d92040a304\n",
      "Successfully built autokeras\n",
      "\u001b[31mtensorflow 1.11.0 has requirement keras-applications>=1.0.5, but you'll have keras-applications 1.0.4 which is incompatible.\u001b[0m\n",
      "\u001b[31mtensorflow 1.11.0 has requirement keras-preprocessing>=1.0.3, but you'll have keras-preprocessing 1.0.2 which is incompatible.\u001b[0m\n",
      "\u001b[31mmenpo 0.8.1 has requirement matplotlib<2.0,>=1.4, but you'll have matplotlib 2.2.3 which is incompatible.\u001b[0m\n",
      "\u001b[31mmenpo 0.8.1 has requirement pillow<5.0,>=3.0, but you'll have pillow 5.2.0 which is incompatible.\u001b[0m\n",
      "\u001b[31mmenpo 0.8.1 has requirement scipy<1.0,>=0.16, but you'll have scipy 1.1.0 which is incompatible.\u001b[0m\n",
      "Installing collected packages: keras-preprocessing, keras-applications, keras, scikit-learn, tensorboard, tensorflow, autokeras\n",
      "  Found existing installation: Keras-Preprocessing 1.0.1\n",
      "    Uninstalling Keras-Preprocessing-1.0.1:\n",
      "      Successfully uninstalled Keras-Preprocessing-1.0.1\n",
      "  Found existing installation: Keras-Applications 1.0.2\n",
      "    Uninstalling Keras-Applications-1.0.2:\n",
      "      Successfully uninstalled Keras-Applications-1.0.2\n",
      "  Found existing installation: Keras 2.2.0\n",
      "    Uninstalling Keras-2.2.0:\n",
      "      Successfully uninstalled Keras-2.2.0\n",
      "  Found existing installation: scikit-learn 0.19.2\n",
      "    Uninstalling scikit-learn-0.19.2:\n",
      "      Successfully uninstalled scikit-learn-0.19.2\n",
      "  Found existing installation: tensorboard 1.9.0\n",
      "    Uninstalling tensorboard-1.9.0:\n",
      "      Successfully uninstalled tensorboard-1.9.0\n",
      "  Found existing installation: tensorflow 1.9.0\n",
      "    Uninstalling tensorflow-1.9.0:\n",
      "      Successfully uninstalled tensorflow-1.9.0\n",
      "Successfully installed autokeras-0.2.18 keras-2.2.2 keras-applications-1.0.4 keras-preprocessing-1.0.2 scikit-learn-0.19.1 tensorboard-1.11.0 tensorflow-1.11.0\n",
      "\u001b[33mYou are using pip version 10.0.1, however version 18.1 is available.\n",
      "You should consider upgrading via the 'pip install --upgrade pip' command.\u001b[0m\n"
     ]
    }
   ],
   "source": [
    "!pip install autokeras"
   ]
  },
  {
   "cell_type": "markdown",
   "metadata": {},
   "source": [
    "Now that you have successfully installed Auto-Keras, it's time for some wuick implementation. "
   ]
  },
  {
   "cell_type": "markdown",
   "metadata": {},
   "source": [
    "# A case study of AutoML using auto-keras:\n",
    "\n",
    "For this case study, you will use the very popular MNIST dataset. `keras` has this dataset built-in. So, you don't need to download it separately. You will start of by loading the `ImageClassifier` module of `auto-keras`. You will also load the MNIST dataset from `keras`. "
   ]
  },
  {
   "cell_type": "code",
   "execution_count": 3,
   "metadata": {},
   "outputs": [],
   "source": [
    "from keras.datasets import mnist\n",
    "from autokeras import ImageClassifier"
   ]
  },
  {
   "cell_type": "markdown",
   "metadata": {},
   "source": [
    "You loaded the MNIST dataset from `keras.datasets` module and you also imported `ImageClassifier` from `auto-keras`. You will now separate out the dataset into train and test splits. "
   ]
  },
  {
   "cell_type": "code",
   "execution_count": 4,
   "metadata": {},
   "outputs": [
    {
     "name": "stdout",
     "output_type": "stream",
     "text": [
      "Downloading data from https://s3.amazonaws.com/img-datasets/mnist.npz\n",
      "11493376/11490434 [==============================] - 1s 0us/step\n"
     ]
    }
   ],
   "source": [
    "(x_train, y_train), (x_test, y_test) = mnist.load_data()\n",
    "x_train = x_train.reshape(x_train.shape + (1,)) # (1,) denotes the channles which is 1 in this case\n",
    "x_test = x_test.reshape(x_test.shape + (1,)) # (1,) denotes the channles which is 1 in this case"
   ]
  },
  {
   "cell_type": "markdown",
   "metadata": {},
   "source": [
    "You have separated out the train and test splits and now you will fit ImageClassifier with `x_train` and `y_train`. You will test its performance on `x_test` and `y_test`. "
   ]
  },
  {
   "cell_type": "code",
   "execution_count": null,
   "metadata": {},
   "outputs": [],
   "source": [
    "clf = ImageClassifier(verbose=True, augment=False)\n",
    "clf.fit(x_train, y_train, time_limit=12 * 60 * 60)\n",
    "clf.final_fit(x_train, y_train, x_test, y_test, retrain=True)\n",
    "y = clf.evaluate(x_test, y_test)\n",
    "print(y * 100)"
   ]
  },
  {
   "cell_type": "markdown",
   "metadata": {},
   "source": [
    "It's as simple as above. Just 4 - 5 lines of code and you are done with a quick experimentation. Well, it is no to so quick. The above code takes considerable amount of time to get executed. [A decent configuration for running Deep Learning experiments](http://course.fast.ai/lessons/aws.html) will certainly help you. Google Colab is very good dtarting point for this. \n",
    "\n",
    "But let's review some of the key take-aways from the above code:\n",
    "- In the ImageClassifier(): \n",
    "    - verbose: A boolean of whether the search process will be printed to the output.\n",
    "    - augment: A boolean value indicating whether the data needs augmentation. If not define, then it will use the value of Constant.DATA_AUGMENTATION which is True by default.\n",
    "- In the fit() method:\n",
    "    - time_limit: The time limit for the search in seconds.\n",
    "- final_fit(): Final training after found the best architecture.\n",
    "    - retrain: A boolean of whether reinitialize the weights of the model.\n"
   ]
  },
  {
   "cell_type": "markdown",
   "metadata": {},
   "source": [
    "Auto-keras is an evolving library and still in its pre-release version. You should definitely check out the [official documentation of auto-keras](https://autokeras.com/) in order to learn more about it. For now, it supports the following major modules:\n",
    "- supervised: The base class for all supervised task.\n",
    "- bayesian: A GaussianProcessRegressor for bayesian optimization.\n",
    "- search: Base class of all searcher classes. This class is the base class of all searcher classes, every searcher class can override its search function to implements its strategy.\n",
    "- graph: A class representing the neural architecture graph of a Keras model. Graph extracts the neural architecture graph from a Keras model. Each node in the graph is a intermediate tensor between layers. Each layer is an edge in the graph. Notably, multiple edges may refer to the same layer. (e.g. Add layer is adding two tensor into one tensor. So it is related to two edges.)\n",
    "- preprocessor: A class that can format data. This class provides ways to transform data's classification label into vector.\n",
    "- model_trainer: A class that is used to train the model. This class can train a Pytorch model with the given data loaders. The metric, loss_function, and model must be compatible with each other. Please see the details in the Attributes.\n"
   ]
  },
  {
   "cell_type": "markdown",
   "metadata": {},
   "source": [
    "## Ending notes:\n",
    "\n",
    "You have made it till the end. In this tutorial, you studied about the process of machine learning in general and learned how it can be automated. You took a quick look the libraries that are available for performing AutoML. You used `auto-keras` and saw what kind of high level abstraction it offers and how easy it is to use `auto-keras`. \n",
    "\n",
    "This tutorial might give you a negative notion that AutoML can replace many data scientists when it becomes full-proof. Really? Give it another thought. AutoML actually frees data scientists from the burden of the iterative process of selecting the best model for a problem. During that course, a data scientist may focus more on the data itself which is more essential. [This interview](https://www.kdnuggets.com/2016/11/autoamted-machine-learning-interview-randy-olson-tpot.html) of Randy Olson covers some beautiful insights about this topic. Make sure you give it a read and you will feel demotivated again. If you ever feel that you are unsure of the work that a machine learning practitioner does, just check [this post](http://www.fast.ai/2018/07/12/auto-ml-1/) out. \n",
    "\n",
    "The field of AUtoML is really making progress. For example [NAS](https://ai.google/research/pubs/pub45826) which stands for Neural Architecture Search which is an algorithm that searches for the best neural network architecture. Following are some links to the resources which demonstrate state-of-the-art use cases of AutoML:\n",
    "- [Design by Evolution: How to evolve your neural network with AutoML](https://www.kdnuggets.com/2017/07/design-evolution-evolve-neural-network-automl.html)\n",
    "- [AutoML Challenge: A leap forward for machine learning competitions](https://www.microsoft.com/en-us/research/blog/automl-challenge-leap-forward-machine-learning-competitions/)\n",
    "- [Google’s AI can create better machine-learning code than the researchers who made it](https://thenextweb.com/artificial-intelligence/2017/10/16/googles-ai-can-create-better-machine-learning-code-than-the-researchers-who-made-it/)\n",
    "- [Auto-Keras, or How You can Create a Deep Learning Model in 4 Lines of Code](https://www.kdnuggets.com/2018/08/auto-keras-create-deep-learning-model-4-lines-code.html)\n",
    "\n",
    "If you are interested in learning more about Deep Learning, take DataCamp's [\"Deep Learning in Python\"](https://www.datacamp.com/courses/deep-learning-in-python) course."
   ]
  }
 ],
 "metadata": {
  "anaconda-cloud": {},
  "kernelspec": {
   "display_name": "Python 3",
   "language": "python",
   "name": "python3"
  },
  "language_info": {
   "codemirror_mode": {
    "name": "ipython",
    "version": 3
   },
   "file_extension": ".py",
   "mimetype": "text/x-python",
   "name": "python",
   "nbconvert_exporter": "python",
   "pygments_lexer": "ipython3",
   "version": "3.6.5"
  },
  "latex_envs": {
   "LaTeX_envs_menu_present": true,
   "autoclose": false,
   "autocomplete": true,
   "bibliofile": "biblio.bib",
   "cite_by": "apalike",
   "current_citInitial": 1,
   "eqLabelWithNumbers": true,
   "eqNumInitial": 1,
   "hotkeys": {
    "equation": "Ctrl-E",
    "itemize": "Ctrl-I"
   },
   "labels_anchors": false,
   "latex_user_defs": false,
   "report_style_numbering": false,
   "user_envs_cfg": false
  },
  "toc": {
   "base_numbering": 1,
   "nav_menu": {},
   "number_sections": false,
   "sideBar": true,
   "skip_h1_title": false,
   "title_cell": "Table of Contents",
   "title_sidebar": "Contents",
   "toc_cell": false,
   "toc_position": {},
   "toc_section_display": true,
   "toc_window_display": false
  }
 },
 "nbformat": 4,
 "nbformat_minor": 2
}
