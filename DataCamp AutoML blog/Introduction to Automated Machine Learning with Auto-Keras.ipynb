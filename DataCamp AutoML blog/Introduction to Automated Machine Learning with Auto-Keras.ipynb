{
 "cells": [
  {
   "cell_type": "markdown",
   "metadata": {},
   "source": [
    "# Introduction to Automated Machine Learning with Auto-Keras\n",
    "\n",
    "Learn about automated machine learning and how it can be done with `auto-keras`."
   ]
  },
  {
   "cell_type": "markdown",
   "metadata": {},
   "source": [
    "Machine learning is not a very uncommon term these days because of organizations like DataCamp, Coursera, Udacity and many more are constantly working on how easily and flexibly they can bring the very education of machine learning to the commoners. With the virtue of their platforms it is really easy nowadays to get started in this field with almost no prerequisites. However, the term **Automated Machine Learning** is making a lot of headlines these days on the popular Data Science education forums. Many organizations like **Google**, **H2O.ai** etc. are working commendably in this area. This is not a very common topic as compared to _Machine Learning_. Because machine learning deals with the _automation_ part itself; so naturally the question that hits the mind first - \"_Can machine learning be also automated?_\"\n",
    "\n",
    "You will find the answers to many questions like these in this tutorial. This tutorial comprises the following:\n",
    "\n",
    "- Understanding a standard Machine Learning pipeline\n",
    "- How the  Machine Learning pipeline   can be automated?\n",
    "- Introduction to automated machine learning\n",
    "- Python libraries for automated machine learning\n",
    "- Introduction to auto-keras\n",
    "- A case study of AutoML using `auto-keras`\n",
    "- Further reading on the topic\n",
    "\n",
    "Let's get started."
   ]
  },
  {
   "cell_type": "markdown",
   "metadata": {},
   "source": [
    "<img src = \"http://www.ibmbigdatahub.com/sites/default/files/automatingautomation_embed.jpg\">\n",
    "\n",
    "<br><center><b>Source: [IBM Data Hub](https://www.google.co.in/url?sa=i&source=images&cd=&cad=rja&uact=8&ved=2ahUKEwiv8-vCysfeAhUS4o8KHQ1TACIQjB16BAgBEAQ&url=https%3A%2F%2Fwww.ibmbigdatahub.com%2Fblog%2Fautomating-automation-machine-learning-behind-curtain&psig=AOvVaw2zHFaxfKCzWlOdeZBiPeoG&ust=1541862146151958)</b></center>"
   ]
  },
  {
   "cell_type": "markdown",
   "metadata": {},
   "source": [
    "## Understanding a standard Machine Learning pipeline:\n",
    "\n",
    "When you are solving a problem as a Data Scientist, your standard workflow looks something like the following:\n",
    "\n",
    "1. Data Collection\n",
    "2. Data Preprocessing\n",
    "3. Initialize a machine learning model that may be suitable for the problem\n",
    "4. Train the model\n",
    "5. Test the model\n",
    "6. Tweak the parameters of the model\n",
    "7. Again test the model\n",
    "8. Communicate the results\n",
    "\n",
    "The second step _Data Preprocessing_ is very broad in its context because it is essentially one of the most time consuming tasks in the above pipeline and it includes many sub tasks such as Data Cleaning, Data Transformation, Feature Selection etc. The steps from 3 to  7 is just for one machine learning model. A good practitioner will certainly not stop after just one model, he will try his experiments on different models so as to compare their results and finally decide on the best model for the problem. So, here comes another very time-consuming set of tasks - **Deciding on which model to choose?**\n",
    "\n",
    "The following quote regarding the _debugging process_ in a machine learning task could not be more apt and it is really important to keep in mind: \n",
    "<div class=\"alert alert-info\">\n",
    "\"_Debugging for machine learning happens in two cases: 1) your algorithm doesn't work or 2) your algorithm doesn't work well enough.[...] Very rarely does an algorithm work the first time and so this ends up being where the majority of time is spent in building algorithms._\" - [S. Zayd Enam](https://twitter.com/zaydenam)</div>\n",
    "\n",
    "So, by now, you must have got a brief idea of a standard machine learning engineering task? Ultimately you will have to decide which model is the best for the problem at your hand and you also need to explain why it is the best. At times, you will be under situations where the number of possibilities to try is just too many but the deadline is not that far. - Getting the essence of the problem? Let's find out more. "
   ]
  },
  {
   "cell_type": "markdown",
   "metadata": {},
   "source": [
    "## How the Machine Learning pipeline can be automated?\n",
    "\n",
    "You will continue this section with the notion of deciding the best model for a problem and a situation where the number of possibilities and the deadline are inversely proportional to each other. \n",
    "\n",
    "At the very beginning of this tutorial you encountered one question \"Can machine learning be also automated?\" This question is not at all silly. Even the great [Sebastian Raschka](https://sebastianraschka.com/) in one of his interviews described Automated Machine Learning as **\"the automation of automating automation\"**. \n",
    "\n",
    "Revisit the step number 5 from the standard workflow of a data science task you just studied - _Tweak the hyperparameters of the model_. Say, you have finished preparing data for the further steps and you have just initiated a classifier $X$. Now, say, $X$ takes 5 different hyperparameters. So, you will have to try the same classifier $X$ but with different sets of hyperparameter values which is definitely not an easy task to execute. Now comes the more troubling part. After trying out various combinations, you discovered that the results are not well enough. So, you decided to test four more classifiers (each with 6 different hyperparameters). Can you imagine how time-consuming can this be? Even after that, what if you do not get good results? Investigation of that will be nothing but another heavily time-consuming process. \n",
    "\n",
    "So the very idea of Automated Machine Learning comes from this problem. \n",
    "\n",
    "\"_If numerous machine learning models must be built, using a variety of algorithms and a number of differing hyperparameter configurations, then this model building can be automated, as can the comparison of model performance and accuracy.\"_ - [KDNuggets](https://www.kdnuggets.com/2017/01/current-state-automated-machine-learning.html)"
   ]
  },
  {
   "cell_type": "markdown",
   "metadata": {},
   "source": [
    "You now have a reason why the term **Automated Machine Learning** is making a lot of headlines these days on the popular Data Science education forums. You will now study more about automated machine learning in the next section. "
   ]
  },
  {
   "cell_type": "markdown",
   "metadata": {},
   "source": [
    "## Introduction to automated machine learning: \n",
    "\n",
    "The task of tuning hyperparameters that too for different machine learning models is high likely to be time-consuming in nature. In a more Computer-Science specific term, tuning of hyperparameters is a search process which in this case can be extremely exhaustive.  So what if this process could itself be automated? Well, that is what automated machine learning basically does. Automated machine learning is a direct solution to the shortage of data scientists as it can drastically increase the performance and productivity of data scientists by speeding up work cycles, improving model accuracy, and ultimately, even\n",
    "possibly replace the need for data scientists. \n",
    "\n",
    "You now have enough knowledge about automated machine learning and you are ready to see it in action. But first, let's see what are some of the widely used Python libraries for doing automated machine learning. "
   ]
  },
  {
   "cell_type": "markdown",
   "metadata": {},
   "source": [
    "## Python libraries for automated machine learning:\n",
    "\n",
    "There are many Python libraries available for performing automated machine learning. All of them attempt to achieve more or less the same goal, that of automating the machine learning process. Following are some of the most widely used Python libraries for automated machine learning:\n",
    "\n",
    "- [Auto-Sklearn](https://www.kdnuggets.com/2016/08/winning-automl-challenge-auto-sklearn.html)\n",
    "- [TPOT](https://www.kdnuggets.com/2016/05/tpot-python-automating-data-science.html)\n",
    "- [Auto-Keras](http://autokeras.com/)\n",
    "- [H2O.ai](http://h2o.ai/)\n",
    "- [Google's AutoML](https://research.googleblog.com/2017/05/using-machine-learning-to-explore.html)\n",
    "\n",
    "Each of these libraries has their own approach to tackle process of \"automation of automating automation\". But for this tutorial, you will use _Auto-Keras_. Why wait then? Let's do it.  "
   ]
  },
  {
   "cell_type": "markdown",
   "metadata": {},
   "source": [
    "## Introduction to auto-keras:\n",
    "\n",
    "Auto-Keras is an open source software library for automated machine learning. It is being developed by [DATA Lab](http://faculty.cs.tamu.edu/xiahu/index.html) at Texas A&M University and community contributors. The ultimate goal of this automated machine learning is to provide easily accessible deep learning tools to domain experts with limited data science or machine learning background. Auto-Keras provides functions to automatically search for architecture and hyperparameters of deep learning models.\n",
    "\n",
    "<img src = \"https://github.com/jhfjhfj1/autokeras/blob/master/logo.png?raw=true\">\n",
    "\n",
    "**Source: [Auto-Keras](https://autokeras.com/)**"
   ]
  },
  {
   "cell_type": "markdown",
   "metadata": {},
   "source": [
    "To install auto-keras just run the following command. \n",
    "\n",
    "**Note: Currently, Auto-Keras is only compatible with: Python 3.6.**"
   ]
  },
  {
   "cell_type": "code",
   "execution_count": null,
   "metadata": {},
   "outputs": [],
   "source": [
    "!pip install autokeras"
   ]
  },
  {
   "cell_type": "markdown",
   "metadata": {},
   "source": [
    "Now that you have successfully installed Auto-Keras, it's time for some quick implementation. "
   ]
  },
  {
   "cell_type": "markdown",
   "metadata": {},
   "source": [
    "# A case study of AutoML using auto-keras:\n",
    "\n",
    "For this case study, you will use the very popular [MNIST](http://colah.github.io/posts/2014-10-Visualizing-MNIST/) dataset. `keras` has this dataset built-in. So, you don't need to download it separately. You will start off by loading the `ImageClassifier` module of `auto-keras`. You will also load the MNIST dataset from `keras` module. "
   ]
  },
  {
   "cell_type": "code",
   "execution_count": 3,
   "metadata": {},
   "outputs": [],
   "source": [
    "from keras.datasets import mnist\n",
    "from autokeras import ImageClassifier"
   ]
  },
  {
   "cell_type": "markdown",
   "metadata": {},
   "source": [
    "You loaded the MNIST dataset from `keras.datasets` module and you also imported `ImageClassifier` from `auto-keras`. You will now separate out the dataset into train and test splits. "
   ]
  },
  {
   "cell_type": "code",
   "execution_count": 4,
   "metadata": {},
   "outputs": [
    {
     "name": "stdout",
     "output_type": "stream",
     "text": [
      "Downloading data from https://s3.amazonaws.com/img-datasets/mnist.npz\n",
      "11493376/11490434 [==============================] - 1s 0us/step\n"
     ]
    }
   ],
   "source": [
    "(x_train, y_train), (x_test, y_test) = mnist.load_data()\n",
    "x_train = x_train.reshape(x_train.shape + (1,)) # (1,) denotes the channles which is 1 in this case\n",
    "x_test = x_test.reshape(x_test.shape + (1,)) # (1,) denotes the channles which is 1 in this case"
   ]
  },
  {
   "cell_type": "markdown",
   "metadata": {},
   "source": [
    "You have separated out the train and test splits and now you will fit ImageClassifier with `x_train` and `y_train`. You will test its performance on `x_test` and `y_test`. "
   ]
  },
  {
   "cell_type": "code",
   "execution_count": null,
   "metadata": {},
   "outputs": [],
   "source": [
    "# Instantiate the ImageClassifier class\n",
    "clf = ImageClassifier(verbose=True, augment=False)\n",
    "# Fit the train set to the image classifier\n",
    "clf.fit(x_train, y_train, time_limit=12 * 60 * 60)\n",
    "clf.final_fit(x_train, y_train, x_test, y_test, retrain=True)\n",
    "# Summarize the results\n",
    "y = clf.evaluate(x_test, y_test)\n",
    "print(y * 100)"
   ]
  },
  {
   "cell_type": "markdown",
   "metadata": {},
   "source": [
    "It's as simple as above. Just 4 - 5 lines of code and you are done with a quick experimentation. Well, it is not really that quick. The above code takes considerable amount of time to get executed. [A decent configuration for running Deep Learning experiments](http://course.fast.ai/lessons/aws.html) will certainly help you. [Google Colab](https://colab.research.google.com/) is also a very good starting point for this. \n",
    "\n",
    "But let's review some of the key take-aways from the above code:\n",
    "- In the ImageClassifier(): \n",
    "    - verbose: A boolean of whether the search process will be printed to the output.\n",
    "    - augment: A boolean value indicating whether the data needs augmentation. If not define, then it will use the value of Constant.DATA_AUGMENTATION which is True by default.\n",
    "- In the fit() method:\n",
    "    - time_limit: The time limit for the search in seconds.\n",
    "- final_fit(): Final training after found the best architecture.\n",
    "    - retrain: A boolean of whether reinitialize the weights of the model.\n"
   ]
  },
  {
   "cell_type": "markdown",
   "metadata": {},
   "source": [
    "Auto-keras is an evolving library and still in its pre-release version. You should definitely check out the [official documentation of auto-keras](https://autokeras.com/) in order to learn more about it. For now, it supports the following major modules:\n",
    "- supervised: The base class for all supervised task.\n",
    "- bayesian: A GaussianProcessRegressor for bayesian optimization.\n",
    "- search: Base class of all searcher classes. This class is the base class of all searcher classes, every searcher class can override its search function to implements its strategy.\n",
    "- graph: A class representing the neural architecture graph of a Keras model. Graph extracts the neural architecture graph from a Keras model. Each node in the graph is a intermediate tensor between layers. Each layer is an edge in the graph. Notably, multiple edges may refer to the same layer. (e.g. Add layer is adding two tensor into one tensor. So it is related to two edges.)\n",
    "- preprocessor: A class that can format data. This class provides ways to transform data's classification label into vector.\n",
    "- model_trainer: A class that is used to train the model. This class can train a Pytorch model with the given data loaders. The metric, loss_function, and model must be compatible with each other. Please see the details in the Attributes.\n"
   ]
  },
  {
   "cell_type": "markdown",
   "metadata": {},
   "source": [
    "## Ending notes:\n",
    "\n",
    "You have made it till the end. In this tutorial, you studied about the process of machine learning in general and learned how it can be automated. You took a quick look the libraries that are available for performing AutoML. You used `auto-keras` and saw what kind of high level abstraction it offers and how easy it is to use `auto-keras`. \n",
    "\n",
    "This tutorial might give you a negative notion that AutoML can replace many data scientists when it becomes full-proof. Really? Give it another thought. AutoML actually frees data scientists from the burden of the iterative process of selecting the best model for a problem. During that course, a data scientist may focus more on the data itself which is more essential. [This interview](https://www.kdnuggets.com/2016/11/autoamted-machine-learning-interview-randy-olson-tpot.html) of Randy Olson covers some beautiful insights about this topic. Make sure you give it a read and you will feel demotivated again. If you ever feel that you are unsure of the work that a machine learning practitioner does, just check [this post](http://www.fast.ai/2018/07/12/auto-ml-1/) out. \n",
    "\n",
    "The field of automated machine learning is really making progress. For example [NAS](https://ai.google/research/pubs/pub45826) which stands for Neural Architecture Search which is an algorithm that searches for the best neural network architecture. Following are some links to the resources which demonstrate state-of-the-art use cases of AutoML:\n",
    "- [Design by Evolution: How to evolve your neural network with AutoML](https://www.kdnuggets.com/2017/07/design-evolution-evolve-neural-network-automl.html)\n",
    "- [AutoML Challenge: A leap forward for machine learning competitions](https://www.microsoft.com/en-us/research/blog/automl-challenge-leap-forward-machine-learning-competitions/)\n",
    "- [Google’s AI can create better machine-learning code than the researchers who made it](https://thenextweb.com/artificial-intelligence/2017/10/16/googles-ai-can-create-better-machine-learning-code-than-the-researchers-who-made-it/)\n",
    "- [Auto-Keras, or How You can Create a Deep Learning Model in 4 Lines of Code](https://www.kdnuggets.com/2018/08/auto-keras-create-deep-learning-model-4-lines-code.html)\n",
    "\n",
    "If you are interested in learning more about Deep Learning, take DataCamp's [\"Deep Learning in Python\"](https://www.datacamp.com/courses/deep-learning-in-python) course."
   ]
  }
 ],
 "metadata": {
  "anaconda-cloud": {},
  "kernelspec": {
   "display_name": "Python 3",
   "language": "python",
   "name": "python3"
  },
  "language_info": {
   "codemirror_mode": {
    "name": "ipython",
    "version": 3
   },
   "file_extension": ".py",
   "mimetype": "text/x-python",
   "name": "python",
   "nbconvert_exporter": "python",
   "pygments_lexer": "ipython3",
   "version": "3.6.5"
  },
  "latex_envs": {
   "LaTeX_envs_menu_present": true,
   "autoclose": false,
   "autocomplete": true,
   "bibliofile": "biblio.bib",
   "cite_by": "apalike",
   "current_citInitial": 1,
   "eqLabelWithNumbers": true,
   "eqNumInitial": 1,
   "hotkeys": {
    "equation": "Ctrl-E",
    "itemize": "Ctrl-I"
   },
   "labels_anchors": false,
   "latex_user_defs": false,
   "report_style_numbering": false,
   "user_envs_cfg": false
  },
  "toc": {
   "base_numbering": 1,
   "nav_menu": {},
   "number_sections": false,
   "sideBar": true,
   "skip_h1_title": false,
   "title_cell": "Table of Contents",
   "title_sidebar": "Contents",
   "toc_cell": false,
   "toc_position": {},
   "toc_section_display": true,
   "toc_window_display": false
  }
 },
 "nbformat": 4,
 "nbformat_minor": 2
}
