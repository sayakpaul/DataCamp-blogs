{
 "cells": [
  {
   "cell_type": "markdown",
   "metadata": {},
   "source": [
    "# Essentials of Linear Regression in Python\n",
    "\n",
    "<span>Learn what formulates a regression problem and how a linear regression algorithm works in Python.</span>"
   ]
  },
  {
   "cell_type": "markdown",
   "metadata": {},
   "source": [
    "The field of Data Science has progressed like nothing before. It incorporates so many different domains like Statistics, Linear Algebra, Machine Learning, Databases into its account and merges them in the most meaningful way possible. But, in its core, what makes this domain one of the craziest ones? - **The powerful statistical algorithms**\n",
    "\n",
    "One such very primitive statistical algorithm is **Linear Regression**. Although it is very very old, but never too old to be neglected for a budding data scientist like you. Understanding the principle behind the working of linear regression is very important as to reason the evolution of a whole class of statistical algorithms called **Generalized Linear Models**. Moreover, it will also help you understand other aspects of a typical statistical/machine learning algorithm for example - cost functions, coefficients, optimization etc. \n",
    "\n",
    "As the title of this tutorial suggests, you will cover Linear Regression in details in this tutorial. Specifically you will cover:\n",
    "- Understanding a regression problem\n",
    "- Coming up with a hypothesis for the regression problem\n",
    "- What is Linear Regression\n",
    "- Cost functions\n",
    "- Optimizing Linear Regression\n",
    "- Why it is still important to understand even in the world of neural networks\n",
    "- A case study in Python "
   ]
  },
  {
   "cell_type": "markdown",
   "metadata": {},
   "source": [
    "Before diving deep into the theories behind Linear Regression let's have a clear view of the term _regression_. "
   ]
  },
  {
   "cell_type": "markdown",
   "metadata": {},
   "source": [
    "## Understanding a regression problem: \n",
    "\n",
    "Regression belongs to the class of [Supervised Learning](\"https://en.wikipedia.org/wiki/Supervised_learning\") tasks where the the datasets that are used for predictive/statistical modeling contain [continuous labels](\"http://www.statisticshowto.com/continuous-variable/\"). But, let's define a regression problem more mathematically. "
   ]
  },
  {
   "cell_type": "markdown",
   "metadata": {},
   "source": [
    "Let's consider the following image below: \n",
    "<img src = \"https://image.ibb.co/jRH8E9/Capture.jpg\"></img>\n",
    "**Source: Andrew Ng's lecture notes**"
   ]
  },
  {
   "cell_type": "markdown",
   "metadata": {},
   "source": [
    "So, in the above image, <i>X</i> is the set of values that correspond to the living areas of various houses (also considered as the space of input values) and <i>y</i> is the price of the respective houses but note that this values is predicted by <i>h</i>. <i>h</i> is the function that maps the <i>X</i> values to <i>y</i> (often called as predictor). For historical reasons, this <i>h</i> is referred to as a <i>hypothesis</i> function. Keep in mind that, this dataset has only feature i.e. the living areas of various houses and consider this to be a toy dataset for the sake of understanding. \n",
    "\n",
    "Note that, the predicted values here are continuous in nature. So, your ultimate goal is, given a training set, to learn a function\n",
    "$h : \\mathcal{X}  \\rightarrow \\mathcal{Y}$ so that h(x) is a \"good\" predictor for the corresponding value of y. Also, keep in mind that the domain of values that both X and Y accept are all real numbers and you can define it like this: $\\mathcal{X}  = \\mathcal{Y} = \\mathbb{R}$ where, $\\mathbb{R}$ is the set of all real numbers. \n",
    "\n",
    "A pair (x<sup>(i)</sup>, y<sup>(i)</sup>) is called a training example. You can define the training set as {(x<sup>(i)</sup>, y<sup>(i)</sup>) ; i = 1,...,m} (in case the training set contains m instances and there is only one feature <i>x</i> in the dataset)."
   ]
  },
  {
   "cell_type": "markdown",
   "metadata": {},
   "source": [
    "A bit of mathematics there for you so that you don't go wrong even in the simplest of things. So, according to Han, Kamber and Pei- \n",
    "\n",
    "_\"In general, these methods are used to predict the value of a response\n",
    "(dependent) variable from one or more predictor (independent) variables, where the\n",
    "variables are numeric._\" - [Data Mining: Concepts and Techniques (3rd edn.)](\"https://scholar.google.com/scholar?q=Han%2C%20J.%2C%20Kamber%2C%20M.%2C%20Pei%2C%20J.%3A%20Data%20Mining%3A%20Concepts%20and%20Techniques%20%283rd%20edn.%29%2C%20pp.%2056.%20Morgan%20Kaufmann%20Publishers%20Inc.%20San%20Francisco%20%282011%29\")\n",
    "\n",
    "As simple as that!"
   ]
  },
  {
   "cell_type": "markdown",
   "metadata": {},
   "source": [
    "So, in the course of understanding a typical regression problem you also saw how to define a hypothesis for it as well. Brilliant going. You have set the mood just perfect! Now, you will straight dive into the mechanics of Linear Regression. "
   ]
  },
  {
   "cell_type": "markdown",
   "metadata": {},
   "source": [
    "## Linear Regression - how it works?\n",
    "\n",
    "Before going into its details, won't it be good to take a look when it was discovered? Well that goes way way back to 18th Century. The most trivial form of statistical regression was first proposed by the mighty **Carl Friedrich Gauss** but there are many arguments on this. Let's not get into those. But if you are really interested to see the arguments that took place for this between Gauss and **Adrien-Marie Legendre** [this is the link](\"https://priceonomics.com/the-discovery-of-statistical-regression/\") to go for. \n",
    "\n",
    "Linear regression is perhaps one of the most well known and well understood algorithms in statistics and machine learning. Linear regression was developed in the field of statistics and is studied as a model for understanding the relationship between input and output numerical variables but with the course of time it has become an inseparable part of modern machine learning toolbox. \n",
    "\n",
    "Let's have a toy dataset for it. You will use the same house price prediction dataset to investigate this but this time with two features. The task remains same i.e. predicting the house price. \n",
    "\n",
    "<img src = \"https://image.ibb.co/hXTenU/Capture.jpg\"></img>\n",
    "**Source: Andrew Ng's lecture notes**"
   ]
  },
  {
   "cell_type": "markdown",
   "metadata": {},
   "source": [
    "As mentioned earlier, now the x’s are two-dimensional which means your dataset contains two features. For instance, x<sub>1</sub><sup>(i)</sup> is the living area of the i-th house in the training set, and x<sub>2</sub><sup>(i)</sup> is its number of bedrooms. \n",
    "\n",
    "To perform regression, you must decide the way you are going to represent h. As an initial choice, let’s say you decide to approximate y as a linear function of x:\n",
    "\n",
    "<center><b>h<sub>θ</sub>(x) = θ<sub>0</sub> + θ<sub>1</sub>x<sub>1</sub> + θ<sub>2</sub>x<sub>2</sub></b></center>\n",
    "\n",
    "Here, the θ<sub>i</sub>’s are the parameters (also called weights) parameterizing the space of linear functions mapping from $\\mathcal{X}$ to $\\mathcal{Y}$. In a simpler sense, these parameters are used for accurately mapping $\\mathcal{X}$ to $\\mathcal{Y}$. But to keep things simple for your understanding, you will drop the θ subscript in h<sub>θ</sub>(x), and write it simply as h(x). To simplify your notation even further, you will also introduce the convention of letting x<sub>0</sub> = 1 (this is the <b>intercept</b> term), so that\n",
    "\n",
    "<img src = \"https://image.ibb.co/i94zMp/Capture.jpg\"></img>\n",
    "\n",
    "where on the right-hand side above you are considering θ and x both as vectors, and here n is the number of input instances (not counting x<sub>0</sub>)."
   ]
  },
  {
   "cell_type": "markdown",
   "metadata": {},
   "source": [
    "But the main question that gets raised at this point of time is how do you pick or learn the parameters θ? You cannot change your input instances as to predict the prices. You have only these θ parameters to tune/adjust. \n",
    "\n",
    "One prominent method seems to be to make h(x) close to y, at least for the training examples you have. To understand this more formally, let's try defining a function that determines, for each value of the θ’s, how close the h(x<sup>(i)</sup>)’s are to the corresponding y<sup>(i)</sup> ’s. The function should look like the following: \n",
    "\n",
    "<img src = \"https://image.ibb.co/kW8e49/Capture.jpg\"></img>\n",
    "\n",
    "[Source: StackOverflow](\"https://stackoverflow.com/questions/32274474/machine-learning-linear-regression-using-batch-gradient-descent\")\n",
    "\n",
    "To understand the reason behind taking the squared value instead of the absolute value, consider this squared-term as an advantage for the future operations to be performed for training the regression model. But if you want to dig deeper, [help yourselves](https://www.quora.com/Why-do-we-use-square-error-instead-of-absolute-value-when-we-calculate-R-2-in-regression-analysis)."
   ]
  },
  {
   "cell_type": "markdown",
   "metadata": {},
   "source": [
    "You just saw one of the most important formulas in the world of Data Science/Machine Learning/Statistics. It is called as **cost function**. "
   ]
  },
  {
   "cell_type": "markdown",
   "metadata": {},
   "source": [
    "This is an extremely important derivation because not only it gives birth to the next evolution of the linear regression (Ordinary Least Squares) but also formulates the foundations of a whole class of linear modeling algorithms (remember you came across a term called _Generalized Linear Models_). "
   ]
  },
  {
   "cell_type": "markdown",
   "metadata": {},
   "source": [
    "It is important to note that, linear regression can often be divided into two basic forms:\n",
    "- Simple Linear Regression (SLR) which deals with just two variables (the one you saw at first)\n",
    "- Multi-linear Regression (MLR) which deals with more than two variables (the one you just saw)\n",
    "\n",
    "These things are very simple but can often cause confusion. \n",
    "\n",
    "You have already laid your foundations of linear regression. Now you will study more about the ways of estimating the parameters you saw in the above section. This estimation of parameters is essentially known as the training of linear regression. Now, there are many methods to train a linear regression model **Ordinary Least Squares** (OLS) being the most popular among them. So, it is good to refer a linear regression model trained using OLS as Ordinary Least Squares Linear Regression or just Least Squares Regression.\n",
    "\n",
    "**Note that parameters here in this context are also called model coefficients.**"
   ]
  },
  {
   "cell_type": "markdown",
   "metadata": {},
   "source": [
    "## Optimizing a linear regression model - various approaches:\n",
    "\n",
    "Learning/training a linear regression model essentially means estimating the values of the coefficients/parameters used in the representation with the data you have.\n",
    "\n",
    "In this section you will take a brief look at some techniques to prepare a linear regression model. "
   ]
  },
  {
   "cell_type": "markdown",
   "metadata": {},
   "source": [
    "## Least squares' regression: \n",
    "\n",
    "You left the previous section with a notion to choose θ so as to minimize J(θ). To do so, let’s use a search algorithm that starts with some \"initial guess\" for θ, and that iteratively changes θ to make J(θ) smaller, until hopefully you converge to a value of θ that minimizes J(θ). Specifically, let’s consider the **gradient descent algorithm**, which starts with some initial θ, and repeatedly performs the update:\n",
    "\n",
    "<img src= \"https://image.ibb.co/jUXWj9/Capture.jpg\"></img>\n",
    "**Source: Andrew Ng's lecture notes**\n",
    "\n",
    "(This update is simultaneously performed for all values of j = 0, . . . , n.) Here, α is called the **learning rate**. This is a very natural algorithm that repeatedly takes a step in the direction of steepest decrease of J. This term α effectively controls how steep your algorithm would move to the decrease of J. It can be pictorially expressed as the following: \n",
    "\n",
    "<img src = \"https://ml-cheatsheet.readthedocs.io/en/latest/_images/gradient_descent_demystified.png\">\n",
    "** Source: [ml-cheatsheet](https://ml-cheatsheet.readthedocs.io/en/latest/_images/gradient_descent_demystified.png)**"
   ]
  },
  {
   "cell_type": "markdown",
   "metadata": {},
   "source": [
    "Intuitively speaking, the above formula denotes the small change that happens in J w.r.t the θ<sub>j</sub> parameter and how it affects the initial value of θ<sub>j</sub>. But look carefully, you have a partial derivative here to deal with. The whole derivation process is out of the scope of this tutorial. \n",
    "\n",
    "Just note that for a single training example, this gives the update rule:\n",
    "\n",
    "<img src = \"https://image.ibb.co/gpfOxU/Capture.jpg\"></img>\n",
    "**Source: [ml-cheatsheet](https://ml-cheatsheet.readthedocs.io/en/latest/_images/gradient_descent_demystified.png)**"
   ]
  },
  {
   "cell_type": "markdown",
   "metadata": {},
   "source": [
    "The rule is called the LMS update rule (LMS stands for “least mean squares”), and is also known as the **Widrow-Hoff learning rule**. \n",
    "\n",
    "Let's summarize few things in the context of OLS. \n",
    "\n",
    "_\"The Ordinary Least Squares procedure seeks to minimize the sum of the squared residuals. This means that given a regression line through the data we calculate the distance from each data point to the regression line, square it, and sum all of the squared errors together. This is the quantity that ordinary least squares seeks to minimize.\"_ - [Jason Brownlee](https://machinelearningmastery.com/linear-regression-for-machine-learning/)"
   ]
  },
  {
   "cell_type": "markdown",
   "metadata": {},
   "source": [
    "## Optimization with gradient descent: \n",
    "\n",
    "In the previous training rule you already got the notion of how gradient descent can be incorporated in this context. Essentially, gradient descent is a process of optimizing the values of the coefficients by iteratively minimizing the error of the model on your training data. \n",
    "\n",
    "More briefly speaking, it works by starting with random values for each coefficient. The sum of the squared errors are calculated for each pair of input and output values. A learning rate is used as a scale factor and the coefficients are updated in the direction towards minimizing the error. The process is repeated until a minimum sum squared error is achieved or no further improvement is possible.\n",
    "\n",
    "The term α (learning rate) is very important here since it determines the size of the improvement step to take on each iteration of the procedure.\n",
    "\n",
    "Now there are commonly two variants of gradient descent: \n",
    "\n",
    "- Method that looks at every example in the entire training set on every step, and is called **batch gradient descent**.\n",
    "- Method where you repeatedly run through the training set, and each time you encounter a training example, you update the parameters according to the gradient of the error with respect to that single training example only. This algorithm is called **stochastic gradient descent** (also incremental gradient descent).\n",
    "\n",
    "That is all for gradient descent for this tutorial. Now, you take a look at another way of optimizing a linear regression model i.e. Regularization. "
   ]
  },
  {
   "cell_type": "markdown",
   "metadata": {},
   "source": [
    "## Regularization: \n",
    "\n",
    "DataCamp already has a fairly good introductory [article on Regularization](\"https://www.datacamp.com/community/tutorials/towards-preventing-overfitting-regularization\"). You might want to check that out before proceeding with this one. \n",
    "\n",
    "\n",
    "Generally, regularization methods work by penalizing the coefficients of features having extremely large values and thereby try to reduce the error. It not only results in an enhanced error rate but also, it reduces the model complexity. This is particularly very useful when you are dealing with a dataset that has a large number of features and your baseline model is not able to distinguish between the importance of the features (not all features in a dataset are equally important, right?).\n",
    "\n",
    "There are two variants of regularization procedures for linear regression are:\n",
    "\n",
    "**Lasso Regression**: adds a penalty term which is equivalent to **absolute value of magnitude of the coefficients** (also called _L1 regularization_). The penalty terms looks like:\n",
    "<img src = \"https://image.ibb.co/bzZ2cf/Capture.jpg\"><img>\n",
    "\n",
    "where,\n",
    "- $\\lambda$ is the constant factor that you add in order control the speed of the improvement in error (**learning rate**)\n",
    "- the dataset has (M+1) features, so it runs from 0 to M. w<sub><b>j</b></sub> is the weight/coefficient. \n",
    "\n",
    "**Ridge Regression**: adds a penalty term which is equivalent to **square of the magnitude of coefficients** (also called _L2 regularization_). The penalty terms looks like:\n",
    "<img src = \"https://image.ibb.co/hY4oiL/Capture.jpg\"><img>\n"
   ]
  },
  {
   "cell_type": "markdown",
   "metadata": {},
   "source": [
    "## Is it still worth the time to learn linear regression?\n",
    "\n",
    "Is it not? You already saw how gracefully linear regression introduces some of the most important concepts of Machine Learning such as cost functions, optimization, variable relationships and what not? All these things are really vital even if you are constructing a neural network. The applicability may differ in some places but the overall concepts remain exactly the same. So, without understanding these fundamental things, you will never be able to reason why your neural net is not performing well. \n",
    "\n",
    "Moreover, a simple concept of deriving the relationships among variables gave birth to so many concepts and most importantly it created a whole new family of algorithms - [Generalized Linear Models](\"https://onlinecourses.science.psu.edu/stat504/node/216/\"). So for aspiring Data Science/Machine Learning/Artificial Intelligence practitioner, this algorithm is something which cannot be neglected. You already have understood that by now!"
   ]
  },
  {
   "cell_type": "markdown",
   "metadata": {},
   "source": [
    "No you will implement a simple linear regression in Python for yourself now. It should be fun!"
   ]
  },
  {
   "cell_type": "markdown",
   "metadata": {},
   "source": [
    "## A case study in Python: \n",
    "\n",
    "For this case study first you will use the [Statsmodel](\"http://www.statsmodels.org/stable/index.html\") library for Python. It is a very popular library which provides classes and functions for the estimation of many different statistical models, as well as for conducting statistical tests, and statistical data exploration. For the data, you will use the famous [Boston House dataset](\"https://www.kaggle.com/c/boston-housing\"). The mighty scikit-learn comes with this dataset, so you don't need to download it separately. \n",
    "\n",
    "Let's start off the case study by importing the `statsmodels` library and your dataset:"
   ]
  },
  {
   "cell_type": "code",
   "execution_count": 1,
   "metadata": {},
   "outputs": [],
   "source": [
    "import statsmodels.api as sm\n",
    "from sklearn import datasets \n",
    "\n",
    "data = datasets.load_boston()"
   ]
  },
  {
   "cell_type": "markdown",
   "metadata": {},
   "source": [
    "Scikit-learn provides a handy description of the dataset and it can be easily viewed by:"
   ]
  },
  {
   "cell_type": "code",
   "execution_count": 3,
   "metadata": {},
   "outputs": [
    {
     "name": "stdout",
     "output_type": "stream",
     "text": [
      "Boston House Prices dataset\n",
      "===========================\n",
      "\n",
      "Notes\n",
      "------\n",
      "Data Set Characteristics:  \n",
      "\n",
      "    :Number of Instances: 506 \n",
      "\n",
      "    :Number of Attributes: 13 numeric/categorical predictive\n",
      "    \n",
      "    :Median Value (attribute 14) is usually the target\n",
      "\n",
      "    :Attribute Information (in order):\n",
      "        - CRIM     per capita crime rate by town\n",
      "        - ZN       proportion of residential land zoned for lots over 25,000 sq.ft.\n",
      "        - INDUS    proportion of non-retail business acres per town\n",
      "        - CHAS     Charles River dummy variable (= 1 if tract bounds river; 0 otherwise)\n",
      "        - NOX      nitric oxides concentration (parts per 10 million)\n",
      "        - RM       average number of rooms per dwelling\n",
      "        - AGE      proportion of owner-occupied units built prior to 1940\n",
      "        - DIS      weighted distances to five Boston employment centres\n",
      "        - RAD      index of accessibility to radial highways\n",
      "        - TAX      full-value property-tax rate per $10,000\n",
      "        - PTRATIO  pupil-teacher ratio by town\n",
      "        - B        1000(Bk - 0.63)^2 where Bk is the proportion of blacks by town\n",
      "        - LSTAT    % lower status of the population\n",
      "        - MEDV     Median value of owner-occupied homes in $1000's\n",
      "\n",
      "    :Missing Attribute Values: None\n",
      "\n",
      "    :Creator: Harrison, D. and Rubinfeld, D.L.\n",
      "\n",
      "This is a copy of UCI ML housing dataset.\n",
      "http://archive.ics.uci.edu/ml/datasets/Housing\n",
      "\n",
      "\n",
      "This dataset was taken from the StatLib library which is maintained at Carnegie Mellon University.\n",
      "\n",
      "The Boston house-price data of Harrison, D. and Rubinfeld, D.L. 'Hedonic\n",
      "prices and the demand for clean air', J. Environ. Economics & Management,\n",
      "vol.5, 81-102, 1978.   Used in Belsley, Kuh & Welsch, 'Regression diagnostics\n",
      "...', Wiley, 1980.   N.B. Various transformations are used in the table on\n",
      "pages 244-261 of the latter.\n",
      "\n",
      "The Boston house-price data has been used in many machine learning papers that address regression\n",
      "problems.   \n",
      "     \n",
      "**References**\n",
      "\n",
      "   - Belsley, Kuh & Welsch, 'Regression diagnostics: Identifying Influential Data and Sources of Collinearity', Wiley, 1980. 244-261.\n",
      "   - Quinlan,R. (1993). Combining Instance-Based and Model-Based Learning. In Proceedings on the Tenth International Conference of Machine Learning, 236-243, University of Massachusetts, Amherst. Morgan Kaufmann.\n",
      "   - many more! (see http://archive.ics.uci.edu/ml/datasets/Housing)\n",
      "\n"
     ]
    }
   ],
   "source": [
    "print (data.DESCR)"
   ]
  },
  {
   "cell_type": "markdown",
   "metadata": {},
   "source": [
    "Now, before applying linear regression, you will have to prepare the data and segregate the features and the label of the dataset. `MEDV` (median home value) is the label in this case. You can access the features of the dataset using `feature_names` attribute.\n",
    "\n",
    "A bit of `pandas` knowledge will come in handy here. [This cheatsheet](https://s3.amazonaws.com/assets.datacamp.com/blog_assets/PandasPythonForDataScience.pdf) is a must-see if you are looking for ways to refresh basic `pandas` concepts. "
   ]
  },
  {
   "cell_type": "code",
   "execution_count": 4,
   "metadata": {},
   "outputs": [],
   "source": [
    "# Pandas and NumPy import\n",
    "import numpy as np\n",
    "import pandas as pd\n",
    "\n",
    "# Set the features  \n",
    "df = pd.DataFrame(data.data, columns=data.feature_names)\n",
    "\n",
    "# Set the target\n",
    "target = pd.DataFrame(data.target, columns=[\"MEDV\"])"
   ]
  },
  {
   "cell_type": "markdown",
   "metadata": {},
   "source": [
    "At this point of time you need to consider few important things about linear regression before applying it to the data. You could have studied this earlier in this tutorial, but studying these factors at this particular point of time will help you get the real feel. \n",
    "\n",
    "- **Linear Assumption**: Linear regression is best employed to capture the relationship between the input variables and the outputs. In order to do so, linear regression assumes this relationship to be linear (which might not be the case all the time). But you can always transform your data so that a linear relationship is maintained. For example, if your data has exponential relationship you can apply [_log-transform_](https://www.dummies.com/programming/big-data/data-science/data-science-using-python-to-modify-data-distributions/) to make the relationship linear. \n",
    "<br><br>\n",
    "- **Collinearity between the features**: Collinearity is a measure to calculate the importance of a feature of a dataset mathematically. When you have a dataset in which the features are very correlated to each other, linear regression fails to approximate the relationship appropriately and tends to overfit. So, it is very practical to detect the highly correlated features and to drop them before you apply linear regression. If you want to know more about this, feel free to check [this excellent Kaggle kernel](https://www.kaggle.com/robertoruiz/dealing-with-multicollinearity). "
   ]
  },
  {
   "cell_type": "markdown",
   "metadata": {},
   "source": [
    "Let's do some hands-on now. To keep things simple you will just take `RM — the average number of rooms` feature for now. Note that `Statsmodels` does not add a constant term (recall the factor θ<sub>0</sub>) by default. Let’s see it first without the constant term in your regression model:"
   ]
  },
  {
   "cell_type": "code",
   "execution_count": 5,
   "metadata": {},
   "outputs": [
    {
     "data": {
      "text/html": [
       "<table class=\"simpletable\">\n",
       "<caption>OLS Regression Results</caption>\n",
       "<tr>\n",
       "  <th>Dep. Variable:</th>          <td>MEDV</td>       <th>  R-squared:         </th> <td>   0.901</td> \n",
       "</tr>\n",
       "<tr>\n",
       "  <th>Model:</th>                   <td>OLS</td>       <th>  Adj. R-squared:    </th> <td>   0.901</td> \n",
       "</tr>\n",
       "<tr>\n",
       "  <th>Method:</th>             <td>Least Squares</td>  <th>  F-statistic:       </th> <td>   4615.</td> \n",
       "</tr>\n",
       "<tr>\n",
       "  <th>Date:</th>             <td>Sun, 23 Sep 2018</td> <th>  Prob (F-statistic):</th> <td>3.74e-256</td>\n",
       "</tr>\n",
       "<tr>\n",
       "  <th>Time:</th>                 <td>20:38:08</td>     <th>  Log-Likelihood:    </th> <td> -1747.1</td> \n",
       "</tr>\n",
       "<tr>\n",
       "  <th>No. Observations:</th>      <td>   506</td>      <th>  AIC:               </th> <td>   3496.</td> \n",
       "</tr>\n",
       "<tr>\n",
       "  <th>Df Residuals:</th>          <td>   505</td>      <th>  BIC:               </th> <td>   3500.</td> \n",
       "</tr>\n",
       "<tr>\n",
       "  <th>Df Model:</th>              <td>     1</td>      <th>                     </th>     <td> </td>    \n",
       "</tr>\n",
       "<tr>\n",
       "  <th>Covariance Type:</th>      <td>nonrobust</td>    <th>                     </th>     <td> </td>    \n",
       "</tr>\n",
       "</table>\n",
       "<table class=\"simpletable\">\n",
       "<tr>\n",
       "   <td></td>     <th>coef</th>     <th>std err</th>      <th>t</th>      <th>P>|t|</th>  <th>[0.025</th>    <th>0.975]</th>  \n",
       "</tr>\n",
       "<tr>\n",
       "  <th>RM</th> <td>    3.6534</td> <td>    0.054</td> <td>   67.930</td> <td> 0.000</td> <td>    3.548</td> <td>    3.759</td>\n",
       "</tr>\n",
       "</table>\n",
       "<table class=\"simpletable\">\n",
       "<tr>\n",
       "  <th>Omnibus:</th>       <td>83.295</td> <th>  Durbin-Watson:     </th> <td>   0.493</td>\n",
       "</tr>\n",
       "<tr>\n",
       "  <th>Prob(Omnibus):</th> <td> 0.000</td> <th>  Jarque-Bera (JB):  </th> <td> 152.507</td>\n",
       "</tr>\n",
       "<tr>\n",
       "  <th>Skew:</th>          <td> 0.955</td> <th>  Prob(JB):          </th> <td>7.65e-34</td>\n",
       "</tr>\n",
       "<tr>\n",
       "  <th>Kurtosis:</th>      <td> 4.894</td> <th>  Cond. No.          </th> <td>    1.00</td>\n",
       "</tr>\n",
       "</table><br/><br/>Warnings:<br/>[1] Standard Errors assume that the covariance matrix of the errors is correctly specified."
      ],
      "text/plain": [
       "<class 'statsmodels.iolib.summary.Summary'>\n",
       "\"\"\"\n",
       "                            OLS Regression Results                            \n",
       "==============================================================================\n",
       "Dep. Variable:                   MEDV   R-squared:                       0.901\n",
       "Model:                            OLS   Adj. R-squared:                  0.901\n",
       "Method:                 Least Squares   F-statistic:                     4615.\n",
       "Date:                Sun, 23 Sep 2018   Prob (F-statistic):          3.74e-256\n",
       "Time:                        20:38:08   Log-Likelihood:                -1747.1\n",
       "No. Observations:                 506   AIC:                             3496.\n",
       "Df Residuals:                     505   BIC:                             3500.\n",
       "Df Model:                           1                                         \n",
       "Covariance Type:            nonrobust                                         \n",
       "==============================================================================\n",
       "                 coef    std err          t      P>|t|      [0.025      0.975]\n",
       "------------------------------------------------------------------------------\n",
       "RM             3.6534      0.054     67.930      0.000       3.548       3.759\n",
       "==============================================================================\n",
       "Omnibus:                       83.295   Durbin-Watson:                   0.493\n",
       "Prob(Omnibus):                  0.000   Jarque-Bera (JB):              152.507\n",
       "Skew:                           0.955   Prob(JB):                     7.65e-34\n",
       "Kurtosis:                       4.894   Cond. No.                         1.00\n",
       "==============================================================================\n",
       "\n",
       "Warnings:\n",
       "[1] Standard Errors assume that the covariance matrix of the errors is correctly specified.\n",
       "\"\"\""
      ]
     },
     "execution_count": 5,
     "metadata": {},
     "output_type": "execute_result"
    }
   ],
   "source": [
    "X = df[\"RM\"]\n",
    "y = target[\"MEDV\"]\n",
    "\n",
    "# Fit and make the predictions by the model\n",
    "model = sm.OLS(y, X).fit()\n",
    "predictions = model.predict(X) \n",
    "\n",
    "# Print out the statistics\n",
    "model.summary()"
   ]
  },
  {
   "cell_type": "markdown",
   "metadata": {},
   "source": [
    "What is this output! It is way too big to understand when you are seeing it for the first time. Let's go through the most important points step by step:\n",
    "\n",
    "- The first observation you should make here is you are using `OLS` method to train your linear regression model. \n",
    "<br><br>\n",
    "- There's a value corresponding to **R-Squared**. R-squared is the “percent of variance explained” by the model.  That is, R-squared is the fraction by which the variance of the errors is less than the variance of the dependent variable. R-squared values range from 0 to 1 and are commonly stated as percentages from 0% to 100%. R-squared will give you an estimate of the relationship between movements of a dependent variable based on an independent variable's movements. It doesn't tell you whether your chosen model is good or bad, nor will it tell you whether the data and predictions are biased. A high or low R-square isn't necessarily good or bad, as it doesn't convey the reliability of the model, nor whether you've chosen the right regression. You can get a low R-squared for a good model, or a high R-square for a poorly fitted model, and vice versa. \n",
    "<br><br>\n",
    "- The coefficient (_coef_) of 3.634 means that if the `RM` variable increases by 1, the predicted value of `MEDV` increases by 3.634.\n",
    "<br><br>\n",
    "-  There is a 95% confidence intervals for the RM which means that the model predicts at a 95% percent confidence that the value of RM is between 3.548 to 3.759).\n",
    "\n",
    "These are the most important points you should take care of for the time being (and you can ignore the warning as well). "
   ]
  },
  {
   "cell_type": "markdown",
   "metadata": {},
   "source": [
    "A constant term can easily be added to the linear regression model. you can do it by `X = sm.add_constant(X)` (X is the name of the dataframe containing the input (independent variables)."
   ]
  },
  {
   "cell_type": "code",
   "execution_count": 6,
   "metadata": {},
   "outputs": [
    {
     "data": {
      "text/html": [
       "<table class=\"simpletable\">\n",
       "<caption>OLS Regression Results</caption>\n",
       "<tr>\n",
       "  <th>Dep. Variable:</th>          <td>MEDV</td>       <th>  R-squared:         </th> <td>   0.484</td>\n",
       "</tr>\n",
       "<tr>\n",
       "  <th>Model:</th>                   <td>OLS</td>       <th>  Adj. R-squared:    </th> <td>   0.483</td>\n",
       "</tr>\n",
       "<tr>\n",
       "  <th>Method:</th>             <td>Least Squares</td>  <th>  F-statistic:       </th> <td>   471.8</td>\n",
       "</tr>\n",
       "<tr>\n",
       "  <th>Date:</th>             <td>Sun, 23 Sep 2018</td> <th>  Prob (F-statistic):</th> <td>2.49e-74</td>\n",
       "</tr>\n",
       "<tr>\n",
       "  <th>Time:</th>                 <td>20:53:46</td>     <th>  Log-Likelihood:    </th> <td> -1673.1</td>\n",
       "</tr>\n",
       "<tr>\n",
       "  <th>No. Observations:</th>      <td>   506</td>      <th>  AIC:               </th> <td>   3350.</td>\n",
       "</tr>\n",
       "<tr>\n",
       "  <th>Df Residuals:</th>          <td>   504</td>      <th>  BIC:               </th> <td>   3359.</td>\n",
       "</tr>\n",
       "<tr>\n",
       "  <th>Df Model:</th>              <td>     1</td>      <th>                     </th>     <td> </td>   \n",
       "</tr>\n",
       "<tr>\n",
       "  <th>Covariance Type:</th>      <td>nonrobust</td>    <th>                     </th>     <td> </td>   \n",
       "</tr>\n",
       "</table>\n",
       "<table class=\"simpletable\">\n",
       "<tr>\n",
       "    <td></td>       <th>coef</th>     <th>std err</th>      <th>t</th>      <th>P>|t|</th>  <th>[0.025</th>    <th>0.975]</th>  \n",
       "</tr>\n",
       "<tr>\n",
       "  <th>const</th> <td>  -34.6706</td> <td>    2.650</td> <td>  -13.084</td> <td> 0.000</td> <td>  -39.877</td> <td>  -29.465</td>\n",
       "</tr>\n",
       "<tr>\n",
       "  <th>RM</th>    <td>    9.1021</td> <td>    0.419</td> <td>   21.722</td> <td> 0.000</td> <td>    8.279</td> <td>    9.925</td>\n",
       "</tr>\n",
       "</table>\n",
       "<table class=\"simpletable\">\n",
       "<tr>\n",
       "  <th>Omnibus:</th>       <td>102.585</td> <th>  Durbin-Watson:     </th> <td>   0.684</td> \n",
       "</tr>\n",
       "<tr>\n",
       "  <th>Prob(Omnibus):</th> <td> 0.000</td>  <th>  Jarque-Bera (JB):  </th> <td> 612.449</td> \n",
       "</tr>\n",
       "<tr>\n",
       "  <th>Skew:</th>          <td> 0.726</td>  <th>  Prob(JB):          </th> <td>1.02e-133</td>\n",
       "</tr>\n",
       "<tr>\n",
       "  <th>Kurtosis:</th>      <td> 8.190</td>  <th>  Cond. No.          </th> <td>    58.4</td> \n",
       "</tr>\n",
       "</table><br/><br/>Warnings:<br/>[1] Standard Errors assume that the covariance matrix of the errors is correctly specified."
      ],
      "text/plain": [
       "<class 'statsmodels.iolib.summary.Summary'>\n",
       "\"\"\"\n",
       "                            OLS Regression Results                            \n",
       "==============================================================================\n",
       "Dep. Variable:                   MEDV   R-squared:                       0.484\n",
       "Model:                            OLS   Adj. R-squared:                  0.483\n",
       "Method:                 Least Squares   F-statistic:                     471.8\n",
       "Date:                Sun, 23 Sep 2018   Prob (F-statistic):           2.49e-74\n",
       "Time:                        20:53:46   Log-Likelihood:                -1673.1\n",
       "No. Observations:                 506   AIC:                             3350.\n",
       "Df Residuals:                     504   BIC:                             3359.\n",
       "Df Model:                           1                                         \n",
       "Covariance Type:            nonrobust                                         \n",
       "==============================================================================\n",
       "                 coef    std err          t      P>|t|      [0.025      0.975]\n",
       "------------------------------------------------------------------------------\n",
       "const        -34.6706      2.650    -13.084      0.000     -39.877     -29.465\n",
       "RM             9.1021      0.419     21.722      0.000       8.279       9.925\n",
       "==============================================================================\n",
       "Omnibus:                      102.585   Durbin-Watson:                   0.684\n",
       "Prob(Omnibus):                  0.000   Jarque-Bera (JB):              612.449\n",
       "Skew:                           0.726   Prob(JB):                    1.02e-133\n",
       "Kurtosis:                       8.190   Cond. No.                         58.4\n",
       "==============================================================================\n",
       "\n",
       "Warnings:\n",
       "[1] Standard Errors assume that the covariance matrix of the errors is correctly specified.\n",
       "\"\"\""
      ]
     },
     "execution_count": 6,
     "metadata": {},
     "output_type": "execute_result"
    }
   ],
   "source": [
    "X = sm.add_constant(X) \n",
    "\n",
    "model = sm.OLS(y, X).fit() \n",
    "predictions = model.predict(X)\n",
    "\n",
    "model.summary()"
   ]
  },
  {
   "cell_type": "markdown",
   "metadata": {},
   "source": [
    "It can be clearly seen that the addition of the constant term has a direct effect on the coefficient term. Without the constant term, your model was passing through the origin, but now you have a y-intercept at -34.67. Now the slope of the `RM` predictor is also changed from 3.634 to 9.1021 (_coef_ of `RM`).\n",
    "\n",
    "Now you will fit a regression model with more than one variable — you will add `LSTAT` (percentage of lower status of the population) along with the `RM` variable. The model training (fitting) procedure remains exactly the same as previous:"
   ]
  },
  {
   "cell_type": "code",
   "execution_count": 9,
   "metadata": {},
   "outputs": [
    {
     "data": {
      "text/html": [
       "<table class=\"simpletable\">\n",
       "<caption>OLS Regression Results</caption>\n",
       "<tr>\n",
       "  <th>Dep. Variable:</th>          <td>MEDV</td>       <th>  R-squared:         </th> <td>   0.948</td>\n",
       "</tr>\n",
       "<tr>\n",
       "  <th>Model:</th>                   <td>OLS</td>       <th>  Adj. R-squared:    </th> <td>   0.948</td>\n",
       "</tr>\n",
       "<tr>\n",
       "  <th>Method:</th>             <td>Least Squares</td>  <th>  F-statistic:       </th> <td>   4637.</td>\n",
       "</tr>\n",
       "<tr>\n",
       "  <th>Date:</th>             <td>Sun, 23 Sep 2018</td> <th>  Prob (F-statistic):</th>  <td>  0.00</td> \n",
       "</tr>\n",
       "<tr>\n",
       "  <th>Time:</th>                 <td>21:06:58</td>     <th>  Log-Likelihood:    </th> <td> -1582.9</td>\n",
       "</tr>\n",
       "<tr>\n",
       "  <th>No. Observations:</th>      <td>   506</td>      <th>  AIC:               </th> <td>   3170.</td>\n",
       "</tr>\n",
       "<tr>\n",
       "  <th>Df Residuals:</th>          <td>   504</td>      <th>  BIC:               </th> <td>   3178.</td>\n",
       "</tr>\n",
       "<tr>\n",
       "  <th>Df Model:</th>              <td>     2</td>      <th>                     </th>     <td> </td>   \n",
       "</tr>\n",
       "<tr>\n",
       "  <th>Covariance Type:</th>      <td>nonrobust</td>    <th>                     </th>     <td> </td>   \n",
       "</tr>\n",
       "</table>\n",
       "<table class=\"simpletable\">\n",
       "<tr>\n",
       "    <td></td>       <th>coef</th>     <th>std err</th>      <th>t</th>      <th>P>|t|</th>  <th>[0.025</th>    <th>0.975]</th>  \n",
       "</tr>\n",
       "<tr>\n",
       "  <th>RM</th>    <td>    4.9069</td> <td>    0.070</td> <td>   69.906</td> <td> 0.000</td> <td>    4.769</td> <td>    5.045</td>\n",
       "</tr>\n",
       "<tr>\n",
       "  <th>LSTAT</th> <td>   -0.6557</td> <td>    0.031</td> <td>  -21.458</td> <td> 0.000</td> <td>   -0.716</td> <td>   -0.596</td>\n",
       "</tr>\n",
       "</table>\n",
       "<table class=\"simpletable\">\n",
       "<tr>\n",
       "  <th>Omnibus:</th>       <td>145.153</td> <th>  Durbin-Watson:     </th> <td>   0.834</td>\n",
       "</tr>\n",
       "<tr>\n",
       "  <th>Prob(Omnibus):</th> <td> 0.000</td>  <th>  Jarque-Bera (JB):  </th> <td> 442.157</td>\n",
       "</tr>\n",
       "<tr>\n",
       "  <th>Skew:</th>          <td> 1.351</td>  <th>  Prob(JB):          </th> <td>9.70e-97</td>\n",
       "</tr>\n",
       "<tr>\n",
       "  <th>Kurtosis:</th>      <td> 6.698</td>  <th>  Cond. No.          </th> <td>    4.72</td>\n",
       "</tr>\n",
       "</table><br/><br/>Warnings:<br/>[1] Standard Errors assume that the covariance matrix of the errors is correctly specified."
      ],
      "text/plain": [
       "<class 'statsmodels.iolib.summary.Summary'>\n",
       "\"\"\"\n",
       "                            OLS Regression Results                            \n",
       "==============================================================================\n",
       "Dep. Variable:                   MEDV   R-squared:                       0.948\n",
       "Model:                            OLS   Adj. R-squared:                  0.948\n",
       "Method:                 Least Squares   F-statistic:                     4637.\n",
       "Date:                Sun, 23 Sep 2018   Prob (F-statistic):               0.00\n",
       "Time:                        21:06:58   Log-Likelihood:                -1582.9\n",
       "No. Observations:                 506   AIC:                             3170.\n",
       "Df Residuals:                     504   BIC:                             3178.\n",
       "Df Model:                           2                                         \n",
       "Covariance Type:            nonrobust                                         \n",
       "==============================================================================\n",
       "                 coef    std err          t      P>|t|      [0.025      0.975]\n",
       "------------------------------------------------------------------------------\n",
       "RM             4.9069      0.070     69.906      0.000       4.769       5.045\n",
       "LSTAT         -0.6557      0.031    -21.458      0.000      -0.716      -0.596\n",
       "==============================================================================\n",
       "Omnibus:                      145.153   Durbin-Watson:                   0.834\n",
       "Prob(Omnibus):                  0.000   Jarque-Bera (JB):              442.157\n",
       "Skew:                           1.351   Prob(JB):                     9.70e-97\n",
       "Kurtosis:                       6.698   Cond. No.                         4.72\n",
       "==============================================================================\n",
       "\n",
       "Warnings:\n",
       "[1] Standard Errors assume that the covariance matrix of the errors is correctly specified.\n",
       "\"\"\""
      ]
     },
     "execution_count": 9,
     "metadata": {},
     "output_type": "execute_result"
    }
   ],
   "source": [
    "X = df[[\"RM\", \"LSTAT\"]]\n",
    "y = target[\"MEDV\"]\n",
    "\n",
    "model = sm.OLS(y, X).fit()\n",
    "predictions = model.predict(X)\n",
    "\n",
    "model.summary()"
   ]
  },
  {
   "cell_type": "markdown",
   "metadata": {},
   "source": [
    "Let's interpret this one now:\n",
    "\n",
    "This model has a much higher R-squared value — 0.948, which essentially means that this model captures 94.8% of the variance in the dependent variable. Now, let's try to figure out the relationship between the two variables `RM` and `LSTAT` and median house value. As `RM` increases by 1, `MEDV` will increase by 4.9069 and when `LSTAT` increases by 1, `MEDV` will _decrease_ by 0.6557. This indicates that `RM` and `LSTAT` are statistically significant in predicting (or estimating) the median house value. \n",
    "\n",
    "You can interpret this relationship in plain English as well:\n",
    "- Houses having a small number of rooms are likely to have low price values. \n",
    "- In the areas where the status of the population, is lower the house prices are likely to be low.\n",
    "\n",
    "Makes more sense now! Isn't it?"
   ]
  },
  {
   "cell_type": "markdown",
   "metadata": {},
   "source": [
    "This was the example of both single and multiple linear regression in `Statsmodels`. Your homework will be to investigate and interpret the results with the further features. \n",
    "\n",
    "Next, let's see how linear regression can be implemented using your very own `scikit-learn`. You already have the dataset imported but you will have to import the `linear_model` class. "
   ]
  },
  {
   "cell_type": "code",
   "execution_count": 10,
   "metadata": {},
   "outputs": [],
   "source": [
    "from sklearn import linear_model"
   ]
  },
  {
   "cell_type": "code",
   "execution_count": 12,
   "metadata": {},
   "outputs": [],
   "source": [
    "X = df\n",
    "y = target[\"MEDV\"]\n",
    "\n",
    "lm = linear_model.LinearRegression()\n",
    "model = lm.fit(X,y)"
   ]
  },
  {
   "cell_type": "markdown",
   "metadata": {},
   "source": [
    "The model training is completed. This `sklearn` implementation also uses OLS. Let's do some prediction of `MEDV` values of the first five samples. "
   ]
  },
  {
   "cell_type": "code",
   "execution_count": 15,
   "metadata": {},
   "outputs": [
    {
     "name": "stdout",
     "output_type": "stream",
     "text": [
      "[30.00821269 25.0298606  30.5702317  28.60814055 27.94288232]\n"
     ]
    }
   ],
   "source": [
    "predictions = lm.predict(X)\n",
    "print(predictions[0:5])"
   ]
  },
  {
   "cell_type": "markdown",
   "metadata": {},
   "source": [
    "If you want to know some more details (such as the R-squared, coefficients etc.) of your model, you can easily do so. "
   ]
  },
  {
   "cell_type": "code",
   "execution_count": 16,
   "metadata": {},
   "outputs": [
    {
     "data": {
      "text/plain": [
       "0.7406077428649427"
      ]
     },
     "execution_count": 16,
     "metadata": {},
     "output_type": "execute_result"
    }
   ],
   "source": [
    "lm.score(X,y)"
   ]
  },
  {
   "cell_type": "code",
   "execution_count": 17,
   "metadata": {},
   "outputs": [
    {
     "data": {
      "text/plain": [
       "array([-1.07170557e-01,  4.63952195e-02,  2.08602395e-02,  2.68856140e+00,\n",
       "       -1.77957587e+01,  3.80475246e+00,  7.51061703e-04, -1.47575880e+00,\n",
       "        3.05655038e-01, -1.23293463e-02, -9.53463555e-01,  9.39251272e-03,\n",
       "       -5.25466633e-01])"
      ]
     },
     "execution_count": 17,
     "metadata": {},
     "output_type": "execute_result"
    }
   ],
   "source": [
    "lm.coef_"
   ]
  },
  {
   "cell_type": "markdown",
   "metadata": {},
   "source": [
    "## Wrap up!\n",
    "\n",
    "Beautiful! You have made it to the end. Covering one of the simplest and the most fundamental algorithms was not that easy but you did it pretty well. Not only, you got familiarized with simple linear regression but also studied many extremely important aspects, terms, factors of machine learning. You did an in-depth case study in Python as well. \n",
    "\n",
    "This tutorial can also be treated as a motivation for you to implement Linear Regression from scratch. Following are the brief steps if anyone wants to do it for real:\n",
    "- Calculate mean and variance of the data\n",
    "- Calculate covariance\n",
    "- Estimate coefficients\n",
    "- Make predictions\n",
    "\n",
    "Following are some references that were used in order to prepare this tutorial:\n",
    "- [Machine Learning course by Coursera (taught by the great Andrew Ng)](https://www.coursera.org/learn/machine-learning)\n",
    "- [Implementing linear regression from scratch](https://machinelearningmastery.com/implement-simple-linear-regression-scratch-python/)\n",
    "- [The Elements of Statistical Learning](The Elements of Statistical Learning - Stanford University)"
   ]
  }
 ],
 "metadata": {
  "kernelspec": {
   "display_name": "Python 3",
   "language": "python",
   "name": "python3"
  },
  "language_info": {
   "codemirror_mode": {
    "name": "ipython",
    "version": 3
   },
   "file_extension": ".py",
   "mimetype": "text/x-python",
   "name": "python",
   "nbconvert_exporter": "python",
   "pygments_lexer": "ipython3",
   "version": "3.6.5"
  },
  "latex_envs": {
   "LaTeX_envs_menu_present": true,
   "autoclose": false,
   "autocomplete": true,
   "bibliofile": "biblio.bib",
   "cite_by": "apalike",
   "current_citInitial": 1,
   "eqLabelWithNumbers": true,
   "eqNumInitial": 1,
   "hotkeys": {
    "equation": "Ctrl-E",
    "itemize": "Ctrl-I"
   },
   "labels_anchors": false,
   "latex_user_defs": false,
   "report_style_numbering": false,
   "user_envs_cfg": false
  },
  "toc": {
   "base_numbering": 1,
   "nav_menu": {},
   "number_sections": false,
   "sideBar": true,
   "skip_h1_title": false,
   "title_cell": "Table of Contents",
   "title_sidebar": "Contents",
   "toc_cell": false,
   "toc_position": {},
   "toc_section_display": true,
   "toc_window_display": false
  }
 },
 "nbformat": 4,
 "nbformat_minor": 2
}
