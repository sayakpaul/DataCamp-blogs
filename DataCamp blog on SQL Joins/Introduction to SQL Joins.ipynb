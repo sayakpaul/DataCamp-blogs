{
 "cells": [
  {
   "cell_type": "markdown",
   "metadata": {},
   "source": [
    "# Introduction to SQL Joins\n",
    "\n",
    "In this tutorial, learn about the mechanics of joins in SQL and its different types.\n",
    "\n",
    "During your data analysis in SQL, you will often need to look at multiple tables and join them to get the desired results. Joining tables for analyzing data is a required skill for a data scientist as well. In this tutorial, you will learn about different types of joins that you can perform in PostgreSQL. You will first study the preliminary concepts of joins in SQL, you will then learn about different types of joins and what are their syntaxes in PostgreSQL. You will finish off this tutorial by executing different types of join queries using two tables. To be able to follow along, you should be familiar with the basics of SQL and how to write simple queries in PostgreSQL. If you are looking for resources learn these, the following ones can be useful - \n",
    "\n",
    "* [Beginner's Guide to PostgreSQL](https://www.datacamp.com/community/tutorials/beginners-introduction-postgresql) \n",
    "* [Intro to SQL for Data Science](https://www.datacamp.com/courses/intro-to-sql-for-data-science?tap_a=5644-dce66f&tap_s=357540-5b28dd) course by DataCamp\n",
    "\n",
    "Let's begin. "
   ]
  },
  {
   "cell_type": "markdown",
   "metadata": {},
   "source": [
    "## Setting up the database environment in PostgreSQL\n",
    "\n",
    "Before you study the basics of SQL joins it would be a good idea to create some tables for your analyses. You will need at least two tables having at least one column in common. Although you can execute self-join queries on the same table, let's ignore that fact for the time being. \n",
    "\n",
    "You can perform all the SQL operations on a tool called `pgAdmin` which generally comes with the installation of PostgreSQL. Let's open `pgAdmin` and create a database (give it a name of your choice) to create the tables if you don't have an existing database to proceed with. You can then create the following two tables with the specifications as given - \n",
    "* student_name (id, name)\n",
    "* student_stream (id, stream)\n",
    "\n",
    "**Note** that both the tables have `id` column in common. You can use the following `CREATE` statements to create the tables - \n",
    "\n",
    "* For student_name - \n",
    "```sql\n",
    "CREATE TABLE student_name\n",
    "(\n",
    "  id smallint,\n",
    "  name \"char\"[]\n",
    ");\n",
    "```\n",
    "* For student_stream - \n",
    "```sql\n",
    "CREATE TABLE student_stream\n",
    "(\n",
    "  id smallint,\n",
    "  stream \"char\"[]\n",
    ");\n",
    "```"
   ]
  },
  {
   "cell_type": "markdown",
   "metadata": {},
   "source": [
    "Let's now insert some records into the tables. \n",
    "* For student_name - \n",
    "\n",
    "```sql\n",
    "INSERT INTO student_name(id, name) VALUES (1, 'Sayak');\n",
    "\n",
    "INSERT INTO student_name(id, name) VALUES (2, 'Alex');\n",
    "\n",
    "INSERT INTO student_name(id, name) VALUES (3, 'Sameer');\n",
    "\n",
    "INSERT INTO student_name(id, name) VALUES (4, 'Rick');\n",
    "```\n",
    "* For student_stream - \n",
    "\n",
    "```sql\n",
    "INSERT INTO student_stream(id, stream) VALUES (1, 'CS');\n",
    "\n",
    "INSERT INTO student_stream(id, stream) VALUES (1, 'IT');\n",
    "\n",
    "INSERT INTO student_stream(id, stream) VALUES (2, 'ECE');\n",
    "\n",
    "INSERT INTO student_stream(id, stream) VALUES (9, 'ECE');\n",
    "```"
   ]
  },
  {
   "cell_type": "markdown",
   "metadata": {},
   "source": [
    "The table entries should be like the following in case you executed the above queries without changing anything - \n",
    "\n",
    "![](https://i.ibb.co/pX7GdYj/Untitled-Diagram.png)"
   ]
  },
  {
   "cell_type": "markdown",
   "metadata": {},
   "source": [
    "You now have two simple tables ready. Let's now proceed towards studying the basics of SQL joins. "
   ]
  },
  {
   "cell_type": "markdown",
   "metadata": {},
   "source": [
    "## SQL Joins - Basics\n",
    "\n",
    "SQL Joins allow you to collate two or more (sometimes just one table) tables using common identifiers. Take the example of the above two tables that you created - both the tables have `id` column in common. You may question the need of joining in SQL. Let's discuss this in brief. \n",
    "\n",
    "Due to [normalization](https://www.geeksforgeeks.org/database-normalization-normal-forms/) constraints, you may not have all the required information present in a single table. Normalization is not only desired but also is necessary in order to maintain consistency, to reduce redundancy and to prevent several insertion and update anomalies. Consider the above two table again. Suppose you wish to find out the streams in which `Sayak` has enrolled. To get the answer to this question, you will need to join the two tables (sub-queries can also be used, but let's not consider that now) and then proceed accordingly. \n",
    "\n",
    "For two tables to be joined there has to be something in common between the two. Does this mean both the tables have to have at least one column with the same name? Or what exactly is this condition? \n",
    "\n",
    "The tables you wish to join **may not have a column with the same name** but logically they should be the same i.e. their data-types should be the same. You cannot join two tables having a column with the same name but different data-types. Let's now study the different types of SQL joins. "
   ]
  },
  {
   "cell_type": "markdown",
   "metadata": {},
   "source": [
    "## Different types of SQL Joins\n",
    "\n",
    "In this section, you will study several types of SQL Joins - \n",
    "\n",
    "* INNER JOIN\n",
    "    * Self-join\n",
    "* OUTER JOIN\n",
    "    * LEFT JOIN\n",
    "    * RIGHT JOIN\n",
    "    * FULL JOIN\n",
    "* CROSS JOIN\n",
    "* Semi-join and Anti-join\n",
    "\n",
    "PostgreSQL provides separate keywords for the types of joins mentioned in all capital letters. Let's study each of them one by one. For this you will first study the joins visually and then you will execute the respective join queries in PostgreSQL. "
   ]
  },
  {
   "cell_type": "markdown",
   "metadata": {},
   "source": [
    "### INNER JOIN\n",
    "\n",
    "Take a look at the following diagram in order to understand `INNER JOIN` visually - \n",
    "\n",
    "![](https://i.ibb.co/kJPyJh8/Inner.png)"
   ]
  },
  {
   "cell_type": "markdown",
   "metadata": {},
   "source": [
    "In the above example, the column under consideration is the `id` column. `INNER JOIN` will ignore rest of the columns for which the values are not common in both the tables. Let's now execute a query in PostgreSQL which would perform `INNER JOIN` between the two tables - student_name and student_stream. "
   ]
  },
  {
   "cell_type": "markdown",
   "metadata": {},
   "source": [
    "Upon executing the following query you get the result as presented in the above figure - \n",
    "\n",
    "```sql\n",
    "SELECT s1.id, s1.name, s2.stream\n",
    "FROM student_name AS s1\n",
    "INNER JOIN student_stream AS s2\n",
    "ON s1.id = s2.id; \n",
    "```\n",
    "\n",
    "`s1` and `s2` are the aliases for the two tables. You used the `ON` keyword along with `INNER JOIN`. The query can be executed using the `USING` keyword as well - "
   ]
  },
  {
   "cell_type": "markdown",
   "metadata": {},
   "source": [
    "```sql\n",
    "SELECT s1.id, s1.name, s2.stream\n",
    "FROM student_name AS s1\n",
    "INNER JOIN student_stream AS s2\n",
    "USING (id);\n",
    "```"
   ]
  },
  {
   "cell_type": "markdown",
   "metadata": {},
   "source": [
    "**Self Join** allows you to perform joining the same table. But where this might be a good option? Suppose you have a table consisting of the following columns - \n",
    "* Country\n",
    "* Continent\n",
    "\n",
    "Now you want to enlist two countries in a way that their continents are the same. Following figure should give you a sense of the expected results - \n",
    "\n",
    "![](https://i.ibb.co/8gSGL4w/Capture-2.png)"
   ]
  },
  {
   "cell_type": "markdown",
   "metadata": {},
   "source": [
    "### OUTER JOIN\n",
    "\n",
    "`OUTER JOIN` can further be divided into three types - \n",
    "\n",
    "<b>LEFT JOIN or Left Outer JOIN</b>: The following diagram gives you a fair idea of `LEFT JOIN` in SQL - \n",
    "\n",
    "![](https://i.ibb.co/9tK7ZwH/SQL-Joins-Left-Outer-Join.png)"
   ]
  },
  {
   "cell_type": "markdown",
   "metadata": {},
   "source": [
    "**Note** that unlike `INNER JOIN`, `LEFT JOIN` fetches you the records from the left (w.r.t to the order you specify in your query) table for which there was not any matching entry in the right table. This, in turn, tells you that `Sameer` and `Rick` have not enrolled in any streams. The respective query for this will be - \n",
    "\n",
    "```sql\n",
    "SELECT s1.id, s1.name, s2.stream\n",
    "FROM student_name AS s1\n",
    "LEFT JOIN student_stream AS s2\n",
    "ON s1.id = s2.id;   \n",
    "```"
   ]
  },
  {
   "cell_type": "markdown",
   "metadata": {},
   "source": [
    "<b>RIGHT JOIN or Right Outer JOIN </b>: `RIGHT JOIN` is exactly the opposite of `LEFT JOIN` - \n",
    "\n",
    "![](https://i.ibb.co/8063BXr/SQL-Joins-Right-Outer-Join.png)"
   ]
  },
  {
   "cell_type": "markdown",
   "metadata": {},
   "source": [
    "`RIGHT JOIN` can help you in finding the stream(s) for which no student has enrolled. The query for this would be - \n",
    "```sql\n",
    "SELECT s1.id, s1.name, s2.stream\n",
    "FROM student_name AS s1\n",
    "RIGHT JOIN student_stream AS s2\n",
    "ON s1.id = s2.id;   \n",
    "```"
   ]
  },
  {
   "cell_type": "markdown",
   "metadata": {},
   "source": [
    "<b>FULL JOIN or Full Outer JOIN</b>: `FULL JOIN` lets you combine both `LEFT JOIN` and `RIGHT JOIN` into a single compilation - \n",
    "\n",
    "![](https://i.ibb.co/F89sQpL/SQL-Joins-Full-Outer-Join.png)"
   ]
  },
  {
   "cell_type": "markdown",
   "metadata": {},
   "source": [
    "The respective query would be - \n",
    "```sql\n",
    "SELECT s1.id, s1.name, s2.stream\n",
    "FROM student_name AS s1\n",
    "FULL JOIN student_stream AS s2\n",
    "ON s1.id = s2.id;   \n",
    "```"
   ]
  },
  {
   "cell_type": "markdown",
   "metadata": {},
   "source": [
    "**Note** that you can execute all the above `OUTER JOIN` queries using the `USING` keyword. Let's now study `CROSS JOIN`. "
   ]
  },
  {
   "cell_type": "markdown",
   "metadata": {},
   "source": [
    "### CROSS JOIN\n",
    "\n",
    "`CROSS JOIN` is essentially the cartesian product between two elements expressed using SQL. Suppose, you need to have all the combinations possible in between two tables or even in a single table. You will need `CROSS JOIN` for doing this. The following figure presents this concept visually - \n",
    "\n",
    "![](https://i.ibb.co/BPhDn1H/SQL-Joins-Cross-Join.png)"
   ]
  },
  {
   "cell_type": "markdown",
   "metadata": {},
   "source": [
    "You already have two tables to test this out. In order to have all possible combinations between the `id` columns of the `student_name` and `student_stream` tables, you can execute the following query - \n",
    "\n",
    "```sql\n",
    "SELECT s1.id, s2.id\n",
    "FROM student_name AS s1\n",
    "CROSS JOIN student_stream AS s2;\n",
    "```\n",
    "\n",
    "And you get the following result - \n",
    "![](https://i.ibb.co/b1XwP9c/Capture-3.png)"
   ]
  },
  {
   "cell_type": "markdown",
   "metadata": {},
   "source": [
    "Let's now see the other two types of join for which PostgreSQL does not provide any direct keywords. "
   ]
  },
  {
   "cell_type": "markdown",
   "metadata": {},
   "source": [
    "### Semi-join and Anti-join\n",
    "\n",
    "Let's consider the tables that you created earlier in the tutorial:\n",
    "\n",
    "![](https://i.ibb.co/vD5Fh3t/Untitled-Diagram-Semi-Join-and-Anti-Join.png)"
   ]
  },
  {
   "cell_type": "markdown",
   "metadata": {},
   "source": [
    "`Semi Join` queries are generally executed in the form of **subqueries** where rows are picked up from the first table with respect to a condition (or a set of conditions) that is **matched** in the second table. Let's assume the left table is the first table and the right table is the second table.\n",
    "\n",
    "`Anti Join` queries are exactly the opposite. In `Anti Join`, rows are picked up from the first table with respect to a condition (or a set of conditions) that is **not matched** in the second table. Here is a digram for you to understand this visually - \n",
    "\n",
    "![](https://i.ibb.co/7YGSj5Y/SQL-Joins-Semi-Join-and-Anti-Join.png)"
   ]
  },
  {
   "cell_type": "markdown",
   "metadata": {},
   "source": [
    "The query for realizing the `Semi Join` would be - \n",
    "```sql\n",
    "select id, name \n",
    "from student_name\n",
    "where id IN \n",
    "(select id from student_stream where stream \n",
    "IN ('CS', 'IT', 'ECE'));\n",
    "```"
   ]
  },
  {
   "cell_type": "markdown",
   "metadata": {},
   "source": [
    "Similarly, the query that realizes `Anti Join` in this case would be - \n",
    "```sql\n",
    "select id, name \n",
    "from student_name\n",
    "where id NOT IN \n",
    "(select id from student_stream where stream \n",
    "IN ('CS', 'IT', 'ECE'));\n",
    "```\n",
    "**Note** the use of `NOT` the above query. "
   ]
  },
  {
   "cell_type": "markdown",
   "metadata": {},
   "source": [
    "## Taking your SQL Join wizardry to next level\n",
    "\n",
    "That is all for this tutorial. You studied about a bunch different types SQL Joins in this tutorial and also made yourself familiar to their PostgreSQL syntaxes. If you want to practice some challenging SQL Join exercises, you should take DataCamp's [Joining Data in SQL](https://www.datacamp.com/courses/joining-data-in-postgresql?tap_a=5644-dce66f&tap_s=357540-5b28dd) course. In fact materials from the course were used as references in order to make this tutorial. \n",
    "\n",
    "Let me know your questions in the `Comments` section. "
   ]
  }
 ],
 "metadata": {
  "kernelspec": {
   "display_name": "Python 3",
   "language": "python",
   "name": "python3"
  },
  "language_info": {
   "codemirror_mode": {
    "name": "ipython",
    "version": 3
   },
   "file_extension": ".py",
   "mimetype": "text/x-python",
   "name": "python",
   "nbconvert_exporter": "python",
   "pygments_lexer": "ipython3",
   "version": "3.6.5"
  },
  "latex_envs": {
   "LaTeX_envs_menu_present": true,
   "autoclose": false,
   "autocomplete": true,
   "bibliofile": "biblio.bib",
   "cite_by": "apalike",
   "current_citInitial": 1,
   "eqLabelWithNumbers": true,
   "eqNumInitial": 1,
   "hotkeys": {
    "equation": "Ctrl-E",
    "itemize": "Ctrl-I"
   },
   "labels_anchors": false,
   "latex_user_defs": false,
   "report_style_numbering": false,
   "user_envs_cfg": false
  },
  "toc": {
   "base_numbering": 1,
   "nav_menu": {},
   "number_sections": false,
   "sideBar": true,
   "skip_h1_title": false,
   "title_cell": "Table of Contents",
   "title_sidebar": "Contents",
   "toc_cell": false,
   "toc_position": {},
   "toc_section_display": true,
   "toc_window_display": false
  }
 },
 "nbformat": 4,
 "nbformat_minor": 2
}
