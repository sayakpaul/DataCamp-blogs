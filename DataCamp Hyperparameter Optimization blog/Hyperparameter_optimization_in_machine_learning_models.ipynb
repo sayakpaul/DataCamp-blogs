{
  "nbformat": 4,
  "nbformat_minor": 0,
  "metadata": {
    "colab": {
      "name": "Hyperparameter optimization in machine learning models.ipynb",
      "version": "0.3.2",
      "provenance": [],
      "collapsed_sections": []
    },
    "kernelspec": {
      "name": "python3",
      "display_name": "Python 3"
    }
  },
  "cells": [
    {
      "metadata": {
        "id": "Mm9l9wSh1dke",
        "colab_type": "text"
      },
      "cell_type": "markdown",
      "source": [
        "<h1><center>Hyperparameter optimization in machine learning models</center></h1><br>\n",
        "  \n",
        "Machine learning involves predicting and classifying data and to do so you employ various machine learning models according to the dataset. Machine learning models are parameterized so that their behavior can be tuned for a given problem. These models can have many parameters and finding the best combination of parameters can be treated as a search problem. But this very term called parameter may appear unfamiliar to you if you are new to applied machine learning. But don’t worry! You will get to know about it in the very first place of this blog and you will also discover what is the difference between a parameter and a hyperparameter of a machine learning model. This blog consists of following sections:<br>\n",
        "- What are a parameter and a hyperparameter in a machine learning  model?\n",
        "- Why hyperparameter optimization / tuning is vital in order to enhance your model’s performance?\n",
        "- Two simple strategies to optimize / tune the hyperparameters \n",
        "- A simple case study in Python with the two strategies\n",
        "\n",
        "Let’s straight jump into the first section!\n",
        "\n",
        "<h3>What is a parameter in a machine learning learning model?</h3>\n",
        "A model parameter is a configuration variable that is internal to the model and whose value can be estimated from the given data.\n",
        "<ul>\n",
        "<li> They are required by the model when making predictions.\n",
        "<li>Their values define the skill of the model on your problem.\n",
        "<li>They are estimated or learned from data.\n",
        "<li>They are often not set manually by the practitioner.\n",
        "<li>They are often saved as part of the learned model.\n",
        "</ul>\n",
        "So your main take away from the above points should be parameters are key to machine learning algorithms. Also, they are the part of the model that is learned from historical training data. Let’s dig it a bit deeper.\n",
        "Think of the function parameters that you use while programming in general. You may pass a parameter to a function. In this case, a parameter is a function argument that could have one of a range of values. In machine learning, the specific model you are using is the function and requires parameters in order to make a prediction on new data.\n",
        "Whether a model has a fixed or variable number of parameters determines whether it may be referred to as <i>“parametric”</i> or <i>“nonparametric“</i>.\n",
        "<br><br>\n",
        "Some examples of model parameters include:\n",
        "<ul>\n",
        "<li> The weights in an artificial neural network.\n",
        "<li>The support vectors in a support vector machine.\n",
        "<li>The coefficients in a linear regression or logistic regression.\n",
        "</ul>\n",
        "<br><h3>\n",
        "What is a hyperparameter in a machine learning learning model?</h3>\n",
        "A model hyperparameter is a configuration that is external to the model and whose value cannot be estimated from data.\n",
        "<ul>\n",
        "<li>They are often used in processes to help estimate model parameters.\n",
        "<li>They are often specified by the practitioner.\n",
        "<li>They can often be set using heuristics.\n",
        "<li>They are often tuned for a given predictive modeling problem.\n",
        "</ul>\n",
        "\n",
        "You cannot know the best value for a model hyperparameter on a given problem. You may use rules of thumb, copy values used on other problems, or search for the best value by trial and error.\n",
        "When a machine learning algorithm is tuned for a specific problem then essentially  you are tuning the hyperparameters of the model in order to discover the parameters of the model that result in the most skillful predictions. \n",
        "<br><br>\n",
        "According to a very popular book called “Applied Predictive Modelling”  - \n",
        "“<i>Many models have important parameters which cannot be directly estimated from the data. For example, in the K-nearest neighbor classification model … This type of model parameter is referred to as a tuning parameter because there is no analytical formula available to calculate an appropriate value.</i>”\n",
        "<br><br>\n",
        "Model hyperparameters are often referred to as model parameters which can make things confusing. A good rule of thumb to overcome this confusion is as follows:\n",
        "“<i>If you have to specify a model parameter manually then it is probably a model hyperparameter. </i>”\n",
        "Some examples of model hyperparameters include:\n",
        "<ul>\n",
        "<li>The learning rate for training a neural network.\n",
        "<li>The C and sigma hyperparameters for support vector machines.\n",
        "<li>The k in k-nearest neighbors.\n",
        "</ul>\n",
        "\n",
        "In the next section, you will discover the importance of the right set of hyperparameter values in a machine learning model.\n",
        "\n",
        "<h3>Importance of the right set of hyperparameter values in a machine learning model:</h3>\n",
        "\n",
        "The best way to think about hyperparameters is like the settings of an algorithm that can be adjusted to optimize performance, just as you might turn the knobs of an AM radio to get a clear signal. When creating a machine learning model, you'll be presented with design choices as to how to define your model architecture. Often times, you don't immediately know what the optimal model architecture should be for a given model, and thus you'd like to be able to explore a range of possibilities. In a true machine learning fashion, you’ll ideally ask the machine to perform this exploration and select the optimal model architecture automatically. \n",
        "\n",
        "You will see in the case study section how the right choice of hyperparameter values affect the performance of a machine learning model. In this context, choosing the right set of values is typically known as “<i>Hyperparameter optimization</i>” or “<i>Hyperparameter tuning</i>”.\n",
        "\n",
        "<h3>Two simple strategies to optimize / tune the hyperparameters:</h3>\n",
        "Models can have many hyperparameters and finding the best combination of parameters can be treated as a search problem.\n",
        "\n",
        "Although there are a number of hyperparameter optimization / tuning algorithms now, but this post discusses two simple strategies: 1. grid search and 2. Random Search.\n",
        "\n",
        "<h3>Grid searching of hyperparameters:</h3>\n",
        "Grid search is an approach to hyperparameter tuning that will methodically build and evaluate a model for each combination of algorithm parameters specified in a grid.\n",
        "\n",
        "Let’s consider the following example:\n",
        "\n",
        "Suppose, a machine learning model X takes hyperparameters a<sub>1</sub>, a<sub>2</sub> and a<sub>3</sub>. In <i>grid searching</i>, you first define the range of values for each of the hyperparameters a<sub>1</sub>, a<sub>2</sub> and a<sub>3</sub>. You can think of this as an array of values for each of the hyperparameters. Now the <i>grid search</i> technique will construct many versions of X with all the possible combinations of hyperparameter (a<sub>1</sub>, a<sub>2</sub> and a<sub>3</sub>) values that you defined in the first place. This range of hyperparameter values is referred to as <b><i>grid</i></b>.\n",
        "<br><br>\n",
        "Suppose, you defined the grid as:<br>\n",
        "a<sub>1</sub> = [0,1,2,3,4,5]<br>\n",
        "a<sub>2</sub> = [10,20,30,40,5,60]<br>\n",
        "a<sub>3</sub> = [105,105,110,115,120,125]\n",
        "\n",
        "<br><br>Note that, the array of values of that you are defining for the hyperparameters has to be legitimate in a sense that you cannot supply <i>Floating</i> type values to  the array if the hyperparameter only takes <i>Integer</i> values. \n",
        "\n",
        "<br><br>Now, <i>grid search</i> will begin its process of constructing several versions of X with the grid that you just defined. \n",
        "\n",
        "<br><br>It will start with the combination of [0,10,105] and it will end with [5,60,125]. It will go through all the intermediate combinations between these two which makes <i>grid search computationally very expensive</i>. \n",
        "\n",
        "Let’s take a look at the other search technique Random search:\n",
        "\n",
        "\n",
        "<h3>Random searching of hyperparameters:</h3>\n",
        "The idea of random searching of hyperparameters was proposed by James Bergstra & Yoshua Bengio. You can check the original paper [here](http://www.jmlr.org/papers/volume13/bergstra12a/bergstra12a.pdf). \n",
        " \n",
        "<br><br>Random search differs from grid search. In that you longer provide a discrete set of values to explore for each hyperparameter; rather, you provide a statistical distribution for each hyperparameter from which values may be randomly sampled.\n",
        "\n",
        "<br><br>Before going any further, let’s understand what distribution and sampling mean:\n",
        " \n",
        "<br><br>In Statistics, by distribution, it is essentially meant an arrangement of values of a variable showing their observed or theoretical frequency of occurrence.\n",
        "\n",
        "<br><br>On the other hand, Sampling is a term used in statistics. It is the process of choosing a representative sample from a target population and collecting data from that sample in order to understand something about the population as a whole. \n",
        "\n",
        "<br><br>Now let's again get back to the concept of random <i>search</i>.\n",
        " \n",
        "<br><br>You’ll define a sampling distribution for each hyperparameter. You can also define how many iterations you’d like to build when searching for the optimal model. For each iteration, the hyperparameter values of the model will be set by sampling the defined distributions. \n",
        "One of the main theoretical backings to motivate the use of random search in place of grid search is the fact that for most cases, hyperparameters are not equally important. According to the original paper:\n",
        "\n",
        "<br><br>“<i>….for most data sets only a few of the hyper-parameters really matter, but that different hyper-parameters are important on different data sets. This phenomenon makes grid search a poor choice for configuring algorithms for new datasets</i>.”\n",
        "\n",
        "<br><br>In the following figure, we're searching over a hyperparameter space where the one hyperparameter has significantly more influence on optimizing the model score - the distributions shown on each axis represent the model's score. In each case, we're evaluating nine different models. The grid search strategy blatantly misses the optimal model and spends redundant time exploring the unimportant parameter. During this grid search, we isolated each hyperparameter and searched for the best possible value while holding all other hyperparameters constant. For cases where the hyperparameter being studied has little effect on the resulting model score, this results in wasted effort. Conversely, the random search has much improved exploratory power and can focus on finding the optimal value for the important hyperparameter.\n",
        "<br>\n",
        "![search diffs](https://www.jeremyjordan.me/content/images/2017/11/grid_vs_random.png)\n",
        "\n",
        "<br>In the following sections, you will see <i>grid search</i> and <i>random search</i> in action with Python. You will also be able to decide which is better in terms of the effectiveness and efficiency. \n",
        "\n",
        "<h3>Case study in Python:</h3>\n",
        "\n",
        "Hyperparameter tuning is a final step in the process of applied machine learning before presenting results.\n",
        "\n",
        "<br>You will use the Pima Indian diabetes dataset. The dataset corresponds to a <i>classification</i> problem on which you need to make predictions on the basis of whether a person is to suffer diabetes given the 8 features in the dataset. You can find the complete description of the dataset <a href = \"https://www.kaggle.com/uciml/pima-indians-diabetes-database\" target = \"_blank\">here</a>.\n",
        "\n",
        "<br>There are a total of 768 observations in the dataset. Your first task is to load the dataset so that you can proceed. But before that let's import  the dependencies you are gonna need. \n",
        "\n"
      ]
    },
    {
      "metadata": {
        "id": "m3dG8tS5KEd5",
        "colab_type": "code",
        "colab": {
          "base_uri": "https://localhost:8080/",
          "height": 37
        },
        "outputId": "4dda28f8-b20d-4f93-f1d8-43c17c95eec8"
      },
      "cell_type": "code",
      "source": [
        "# Dependencies\n",
        "\n",
        "import pandas as pd\n",
        "import numpy as np\n",
        "from sklearn.linear_model import LogisticRegression"
      ],
      "execution_count": 36,
      "outputs": []
    },
    {
      "metadata": {
        "id": "KpOOBrat_5iw",
        "colab_type": "text"
      },
      "cell_type": "markdown",
      "source": [
        "Now that the depedencies are imported, let's load Pima Indians dataset into a Dataframe object with the famous Pandas library."
      ]
    },
    {
      "metadata": {
        "id": "J7QUYQ8xCU-G",
        "colab_type": "code",
        "colab": {
          "base_uri": "https://localhost:8080/",
          "height": 17
        },
        "outputId": "232dd49b-f13f-4582-a779-0801951f31ca"
      },
      "cell_type": "code",
      "source": [
        "data = pd.read_csv(\"diabetes.csv\") # Make sure the .csv file and the notebook are residing on the same directory otherwise supply an absolute path of the .csv file"
      ],
      "execution_count": 12,
      "outputs": []
    },
    {
      "metadata": {
        "id": "emLYRbUqBKvD",
        "colab_type": "text"
      },
      "cell_type": "markdown",
      "source": [
        "The dataset is successfully loaded into the Dataframe object <i>data</i>. Now, let's take a look at the data."
      ]
    },
    {
      "metadata": {
        "id": "ZYhWvSajBUMG",
        "colab_type": "code",
        "colab": {
          "base_uri": "https://localhost:8080/",
          "height": 204
        },
        "outputId": "4e99c562-3471-4bfd-a001-a2f13e1d9106"
      },
      "cell_type": "code",
      "source": [
        "data.head()"
      ],
      "execution_count": 9,
      "outputs": [
        {
          "output_type": "execute_result",
          "data": {
            "text/html": [
              "<div>\n",
              "<style scoped>\n",
              "    .dataframe tbody tr th:only-of-type {\n",
              "        vertical-align: middle;\n",
              "    }\n",
              "\n",
              "    .dataframe tbody tr th {\n",
              "        vertical-align: top;\n",
              "    }\n",
              "\n",
              "    .dataframe thead th {\n",
              "        text-align: right;\n",
              "    }\n",
              "</style>\n",
              "<table border=\"1\" class=\"dataframe\">\n",
              "  <thead>\n",
              "    <tr style=\"text-align: right;\">\n",
              "      <th></th>\n",
              "      <th>Pregnancies</th>\n",
              "      <th>Glucose</th>\n",
              "      <th>BloodPressure</th>\n",
              "      <th>SkinThickness</th>\n",
              "      <th>Insulin</th>\n",
              "      <th>BMI</th>\n",
              "      <th>DiabetesPedigreeFunction</th>\n",
              "      <th>Age</th>\n",
              "      <th>Outcome</th>\n",
              "    </tr>\n",
              "  </thead>\n",
              "  <tbody>\n",
              "    <tr>\n",
              "      <th>0</th>\n",
              "      <td>6</td>\n",
              "      <td>148</td>\n",
              "      <td>72</td>\n",
              "      <td>35</td>\n",
              "      <td>0</td>\n",
              "      <td>33.6</td>\n",
              "      <td>0.627</td>\n",
              "      <td>50</td>\n",
              "      <td>1</td>\n",
              "    </tr>\n",
              "    <tr>\n",
              "      <th>1</th>\n",
              "      <td>1</td>\n",
              "      <td>85</td>\n",
              "      <td>66</td>\n",
              "      <td>29</td>\n",
              "      <td>0</td>\n",
              "      <td>26.6</td>\n",
              "      <td>0.351</td>\n",
              "      <td>31</td>\n",
              "      <td>0</td>\n",
              "    </tr>\n",
              "    <tr>\n",
              "      <th>2</th>\n",
              "      <td>8</td>\n",
              "      <td>183</td>\n",
              "      <td>64</td>\n",
              "      <td>0</td>\n",
              "      <td>0</td>\n",
              "      <td>23.3</td>\n",
              "      <td>0.672</td>\n",
              "      <td>32</td>\n",
              "      <td>1</td>\n",
              "    </tr>\n",
              "    <tr>\n",
              "      <th>3</th>\n",
              "      <td>1</td>\n",
              "      <td>89</td>\n",
              "      <td>66</td>\n",
              "      <td>23</td>\n",
              "      <td>94</td>\n",
              "      <td>28.1</td>\n",
              "      <td>0.167</td>\n",
              "      <td>21</td>\n",
              "      <td>0</td>\n",
              "    </tr>\n",
              "    <tr>\n",
              "      <th>4</th>\n",
              "      <td>0</td>\n",
              "      <td>137</td>\n",
              "      <td>40</td>\n",
              "      <td>35</td>\n",
              "      <td>168</td>\n",
              "      <td>43.1</td>\n",
              "      <td>2.288</td>\n",
              "      <td>33</td>\n",
              "      <td>1</td>\n",
              "    </tr>\n",
              "  </tbody>\n",
              "</table>\n",
              "</div>"
            ],
            "text/plain": [
              "   Pregnancies  Glucose  BloodPressure  SkinThickness  Insulin   BMI  \\\n",
              "0            6      148             72             35        0  33.6   \n",
              "1            1       85             66             29        0  26.6   \n",
              "2            8      183             64              0        0  23.3   \n",
              "3            1       89             66             23       94  28.1   \n",
              "4            0      137             40             35      168  43.1   \n",
              "\n",
              "   DiabetesPedigreeFunction  Age  Outcome  \n",
              "0                     0.627   50        1  \n",
              "1                     0.351   31        0  \n",
              "2                     0.672   32        1  \n",
              "3                     0.167   21        0  \n",
              "4                     2.288   33        1  "
            ]
          },
          "metadata": {
            "tags": []
          },
          "execution_count": 9
        }
      ]
    },
    {
      "metadata": {
        "id": "IMIJVoIWCfmx",
        "colab_type": "text"
      },
      "cell_type": "markdown",
      "source": [
        "So you can 8 different features labeled into the outcomes of 1 and 0 where 1 stands for the observation has diabetes and 0 denotes the observation does not have diabetes. The dataset is known to have missing values. Specifically, there are missing observations for some columns that are marked as a zero value.\n",
        "We can corroborate this by the definition of those columns and the domain knowledge that a zero value is invalid for those measures, e.g. a zero for body mass index or blood pressure is invalid.\n",
        "\n",
        "(Missing value creates a lot of problems when you try to build a machine learning model. In this case, you will use a Logistic Regression classifier for predicting the patients having diabetes or not. Now, Logistic Regression cannot handle the problems of missing values. )\n",
        "\n",
        "(If you want a quick refresher on Logistic Regression you can refer [here](\"https://www.analyticsvidhya.com/blog/2015/10/basics-logistic-regression/\").)\n",
        "\n",
        "\n",
        "Let's get some statistics about the data with Pandas' <i>describe()</i> utility."
      ]
    },
    {
      "metadata": {
        "id": "cugDDfSGDXJ9",
        "colab_type": "code",
        "colab": {
          "base_uri": "https://localhost:8080/",
          "height": 297
        },
        "outputId": "b28824ba-ff96-4230-cd0c-0aafe6dde59c"
      },
      "cell_type": "code",
      "source": [
        "data.describe()"
      ],
      "execution_count": 13,
      "outputs": [
        {
          "output_type": "execute_result",
          "data": {
            "text/html": [
              "<div>\n",
              "<style scoped>\n",
              "    .dataframe tbody tr th:only-of-type {\n",
              "        vertical-align: middle;\n",
              "    }\n",
              "\n",
              "    .dataframe tbody tr th {\n",
              "        vertical-align: top;\n",
              "    }\n",
              "\n",
              "    .dataframe thead th {\n",
              "        text-align: right;\n",
              "    }\n",
              "</style>\n",
              "<table border=\"1\" class=\"dataframe\">\n",
              "  <thead>\n",
              "    <tr style=\"text-align: right;\">\n",
              "      <th></th>\n",
              "      <th>Pregnancies</th>\n",
              "      <th>Glucose</th>\n",
              "      <th>BloodPressure</th>\n",
              "      <th>SkinThickness</th>\n",
              "      <th>Insulin</th>\n",
              "      <th>BMI</th>\n",
              "      <th>DiabetesPedigreeFunction</th>\n",
              "      <th>Age</th>\n",
              "      <th>Outcome</th>\n",
              "    </tr>\n",
              "  </thead>\n",
              "  <tbody>\n",
              "    <tr>\n",
              "      <th>count</th>\n",
              "      <td>768.000000</td>\n",
              "      <td>768.000000</td>\n",
              "      <td>768.000000</td>\n",
              "      <td>768.000000</td>\n",
              "      <td>768.000000</td>\n",
              "      <td>768.000000</td>\n",
              "      <td>768.000000</td>\n",
              "      <td>768.000000</td>\n",
              "      <td>768.000000</td>\n",
              "    </tr>\n",
              "    <tr>\n",
              "      <th>mean</th>\n",
              "      <td>3.845052</td>\n",
              "      <td>120.894531</td>\n",
              "      <td>69.105469</td>\n",
              "      <td>20.536458</td>\n",
              "      <td>79.799479</td>\n",
              "      <td>31.992578</td>\n",
              "      <td>0.471876</td>\n",
              "      <td>33.240885</td>\n",
              "      <td>0.348958</td>\n",
              "    </tr>\n",
              "    <tr>\n",
              "      <th>std</th>\n",
              "      <td>3.369578</td>\n",
              "      <td>31.972618</td>\n",
              "      <td>19.355807</td>\n",
              "      <td>15.952218</td>\n",
              "      <td>115.244002</td>\n",
              "      <td>7.884160</td>\n",
              "      <td>0.331329</td>\n",
              "      <td>11.760232</td>\n",
              "      <td>0.476951</td>\n",
              "    </tr>\n",
              "    <tr>\n",
              "      <th>min</th>\n",
              "      <td>0.000000</td>\n",
              "      <td>0.000000</td>\n",
              "      <td>0.000000</td>\n",
              "      <td>0.000000</td>\n",
              "      <td>0.000000</td>\n",
              "      <td>0.000000</td>\n",
              "      <td>0.078000</td>\n",
              "      <td>21.000000</td>\n",
              "      <td>0.000000</td>\n",
              "    </tr>\n",
              "    <tr>\n",
              "      <th>25%</th>\n",
              "      <td>1.000000</td>\n",
              "      <td>99.000000</td>\n",
              "      <td>62.000000</td>\n",
              "      <td>0.000000</td>\n",
              "      <td>0.000000</td>\n",
              "      <td>27.300000</td>\n",
              "      <td>0.243750</td>\n",
              "      <td>24.000000</td>\n",
              "      <td>0.000000</td>\n",
              "    </tr>\n",
              "    <tr>\n",
              "      <th>50%</th>\n",
              "      <td>3.000000</td>\n",
              "      <td>117.000000</td>\n",
              "      <td>72.000000</td>\n",
              "      <td>23.000000</td>\n",
              "      <td>30.500000</td>\n",
              "      <td>32.000000</td>\n",
              "      <td>0.372500</td>\n",
              "      <td>29.000000</td>\n",
              "      <td>0.000000</td>\n",
              "    </tr>\n",
              "    <tr>\n",
              "      <th>75%</th>\n",
              "      <td>6.000000</td>\n",
              "      <td>140.250000</td>\n",
              "      <td>80.000000</td>\n",
              "      <td>32.000000</td>\n",
              "      <td>127.250000</td>\n",
              "      <td>36.600000</td>\n",
              "      <td>0.626250</td>\n",
              "      <td>41.000000</td>\n",
              "      <td>1.000000</td>\n",
              "    </tr>\n",
              "    <tr>\n",
              "      <th>max</th>\n",
              "      <td>17.000000</td>\n",
              "      <td>199.000000</td>\n",
              "      <td>122.000000</td>\n",
              "      <td>99.000000</td>\n",
              "      <td>846.000000</td>\n",
              "      <td>67.100000</td>\n",
              "      <td>2.420000</td>\n",
              "      <td>81.000000</td>\n",
              "      <td>1.000000</td>\n",
              "    </tr>\n",
              "  </tbody>\n",
              "</table>\n",
              "</div>"
            ],
            "text/plain": [
              "       Pregnancies     Glucose  BloodPressure  SkinThickness     Insulin  \\\n",
              "count   768.000000  768.000000     768.000000     768.000000  768.000000   \n",
              "mean      3.845052  120.894531      69.105469      20.536458   79.799479   \n",
              "std       3.369578   31.972618      19.355807      15.952218  115.244002   \n",
              "min       0.000000    0.000000       0.000000       0.000000    0.000000   \n",
              "25%       1.000000   99.000000      62.000000       0.000000    0.000000   \n",
              "50%       3.000000  117.000000      72.000000      23.000000   30.500000   \n",
              "75%       6.000000  140.250000      80.000000      32.000000  127.250000   \n",
              "max      17.000000  199.000000     122.000000      99.000000  846.000000   \n",
              "\n",
              "              BMI  DiabetesPedigreeFunction         Age     Outcome  \n",
              "count  768.000000                768.000000  768.000000  768.000000  \n",
              "mean    31.992578                  0.471876   33.240885    0.348958  \n",
              "std      7.884160                  0.331329   11.760232    0.476951  \n",
              "min      0.000000                  0.078000   21.000000    0.000000  \n",
              "25%     27.300000                  0.243750   24.000000    0.000000  \n",
              "50%     32.000000                  0.372500   29.000000    0.000000  \n",
              "75%     36.600000                  0.626250   41.000000    1.000000  \n",
              "max     67.100000                  2.420000   81.000000    1.000000  "
            ]
          },
          "metadata": {
            "tags": []
          },
          "execution_count": 13
        }
      ]
    },
    {
      "metadata": {
        "id": "a2rROKC2DnEl",
        "colab_type": "text"
      },
      "cell_type": "markdown",
      "source": [
        "This is useful.\n",
        "\n",
        "We can see that there are columns that have a minimum value of zero (0). On some columns, a value of zero does not make sense and indicates an invalid or missing value.\n",
        "\n",
        "Specifically, the following columns have an invalid zero minimum value:\n",
        "\n",
        "- Plasma glucose concentration\n",
        "- Diastolic blood pressure\n",
        "- Triceps skinfold thickness\n",
        "- 2-Hour serum insulin\n",
        "- Body mass index\n",
        "\n",
        "Now you need to identify and mark values as missing. Let’s confirm this by looking at the raw data, the example prints the first 20 rows of data."
      ]
    },
    {
      "metadata": {
        "id": "BxNdJX_9D9c6",
        "colab_type": "code",
        "colab": {
          "base_uri": "https://localhost:8080/",
          "height": 669
        },
        "outputId": "2aa757ac-6f1a-45d7-c7f1-9594051f2d75"
      },
      "cell_type": "code",
      "source": [
        "data.head(20)"
      ],
      "execution_count": 15,
      "outputs": [
        {
          "output_type": "execute_result",
          "data": {
            "text/html": [
              "<div>\n",
              "<style scoped>\n",
              "    .dataframe tbody tr th:only-of-type {\n",
              "        vertical-align: middle;\n",
              "    }\n",
              "\n",
              "    .dataframe tbody tr th {\n",
              "        vertical-align: top;\n",
              "    }\n",
              "\n",
              "    .dataframe thead th {\n",
              "        text-align: right;\n",
              "    }\n",
              "</style>\n",
              "<table border=\"1\" class=\"dataframe\">\n",
              "  <thead>\n",
              "    <tr style=\"text-align: right;\">\n",
              "      <th></th>\n",
              "      <th>Pregnancies</th>\n",
              "      <th>Glucose</th>\n",
              "      <th>BloodPressure</th>\n",
              "      <th>SkinThickness</th>\n",
              "      <th>Insulin</th>\n",
              "      <th>BMI</th>\n",
              "      <th>DiabetesPedigreeFunction</th>\n",
              "      <th>Age</th>\n",
              "      <th>Outcome</th>\n",
              "    </tr>\n",
              "  </thead>\n",
              "  <tbody>\n",
              "    <tr>\n",
              "      <th>0</th>\n",
              "      <td>6</td>\n",
              "      <td>148</td>\n",
              "      <td>72</td>\n",
              "      <td>35</td>\n",
              "      <td>0</td>\n",
              "      <td>33.6</td>\n",
              "      <td>0.627</td>\n",
              "      <td>50</td>\n",
              "      <td>1</td>\n",
              "    </tr>\n",
              "    <tr>\n",
              "      <th>1</th>\n",
              "      <td>1</td>\n",
              "      <td>85</td>\n",
              "      <td>66</td>\n",
              "      <td>29</td>\n",
              "      <td>0</td>\n",
              "      <td>26.6</td>\n",
              "      <td>0.351</td>\n",
              "      <td>31</td>\n",
              "      <td>0</td>\n",
              "    </tr>\n",
              "    <tr>\n",
              "      <th>2</th>\n",
              "      <td>8</td>\n",
              "      <td>183</td>\n",
              "      <td>64</td>\n",
              "      <td>0</td>\n",
              "      <td>0</td>\n",
              "      <td>23.3</td>\n",
              "      <td>0.672</td>\n",
              "      <td>32</td>\n",
              "      <td>1</td>\n",
              "    </tr>\n",
              "    <tr>\n",
              "      <th>3</th>\n",
              "      <td>1</td>\n",
              "      <td>89</td>\n",
              "      <td>66</td>\n",
              "      <td>23</td>\n",
              "      <td>94</td>\n",
              "      <td>28.1</td>\n",
              "      <td>0.167</td>\n",
              "      <td>21</td>\n",
              "      <td>0</td>\n",
              "    </tr>\n",
              "    <tr>\n",
              "      <th>4</th>\n",
              "      <td>0</td>\n",
              "      <td>137</td>\n",
              "      <td>40</td>\n",
              "      <td>35</td>\n",
              "      <td>168</td>\n",
              "      <td>43.1</td>\n",
              "      <td>2.288</td>\n",
              "      <td>33</td>\n",
              "      <td>1</td>\n",
              "    </tr>\n",
              "    <tr>\n",
              "      <th>5</th>\n",
              "      <td>5</td>\n",
              "      <td>116</td>\n",
              "      <td>74</td>\n",
              "      <td>0</td>\n",
              "      <td>0</td>\n",
              "      <td>25.6</td>\n",
              "      <td>0.201</td>\n",
              "      <td>30</td>\n",
              "      <td>0</td>\n",
              "    </tr>\n",
              "    <tr>\n",
              "      <th>6</th>\n",
              "      <td>3</td>\n",
              "      <td>78</td>\n",
              "      <td>50</td>\n",
              "      <td>32</td>\n",
              "      <td>88</td>\n",
              "      <td>31.0</td>\n",
              "      <td>0.248</td>\n",
              "      <td>26</td>\n",
              "      <td>1</td>\n",
              "    </tr>\n",
              "    <tr>\n",
              "      <th>7</th>\n",
              "      <td>10</td>\n",
              "      <td>115</td>\n",
              "      <td>0</td>\n",
              "      <td>0</td>\n",
              "      <td>0</td>\n",
              "      <td>35.3</td>\n",
              "      <td>0.134</td>\n",
              "      <td>29</td>\n",
              "      <td>0</td>\n",
              "    </tr>\n",
              "    <tr>\n",
              "      <th>8</th>\n",
              "      <td>2</td>\n",
              "      <td>197</td>\n",
              "      <td>70</td>\n",
              "      <td>45</td>\n",
              "      <td>543</td>\n",
              "      <td>30.5</td>\n",
              "      <td>0.158</td>\n",
              "      <td>53</td>\n",
              "      <td>1</td>\n",
              "    </tr>\n",
              "    <tr>\n",
              "      <th>9</th>\n",
              "      <td>8</td>\n",
              "      <td>125</td>\n",
              "      <td>96</td>\n",
              "      <td>0</td>\n",
              "      <td>0</td>\n",
              "      <td>0.0</td>\n",
              "      <td>0.232</td>\n",
              "      <td>54</td>\n",
              "      <td>1</td>\n",
              "    </tr>\n",
              "    <tr>\n",
              "      <th>10</th>\n",
              "      <td>4</td>\n",
              "      <td>110</td>\n",
              "      <td>92</td>\n",
              "      <td>0</td>\n",
              "      <td>0</td>\n",
              "      <td>37.6</td>\n",
              "      <td>0.191</td>\n",
              "      <td>30</td>\n",
              "      <td>0</td>\n",
              "    </tr>\n",
              "    <tr>\n",
              "      <th>11</th>\n",
              "      <td>10</td>\n",
              "      <td>168</td>\n",
              "      <td>74</td>\n",
              "      <td>0</td>\n",
              "      <td>0</td>\n",
              "      <td>38.0</td>\n",
              "      <td>0.537</td>\n",
              "      <td>34</td>\n",
              "      <td>1</td>\n",
              "    </tr>\n",
              "    <tr>\n",
              "      <th>12</th>\n",
              "      <td>10</td>\n",
              "      <td>139</td>\n",
              "      <td>80</td>\n",
              "      <td>0</td>\n",
              "      <td>0</td>\n",
              "      <td>27.1</td>\n",
              "      <td>1.441</td>\n",
              "      <td>57</td>\n",
              "      <td>0</td>\n",
              "    </tr>\n",
              "    <tr>\n",
              "      <th>13</th>\n",
              "      <td>1</td>\n",
              "      <td>189</td>\n",
              "      <td>60</td>\n",
              "      <td>23</td>\n",
              "      <td>846</td>\n",
              "      <td>30.1</td>\n",
              "      <td>0.398</td>\n",
              "      <td>59</td>\n",
              "      <td>1</td>\n",
              "    </tr>\n",
              "    <tr>\n",
              "      <th>14</th>\n",
              "      <td>5</td>\n",
              "      <td>166</td>\n",
              "      <td>72</td>\n",
              "      <td>19</td>\n",
              "      <td>175</td>\n",
              "      <td>25.8</td>\n",
              "      <td>0.587</td>\n",
              "      <td>51</td>\n",
              "      <td>1</td>\n",
              "    </tr>\n",
              "    <tr>\n",
              "      <th>15</th>\n",
              "      <td>7</td>\n",
              "      <td>100</td>\n",
              "      <td>0</td>\n",
              "      <td>0</td>\n",
              "      <td>0</td>\n",
              "      <td>30.0</td>\n",
              "      <td>0.484</td>\n",
              "      <td>32</td>\n",
              "      <td>1</td>\n",
              "    </tr>\n",
              "    <tr>\n",
              "      <th>16</th>\n",
              "      <td>0</td>\n",
              "      <td>118</td>\n",
              "      <td>84</td>\n",
              "      <td>47</td>\n",
              "      <td>230</td>\n",
              "      <td>45.8</td>\n",
              "      <td>0.551</td>\n",
              "      <td>31</td>\n",
              "      <td>1</td>\n",
              "    </tr>\n",
              "    <tr>\n",
              "      <th>17</th>\n",
              "      <td>7</td>\n",
              "      <td>107</td>\n",
              "      <td>74</td>\n",
              "      <td>0</td>\n",
              "      <td>0</td>\n",
              "      <td>29.6</td>\n",
              "      <td>0.254</td>\n",
              "      <td>31</td>\n",
              "      <td>1</td>\n",
              "    </tr>\n",
              "    <tr>\n",
              "      <th>18</th>\n",
              "      <td>1</td>\n",
              "      <td>103</td>\n",
              "      <td>30</td>\n",
              "      <td>38</td>\n",
              "      <td>83</td>\n",
              "      <td>43.3</td>\n",
              "      <td>0.183</td>\n",
              "      <td>33</td>\n",
              "      <td>0</td>\n",
              "    </tr>\n",
              "    <tr>\n",
              "      <th>19</th>\n",
              "      <td>1</td>\n",
              "      <td>115</td>\n",
              "      <td>70</td>\n",
              "      <td>30</td>\n",
              "      <td>96</td>\n",
              "      <td>34.6</td>\n",
              "      <td>0.529</td>\n",
              "      <td>32</td>\n",
              "      <td>1</td>\n",
              "    </tr>\n",
              "  </tbody>\n",
              "</table>\n",
              "</div>"
            ],
            "text/plain": [
              "    Pregnancies  Glucose  BloodPressure  SkinThickness  Insulin   BMI  \\\n",
              "0             6      148             72             35        0  33.6   \n",
              "1             1       85             66             29        0  26.6   \n",
              "2             8      183             64              0        0  23.3   \n",
              "3             1       89             66             23       94  28.1   \n",
              "4             0      137             40             35      168  43.1   \n",
              "5             5      116             74              0        0  25.6   \n",
              "6             3       78             50             32       88  31.0   \n",
              "7            10      115              0              0        0  35.3   \n",
              "8             2      197             70             45      543  30.5   \n",
              "9             8      125             96              0        0   0.0   \n",
              "10            4      110             92              0        0  37.6   \n",
              "11           10      168             74              0        0  38.0   \n",
              "12           10      139             80              0        0  27.1   \n",
              "13            1      189             60             23      846  30.1   \n",
              "14            5      166             72             19      175  25.8   \n",
              "15            7      100              0              0        0  30.0   \n",
              "16            0      118             84             47      230  45.8   \n",
              "17            7      107             74              0        0  29.6   \n",
              "18            1      103             30             38       83  43.3   \n",
              "19            1      115             70             30       96  34.6   \n",
              "\n",
              "    DiabetesPedigreeFunction  Age  Outcome  \n",
              "0                      0.627   50        1  \n",
              "1                      0.351   31        0  \n",
              "2                      0.672   32        1  \n",
              "3                      0.167   21        0  \n",
              "4                      2.288   33        1  \n",
              "5                      0.201   30        0  \n",
              "6                      0.248   26        1  \n",
              "7                      0.134   29        0  \n",
              "8                      0.158   53        1  \n",
              "9                      0.232   54        1  \n",
              "10                     0.191   30        0  \n",
              "11                     0.537   34        1  \n",
              "12                     1.441   57        0  \n",
              "13                     0.398   59        1  \n",
              "14                     0.587   51        1  \n",
              "15                     0.484   32        1  \n",
              "16                     0.551   31        1  \n",
              "17                     0.254   31        1  \n",
              "18                     0.183   33        0  \n",
              "19                     0.529   32        1  "
            ]
          },
          "metadata": {
            "tags": []
          },
          "execution_count": 15
        }
      ]
    },
    {
      "metadata": {
        "id": "EzaKGLl7HYVM",
        "colab_type": "text"
      },
      "cell_type": "markdown",
      "source": [
        "You are able to see 0 in several columns right? \n",
        "\n",
        "You can get a count of the number of missing values in each of these columns. You can do this by marking all of the values in the subset of the DataFrame you are interested in that have zero values as True. you can then count the number of true values in each column. For this, you will have to reimport the data without the column names."
      ]
    },
    {
      "metadata": {
        "id": "1D_U2SA2HrHa",
        "colab_type": "code",
        "colab": {
          "base_uri": "https://localhost:8080/",
          "height": 119
        },
        "outputId": "97c42054-bf32-4fcf-d0dc-d0ff7255617e"
      },
      "cell_type": "code",
      "source": [
        "data = pd.read_csv(\"https://raw.githubusercontent.com/jbrownlee/Datasets/master/pima-indians-diabetes.data.csv\",header=None)\n",
        "print((data[[1,2,3,4,5]] == 0).sum())"
      ],
      "execution_count": 31,
      "outputs": [
        {
          "output_type": "stream",
          "text": [
            "1      5\n",
            "2     35\n",
            "3    227\n",
            "4    374\n",
            "5     11\n",
            "dtype: int64\n"
          ],
          "name": "stdout"
        }
      ]
    },
    {
      "metadata": {
        "id": "jcUzTwAsJibb",
        "colab_type": "text"
      },
      "cell_type": "markdown",
      "source": [
        "You can see that columns 1,2 and 5 have just a few zero values, whereas columns 3 and 4 show a lot more, nearly half of the rows. Column 0 has several missing values although but that is natural. Column 8 denotes the target variable so, '0's in it is natural. \n",
        "\n",
        "This highlights that different “missing value” strategies may be needed for different columns, e.g. to ensure that there are still a sufficient number of records left to train a predictive model.\n",
        "\n",
        "In Python, specifically Pandas, NumPy and Scikit-Learn, you mark missing values as NaN.\n",
        "\n",
        "Values with a NaN value are ignored from operations like sum, count, etc.\n",
        "\n",
        "You can mark values as NaN easily with the Pandas DataFrame by using the replace() function on a subset of the columns you are interested in.\n",
        "\n",
        "After you have marked the missing values, you can use the isnull() function to mark all of the NaN values in the dataset as True and get a count of the missing values for each column."
      ]
    },
    {
      "metadata": {
        "id": "NBgFyTm6LPxL",
        "colab_type": "code",
        "colab": {
          "base_uri": "https://localhost:8080/",
          "height": 187
        },
        "outputId": "e33006de-42f4-4084-80dd-319029aeed72"
      },
      "cell_type": "code",
      "source": [
        "# Mark zero values as missing or NaN\n",
        "data[[1,2,3,4,5]] = data[[1,2,3,4,5]].replace(0, np.NaN)\n",
        "# Count the number of NaN values in each column\n",
        "print(data.isnull().sum())"
      ],
      "execution_count": 32,
      "outputs": [
        {
          "output_type": "stream",
          "text": [
            "0      0\n",
            "1      5\n",
            "2     35\n",
            "3    227\n",
            "4    374\n",
            "5     11\n",
            "6      0\n",
            "7      0\n",
            "8      0\n",
            "dtype: int64\n"
          ],
          "name": "stdout"
        }
      ]
    },
    {
      "metadata": {
        "id": "Ds1xbgmILlyL",
        "colab_type": "text"
      },
      "cell_type": "markdown",
      "source": [
        "You can see that the columns 1:5 have the same number of missing values as zero values identified above. This is a sign that you have marked the identified missing values correctly.\n",
        "\n",
        "This is a useful summary. But you'd like to look at the actual data though, to confirm that you have not fooled yourselves.\n",
        "\n",
        "Below is the same example, except you print the first 5 rows of data."
      ]
    },
    {
      "metadata": {
        "id": "hqbxzeG4MF96",
        "colab_type": "code",
        "colab": {
          "base_uri": "https://localhost:8080/",
          "height": 204
        },
        "outputId": "b589b8d4-4708-4a68-b61c-0d9a7c449fca"
      },
      "cell_type": "code",
      "source": [
        "data.head()"
      ],
      "execution_count": 33,
      "outputs": [
        {
          "output_type": "execute_result",
          "data": {
            "text/html": [
              "<div>\n",
              "<style scoped>\n",
              "    .dataframe tbody tr th:only-of-type {\n",
              "        vertical-align: middle;\n",
              "    }\n",
              "\n",
              "    .dataframe tbody tr th {\n",
              "        vertical-align: top;\n",
              "    }\n",
              "\n",
              "    .dataframe thead th {\n",
              "        text-align: right;\n",
              "    }\n",
              "</style>\n",
              "<table border=\"1\" class=\"dataframe\">\n",
              "  <thead>\n",
              "    <tr style=\"text-align: right;\">\n",
              "      <th></th>\n",
              "      <th>0</th>\n",
              "      <th>1</th>\n",
              "      <th>2</th>\n",
              "      <th>3</th>\n",
              "      <th>4</th>\n",
              "      <th>5</th>\n",
              "      <th>6</th>\n",
              "      <th>7</th>\n",
              "      <th>8</th>\n",
              "    </tr>\n",
              "  </thead>\n",
              "  <tbody>\n",
              "    <tr>\n",
              "      <th>0</th>\n",
              "      <td>6</td>\n",
              "      <td>148.0</td>\n",
              "      <td>72.0</td>\n",
              "      <td>35.0</td>\n",
              "      <td>NaN</td>\n",
              "      <td>33.6</td>\n",
              "      <td>0.627</td>\n",
              "      <td>50</td>\n",
              "      <td>1</td>\n",
              "    </tr>\n",
              "    <tr>\n",
              "      <th>1</th>\n",
              "      <td>1</td>\n",
              "      <td>85.0</td>\n",
              "      <td>66.0</td>\n",
              "      <td>29.0</td>\n",
              "      <td>NaN</td>\n",
              "      <td>26.6</td>\n",
              "      <td>0.351</td>\n",
              "      <td>31</td>\n",
              "      <td>0</td>\n",
              "    </tr>\n",
              "    <tr>\n",
              "      <th>2</th>\n",
              "      <td>8</td>\n",
              "      <td>183.0</td>\n",
              "      <td>64.0</td>\n",
              "      <td>NaN</td>\n",
              "      <td>NaN</td>\n",
              "      <td>23.3</td>\n",
              "      <td>0.672</td>\n",
              "      <td>32</td>\n",
              "      <td>1</td>\n",
              "    </tr>\n",
              "    <tr>\n",
              "      <th>3</th>\n",
              "      <td>1</td>\n",
              "      <td>89.0</td>\n",
              "      <td>66.0</td>\n",
              "      <td>23.0</td>\n",
              "      <td>94.0</td>\n",
              "      <td>28.1</td>\n",
              "      <td>0.167</td>\n",
              "      <td>21</td>\n",
              "      <td>0</td>\n",
              "    </tr>\n",
              "    <tr>\n",
              "      <th>4</th>\n",
              "      <td>0</td>\n",
              "      <td>137.0</td>\n",
              "      <td>40.0</td>\n",
              "      <td>35.0</td>\n",
              "      <td>168.0</td>\n",
              "      <td>43.1</td>\n",
              "      <td>2.288</td>\n",
              "      <td>33</td>\n",
              "      <td>1</td>\n",
              "    </tr>\n",
              "  </tbody>\n",
              "</table>\n",
              "</div>"
            ],
            "text/plain": [
              "   0      1     2     3      4     5      6   7  8\n",
              "0  6  148.0  72.0  35.0    NaN  33.6  0.627  50  1\n",
              "1  1   85.0  66.0  29.0    NaN  26.6  0.351  31  0\n",
              "2  8  183.0  64.0   NaN    NaN  23.3  0.672  32  1\n",
              "3  1   89.0  66.0  23.0   94.0  28.1  0.167  21  0\n",
              "4  0  137.0  40.0  35.0  168.0  43.1  2.288  33  1"
            ]
          },
          "metadata": {
            "tags": []
          },
          "execution_count": 33
        }
      ]
    },
    {
      "metadata": {
        "id": "SctCA6siMOlP",
        "colab_type": "text"
      },
      "cell_type": "markdown",
      "source": [
        "It is clear from the raw data that marking the missing values had the intended effect. Now, you will impute the missing values. Imputing refers to using a model to replace missing values. Although there are several solutions for imputing missing values, you will use mean imputation which means replacing the missing values in a column with the mean of that particular column. Let's do this with Pandas' fillna() utility."
      ]
    },
    {
      "metadata": {
        "id": "tJxr8YeUNFbv",
        "colab_type": "code",
        "colab": {
          "base_uri": "https://localhost:8080/",
          "height": 187
        },
        "outputId": "9bb380ef-a8c7-4060-8689-545e476a6cc5"
      },
      "cell_type": "code",
      "source": [
        "# Fill missing values with mean column values\n",
        "data.fillna(data.mean(), inplace=True)\n",
        "# Count the number of NaN values in each column\n",
        "print(data.isnull().sum())"
      ],
      "execution_count": 35,
      "outputs": [
        {
          "output_type": "stream",
          "text": [
            "0    0\n",
            "1    0\n",
            "2    0\n",
            "3    0\n",
            "4    0\n",
            "5    0\n",
            "6    0\n",
            "7    0\n",
            "8    0\n",
            "dtype: int64\n"
          ],
          "name": "stdout"
        }
      ]
    },
    {
      "metadata": {
        "id": "OxS-o2DWNMgK",
        "colab_type": "text"
      },
      "cell_type": "markdown",
      "source": [
        "Cheers! You have now handled the missing value problem. Now let's use this data to build a Logistic Regression model using scikit-learn. \n",
        "\n",
        "First, you will see the model with some random hyperparameter values. Then you will build two other Logistic Regression models with two different strategies - Grid search and Random search."
      ]
    },
    {
      "metadata": {
        "id": "y98ByclGNzl8",
        "colab_type": "code",
        "colab": {
          "base_uri": "https://localhost:8080/",
          "height": 37
        },
        "outputId": "f2b57c71-35fe-4aaf-cec6-b34d0b234b1e"
      },
      "cell_type": "code",
      "source": [
        "# Split dataset into inputs and outputs\n",
        "values = data.values\n",
        "X = values[:,0:8]\n",
        "y = values[:,8]"
      ],
      "execution_count": 37,
      "outputs": []
    },
    {
      "metadata": {
        "id": "N1PE1xG0NL2p",
        "colab_type": "code",
        "colab": {
          "base_uri": "https://localhost:8080/",
          "height": 37
        },
        "outputId": "9963679c-3a2f-4193-d4e2-5e7fe0ccdb85"
      },
      "cell_type": "code",
      "source": [
        "# Initiate the LR model with random hyperparameters\n",
        "lr = LogisticRegression(penalty='l1',dual=False,max_iter=110)\n"
      ],
      "execution_count": 39,
      "outputs": []
    },
    {
      "metadata": {
        "id": "CMQ4vu-kcGC7",
        "colab_type": "text"
      },
      "cell_type": "markdown",
      "source": [
        "You have created the Logistic Regression model with some random hyperparameter values. The hyperparameters that you used are:\n",
        "\n",
        "- penalty : Used to specify the norm used in the penalization (regularization).\n",
        "- dual : Dual or primal formulation. Dual formulation is only implemented for l2 penalty with liblinear solver. Prefer dual=False when n_samples > n_features.\n",
        "- max_iter : Maximum number of iterations taken to converge.\n",
        "\n",
        "Later in the case study, you will optimize / tune these hyperparameters so see the change in the results. "
      ]
    },
    {
      "metadata": {
        "id": "aCATaREfc7fx",
        "colab_type": "code",
        "colab": {
          "base_uri": "https://localhost:8080/",
          "height": 85
        },
        "outputId": "95655950-a482-43cb-e821-82ec7bb28d47"
      },
      "cell_type": "code",
      "source": [
        "# Pass data to the LR model\n",
        "lr.fit(X,y)"
      ],
      "execution_count": 40,
      "outputs": [
        {
          "output_type": "execute_result",
          "data": {
            "text/plain": [
              "LogisticRegression(C=1.0, class_weight=None, dual=False, fit_intercept=True,\n",
              "          intercept_scaling=1, max_iter=110, multi_class='ovr', n_jobs=1,\n",
              "          penalty='l1', random_state=None, solver='liblinear', tol=0.0001,\n",
              "          verbose=0, warm_start=False)"
            ]
          },
          "metadata": {
            "tags": []
          },
          "execution_count": 40
        }
      ]
    },
    {
      "metadata": {
        "id": "LHEaVhWNdf0F",
        "colab_type": "text"
      },
      "cell_type": "markdown",
      "source": [
        "It's time to check the accuracy score."
      ]
    },
    {
      "metadata": {
        "id": "yIQAU1QhdjKl",
        "colab_type": "code",
        "colab": {
          "base_uri": "https://localhost:8080/",
          "height": 34
        },
        "outputId": "acb22e4f-5fec-490e-8f68-dbef2848bdf2"
      },
      "cell_type": "code",
      "source": [
        "lr.score(X,y)"
      ],
      "execution_count": 41,
      "outputs": [
        {
          "output_type": "execute_result",
          "data": {
            "text/plain": [
              "0.7747395833333334"
            ]
          },
          "metadata": {
            "tags": []
          },
          "execution_count": 41
        }
      ]
    },
    {
      "metadata": {
        "id": "V0MReWlwdqy1",
        "colab_type": "text"
      },
      "cell_type": "markdown",
      "source": [
        "In the above step, you applied your LR model to the same data and evaluated its score. But there is always a need to validate the stability of your machine learning model. You just can’t fit the model to your training data and hope it would accurately work for the real data it has never seen before. You need some kind of assurance that your model has got most of the patterns from the data correct.\n",
        "\n",
        "Well, Cross-validation is there for rescue. I will not go into the details of it as it is out of the scope of this blog. But [this post](https://towardsdatascience.com/cross-validation-in-machine-learning-72924a69872f) does a very fine job. "
      ]
    },
    {
      "metadata": {
        "id": "WsLC5IA0eh1C",
        "colab_type": "code",
        "colab": {
          "base_uri": "https://localhost:8080/",
          "height": 37
        },
        "outputId": "a398d155-b424-45c0-df7a-16f8725e9739"
      },
      "cell_type": "code",
      "source": [
        "# You will need the following dependencies for applying Cross validation and evaluating the cross-validated score\n",
        "\n",
        "from sklearn.model_selection import KFold\n",
        "from sklearn.model_selection import cross_val_score"
      ],
      "execution_count": 42,
      "outputs": []
    },
    {
      "metadata": {
        "id": "IVeN9Q0Reyll",
        "colab_type": "code",
        "colab": {
          "base_uri": "https://localhost:8080/",
          "height": 37
        },
        "outputId": "859dfec8-c6f8-4ffe-cf48-33955c9d1413"
      },
      "cell_type": "code",
      "source": [
        "# Build the k-fold cross-validator\n",
        "\n",
        "kfold = KFold(n_splits=3, random_state=7)"
      ],
      "execution_count": 44,
      "outputs": []
    },
    {
      "metadata": {
        "id": "Vr6FuZMgfJPK",
        "colab_type": "text"
      },
      "cell_type": "markdown",
      "source": [
        "You supplied n_splits as 3, which essentially makes it a 3-fold cross-validation. You also supplied random_state as 7. This is just to reproduce the results. You could have supplied any integer value as well. Now, let's apply this."
      ]
    },
    {
      "metadata": {
        "id": "JwIdjnu-ff0E",
        "colab_type": "code",
        "colab": {
          "base_uri": "https://localhost:8080/",
          "height": 34
        },
        "outputId": "4c7b72ef-42a9-4d9d-f4ad-d9bfe86b4579"
      },
      "cell_type": "code",
      "source": [
        "result = cross_val_score(lr, X, y, cv=kfold, scoring='accuracy')\n",
        "print(result.mean())"
      ],
      "execution_count": 45,
      "outputs": [
        {
          "output_type": "stream",
          "text": [
            "0.765625\n"
          ],
          "name": "stdout"
        }
      ]
    },
    {
      "metadata": {
        "id": "LpiBngxMfq-v",
        "colab_type": "text"
      },
      "cell_type": "markdown",
      "source": [
        "You can see there's a slight decrease in the score. Anyway, you can do better with hyperparameter tuning / optimization. \n",
        "\n",
        "Let's  build another LR model, but this time its hyperparameter will be tuned. You will first do this grid search. \n",
        "\n",
        "Let's first import the dependencies you will need. Scikit-learn provides a utility called GridSearchCV for this.\n"
      ]
    },
    {
      "metadata": {
        "id": "YNPwvG2bih7X",
        "colab_type": "code",
        "colab": {
          "base_uri": "https://localhost:8080/",
          "height": 37
        },
        "outputId": "b40e64cf-da1c-43d0-fa2c-d48d82868b09"
      },
      "cell_type": "code",
      "source": [
        "from sklearn.model_selection import GridSearchCV"
      ],
      "execution_count": 46,
      "outputs": []
    },
    {
      "metadata": {
        "id": "r1BQAKzKikpY",
        "colab_type": "text"
      },
      "cell_type": "markdown",
      "source": [
        "Let's define the grid values of the hyperparameters that you used above."
      ]
    },
    {
      "metadata": {
        "id": "Ji0gj2NViplU",
        "colab_type": "code",
        "colab": {
          "base_uri": "https://localhost:8080/",
          "height": 37
        },
        "outputId": "545cb729-beac-4afe-9a65-709ea8b14519"
      },
      "cell_type": "code",
      "source": [
        "dual=[True,False]\n",
        "max_iter=[100,110,120,130,140]\n",
        "param_grid = dict(dual=dual,max_iter=max_iter)"
      ],
      "execution_count": 54,
      "outputs": []
    },
    {
      "metadata": {
        "id": "lgm36qbMjA2h",
        "colab_type": "text"
      },
      "cell_type": "markdown",
      "source": [
        "You have defined the grid. Let's run the grid search over them and see the results with execution time. "
      ]
    },
    {
      "metadata": {
        "id": "-cmhYe_XjTba",
        "colab_type": "code",
        "colab": {
          "base_uri": "https://localhost:8080/",
          "height": 51
        },
        "outputId": "d129f990-e1b1-4378-9535-0f6874ff3389"
      },
      "cell_type": "code",
      "source": [
        "import time\n",
        "\n",
        "lr = LogisticRegression(penalty='l2')\n",
        "grid = GridSearchCV(estimator=lr, param_grid=param_grid, cv = 3, n_jobs=-1)\n",
        "\n",
        "start_time = time.time()\n",
        "grid_result = grid.fit(X, y)\n",
        "# Summarize results\n",
        "print(\"Best: %f using %s\" % (grid_result.best_score_, grid_result.best_params_))\n",
        "print(\"Execution time: \" + str((time.time() - start_time)) + ' ms')"
      ],
      "execution_count": 58,
      "outputs": [
        {
          "output_type": "stream",
          "text": [
            "Best: 0.752604 using {'dual': False, 'max_iter': 100}\n",
            "Execution time: 0.3954019546508789 ms\n"
          ],
          "name": "stdout"
        }
      ]
    },
    {
      "metadata": {
        "id": "yqwtvSvolbQH",
        "colab_type": "text"
      },
      "cell_type": "markdown",
      "source": [
        "You can define larger grid of hyperparameter as well and apply grid search. "
      ]
    },
    {
      "metadata": {
        "id": "pJIE_abtlZpj",
        "colab_type": "code",
        "colab": {
          "base_uri": "https://localhost:8080/",
          "height": 37
        },
        "outputId": "a75ae47d-024b-43a5-ef11-6e45753aa58b"
      },
      "cell_type": "code",
      "source": [
        "dual=[True,False]\n",
        "max_iter=[100,110,120,130,140]\n",
        "C = [1.0,1.5,2.0,2.5]\n",
        "param_grid = dict(dual=dual,max_iter=max_iter,C=C)"
      ],
      "execution_count": 68,
      "outputs": []
    },
    {
      "metadata": {
        "id": "pJzPF7qumjEK",
        "colab_type": "code",
        "colab": {
          "base_uri": "https://localhost:8080/",
          "height": 51
        },
        "outputId": "e8f95529-c93c-4a2c-cfe7-a6d9600ccf71"
      },
      "cell_type": "code",
      "source": [
        "lr = LogisticRegression(penalty='l2')\n",
        "grid = GridSearchCV(estimator=lr, param_grid=param_grid, cv = 3, n_jobs=-1)\n",
        "\n",
        "start_time = time.time()\n",
        "grid_result = grid.fit(X, y)\n",
        "# Summarize results\n",
        "print(\"Best: %f using %s\" % (grid_result.best_score_, grid_result.best_params_))\n",
        "print(\"Execution time: \" + str((time.time() - start_time)) + ' ms')"
      ],
      "execution_count": 69,
      "outputs": [
        {
          "output_type": "stream",
          "text": [
            "Best: 0.763021 using {'C': 2.0, 'dual': False, 'max_iter': 100}\n",
            "Execution time: 0.793781042098999 ms\n"
          ],
          "name": "stdout"
        }
      ]
    },
    {
      "metadata": {
        "id": "pEhvPmi2n2vi",
        "colab_type": "text"
      },
      "cell_type": "markdown",
      "source": [
        "You can see an increase in the accuracy score but there is a sufficient amount of increase in the execution time as well. The larger the grid the more execution time. \n",
        "\n",
        "Let's run everything again but this time with random search. Scikit-learn provides RandomSearchCV to do that. As usual, you will have to import the necessary dependencies for that."
      ]
    },
    {
      "metadata": {
        "id": "35J5Dg6qpcEW",
        "colab_type": "code",
        "colab": {
          "base_uri": "https://localhost:8080/",
          "height": 37
        },
        "outputId": "f5bc7aaf-2897-40a2-83ec-d5b7b22b913c"
      },
      "cell_type": "code",
      "source": [
        "from sklearn.model_selection import RandomizedSearchCV"
      ],
      "execution_count": 70,
      "outputs": []
    },
    {
      "metadata": {
        "id": "h_9o6xtJpnfX",
        "colab_type": "code",
        "colab": {
          "base_uri": "https://localhost:8080/",
          "height": 51
        },
        "outputId": "cf12067d-5aef-42a4-9a44-f4a0ce5a6979"
      },
      "cell_type": "code",
      "source": [
        "random = RandomizedSearchCV(estimator=lr, param_distributions=param_grid, cv = 3, n_jobs=-1)\n",
        "\n",
        "start_time = time.time()\n",
        "random_result = random.fit(X, y)\n",
        "# Summarize results\n",
        "print(\"Best: %f using %s\" % (random_result.best_score_, random_result.best_params_))\n",
        "print(\"Execution time: \" + str((time.time() - start_time)) + ' ms')"
      ],
      "execution_count": 73,
      "outputs": [
        {
          "output_type": "stream",
          "text": [
            "Best: 0.763021 using {'max_iter': 100, 'dual': False, 'C': 2.0}\n",
            "Execution time: 0.28888916969299316 ms\n"
          ],
          "name": "stdout"
        }
      ]
    },
    {
      "metadata": {
        "id": "DBWaPj77qQbV",
        "colab_type": "text"
      },
      "cell_type": "markdown",
      "source": [
        "Woah! Random search yielded same accuracy but in a much lesser time. \n",
        "\n",
        "That is all for the case study part. Now, let's wrap things up!"
      ]
    },
    {
      "metadata": {
        "id": "R74Je7-QqeNv",
        "colab_type": "text"
      },
      "cell_type": "markdown",
      "source": [
        "<h3>Conclusion and further reading:</h3>\n",
        "In this tutorial, you learned about parameters and hyperparameters of a machine learning model and their differences as well. You also got to know about what role hyperparameter optimization plays in building efficient machine learning models. You built a simple Logistic Regression classifier in Python with the help of scikit-learn. \n",
        "\n",
        "You tuned the hyperparameters with grid search and random search and saw which one performs better.\n",
        "\n",
        "Besides, you saw small data preprocessing steps (like handling missing values) that are required before you feed your data into the machine learning model. You covered Cross-validation as well. \n",
        "\n",
        "That is a lot to take in and all of them are equally important in your data science journey. I will leave you with some further readings that you can do.\n",
        "\n",
        "<b>Further readings: </b>\n",
        "\n",
        "- [Problems in hyperparameter optimization](https://blog.sigopt.com/posts/common-problems-in-hyperparameter-optimization)\n",
        "- [Hyperparameter optimization with soft computing techniques](https://papers.nips.cc/paper/4443-algorithms-for-hyper-parameter-optimization.pdf)\n",
        "\n",
        "For the ones who are a bit more advanced, I would highly recommend reading this paper for effectively optimizing the hyperparameters of neural networks. [link](https://arxiv.org/abs/1803.09820)"
      ]
    }
  ]
}