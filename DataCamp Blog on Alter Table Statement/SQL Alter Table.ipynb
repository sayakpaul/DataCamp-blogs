{
 "cells": [
  {
   "cell_type": "markdown",
   "metadata": {},
   "source": [
    "## Introduction to Alter Table Statement in SQL\n",
    "\n",
    "In this tutorial, you will learn how to use the **Alter Table** statement in SQL. \n",
    "\n",
    "In SQL, there are mainly three types of commands - \n",
    "\n",
    "* DDL - which stands for Data Definition Language which comprises SQL commands used for defining the database which includes creating tables, providing specifications, modifying tables and so on. Examples of DDL include `CREATE`, `DROP`,`ALTER` etc. The changes that are caused by issuing DDL commands cannot be rolled back. \n",
    "\n",
    "* DML - which stands for Data Manipulation Language which lets you run select, insert, update and delete queries. The changes that are caused by issuing DML commands can be rolled back. Example - `SELECT`, `INSERT`, `UPDATE` and `DELETE`. \n",
    "\n",
    "* DCL - which stands for Data Control Language which lets you specify rights, permissions and other controls of your database system. \n",
    "\n",
    "In this tutorial, you will see the usage of `ALTER TABLE` statement which is DDL in nature. Following contents are going to be covered in this tutorial - \n",
    "\n",
    "* Need of `ALTER TABLE` statement\n",
    "* Creating a table in a PostgreSQL database\n",
    "* Executing different `ALTER TABLE` statements in PostgreSQL\n",
    "\n",
    "**Note**: The tutorial is not going to teach how to create a table, inserting data in a table, select data from a table in PostgreSQL. If you want a refresher on these topics you can check [this article](https://www.datacamp.com/community/tutorials/beginners-introduction-postgresql). "
   ]
  },
  {
   "cell_type": "markdown",
   "metadata": {},
   "source": [
    "### Need of ALTER TABLE statement\n",
    "\n",
    "Specifications of a database may change with time. For example, you may need to add a column to a particular table or you may need to add another primary key to a table. You may also need to change the data-type of a particular column in a table. You may not afford to drop a table and create it again from scratch. `Alter Table` statement lets you do all this very seamlessly. With `Alter Table`, you can - \n",
    "\n",
    "* Add, modify, or drop a column\n",
    "* Add or drop a constraint\n",
    "\n",
    "You can also enable/disable constraints but that is not in the scope of this tutorial. \n",
    "\n",
    "You will see each of the above use-cases in this tutorial but before you do so, you will need a table in PostgreSQL so that you can get started. In the next section, you will create a simple table. "
   ]
  },
  {
   "cell_type": "markdown",
   "metadata": {},
   "source": [
    "### Creating a table in a PostgreSQL database\n",
    "\n",
    "You will create a table named `student_details` in PostgreSQL (using the `pgAdmin` utility) with the following columns and data-types - \n",
    "* student_id (integer)\n",
    "* student_full_name (character)\n",
    "* student_year (integer)\n",
    "\n",
    "You will start with this table comprising just three columns. Later, as you proceed through the tutorial, you will add more columns to this table and will alter the table in different ways. The following create query will get you a table created according to the above specifications - \n",
    "\n",
    "```sql\n",
    "CREATE TABLE student_details(\n",
    " student_id SERIAL,\n",
    " student_full_name VARCHAR (50),\n",
    " student_year VARCHAR (100)\n",
    ");\n",
    "```"
   ]
  },
  {
   "cell_type": "markdown",
   "metadata": {},
   "source": [
    "Let's insert a few records to this table as well - \n",
    "\n",
    "* `INSERT INTO student_details(student_full_name, student_year) VALUES('John Doe','1st');`\n",
    "* `INSERT INTO student_details(student_full_name, student_year) VALUES('Chris Villa','3rd');`\n",
    "\n",
    "As the data-type of `student_id` is set to `SERIAL` PostgreSQL will automatically increase the column value and the data-type is interpreted as `integer` by default by PostgreSQL.\n",
    "\n",
    "The table `student_details` should look like this - \n",
    "\n",
    "![](https://i.ibb.co/pbkmjVN/Capture-1.png)\n",
    "\n",
    "You now have a table set up in PostgreSQL. Let's now see different application of `Alter Table` in the next section. "
   ]
  },
  {
   "cell_type": "markdown",
   "metadata": {},
   "source": [
    "### Executing different ALTER TABLE statements in PostgreSQL\n",
    "\n",
    "In this section, you will see the usage of `Alter Table` statement in the following two ways as mentioned above - \n",
    "* Add, modify, and drop a column\n",
    "* Add and drop a constraint"
   ]
  },
  {
   "cell_type": "markdown",
   "metadata": {},
   "source": [
    "#### Add, modify, or drop a column\n",
    "\n",
    "Let's start by adding one more column called `student_grade` (of type character) to the table - \n",
    "\n",
    "```sql\n",
    "ALTER TABLE student_details ADD student_grade VARCHAR(5);\n",
    "```\n",
    "\n",
    "Now, the table should be like the following - \n",
    "\n",
    "![](https://i.ibb.co/ZT45JyF/Capture-2.png)"
   ]
  },
  {
   "cell_type": "markdown",
   "metadata": {},
   "source": [
    "Notice that for the entries that you entered the values are `null` for the `student_grade` column. This is implicitly done by most of the RDBMS. However, you always fire an update query to update the values. Let's now see how to modify a column using `Alter Table`. You will change the maximum allowable size of the column `student_year` from 100 to 10 because allocating too much space for just three characters (student_year can either be 1st or 2nd or 3rd) is not very practical. \n",
    "\n",
    "```sql\n",
    "ALTER TABLE student_details ALTER COLUMN student_year TYPE VARCHAR(10);\n",
    "```\n",
    "\n",
    "You can see the result in the following figure - \n",
    "\n",
    "![](https://i.ibb.co/1TN5s5V/Capture-3.png)"
   ]
  },
  {
   "cell_type": "markdown",
   "metadata": {},
   "source": [
    "You can also rename a column. Let's see how - \n",
    "```sql\n",
    "ALTER TABLE student_details RENAME student_id TO student_roll;\n",
    "```\n",
    "\n",
    "The above query renames the `student_id` column to `student_roll`. You can also verify this using a select query and your result should look similar to the following figure - \n",
    "\n",
    "![](https://i.ibb.co/0rkc60W/Capture-4.png)"
   ]
  },
  {
   "cell_type": "markdown",
   "metadata": {},
   "source": [
    "Let's now see how you can drop a column from a table - \n",
    "\n",
    "```sql\n",
    "ALTER TABLE student_details DROP COLUMN student_year;\n",
    "```\n",
    "\n",
    "The query drops the column `student_year` and the table executing the query should be like - \n",
    "\n",
    "![](https://i.ibb.co/G09Ty8n/Capture-5.png)\n",
    "\n",
    "Note that if the column that you are dropping is referenced by some other table, then you might get referential integrity violation errors. \n",
    "\n",
    "You will now see how to add and drop constraints to a table. "
   ]
  },
  {
   "cell_type": "markdown",
   "metadata": {},
   "source": [
    "<b>Add and drop a constraint</b>\n",
    "\n",
    "The table `student_details` does not have a primary key. Primary key is a combination of **not null** and **unique** constraints. Let's specify the column `student_roll` (it was updated from `student_id`) as the primary key of `student_details` - \n",
    "\n",
    "```sql\n",
    "ALTER TABLE student_details ADD PRIMARY KEY (student_roll);\n",
    "```\n",
    "\n",
    "You can add other constraints also, for example, you can add a `check` constraint to the `student_grade` column so that its values are always either `A`, `B` or `C`. \n",
    "\n",
    "```sql\n",
    "ALTER TABLE student_details ADD CONSTRAINT year_check CHECK (student_grade IN ('A', 'B', 'C'));\n",
    "```\n",
    "\n",
    "`year_check` is a placeholder to the constraint that you are adding to the table. Now if you attempt to insert the following entry to the table you should get an error - \n",
    "\n",
    "```sql\n",
    "INSERT INTO student_details(student_full_name, student_grade) VALUES('David Lune','3rd');\n",
    "```\n",
    "\n",
    "The error looks like the following - \n",
    "\n",
    "![](https://i.ibb.co/GQBCNvR/Capture-6.png)\n",
    "\n",
    "Dropping a constraint is also similar. You need to specify the name of the constraint which you want to drop. Let's drop the constraint which you named as  `year_check` - \n",
    "\n",
    "```sql\n",
    "ALTER TABLE student_details DROP CONSTRAINT year_check;\n",
    "```\n",
    "\n",
    "Let's verify this. If the constraint `year_check` is actually dropped, then this query `INSERT INTO student_details(student_full_name, student_grade) VALUES('David Lune','3rd');` should not cause any error. The table now contains the record - \n",
    "\n",
    "![](https://i.ibb.co/n3FJqFQ/Capture-7.png)\n",
    "\n",
    "You can play with other check constraints as well. \n"
   ]
  },
  {
   "cell_type": "markdown",
   "metadata": {},
   "source": [
    "### That is all for this tutorial! \n",
    "\n",
    "This tutorial introduced you to the `Alter Table` statement to effectively modify the schema of a table. If you want to level-up your SQL skills you might be interested to take the following courses offered by DataCamp - \n",
    "\n",
    "* [Joining Data in SQL](https://www.datacamp.com/courses/joining-data-in-postgresql?tap_a=5644-dce66f&tap_s=357540-5b28dd)\n",
    "* [SQL for Exploratory Data Analysis](https://www.datacamp.com/courses/sql-for-exploratory-data-analysis?tap_a=5644-dce66f&tap_s=357540-5b28dd)\n",
    "* [Intermediate SQL](https://www.datacamp.com/courses/intermediate-sql?tap_a=5644-dce66f&tap_s=357540-5b28dd)\n"
   ]
  }
 ],
 "metadata": {
  "kernelspec": {
   "display_name": "Python 3",
   "language": "python",
   "name": "python3"
  },
  "language_info": {
   "codemirror_mode": {
    "name": "ipython",
    "version": 3
   },
   "file_extension": ".py",
   "mimetype": "text/x-python",
   "name": "python",
   "nbconvert_exporter": "python",
   "pygments_lexer": "ipython3",
   "version": "3.6.5"
  },
  "latex_envs": {
   "LaTeX_envs_menu_present": true,
   "autoclose": false,
   "autocomplete": true,
   "bibliofile": "biblio.bib",
   "cite_by": "apalike",
   "current_citInitial": 1,
   "eqLabelWithNumbers": true,
   "eqNumInitial": 1,
   "hotkeys": {
    "equation": "Ctrl-E",
    "itemize": "Ctrl-I"
   },
   "labels_anchors": false,
   "latex_user_defs": false,
   "report_style_numbering": false,
   "user_envs_cfg": false
  },
  "toc": {
   "base_numbering": 1,
   "nav_menu": {},
   "number_sections": false,
   "sideBar": true,
   "skip_h1_title": false,
   "title_cell": "Table of Contents",
   "title_sidebar": "Contents",
   "toc_cell": false,
   "toc_position": {},
   "toc_section_display": true,
   "toc_window_display": false
  }
 },
 "nbformat": 4,
 "nbformat_minor": 2
}
