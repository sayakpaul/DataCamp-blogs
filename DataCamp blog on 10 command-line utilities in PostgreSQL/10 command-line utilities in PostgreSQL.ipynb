{
 "cells": [
  {
   "cell_type": "markdown",
   "metadata": {},
   "source": [
    "# 10 command-line utilities in PostgreSQL\n",
    "\n",
    "In this tutorial, learn about 10 handy command-line utilities in PostgreSQL which can enable you to interact with databases efficiently. "
   ]
  },
  {
   "cell_type": "markdown",
   "metadata": {},
   "source": [
    "[PostgreSQL](http://postgresql.org) is one of the most well accepted open-source RDBMSs out there. The default installation of PostgreSQL comes with a `psql` prompt which is the terminal-like interface of PostgreSQL. `pgAdmin`, on the other hand, provides a graphical interface for operating with databases in PostgreSQL. With `psql`, apart from executing SQL queries, you get more functionalities and some of which you will be learning in this tutorial.\n",
    "\n",
    "You will start by learning how to retrieve the list of databases residing at a PostgreSQL server and slowly, you will proceed towards more intermediate stuff. Let's begin. "
   ]
  },
  {
   "cell_type": "markdown",
   "metadata": {},
   "source": [
    "**Note**: This tutorial assumes that you are already familiar with SQL (which is a general language for interacting with RDBMSs) and PostgreSQL. Feel free to refresh the basics with the following resources: \n",
    "- [Beginner's Guide to PostgreSQL](https://www.datacamp.com/community/tutorials/beginners-introduction-postgresql)\n",
    "- [Intro to SQL for Data Science by DataCamp](https://www.datacamp.com/courses/intro-to-sql-for-data-science?tap_a=5644-dce66f&tap_s=357540-5b28dd)"
   ]
  },
  {
   "cell_type": "markdown",
   "metadata": {},
   "source": [
    "## First things first\n",
    "\n",
    "You might want to have an already well-formed database for following along with this tutorial. You can use [this backup file](https://bit.ly/2EQelJX) and restore it in your PostgreSQL server. If you want to know how to do this, you can follow [this article](https://www.datacamp.com/community/tutorials/intro-to-where-clause-sql).\n",
    "\n",
    "In case, you are wondering what `psql` is, this exert from the [official site of PostgreSQL](https://www.postgresql.org/docs/10/app-psql.html) gists about `psql` in an elegant way- \n",
    "> psql is a terminal-based front-end to PostgreSQL. It enables you to type in queries interactively, issue them to PostgreSQL, and see the query results. Alternatively, input can be from a file or from command line arguments. In addition, psql provides a number of meta-commands and various shell-like features to facilitate writing scripts and automating a wide variety of tasks.\n",
    "\n",
    "As mentioned, you will be learning the ten most useful `psql` commands in this tutorial. \n",
    "Before you proceed, make sure you have PostgreSQL installed (preferably a version >= `9.4`). [This article](https://www.datacamp.com/community/tutorials/installing-postgresql-windows-macosx) might help you getting PostgreSQL installed. \n",
    "\n",
    "The next step is to get to this prompt: \n",
    "\n",
    "![](https://i.ibb.co/FDvv6tH/Capture-1.png)"
   ]
  },
  {
   "cell_type": "markdown",
   "metadata": {},
   "source": [
    "On Windows, you can just type `psql` on the Start Menu Search Bar and you should be able to navigate to it. This is referred to as `psql` shell which gives you the `psql` prompt. As you can see, the prompt is now set to the default `postgres` database. Let's see if any other database exists within this local PostgreSQL server. "
   ]
  },
  {
   "cell_type": "markdown",
   "metadata": {},
   "source": [
    "## 1. Enlisting the available databases\n",
    "\n",
    "You can use the `\\l` command in order to get a list of all available databases. \n",
    "\n",
    "![](https://i.ibb.co/PTyfS0r/Capture-2.png)\n",
    "\n",
    "As you can see, I have the following databases - \n",
    "* datacamp_tutorials\n",
    "* postgres\n",
    "\n",
    "You can ignore the rest of the entries. Now, let's see the list of available tables in the current database. "
   ]
  },
  {
   "cell_type": "markdown",
   "metadata": {},
   "source": [
    "## 2. Enlisting the available tables in the current database\n",
    "\n",
    "`\\dt` does this for you - \n",
    "\n",
    "![](https://i.ibb.co/Hx9DQCC/Capture-3.png)"
   ]
  },
  {
   "cell_type": "markdown",
   "metadata": {},
   "source": [
    "But unfortunately, `postgres` database does not have any tables created in it (tables are referred to as relations in the database management literature). Let's _switch to another database_ and see if it has any tables created in it. "
   ]
  },
  {
   "cell_type": "markdown",
   "metadata": {},
   "source": [
    "## 3. Switching to another database\n",
    "\n",
    "The syntax for doing this: `\\c <database_name>`. Suppose, you want to switch to a database named `datacamp_tutorials` you can do so like the following - \n",
    "\n",
    "    `\\c datacamp_tutorials`\n",
    "    \n",
    "![](https://i.ibb.co/YkQNCz3/Capture-4.png)"
   ]
  },
  {
   "cell_type": "markdown",
   "metadata": {},
   "source": [
    "Now, let's see if it has any tables with the `\\dt` command - \n",
    "\n",
    "![](https://i.ibb.co/F6TTVP5/Capture-5.png)"
   ]
  },
  {
   "cell_type": "markdown",
   "metadata": {},
   "source": [
    "As you can see `datacamp_tutorials` database has the following four tables - \n",
    "* countries\n",
    "* route_table\n",
    "* station_code\n",
    "* train_table"
   ]
  },
  {
   "cell_type": "markdown",
   "metadata": {},
   "source": [
    "Say, you want to view the structural details of a particular table. This is often referred to as **describing a table**. Let's now see how it can be done. "
   ]
  },
  {
   "cell_type": "markdown",
   "metadata": {},
   "source": [
    "## 4. Describing a particular table\n",
    "\n",
    "The general syntax for doing is `\\d <table_name>`. Suppose, you are in `datacamp_tutorials` database and you want to describe the table named `countries`. The command for this would be `\\d countries` - \n",
    "\n",
    "![](https://i.ibb.co/QmBNrCw/Capture-6.png)"
   ]
  },
  {
   "cell_type": "markdown",
   "metadata": {},
   "source": [
    "As you can see, `\\d countries` gives you many important information about the table such as its column names, their data-types, modifiers of columns and so on. You may want to know the current version of your PostgreSQL engine. Maybe for documentation purposes. Let's see how can you. "
   ]
  },
  {
   "cell_type": "markdown",
   "metadata": {},
   "source": [
    "## 5. Knowing the version of PostgreSQL\n",
    "\n",
    "`SELECT version();` lets you do this - \n",
    "\n",
    "![](https://i.ibb.co/z6FhYt2/Capture-7.png)\n",
    "\n",
    "Now, say, you have forgotten the last command that you executed on `psql` shell in between some calls and it was an important one. No problem! You can retrieve that easily. "
   ]
  },
  {
   "cell_type": "markdown",
   "metadata": {},
   "source": [
    "## 6. Seeing the previously executed command\n",
    "\n",
    "`\\g` is there for doing this - \n",
    "\n",
    "![](https://i.ibb.co/G2rkhy9/Capture-8.png)\n",
    "\n",
    "As you can see, `\\g` automatically executed the previous command. You might be more curious and want to see th list of all the `psql` commands available for the PostgreSQL engine that you are running. Let's now see that. "
   ]
  },
  {
   "cell_type": "markdown",
   "metadata": {},
   "source": [
    "## 7. Enlisting all the available commands\n",
    "\n",
    "You can get the list of all the available `psql` commands with `\\?` - \n",
    "\n",
    "![](https://i.ibb.co/54ZMcGb/Capture-9.png)\n",
    "\n",
    "You may be interested in knowing the syntaxes of different database statements like `SELECT`, `ALTER`, `DROP` and so on. You can do so in the `psql` prompt itself. "
   ]
  },
  {
   "cell_type": "markdown",
   "metadata": {},
   "source": [
    "## 8. Knowing the syntaxes of PostgreSQL statements\n",
    "\n",
    "Let's say you want to know more about `DROP` statements. `\\h DROP TABLE` can help you with this - \n",
    "\n",
    "![](https://i.ibb.co/mFD94xd/Capture-10.png)\n",
    "\n",
    "Suppose, you want to analyze the execution times of the queries. Let's now see how this can be done from the `psql` shell. "
   ]
  },
  {
   "cell_type": "markdown",
   "metadata": {},
   "source": [
    "## 9. Knowing the execution times of queries\n",
    "\n",
    "For doing this, you will have give the `\\timing` command. Let's say you want to analyze the execution time of the following query - \n",
    "```sql\n",
    "select * from train_table limit 10;\n",
    "```"
   ]
  },
  {
   "cell_type": "markdown",
   "metadata": {},
   "source": [
    "You first give the `\\timing` command - \n",
    "\n",
    "![](https://i.ibb.co/V9WmqKj/Capture-11.png)\n",
    "\n",
    "After the timing option is enabled, you can run your query - \n",
    "\n",
    "![](https://i.ibb.co/hsbmQvk/Capture-12.png)"
   ]
  },
  {
   "cell_type": "markdown",
   "metadata": {},
   "source": [
    "As you can see the time it took to execute the query is **0.786 ms**. The execution time may vary from machine to machine. You will now see the final `psql` command which provides your previously executed command/query in a text editor. "
   ]
  },
  {
   "cell_type": "markdown",
   "metadata": {},
   "source": [
    "## 10. `psql` + text editor\n",
    "\n",
    "If you execute the `\\e` command, it opens the last executed command/query written in a text editor and it also lets you edit it and run it again. \n",
    "\n",
    "![](https://i.ibb.co/dMS1jDh/Capture-13.png)\n",
    "\n",
    "As you can see the `e` command open up the **Notepad** text editor with the previously executed query. "
   ]
  },
  {
   "cell_type": "markdown",
   "metadata": {},
   "source": [
    "## Conclusion\n",
    "\n",
    "Thanking for being there till the end. In this tutorial, you go to know about ten very useful `psql` commands which you can use in your day-to-day database related tasks. If you want to learn more about SQL you can try out the following DataCamp courses - \n",
    "* [Joining Data in SQL](https://www.datacamp.com/courses/joining-data-in-postgresql?tap_a=5644-dce66f&tap_s=3575%2040-5b28dd)\n",
    "* [SQL for Exploratory Data Analysis](https://www.datacamp.com/courses/sql-for-exploratory-data-analysis?tap_a=5644-dce66f&tap_s=3575%2040-5b28dd)"
   ]
  }
 ],
 "metadata": {
  "kernelspec": {
   "display_name": "Python 3",
   "language": "python",
   "name": "python3"
  },
  "language_info": {
   "codemirror_mode": {
    "name": "ipython",
    "version": 3
   },
   "file_extension": ".py",
   "mimetype": "text/x-python",
   "name": "python",
   "nbconvert_exporter": "python",
   "pygments_lexer": "ipython3",
   "version": "3.6.5"
  },
  "latex_envs": {
   "LaTeX_envs_menu_present": true,
   "autoclose": false,
   "autocomplete": true,
   "bibliofile": "biblio.bib",
   "cite_by": "apalike",
   "current_citInitial": 1,
   "eqLabelWithNumbers": true,
   "eqNumInitial": 1,
   "hotkeys": {
    "equation": "Ctrl-E",
    "itemize": "Ctrl-I"
   },
   "labels_anchors": false,
   "latex_user_defs": false,
   "report_style_numbering": false,
   "user_envs_cfg": false
  },
  "toc": {
   "base_numbering": 1,
   "nav_menu": {},
   "number_sections": false,
   "sideBar": true,
   "skip_h1_title": false,
   "title_cell": "Table of Contents",
   "title_sidebar": "Contents",
   "toc_cell": false,
   "toc_position": {},
   "toc_section_display": true,
   "toc_window_display": false
  }
 },
 "nbformat": 4,
 "nbformat_minor": 2
}
