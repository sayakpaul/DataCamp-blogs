{
  "cells": [
    {
      "metadata": {},
      "cell_type": "markdown",
      "source": "## Argument Parsing in Python\n\nIn this tutorial, learn how to parse one or more arguments from the command-line or terminal using the `getopt`, `sys` and `argparse` modules. "
    },
    {
      "metadata": {},
      "cell_type": "markdown",
      "source": "If you plan a data science or a machine learning project, then it is not uncommon to get started developing it in a [Jupyter Notebook](https://www.datacamp.com/community/tutorials/tutorial-jupyter-notebook). It provides interactivity to your computing tools, lets you run your modules quickly and so on. There are many pointers to choose Jupyter Notebooks as your main weapon of choice especially for doing data science or machine learning projects. However, this tutorial does not aim to shed light on that part.\n\nConsider you need to run a Python script as a batch job for the purpose of data ingestion in your data science project. Or you need to run a Python script to deploy a machine learning model to a remote server. In cases like these, just executing `python your_script.py` might not be sufficient. You may need to pass more _options_ or _arguments_ along with `python your_script.py`. You may already be familiar with the usage of additional arguments while running commands (like `ps`, `ls` etc.)  on a Linux terminal. \n\nIn this tutorial, you are going to learn about how to parse additional arguments, options from the command line that are passed along with a Python script. Here is the summary of the contents for today's tutorial:\n- A basic introduction to argument parsing\n- Argument parsing in Python\n    - Using `sys.argv`\n    - Using `getopt`\n    - Using `argparse`\n\n**Note** that this tutorial assumes basic familiarity with Python. "
    },
    {
      "metadata": {},
      "cell_type": "markdown",
      "source": "## What is argument parsing?\n\nIf you are a Linux user, you might already be knowing this, I bet. In order to get a summary of the files and folders present in a particular directory, the command `ls` is often used. A typical output of running the `ls` command looks like - \n\n![](https://i.ibb.co/286SMJn/Screenshot-from-2019-05-11-18-52-14.png)\n\nHowever, you can supply many _options_ to the `ls` command, `-l`, for example. Let's take a look how that output looks like - \n\n![](https://i.ibb.co/BwCwz8d/Screenshot-from-2019-05-11-18-55-09.png)"
    },
    {
      "metadata": {},
      "cell_type": "markdown",
      "source": "By passing the `-l` _option_, you got more infomration. Now, there is a thin difference between an _option_ and an _argument_ in this context. To remove a file or a folder a from your current working directory, `rm` command is often used. Suppose, you have a text file named `demo.txt` and you ran `rm demo.txt` in order to remove the text file. In this case, `demo.txt` is the _argument_ which you spplied to the `rm` command. If you do not pass any _argument_ to the `rm` command, you will get an error like so - \n\n![](https://i.ibb.co/3RVpmFt/Screenshot-from-2019-05-11-19-06-58.png)"
    },
    {
      "metadata": {},
      "cell_type": "markdown",
      "source": "So, what is the difference between an _option_ and an _argument_? It is now pretty obvious. Options are _optional_ to pass whereas arguments are (often) _necessary_ to pass. It is not essential to pass anything to the `ls` for it to produce any output. \n\nNow, when you hit `ls -l` or `rm demo.txt`, the operating system parses it in a certain way under the hood. This mechanism is generally specified by the developers of the operating system and it is known as _parsing_.\n\nIf you are interested in knowing more Linux commands and the different options and arguments they support, reading the book [Unix Concepts and Applications](https://books.google.co.in/books/about/Unix_Concepts_And_Applications.html) is highly recommended. "
    },
    {
      "metadata": {},
      "cell_type": "markdown",
      "source": "So, that was a fundamental introduction to argument parsing. Almost all the programming languages come with support of argument parsing. Python is no exception to this. There are three very popular ways in which you can do argument parsing in Python - \n\n- sys.argv\n- getopt\n- argparse\n\nYou will now take each of the above options one by one and see how to use them for parsing arguments (and options). Let's go chornologically. "
    },
    {
      "metadata": {},
      "cell_type": "markdown",
      "source": "## Argument Parsing using sys.argv\n\nLet's start simple. In this first example, you will create a Python file named `demo1.py`. Your program will accept an arbitrary number of arguments passed from the command-line (or terminal) while getting executed. The program will print out the arguments that were passed and the total number of arguments. \n\nFor example, if you execute `python demo1.py abc 123`, then the program would yield - \n\n```\nNumber of arguments: 3\nArgument(s) passed: ['demo1.py', 'abc', '123']\n```\nNotice that the first argument is always the _name of the Python file_. But the code can be modified to not include it. "
    },
    {
      "metadata": {},
      "cell_type": "markdown",
      "source": "Now coming to the code - \n\n```python\nimport sys\n\nprint('Number of arguments: {}'.format(len(sys.argv)))\nprint('Argument(s) passed: {}'.format(str(sys.argv)))\n```"
    },
    {
      "metadata": {},
      "cell_type": "markdown",
      "source": "You first imported the Python module `sys` which comes with a standard installation of Python. You then employed the `argv` submodule which returns the list of the arguments passed to a Python script where `argv[0]` contains the name of the Python script. If you run `sys.argv` in a code cell like the following, you get the list of the configuration files responsible for making the IPython kernel function properly. It is better to not mess with them. "
    },
    {
      "metadata": {
        "trusted": true
      },
      "cell_type": "code",
      "source": "sys.argv",
      "execution_count": 7,
      "outputs": [
        {
          "output_type": "execute_result",
          "execution_count": 7,
          "data": {
            "text/plain": "['/home/nbuser/anaconda3_501/lib/python3.6/site-packages/ipykernel/__main__.py',\n '-f',\n '/home/nbuser/.local/share/jupyter/runtime/kernel-dabba4f7-e3e0-4c39-99d2-261ba835c53f.json']"
          },
          "metadata": {}
        }
      ]
    },
    {
      "metadata": {},
      "cell_type": "markdown",
      "source": "Let's now see how to use the `getopt` module for parsing arguments (and options). "
    },
    {
      "metadata": {},
      "cell_type": "markdown",
      "source": "## Argument parsing using getopt\n\nIn comparison to `sys.argv`, the `getopt` module offers much more flexibility. Let's design a sample scenario first and write the code accordingly. \n\nSay, you have a released a Python script which you have not documented yet. But you want to be able to provide the users with meaningful feedback when they execute that script in a way it is not meant to be. Your Python script does the simple task of adding two numbers and provides an output. The only constraint is that the user needs to pass the inputs in the form of command-line arguments along with the Python script. \n\nTalking a bit more practically, the script ideally should be executed like - \n\n`python add_numbers.py -a 3 -b 8`\n\nThe output should be 11. Here, `-a` and `-b` are the options and 3, 8 are the arguments that you provide to the script. The options not only enhances the readability part but also helps to decide the evaluation flow (consider if you are doing division instead of doing addition). Let's start looking at the code for this first. "
    },
    {
      "metadata": {
        "trusted": true
      },
      "cell_type": "code",
      "source": "import getopt\nimport sys\n\n# Get the arguments from the command-line except the filename\nargv = sys.argv[1:]\nsum = 0\n\ntry:\n    # Define the getopt parameters\n    opts, args = getopt.getopt(argv, 'a:b:', ['foperand', 'soperand'])\n    # Check if the options' length is 2 (can be enhanced)\n    if len(opts) == 0 and len(opts) > 2:\n      print ('usage: add.py -a <first_operand> -b <second_operand>')\n    else:\n      # Iterate the options and get the corresponding values\n      for opt, arg in opts:\n         sum += int(arg)\n      print('Sum is {}'.format(sum))\n\nexcept getopt.GetoptError:\n    # Print something useful\n    print ('usage: add.py -a <first_operand> -b <second_operand>')\n    sys.exit(2)",
      "execution_count": null,
      "outputs": []
    },
    {
      "metadata": {},
      "cell_type": "markdown",
      "source": "The idea is to first get all the arguments using `sys.argv` and then process it accordingly. Let's now come to the most important line of code - `opts, args = getopt.getopt(argv, 'a:b:', ['foperand', 'soperand'])`\n\nThe signature of the `getopt()` method looks like:\n\n`getopt.getopt(args, shortopts, longopts=[])`\n\n- `args` is the list of arguments taken from the command-line.\n- `shortopts` is where you specify the option letters. If you supply `a:`, then it means that your script should be supplied with the option `a` followed by a value as its argument. Technically, you can any number of options in here. When you pass these options from the command-line they must be prepended with '-'.\n- `longopts` is where you can specify the extended versions of the `shortopts`. They must be prepended with '--'."
    },
    {
      "metadata": {},
      "cell_type": "markdown",
      "source": "You defined the `shortopts` to be `a:b:` which means your Python script would take two options as letters - 'a' and 'b'. By specifying ':' you are explicitly telling that these options will be followed by arguments. \n\nYou defined the `longopts` to be `['foperand', 'soperand']` which is a way of telling the code to accept `f_operand` and `s_operand` in place of `a` and `b` as the options. But these should always follow `--`. "
    },
    {
      "metadata": {},
      "cell_type": "markdown",
      "source": "The `getopt` module provides you with a handy Exception class `GetoptError` also for defining useful messages so a to guide the user on how to use your Python script. This is why you wrapped the functional part of your script in a `try` block and defined the `except` block accordingly. "
    },
    {
      "metadata": {},
      "cell_type": "markdown",
      "source": "Here is how you can run the Python script:\n\n![](https://i.ibb.co/x5cdJwx/Screenshot-from-2019-05-11-22-14-54.png)\n\n**Note** that the above script was _not_ defined to handle the `longopts`. This is something you can try as an exercise. "
    },
    {
      "metadata": {},
      "cell_type": "markdown",
      "source": "Let's now see how to use `argparse` for argument parsing. "
    },
    {
      "metadata": {},
      "cell_type": "markdown",
      "source": "## Argument parsing using argparse\n\nFrom the above two options, it is quite viable that they are not very _readable_. Once you see `argparse` in action, you will also agree that the above two options lack on the flexibility part as well. To understand the usage of `argparse`, let's start with a code snippet which implements the scenario you saw in the above section. "
    },
    {
      "metadata": {
        "trusted": true
      },
      "cell_type": "code",
      "source": "import argparse\n\n# Construct the argument parser \nap = argparse.ArgumentParser()\n\n# Add the arguments to the parser\nap.add_argument(\"-a\", \"--foperand\", required=True,\n   help=\"first operand\")\nap.add_argument(\"-b\", \"--soperand\", required=True,\n   help=\"second operand\")\nargs = vars(ap.parse_args())\n\n# Calculate the sum\nprint(\"Sum is {}\".format(int(args['foperand']) + int(args['soperand'])))",
      "execution_count": null,
      "outputs": []
    },
    {
      "metadata": {},
      "cell_type": "markdown",
      "source": "First things first. `argparse` like the other two modules discussed above, comes with the standard installation of Python. You start by instantiating the `argparse` object. And the rest of the things become so simpler to write. Let's take the following line of code for example - \n\n`ap.add_argument(\"-a\", \"--foperand\", required=True,\n   help=\"first operand\")`"
    },
    {
      "metadata": {},
      "cell_type": "markdown",
      "source": "Here you added the argument that you expect to be supplied with the Python script when it is run. You supplied the letter version of the argument along with its extended one. By specifying `required=True` you are explicitly asking the user to supply that particular argument. Finally you appended a meaningful description of the argument which will be shown to the user in case he does not execute the script in the right manner. \n\nThe argument definition part is the same for the second argument as well. You access the given arguments by specifying their respective indices. "
    },
    {
      "metadata": {},
      "cell_type": "markdown",
      "source": "The above code-snippet clearly shows how easy and flexible it is to define command-line argument parsing tasks with `argparse`. Here is how you can play with the above Python script:\n\n![](https://i.ibb.co/xCjt1Rb/Screenshot-from-2019-05-11-22-54-00.png)"
    },
    {
      "metadata": {},
      "cell_type": "markdown",
      "source": "Notice how much easier the process became with `argparse`."
    },
    {
      "metadata": {},
      "cell_type": "markdown",
      "source": "## What's next?\n\nThank you for reading today's tutorial until the end. Now, you are equipped with the native Python modules that are able to parse arguments supplied from the command-line along with your Python script. As an exercise, you can customize your machine learning and data science projects accordingly to facilitate argument parsing and turn them into useful script utilities. Not just machine learning or data science but anywhere you feel it to be relevant enough. This is all for today's tutorial. If you are interested in enhancing your Python skills, you might want to take DataCamp's [Python Data Science Toolbox (Part 1)](https://www.datacamp.com/courses/python-data-science-toolbox-part-1) course. "
    }
  ],
  "metadata": {
    "kernelspec": {
      "name": "python36",
      "display_name": "Python 3.6",
      "language": "python"
    },
    "language_info": {
      "mimetype": "text/x-python",
      "nbconvert_exporter": "python",
      "name": "python",
      "pygments_lexer": "ipython3",
      "version": "3.6.6",
      "file_extension": ".py",
      "codemirror_mode": {
        "version": 3,
        "name": "ipython"
      }
    }
  },
  "nbformat": 4,
  "nbformat_minor": 1
}