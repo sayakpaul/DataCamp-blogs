{
 "cells": [
  {
   "cell_type": "markdown",
   "metadata": {},
   "source": [
    "# Understanding Recursive Functions in Python\n",
    "\n",
    "Learn about different aspects of recursive functions and implement a recursive function in Python from scratch. "
   ]
  },
  {
   "cell_type": "markdown",
   "metadata": {},
   "source": [
    "Being a professional programmer, you need to be excellent at the basic things like variables, condition statements, data-types, access specifiers, function calling, scopes etc. No matter what kind kind of program you are writing - be it a program for a Middleware, be it a program related to Web Development or Data Science, these are some of the most basic things you, as a programmer, need to know to a great extent. You are programmer first and then you are a Data Scientist or Web Developer or Machine Learning Engineer etc. \n",
    "\n",
    "One such very important concept is **Recursion** and it is extremely vital to know while you are writing functions of a particular type. You may already know that - \"It is called Recursion when a function calls itself.\" But what happens under the hood? How the physical memory gets affected by Recursion? Can you turn every other function into a recursive function? In this tutorial, you will be finding answers to these fundamental questions. Specifically, you will cover: \n",
    "- Basic anatomy of a recursive function\n",
    "- Memory representation of a recursive function:\n",
    "    - Tree       \n",
    "    - Stack\n",
    "- Tracing a recursion\n",
    "- Space-time analysis of a recursive function\n",
    "- Implementing a simple recursive function in Python"
   ]
  },
  {
   "cell_type": "markdown",
   "metadata": {},
   "source": [
    "## Anatomy of a recursive function:\n",
    "\n",
    "You may have already come across the term _Recursion_ in your Computer Science or Information Technology under-graduation coursework. In this section, you will revisit those concepts but in an interesting way. Let's get started. \n",
    "\n",
    "Let's go back to the definition of recursion again: \"It is called Recursion when a function calls itself\". Let's take an example to support this definition: \n",
    "\n",
    "```C\n",
    "void A(n){\n",
    "    if(n>=1){\n",
    "        A(n-1);\n",
    "        print(n);\n",
    "    }\n",
    "}\n",
    "```"
   ]
  },
  {
   "cell_type": "markdown",
   "metadata": {},
   "source": [
    "You can clearly see that the function `A()` is getting called by itself. This is an example of recursion and `A()` is a recursive function. \n",
    "\n",
    "Let's study some basics of a recursive function now. \n",
    "\n",
    "\n",
    "### Basics of a recursive function:\n",
    "A recursive function has to contain the following two properties: \n",
    "- A recurrence relation\n",
    "- A termination condition\n",
    "\n",
    "Consider the above code snippet for understanding these points. Clearly, the function a specific recurrence relation: \n",
    "\n",
    "\\[ f(n) = \\begin{cases} \n",
    "          f(n-1) & n\\geq 1 \\\\\n",
    "          1 & n < 1 \n",
    "       \\end{cases}\n",
    "\\]\n",
    "\n",
    "$n\\le 1$ is the **terminating condition** / **anchor condition** / **base condition** and if it is met the recursion stops. It is very important to specify this condition. Otherwise, the function will fall into an **infinite loop**. \n",
    "\n",
    "(Please note that the above code snippet does not follow any particular programming language. The main intention here is to show an example of a recursive function.) "
   ]
  },
  {
   "cell_type": "markdown",
   "metadata": {},
   "source": [
    "You must be thinking now, why on earth someone would write a recursive function if there are better alternatives available? Yes, sometimes, it gets real hard to trace a recursion but once you get used to the practice you will find recursion to be absolutely beautiful in terms of program readability and variables. Recursion needs no extra variables in order to get executed but it needs a proper termination condition to stop. Often, it gets difficult to find the termination condition for a recursion. Then again, \"Practice makes you perfect\". Later in this tutorial, you will see how beautiful and small a program can be if it is implemented with recursion other than the conventional means. Now, you will proceed towards studying the memory representation of a recursive function. "
   ]
  },
  {
   "cell_type": "markdown",
   "metadata": {},
   "source": [
    "## Memory representation of a recursive function:\n",
    "\n",
    "In this section, you are going to study how recursive functions are represented fundamentally on the memory by means of **trees** and **stacks**. Let's consider the following recursive function `A()` for understanding this:\n",
    "```C\n",
    "void A(n){\n",
    "    if(n>=1){\n",
    "        A(n-1);\n",
    "        print(n);\n",
    "    }\n",
    "}\n",
    "```"
   ]
  },
  {
   "cell_type": "markdown",
   "metadata": {},
   "source": [
    "You will first understand the memory representation using trees. It might sound a bit difficult but it's really simple. If you were to write each function calls in a tree-like fashion how would it look like? \n",
    "\n",
    "Something like the following? \n",
    "\n",
    "<img src = \"https://image.ibb.co/ejjcoA/Capture.jpg\"></img>"
   ]
  },
  {
   "cell_type": "markdown",
   "metadata": {},
   "source": [
    "Couple of points to note here:\n",
    "- The function is called with `A(3)` and for that 4 (3+1) function calls are made here. If you generalize this, if `A(n)` is called then a total of (n+1) function calls would be required. \n",
    "- `P()` calls are the prints produced by `print(n)`. \n",
    "- The function stopped with `A(0)` function call as the `if` statement (after `A(0)` function call) will receive `n < 1` which will cause the function to terminate. "
   ]
  },
  {
   "cell_type": "markdown",
   "metadata": {},
   "source": [
    "You saw this tree-like representation first because for representing a recursive function on a stack, this representation is needed. You will see that now. \n",
    "\n",
    "(A stack is a data structure which follows last in fast out (LIFO) order of elements)"
   ]
  },
  {
   "cell_type": "markdown",
   "metadata": {},
   "source": [
    "For stack representation, you will have to **traverse** the tree in a top-down and left-right order. The following image will make this clear. \n",
    "\n",
    "<img src = \"https://image.ibb.co/frr4JA/Capture.jpg\"></img>"
   ]
  },
  {
   "cell_type": "markdown",
   "metadata": {},
   "source": [
    "A interpreting this weird looking thing (tree) keep that in mind that a stack consists of two operations - 1. Push using which you insert an element to the stack & 2. Pop using which you extract an element out of the stack. \n",
    "\n",
    "Now, you start the tree traversal in a top-down and left-right order:\n",
    "- Whenever you see a function call you are going to push that to the stack.\n",
    "- If you see a `print()`/ `P()` call then you are going to simply print the corresponding element accordingly. \n",
    "\n",
    "Following is going to be the elements of the stack as a result of the tree traversal from `A(3)` to `A(0)` just in the top-down fashion: \n",
    "\n",
    "<img src = \"https://image.ibb.co/bED1yA/Capture.jpg\"></img>"
   ]
  },
  {
   "cell_type": "markdown",
   "metadata": {},
   "source": [
    "Now you start the second half of the tree-traversal i.e. the left-right order. Whenever, you see a function call for the second time you are going to pop it. Surprisingly, the first element of the stack (`A(0)`) that is going to be popped off from the stack was the last one to enter the stack (LIFO, remember?). Now, in your way you are going to encounter three `P()` calls - `P(1)`, `P(2)` and `P(3)`. You are going to print these in the way they arrive in the way of traversal. The order is going to be:\n",
    "\n",
    "### <center>1 2 3 </center> ###"
   ]
  },
  {
   "cell_type": "markdown",
   "metadata": {},
   "source": [
    "Finally, when you finish the traversal process, the stack will be completely empty. To understand the pop operation even better, here's an image of the stack after being fully popped off. \n",
    "\n",
    "<img src = \"https://image.ibb.co/iJfWyA/Capture.jpg\"></img>"
   ]
  },
  {
   "cell_type": "markdown",
   "metadata": {},
   "source": [
    "You saw how to represent a simple recursive function onto memory using a tree and a stack. Now, you will see how to trace a recursion. "
   ]
  },
  {
   "cell_type": "markdown",
   "metadata": {},
   "source": [
    "## Tracing a recursion:\n",
    "\n",
    "In this section, you will learn how you can trace a recursion in a methodical way. Consider the following recursive function:\n",
    "\n",
    "```C\n",
    "void A(n){\n",
    "    if(n>0){\n",
    "        print(n-1);\n",
    "        A(n-1);\n",
    "    }\n",
    "}\n",
    "```"
   ]
  },
  {
   "cell_type": "markdown",
   "metadata": {},
   "source": [
    "One important point that you have note here is whenever a function is called an activation record is created in the memory which contains the local variables of that function and an instruction pointer (which denotes the next task to be executed when the call returns to that function). Say a function called `main()` called the above function `A()` as `A(3)`. Let's number the lines of `A()` from the `if` statement for a better understanding:\n",
    "```C\n",
    "void A(n){\n",
    "    1. if(n>0)\n",
    "    2. {\n",
    "        3. print(n-1);\n",
    "        4. A(n-1);\n",
    "    5. }\n",
    "}\n",
    "```"
   ]
  },
  {
   "cell_type": "markdown",
   "metadata": {},
   "source": [
    "The activation records would look like the following:\n",
    "\n",
    "<img src = \"https://image.ibb.co/bJp2MV/Capture.jpg\"></img>"
   ]
  },
  {
   "cell_type": "markdown",
   "metadata": {},
   "source": [
    "As mentioned earlier, the functions have their copies of the local variables and the instruction pointers (in this case the line number). After `A(0)` the function `A()` will terminate the popping will take place. Note that, a horizontal stack is used here which is exactly the same as the ones you previously saw in the tutorial. While, the records are pushed onto the stack the prints will also take place and the following elements will be printed:\n",
    "\n",
    "### <center>  2 1 0 </center> ###"
   ]
  },
  {
   "cell_type": "markdown",
   "metadata": {},
   "source": [
    "**Instruction pointers** are very necessary to note here because often in a recursive function the control goes to the same function but with a different variable value. So, to keep everything in sync these pointers really help. You can follow this exact process in order to trace a recursion using a tree representation. \n",
    "\n",
    "You will now study how to perform a space-time analysis of a recursive function. "
   ]
  },
  {
   "cell_type": "markdown",
   "metadata": {},
   "source": [
    "## Space-time analysis of a recursive function:\n",
    "\n",
    "DataCamp has a very good article on [Asymptotic Analysis in Python](https://www.datacamp.com/community/tutorials/analyzing-complexity-code-python?tap_a=5644-dce66f&tap_s=357540-5b28dd) and it is recommended that you check it out before reading this section. Let's quickly recap what are meant by space and time analyses of a function (also known as *space complexity* and *time complexity*):\n",
    "\n",
    "For a given input, a function is supposed to produce some kind of output. In order to do that how much time the function takes? The *time-complexity* measure approximates this time and it is also called as the *runtime* of the function. Similarly, the *space-complexity* measure approximates the space (memory) requirements of a function i.e. for a given input. But why these are even required?\n",
    "- Instead of running a function on range of inputs with varying sizes, you can easily approximate how a function might behave on different inputs with varying sizes. \n",
    "- If you have two functions that are fulfilling the same objective which one will you take? What measures will you consider to make the decision? Yes, you guessed it right. You will compare them by analyzing their space and time complexities and see which one is performing better. \n",
    "\n",
    "Let's take a simple recursive function now and actually analyze its space and time complexity. "
   ]
  },
  {
   "cell_type": "markdown",
   "metadata": {},
   "source": [
    "```C\n",
    "void A(n){\n",
    "    if(n>1) // Anchor condition\n",
    "    {\n",
    "       return A(n-1);\n",
    "    }\n",
    "}\n",
    "```"
   ]
  },
  {
   "cell_type": "markdown",
   "metadata": {},
   "source": [
    "Let's do the time complexity analysis first. Assume that the total time taken for the above function `A()` is $T(n)$. Now the $T(n)$ is a sum of the time taken to compare if n is greater than 1 and the time taken to execute `A(n-1)`. So, $T(n)$ can be expressed as - \n",
    "\n",
    "<center>$T(n)$ = 1 + $T(n-1)$</center>"
   ]
  },
  {
   "cell_type": "markdown",
   "metadata": {},
   "source": [
    "1 is the time taken for the comparison (you can put any constant there). Now, what will be the time (in terms of $T(n)$) for executing `A(n-1)`? \n",
    "<center>$T(n-1)$ = 1 + $T(n-2)$</center>\n",
    "\n",
    "Similarly, \n",
    "<center>$T(n-2)$ = 1 + $T(n-3)$</center>\n",
    "and so on.\n",
    "\n",
    "If you pay a close attention to the equations, they all are connected. Aren't they? If you substitute them after one another you get - \n",
    "\n",
    "$T(n)$ = 1 + (1 + $T(n-2)$) = 2 + $T(n-2)$ = 3 + $T(n-3)$ = .... = k + $T(n-k)$ (after running the function for `k` terms)"
   ]
  },
  {
   "cell_type": "markdown",
   "metadata": {},
   "source": [
    "Now, you need to determine at what point the function is going to stop. According to the anchor condition given, you can write - \n",
    "\\[ T(n) = \\begin{cases} \n",
    "          1 + T(n-1) & n > 1 \\\\\n",
    "          1 & n = 1 \n",
    "       \\end{cases}\n",
    "\\]"
   ]
  },
  {
   "cell_type": "markdown",
   "metadata": {},
   "source": [
    "Assume that, after running for `k` terms, the function stops running. If so, then it must be - \n",
    "\n",
    "$n - k = 1\n",
    "=> k = n - 1$\n",
    "\n",
    "Now substituting the value of k (= n -1) in $T(n) = k + T(n-k)$ :\n",
    "\n",
    "$T(n) = (n-1) + T(n-(n-1))$\n",
    "<br> $=> T(n) = (n-1) +  T(1)$\n",
    "<br>$=> T(n) = n-1 + 1 = n$ // For T(1) only comparison is required\n",
    "\n",
    "By the rule of **asymptotic analysis**, $T(n) = n$ can be rewritten as $T(n) = \\mathcal{O}(n)$. This means the time complexity (worst) of the function is $\\mathcal{O}(n)$."
   ]
  },
  {
   "cell_type": "markdown",
   "metadata": {},
   "source": [
    "You might want to slow down a bit here and observe each step of this process closely. It's highly recommended that you do this on a pen and paper so that you can understand every bit of it. \n",
    "\n",
    "The space complexity analysis of the function is simple. The function is an *in-memory* function and does not make use of any extra variables. So, you can conclude that the space complexity of the function $\\mathcal{O}(n)$."
   ]
  },
  {
   "cell_type": "markdown",
   "metadata": {},
   "source": [
    "Now you will put all these together and implement a simple recursive function in Python. "
   ]
  },
  {
   "cell_type": "markdown",
   "metadata": {},
   "source": [
    "## Implementing a simple recursive function in Python:\n",
    "\n",
    "You will write a recursive function to find the factorial of a given number. YOu will then write an iterative version of the same function. Let's get started. "
   ]
  },
  {
   "cell_type": "code",
   "execution_count": 1,
   "metadata": {},
   "outputs": [],
   "source": [
    "# Recursive function factorial_recursion()\n",
    "\n",
    "def factorial_recursion(n):  \n",
    "   if n == 1:  \n",
    "       return n  \n",
    "   else:  \n",
    "       return n*factorial_recursion(n-1)"
   ]
  },
  {
   "cell_type": "code",
   "execution_count": 3,
   "metadata": {},
   "outputs": [
    {
     "name": "stdout",
     "output_type": "stream",
     "text": [
      "The factorial of  7  is  5040\n"
     ]
    }
   ],
   "source": [
    "# Call the function \n",
    "\n",
    "num = 7\n",
    "print(\"The factorial of \",num,\" is \",factorial_recursion(num))  "
   ]
  },
  {
   "cell_type": "markdown",
   "metadata": {},
   "source": [
    "Remember the two key ingredients for writing a recursive function? \n",
    "- Recurrence relation\n",
    "- Termination condition\n",
    "\n",
    "In this case the recurrence relation can be - \n",
    "\n",
    "$f(n) = n!$\n",
    "<br>$f(n) = n * f(n-1)$ and so on.\n",
    "\n",
    "The termination condition is when n is equal to 1. \n",
    "\n",
    "Simple, right? \n",
    "\n",
    "Now, you will implement the iterative version of the same function. "
   ]
  },
  {
   "cell_type": "code",
   "execution_count": 6,
   "metadata": {},
   "outputs": [],
   "source": [
    "def factorial_iterative(num):\n",
    "    factorial = 1\n",
    "    if num < 0:\n",
    "        print(\"Sorry, factorial does not exist for negative numbers\")\n",
    "    elif num == 0:\n",
    "        print(\"The factorial of 0 is 1\")\n",
    "    else:\n",
    "        for i in range(1,num + 1):\n",
    "           factorial = factorial*i\n",
    "        print(\"The factorial of\",num,\"is\",factorial)"
   ]
  },
  {
   "cell_type": "code",
   "execution_count": 7,
   "metadata": {},
   "outputs": [
    {
     "name": "stdout",
     "output_type": "stream",
     "text": [
      "The factorial of 7 is 5040\n"
     ]
    }
   ],
   "source": [
    "factorial_iterative(7)"
   ]
  },
  {
   "cell_type": "markdown",
   "metadata": {},
   "source": [
    "You can clearly spot the difference between two versions. The recursive version is way more beautiful than the iterative version. Isn't it? "
   ]
  },
  {
   "cell_type": "markdown",
   "metadata": {},
   "source": [
    "## Congrats!\n",
    "\n",
    "You have made it till the end. In this tutorial, you did an extensive study of recursive functions. Starting from the absolute basics to analyzing the space and time complexities of a recursive function, you covered it all. You also saw, how recursion can be beneficial for solving problems with a particular characteristic. Now, you should be in a position to solve problems (having a recurrence relation and a termination condition) using recursion. You might want to solve the problem of finding **Fibonacci Numbers** within a range using recursion. \n",
    "\n",
    "I will insist you to solve some common problems like Binary Search, Merge Sort, Tower of Hanoi etc. using recursion and perform a space-time analysis as well. This will certainly make you a better programmer. \n",
    "\n",
    "From an introductory aspect the things you covered are sufficient. But if you want to study more about recursion, make sure you visit the following links:\n",
    "- [Recursion and Dictionaries by Prof. Grimson](https://ocw.mit.edu/courses/electrical-engineering-and-computer-science/6-0001-introduction-to-computer-science-and-programming-in-python-fall-2016/lecture-videos/lecture-6-recursion-and-dictionaries/)\n",
    "- [Dynamic Programming to optimize the performance of recursive functions](http://ranger.uta.edu/~kosmopo/cse2320/lectures/05-Recursion_DynamicProgramming.pdf)\n",
    "\n",
    "If you want to learn more about Python, take DataCamp's [Intro to Python for Data Science](https://www.datacamp.com/courses/intro-to-python-for-data-science?tap_a=5644-dce66f&tap_s=3575\n",
    "40-5b28dd) course which is absolutely free."
   ]
  }
 ],
 "metadata": {
  "kernelspec": {
   "display_name": "Python 3",
   "language": "python",
   "name": "python3"
  },
  "language_info": {
   "codemirror_mode": {
    "name": "ipython",
    "version": 3
   },
   "file_extension": ".py",
   "mimetype": "text/x-python",
   "name": "python",
   "nbconvert_exporter": "python",
   "pygments_lexer": "ipython3",
   "version": "3.6.5"
  },
  "latex_envs": {
   "LaTeX_envs_menu_present": true,
   "autoclose": false,
   "autocomplete": true,
   "bibliofile": "biblio.bib",
   "cite_by": "apalike",
   "current_citInitial": 1,
   "eqLabelWithNumbers": true,
   "eqNumInitial": 1,
   "hotkeys": {
    "equation": "Ctrl-E",
    "itemize": "Ctrl-I"
   },
   "labels_anchors": false,
   "latex_user_defs": false,
   "report_style_numbering": false,
   "user_envs_cfg": false
  },
  "toc": {
   "base_numbering": 1,
   "nav_menu": {},
   "number_sections": false,
   "sideBar": true,
   "skip_h1_title": false,
   "title_cell": "Table of Contents",
   "title_sidebar": "Contents",
   "toc_cell": false,
   "toc_position": {},
   "toc_section_display": true,
   "toc_window_display": false
  }
 },
 "nbformat": 4,
 "nbformat_minor": 2
}
