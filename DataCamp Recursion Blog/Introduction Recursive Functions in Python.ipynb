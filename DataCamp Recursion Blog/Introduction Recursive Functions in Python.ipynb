{
 "cells": [
  {
   "cell_type": "markdown",
   "metadata": {},
   "source": [
    "# Introduction Recursive Functions in Python\n",
    "\n",
    "Learn about different aspects of recursive functions and implement a recursive function in Python from scratch. "
   ]
  },
  {
   "cell_type": "markdown",
   "metadata": {},
   "source": [
    "Being a professional programmer, you need to be excellent at the basic things like variables, condition statements, data-types, access specifiers, function calling, scopes etc. No matter what kind kind of program you are writing - be it a program for a Middleware, be it a program related to Web Development or Data Science, these are some of the most basic things you, as a programmer, need to know to a great extent. You are programmer first and then you are a Data Scientist or Web Developer or Machine Learning Engineer etc. \n",
    "\n",
    "One such very important concept is **Recursion** and it is extremely vital to know while you are writing functions of a particular type. You may already know that - \"It is called Recursion when a function calls itself.\" But what happens under the hood? How the physical memory gets affected by Recursion? Can you turn every other function into a recursive function? In this tutorial, you will be finding answers to these fundamental questions. Specifically, you will cover: \n",
    "- Basic anatomy of a recursive function\n",
    "- Memory representation of a recursive function:\n",
    "    - Recursion stack        \n",
    "    - Recursion tree\n",
    "- Tracing a recursion\n",
    "- Space-time analysis of a recursive function\n",
    "- Implementing a simple recursive function in Python"
   ]
  },
  {
   "cell_type": "markdown",
   "metadata": {},
   "source": [
    "## Basic anatomy of a recursive function:\n",
    "\n",
    "You may have already come across the term _Recursion_ in your Computer Science or Information Technology under-graduation coursework. In this section, you will revisit those concepts but in an interesting way. Let's get started. \n",
    "\n",
    "Let's go back to the definition of recursion again: \"It is called Recursion when a function calls itself\". Let's take an example to support this definition: \n",
    "\n",
    "```C\n",
    "void A(n){\n",
    "    if(n>=1){\n",
    "        A(n-1);\n",
    "        print(n);\n",
    "    }\n",
    "}\n",
    "```"
   ]
  },
  {
   "cell_type": "markdown",
   "metadata": {},
   "source": [
    "You can clearly see that the function `A()` is getting called by itself. This is an example of recursion and `A()` is a recursive function. \n",
    "\n",
    "Let's study some basics of a recursive function now. \n",
    "\n",
    "\n",
    "### Basics of a recursive function:\n",
    "A recursive function has to contain the following two properties: \n",
    "- A recurrence relation\n",
    "- A termination condition\n",
    "\n",
    "Consider the above code snippet for understanding these points. Clearly, the function a specific recurrence relation: \n",
    "\n",
    "\\[ f(n) = \\begin{cases} \n",
    "          f(n-1) & n\\geq 1 \\\\\n",
    "          1 & n < 1 \n",
    "       \\end{cases}\n",
    "\\]\n",
    "\n",
    "$n\\le 1$ is the **terminating condition** / **anchor condition** / **base condition** and if it is met the recursion stops. It is very important to specify this condition. Otherwise, the function will fall into an **infinite loop**. \n",
    "\n",
    "(Please note that the above code snippet does not follow any particular programming language. The main intention here is to show an example of a recursive function.) "
   ]
  },
  {
   "cell_type": "markdown",
   "metadata": {},
   "source": [
    "You must be thinking now, why on earth someone would write a recursive function if there are better alternatives available? Yes, sometimes, it gets real hard to trace a recursion but once you get used to the practice you will find recursion to be absolutely beautiful in terms of program readability and variables. Recursion needs no extra variables in order to get executed but it needs a proper termination condition to stop. Often, it gets difficult to find the termination condition for a recursion. Then again, \"Practice makes you perfect\". Later in this tutorial, you will see how beautiful and small a program can be if it is implemented with recursion other than the conventional means. Now, you will proceed towards studying the memory representation of a recursive function. "
   ]
  }
 ],
 "metadata": {
  "kernelspec": {
   "display_name": "Python 3",
   "language": "python",
   "name": "python3"
  },
  "language_info": {
   "codemirror_mode": {
    "name": "ipython",
    "version": 3
   },
   "file_extension": ".py",
   "mimetype": "text/x-python",
   "name": "python",
   "nbconvert_exporter": "python",
   "pygments_lexer": "ipython3",
   "version": "3.6.5"
  },
  "latex_envs": {
   "LaTeX_envs_menu_present": true,
   "autoclose": false,
   "autocomplete": true,
   "bibliofile": "biblio.bib",
   "cite_by": "apalike",
   "current_citInitial": 1,
   "eqLabelWithNumbers": true,
   "eqNumInitial": 1,
   "hotkeys": {
    "equation": "Ctrl-E",
    "itemize": "Ctrl-I"
   },
   "labels_anchors": false,
   "latex_user_defs": false,
   "report_style_numbering": false,
   "user_envs_cfg": false
  },
  "toc": {
   "base_numbering": 1,
   "nav_menu": {},
   "number_sections": false,
   "sideBar": true,
   "skip_h1_title": false,
   "title_cell": "Table of Contents",
   "title_sidebar": "Contents",
   "toc_cell": false,
   "toc_position": {},
   "toc_section_display": true,
   "toc_window_display": false
  }
 },
 "nbformat": 4,
 "nbformat_minor": 2
}
