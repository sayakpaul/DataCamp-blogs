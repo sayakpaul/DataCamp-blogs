{
 "cells": [
  {
   "cell_type": "markdown",
   "metadata": {},
   "source": [
    "# <center> Introduction to Indexing in SQL </center>\n",
    "Learn about indexing in databases and the different types of indexing techniques. "
   ]
  },
  {
   "cell_type": "markdown",
   "metadata": {},
   "source": [
    "Being a data scientist, you will often have to deal with loads of data. Dealing with data (which is present in heavy quantities) is not at all easy. So, to deal with it as efficiently as possible you need to have a clear understanding of how the data is organized physically so that you can process it with handy techniques. \n",
    "\n",
    "SQL is a must-have skill for any modern software engineer. Because most of the softwares depend on some kind of data and integrates well with an RDBMS (Relational Database Management System). Be it a web application, be it an API or be it an in-house application, RDBMS is always there. And SQL is the language for querying an RDBMS.\n",
    "\n",
    "As a data scientist, it is very primary to know SQL and its related techniques. For being able to query an RDBMS and get answers to specific questions that you will have about the data you are dealing with, SQL is the minimum need.\n",
    "\n",
    "In his latest video with DataCamp, David Robinson(Chief Data Scientist @ DataCamp) showed us how he uses SQL in a [Data Science problem](https://www.youtube.com/watch?v=6M0W-zmau8I). Please check it out, his workflow is very interesting.\n",
    "\n",
    "Today you are going to learn about a technique called _Indexing_ that primarily concerns organization of data inside a database and you are going to implement some of them using SQL. This will give you an overview of how indexing can be used to store information inside a database and how it can result in faster execution times. \n",
    "\n",
    "Following is going to be the outline of this tutorial: \n",
    "* A brief note on the organization of records in a file\n",
    "* Why indexing is required?\n",
    "* Structure of index files\n",
    "* Classification of indexing\n",
    "* Anatomy of each of the types\n",
    "* Examples in SQL\n",
    "\n",
    "**N.B.**: Before you start reading this tutorial it is highly recommended that you learn the basics of SQL if you are not familiar with them. DataCamp's [Intro to SQL for Data Science](https://www.datacamp.com/courses/intro-to-sql-for-data-science) course is a very good resource in case you want to refresh your SQL basics. "
   ]
  },
  {
   "cell_type": "markdown",
   "metadata": {},
   "source": [
    "## A brief note on organization of records in a file: \n",
    "Before you start studying about anything on indexing, it is really important that you understand how data is organized physically inside files. Obviously, you are not going to go into all the details but having a good overview of the organization will help you in understanding _indexing_ very clearly. Let's get started. \n",
    "\n",
    "Organization of records/data in general deals with how the records are stored and broadly the organizations can be divided into two types:\n",
    "\n",
    "- **Ordered organization**: All the records in a file are ordered in some search key value. **[Binary search](https://www.geeksforgeeks.org/binary-search/)** is generally incorporated to search for any value residing inside the ordered file. This makes the search very efficient as the search time complexity remains within _logarithmic time_. But insertion to the file becomes an expensive operation because you might have to reorganize the entire file to facilitate the new item. \n",
    "\n",
    "- **Unordered organization**: In this type, records are inserted in the file wherever place is available, usually to the very end of the file. As linear search is used for this type, the search is not as efficient as the previous variant but insertion is not that of an expensive operation.\n",
    "\n",
    "Although you have an ordered organization of files what if the block sizes of the files and size of each record inside the files are very big? Let's explore this in the next section. "
   ]
  },
  {
   "cell_type": "markdown",
   "metadata": {},
   "source": [
    "## Need for indexing: \n",
    "You will start this section by learning about the motivation behind using indexing in order to store files/information _efficiently_ and how it enhances the other operations related to these files/information. \n",
    "\n",
    "Consider you have a table (relation) consisting several records in a database. The records are further divided into 1000 blocks. Pictorially, the organization looks like the following: \n",
    "\n",
    "<img src = \"https://image.ibb.co/dEc6dV/Capture.jpg\"></img>"
   ]
  },
  {
   "cell_type": "markdown",
   "metadata": {},
   "source": [
    "From the above organization it is clear that -\n",
    "- The order is applied to the first column of records (consider that this is a relational database system inside which data in organized in a tabular manner)\n",
    "- The number of blocks in which the total data is divided  - **1000 blocks**. \n",
    "\n",
    "Remember that, each record contains other columns as well but for this organization the order is applied on the first column and the blocks are accordingly divided. Now, if you do a _binary search_ in order to search for anything inside this organization or records, the total time it will take is - $\\log_{2}1000$ which is equal 10 units of time. Can this search time be improved? \n",
    "\n",
    "Of course, yes. "
   ]
  },
  {
   "cell_type": "markdown",
   "metadata": {},
   "source": [
    "Consider this with respect to _reading a book_ not having the index page. You open a random page (or in case of binary search you open the middle page of the book) and turn the pages left and right accordingly to go to the page that you want. This certainly takes time. Isn't it?\n",
    "\n",
    "But if the book had contained the index page, this would certainly make the search even more efficient. You could have gone to the page just by looking at the index. You can apply indexing in the same way to the above situation. \n",
    "\n",
    "Here is a summary of how you can apply *indexing* here: \n",
    "* Maintain a block pointer for each block along with the ordered values used for the earlier organization.\n",
    "\n",
    "This will result in lesser number of blocks used to store the data files. Now, in order to search for a particular record, you will just have to search through this new organization consisting of lesser number of blocks and eventually you will get your record (if at all it is present) in a much less time. Let's visualize this thing. Considering the number of newly indexed records resulted in **8** blocks, you will get an organization like the following: \n",
    "\n",
    "<img src = \"https://image.ibb.co/n70Uhq/Capture.jpg\"></img>"
   ]
  },
  {
   "cell_type": "markdown",
   "metadata": {},
   "source": [
    "The search time is going to be drastically reduced for the lesser number of blocks. Suppose, you want to search the record **90**. In this new indexed scheme, you will first have to locate its respective block pointer which in this case is 3 and then using this information you will find the original data records just in one go. \n",
    "\n",
    "So, the search time in this case is going to be $\\log_{2}8 + 1$ = 4 units of time which is **significantly less** as compared to the earlier one. "
   ]
  },
  {
   "cell_type": "markdown",
   "metadata": {},
   "source": [
    "The above example introduces you to the need of performing indexing. Here are some points about indexing worth considering: \n",
    "* Ordering on the original data records can be done using only one field. And then the field entries can be indexed accordingly. Only if you are trying to search using that field you will get an improved search time. (Extremely important)\n",
    "* The indices are also ordered. \n",
    "* Index record contains two fields (structure of the index file)- \n",
    "    * The key of the original file\n",
    "    * Pointer  to the block where the key is available in the original data records\n",
    "* Binary search is used to search through the indices.\n",
    "* To access a record using the indexed entries, the average number of block accesses required-\n",
    "<center> $\\log_{2}B_i + 1$ , where $B_i$ is the number of blocks in the indexed records  </center>\n",
    "* Index can be created on any field of the relation (primary key, candidate keys, non-keys). \n",
    "\n",
    "Now, based on the ordering of the original data records and how many records you are going to maintain in the indexed file there can be many indexing schemes. In the next section, you will study about the most popular ones. "
   ]
  },
  {
   "cell_type": "markdown",
   "metadata": {},
   "source": [
    "## Different indexing strategies: \n",
    "- **Dense Indexing**: If an index entry is created for <u>every search key value</u>, then it is dense indexing. Consider the following diagram for understanding this visually. \n",
    "\n",
    "<img src = \"https://image.ibb.co/gLhOaA/Diagrams.jpg\"></img>\n",
    "\n",
    "- ** Sparse Indexing**: If an index entry is created only for some records, then it is sparse indexing. Here's a diagram describing this pictorially. \n",
    "\n",
    "<img src = \"https://image.ibb.co/nrE5Nq/Diagrams-1.jpg\"></img>"
   ]
  },
  {
   "cell_type": "markdown",
   "metadata": {},
   "source": [
    "The diagrams above make both the indexing schemes quite easy to understand. One important point you have to make here is that the above example of _sparse indexing_ is a combination of both dense and sparse indexing. That is because **for every unique search key values (1,2 and 3) there is an index but for every data records there is not an index**. \n",
    "\n",
    "Now you will study the other types of indexing schemes based on the level of records. In a _single-level indexing_, the number of index file is only one. But, sometimes the size of the index file becomes so large that the index file itself gets indexed. In that case, it called _multi-level indexing_. Let's delve further. "
   ]
  },
  {
   "cell_type": "markdown",
   "metadata": {},
   "source": [
    "Here's an overview of the further indexing strategies made based on leveling. \n",
    "\n",
    "### Single-level indexing:\n",
    "* Primary indexing\n",
    "* Clustered indexing\n",
    "* Secondary indexing\n",
    "\n",
    "### Multi-level indexing:\n",
    "* B Tree\n",
    "* B+ Tree\n",
    "\n",
    "You will study all of the indexing strategies belonging to single-level indexing. To the end of this tutorial, you will have a link to study the multi-level indexing schemes in case if you are interested. Let's study **Primary Indexing** now. "
   ]
  },
  {
   "cell_type": "markdown",
   "metadata": {},
   "source": [
    "### Primary indexing: \n",
    "A primary index is an ordered file whose records are of fixed length with two fields:\n",
    "- The first field is same as the _primary key_ of data file.\n",
    "- The second field is a pointer to the data block where the primary key is available. - [Source](http://www.ctp.bilkent.edu.tr/~russell/ctp225/SingleLevelIndexing.doc)\n",
    "\n",
    "Index created for the first record of each block is called **block anchors**. In primary indexing, the number of index entries = the number of original data blocks. The average number of block accesses using primary index is:\n",
    "<center> $\\log_{2}B_i + 1$ , where $B_i$ is the number of blocks in the indexed records.  </center>\n",
    "\n",
    "Refer to the following diagram in order to understand this more clearly:\n",
    "<img src = \"https://image.ibb.co/nJZBCq/Diagrams.jpg\"></img>"
   ]
  },
  {
   "cell_type": "markdown",
   "metadata": {},
   "source": [
    "The right most figure refers to the original data records divided into several blocks. Note that column containing the numbers 1,2,3,...,9 are the primary keys. The left most figure refers to the indexed entries where each entry consists of:\n",
    "- The first entry of each data block (block anchor)\n",
    "- The second entry denotes the block pointer. \n",
    "\n",
    "Take a moment and think what of kind indexing this is (Sparse or Dense). Use the `comments` section for posting your answers. \n",
    "\n",
    "You will now study **Clustering Indexing**. "
   ]
  },
  {
   "cell_type": "markdown",
   "metadata": {},
   "source": [
    "### Clustering indexing: \n",
    "Clustering index is created on data file whose file records are physically ordered on a non-key field which does not have a distinct value for each record. This field is known as clustering field based on which the indexing is performed. Hence the name - clustering index.  "
   ]
  },
  {
   "cell_type": "markdown",
   "metadata": {},
   "source": [
    "<img src = \"https://image.ibb.co/bDtkNq/Diagrams-1.jpg\"></img>"
   ]
  },
  {
   "cell_type": "markdown",
   "metadata": {},
   "source": [
    "Diagrams always make it easier to understand. As you can see the original data records are ordered on a non-key attribute and for each distinct value of the non-key attribute an index entry is created. The number of average block accesses need to locate a particular record using this scheme is $\\geq$ $\\log_{2}B_i + 1$ , where $B_i$ is the number of blocks in the indexed records. Notice the $\\geq$ sign here. \n",
    "\n",
    "In clustering index, after locating block to which a particular key is present you may to traverse other blocks as well (which is quite evident from the above figure). \n",
    "\n",
    "You might want to think what of kind indexing this is (Sparse or Dense). Use the comments section for posting your answers. Let's study **Secondary Indexing** now. "
   ]
  },
  {
   "cell_type": "markdown",
   "metadata": {},
   "source": [
    "### Secondary indexing:\n",
    "Suppose you have a tabled called `Employee` in your database. The table has the following attributes:\n",
    "- employee_id\n",
    "- employee_name\n",
    "- employee_department\n",
    "- employee_salary\n",
    "\n",
    "**employee_id** is its primary key. Now, you have already created primary indexing on this table based on **employee_id**. But while developing an application, you found out that most of the database queries are using the attribute **employee_name**. In that case, the primary indexing will not help much and it will be a good practice to maintain separate indexing for all values belonging to **employee_name**. In anyway, the employee names are not going to be present in an ordered way inside the database. So, indexing them will certainly speed up the queries involving employee names. \n",
    "\n",
    "This is a classic example of **secondary indexing**. Let's try to construct a suitable image for secondary indexing as well:\n"
   ]
  },
  {
   "cell_type": "markdown",
   "metadata": {},
   "source": [
    "<img src = \"https://image.ibb.co/g6tc2q/Diagrams.jpg\"></img>"
   ]
  },
  {
   "cell_type": "markdown",
   "metadata": {},
   "source": [
    "Please feel free to post a better representation in the `comments` section if you got one. "
   ]
  },
  {
   "cell_type": "markdown",
   "metadata": {},
   "source": [
    "You will now see how you can create indices in [PostgreSQL](https://www.postgresql.org/). Take DataCamp's [Joining Data in PostgreSQL](https://www.datacamp.com/courses/joining-data-in-postgresql) course if you want get its basics down. "
   ]
  },
  {
   "cell_type": "markdown",
   "metadata": {},
   "source": [
    "## Creating indices in PostgreSQL:\n",
    "Before you begin to create indices in a PostgreSQL database, you will need to some data present in a table. Let's create a simple table named `Student` consisting of the following records:\n",
    "- student_id\n",
    "- student_name\n",
    "- student_year\n",
    "\n",
    "You will make `student_id` as the primary key and you will not allow the student names and student years to be null. "
   ]
  },
  {
   "cell_type": "markdown",
   "metadata": {},
   "source": [
    "Following is going to be the query for this:\n",
    "```SQL\n",
    "CREATE TABLE STUDENT(\n",
    "   student_id TEXT PRIMARY KEY,\n",
    "   student_name  TEXT NOT NULL,\n",
    "   student_year  TEXT NOT NULL \n",
    ");\n",
    "```"
   ]
  },
  {
   "cell_type": "markdown",
   "metadata": {},
   "source": [
    "After the table is successfully created, you will have to insert some suitable data into the table. For convenience, you can use [this .csv file](https://drive.google.com/file/d/1bhI4FPkrEE-vJVSJzzrYjojRpFkEFg2L/view?usp=sharing) and import it into `Student`. You can import a compatible .csv file into a PostgreSQL table using the following query: \n",
    "\n",
    "```sql\n",
    "COPY STUDENT FROM '/path/to/csv/Student.csv' WITH (FORMAT csv);\n",
    "```"
   ]
  },
  {
   "cell_type": "markdown",
   "metadata": {},
   "source": [
    "The above query assumes that the name of the .csv file from which data is being copied is **Student**."
   ]
  },
  {
   "cell_type": "markdown",
   "metadata": {},
   "source": [
    "Let's take a look at the data now. Running `select * from STUDENT;` returns the following records:\n",
    "<img src = \"https://image.ibb.co/kdHjFA/Capture.jpg\"></img>"
   ]
  },
  {
   "cell_type": "markdown",
   "metadata": {},
   "source": [
    "The `select` query should return a total of 86 records. Now, you are in a position to create indices. You can create single-column indices using the following syntax:\n",
    "```sql\n",
    "CREATE INDEX index_name\n",
    "ON table_name (column_name);\n",
    "```\n",
    "Let's create an index on the `student_id` field (primary indexing). "
   ]
  },
  {
   "cell_type": "markdown",
   "metadata": {},
   "source": [
    "```sql\n",
    "CREATE INDEX id_index\n",
    "ON STUDENT (student_id);\n",
    "```"
   ]
  },
  {
   "cell_type": "markdown",
   "metadata": {},
   "source": [
    "Multi-column indices can also be created:\n",
    "```sql\n",
    "CREATE INDEX id_index\n",
    "ON STUDENT (student_id,student_name);\n",
    "```"
   ]
  },
  {
   "cell_type": "markdown",
   "metadata": {},
   "source": [
    "You can drop an index using the following syntax:\n",
    "```SQL\n",
    "DROP INDEX index_name;\n",
    "```"
   ]
  },
  {
   "cell_type": "markdown",
   "metadata": {},
   "source": [
    "It is hard to get a feeling of what indexing is doing in a small table like `STUDENT`. But if the table was large (consider a database table containing similar records of a big university) indexing would certainly play a vital role. "
   ]
  },
  {
   "cell_type": "markdown",
   "metadata": {},
   "source": [
    "## You did it!\n",
    "Congratulations for making it till the end. In this tutorial, you studied about indexing, its needs, different indexing schemes. You also saw how you can perform simple indexing in PostgreSQL. \n",
    "\n",
    "But you did not study about **multi-level indexing** in this tutorial. Following are some good resources if you are interested to study them:\n",
    "- [B Trees and B+ Trees. How they are useful in Databases](https://www.youtube.com/watch?v=aZjYr87r1b8)\n",
    "- [B Trees and B+ Trees](https://www.geeksforgeeks.org/data-structure-gq/b-and-b-trees-gq/)\n",
    "\n",
    "But does it always help to use indexing? Well, there are some cases, where using indexing is not advisable. \n",
    "\n",
    "<img src = \"https://image.ibb.co/dA9sJV/Capture.jpgq\">\n",
    "\n",
    "\n",
    "<center>[Source](https://www.tutorialspoint.com/postgresql/postgresql_indexes.htm)</center>"
   ]
  },
  {
   "cell_type": "markdown",
   "metadata": {},
   "source": [
    "I hope the tutorial helped you to get the basics of indexing cleared. Let me know about your interesting findings in the `comments` section. "
   ]
  }
 ],
 "metadata": {
  "kernelspec": {
   "display_name": "Python 3",
   "language": "python",
   "name": "python3"
  },
  "language_info": {
   "codemirror_mode": {
    "name": "ipython",
    "version": 3
   },
   "file_extension": ".py",
   "mimetype": "text/x-python",
   "name": "python",
   "nbconvert_exporter": "python",
   "pygments_lexer": "ipython3",
   "version": "3.6.5"
  },
  "latex_envs": {
   "LaTeX_envs_menu_present": true,
   "autoclose": false,
   "autocomplete": true,
   "bibliofile": "biblio.bib",
   "cite_by": "apalike",
   "current_citInitial": 1,
   "eqLabelWithNumbers": true,
   "eqNumInitial": 1,
   "hotkeys": {
    "equation": "Ctrl-E",
    "itemize": "Ctrl-I"
   },
   "labels_anchors": false,
   "latex_user_defs": false,
   "report_style_numbering": false,
   "user_envs_cfg": false
  },
  "toc": {
   "base_numbering": 1,
   "nav_menu": {},
   "number_sections": false,
   "sideBar": true,
   "skip_h1_title": false,
   "title_cell": "Table of Contents",
   "title_sidebar": "Contents",
   "toc_cell": false,
   "toc_position": {
    "height": "calc(100% - 180px)",
    "left": "10px",
    "top": "150px",
    "width": "320px"
   },
   "toc_section_display": true,
   "toc_window_display": false
  }
 },
 "nbformat": 4,
 "nbformat_minor": 2
}
