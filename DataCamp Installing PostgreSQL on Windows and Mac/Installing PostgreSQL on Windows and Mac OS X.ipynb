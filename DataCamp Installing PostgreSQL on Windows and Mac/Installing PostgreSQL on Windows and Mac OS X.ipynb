{
 "cells": [
  {
   "cell_type": "markdown",
   "metadata": {},
   "source": [
    "## Installing PostgreSQL on Windows and Mac OS X\n",
    "\n",
    "In this tutorial, you will learn to install PostgreSQL on two different operating systems - Windows and Mac. "
   ]
  },
  {
   "cell_type": "markdown",
   "metadata": {},
   "source": [
    "[PostgreSQL](https://www.postgresql.org/) is an open-source and light-weighted relational database management system (RDBMS). It is widely popular among developers and has been well-accepted by the industry. This tutorial is going to show you how you can install a specific version of PostgreSQL on either Windows or Mac. This tutorial will include - \n",
    "* Installing PostgreSQL on Windows\n",
    "* Testing your PostgreSQL installation on Windows\n",
    "* Installing PostgreSQL on Mac OS X\n",
    "* Testing your PostgreSQL installation on Mac OSX"
   ]
  },
  {
   "cell_type": "markdown",
   "metadata": {},
   "source": [
    "### Installing PostgreSQL on Windows\n",
    "\n",
    "PostgreSQL provides a nice graphical installer to install it. It is probably the easiest way to install PostgreSQL. For installing PostgreSQL on Windows, first head over to https://www.enterprisedb.com/downloads/postgres-postgresql-downloads and you should be provided with a table containing different distributions of PostgreSQL for different platforms - \n",
    "\n",
    "![](https://i.ibb.co/Cm1fRT2/Capture-1.png)"
   ]
  },
  {
   "cell_type": "markdown",
   "metadata": {},
   "source": [
    "> PostgreSQL does not ask for any fancy requirements and it runs mostly on a variety of [commodity computers](https://whatis.techtarget.com/definition/commodity-computer). So, system requirements' problem should not be there. \n",
    "\n",
    "Assuming you are on Windows (32-bit version) platform and want to install the **9.4.21** version of PostgreSQL, you can click on the button as marked in the following figure - \n",
    "\n",
    "![](https://i.ibb.co/XDbc2hd/Capture-2.png)"
   ]
  },
  {
   "cell_type": "markdown",
   "metadata": {},
   "source": [
    "Navigate to the location where the graphical installer got downloaded and double-click on it. It may vary from user to user depending on their administration schemes. You may have to run the installer as an administrator. Assuming you are already an administrator, double-clicking on the installer file will prompt you with a dialog-box. The dialog box simply asks for your permission to install PostgreSQL on your computer. Click on **Yes**.\n"
   ]
  },
  {
   "cell_type": "markdown",
   "metadata": {},
   "source": [
    "You will then get something like this - \n",
    "\n",
    "![](https://i.ibb.co/PxYsST3/Capture-3.png)\n",
    "\n",
    "Click on **Next**. You will be prompted to specify the path of the destination folder in which you want to install PostgreSQL.\n",
    "\n",
    "![](https://i.ibb.co/8c6P01H/Capture-4.png)\n",
    "\n",
    "Specify the path and click on **Next**."
   ]
  },
  {
   "cell_type": "markdown",
   "metadata": {},
   "source": [
    "You will next see a dialog box asking you to specify the _data directory_ of PostgreSQL. It is recommended to leave it as it appears - \n",
    "\n",
    "![](https://i.ibb.co/V2VFwPH/Capture-5.png)"
   ]
  },
  {
   "cell_type": "markdown",
   "metadata": {},
   "source": [
    "You will now be asked to enter a password to protect your PostgreSQL database system. It is highly advised that you provide one - \n",
    "\n",
    "![](https://i.ibb.co/xj4yxWr/Capture-6.png)"
   ]
  },
  {
   "cell_type": "markdown",
   "metadata": {},
   "source": [
    "PostgreSQL's services run on port number **5432**. But PostgreSQL also lets you specify that after you enter and confirm your password - \n",
    "\n",
    "![](https://i.ibb.co/4stdLrm/Captire-7.png)\n",
    "\n",
    "It is recommended that you keep 5432 as it is. "
   ]
  },
  {
   "cell_type": "markdown",
   "metadata": {},
   "source": [
    "You will then be asked to provide the **Locale** of the database. It is better to leave it to the **Default** one as shown the following figure and click on **Next**- \n",
    "\n",
    "![](https://i.ibb.co/TPRG4WC/Capture-8.png)"
   ]
  },
  {
   "cell_type": "markdown",
   "metadata": {},
   "source": [
    "PostgreSQL is now finally ready to get installed on your Windows computer. And you are left with just one click (on **Next**)- \n",
    "\n",
    "![](https://i.ibb.co/QKRThnG/Capture-9.png)"
   ]
  },
  {
   "cell_type": "markdown",
   "metadata": {},
   "source": [
    "Your PostgreSQL installation should now have started. It won't take much time. Towards to the very end of the installation process, you will be prompted to check/uncheck so as to launch **StackBuilder**. You can uncheck that and click on **Finish**. \n",
    "\n",
    "![](https://i.ibb.co/cJmtbDv/Capture-10.png)"
   ]
  },
  {
   "cell_type": "markdown",
   "metadata": {},
   "source": [
    "### Testing your PostgreSQL installation on Windows\n",
    "\n",
    "After you done installing PostgreSQL, you can verify if the installation was correct or not. For this, simply press the **Windows** button from your keyboard and type **psql**. Select the option that says **SQL Shell (psql)**. The SQL Shell of PostgreSQL looks just like the command-prompt - \n",
    "\n",
    "![](https://i.ibb.co/HVQ4jqB/Capture-11.png)\n",
    "\n",
    "Hit **Enter** four times in case you followed all the default settings while installing PostgreSQL otherwise, you will have to manually specify all the values as needed by **psql**. Finally, give the password you provided during the installation and hit **Enter**. If you get the `postgres=#` prompt, then your installation was all correct. \n",
    "\n",
    "![](https://i.ibb.co/0ykzZY8/Capture-12.png)\n",
    "\n",
    "You will now see how to install the same version of PostgreSQL on a Mac computer. "
   ]
  },
  {
   "cell_type": "markdown",
   "metadata": {},
   "source": [
    "### Installing PostgreSQL on Mac OS X\n",
    "\n",
    "To install PostgreSQL on a Mac computer, head over to https://www.enterprisedb.com/downloads/postgres-postgresql-downloads and click on the button as shown in the following figure (version 9.4.21) - \n",
    "\n",
    "![](https://i.ibb.co/VV1kdw9/Screen-Shot-2019-02-20-at-11-04-22-AM.png)"
   ]
  },
  {
   "cell_type": "markdown",
   "metadata": {},
   "source": [
    "Now, navigate to the location where the installer got downloaded. \n",
    "\n",
    "![](https://i.ibb.co/XsRcsXJ/Screen-Shot-2019-02-20-at-11-17-20-AM.png)"
   ]
  },
  {
   "cell_type": "markdown",
   "metadata": {},
   "source": [
    "Double-click on the installer file. And you will be provided with another folder containing two files - \n",
    "![](https://i.ibb.co/Wt2ym75/Screen-Shot-2019-02-20-at-11-18-38-AM.png)\n",
    "\n",
    "Double-click on this file - \n",
    "\n",
    "![](https://i.ibb.co/ZKpkqvV/Screen-Shot-2019-02-20-at-11-20-14-AM.png)"
   ]
  },
  {
   "cell_type": "markdown",
   "metadata": {},
   "source": [
    "You will be asked to either **Cancel** or **Open** further. In order to continue the installation, click on **Open**. \n",
    "\n",
    "![](https://i.ibb.co/Wy9ZsFz/Screen-Shot-2019-02-20-at-11-21-48-AM.png)\n",
    "\n",
    "You will then be prompted to enter your password for your Mac OS X.\n",
    "![](https://i.ibb.co/8Kvy1j3/Screen-Shot-2019-02-20-at-11-22-28-AM.png)"
   ]
  },
  {
   "cell_type": "markdown",
   "metadata": {},
   "source": [
    "After entering your password, click on **OK**. You will then see something like this - \n",
    "\n",
    "![](https://i.ibb.co/mH5bhP0/Screen-Shot-2019-02-20-at-11-26-26-AM.png)\n",
    "\n",
    "Simply, click on **Next**."
   ]
  },
  {
   "cell_type": "markdown",
   "metadata": {},
   "source": [
    "Now, everything is exactly the same with the Windows' installation steps. Once you are done installing PostgreSQL, you can test if it was correct. "
   ]
  },
  {
   "cell_type": "markdown",
   "metadata": {},
   "source": [
    "### Testing your PostgreSQL installation on Mac OS X\n",
    "\n",
    "To test the installation, simply click on **Launchpad** and type **psql**. You should get the following if you do so - \n",
    "\n",
    "![](https://i.ibb.co/Tw55k4p/Screen-Shot-2019-02-20-at-11-31-12-AM.png)"
   ]
  },
  {
   "cell_type": "markdown",
   "metadata": {},
   "source": [
    "Click on it and then you will get a prompt like this - \n",
    "\n",
    "![](https://i.ibb.co/B48n9td/Screen-Shot-2019-02-20-at-11-30-23-AM.png)\n",
    "\n",
    "You will be asked to enter the details and the values may vary from user to user. If you followed the default installation without changing any of the values during the installation, just hit **Enter** four times and enter the password you provided during the installation. \n",
    "\n",
    "If you get the psql prompt i.e. `postgres=#` then your installation is correct. "
   ]
  },
  {
   "cell_type": "markdown",
   "metadata": {},
   "source": [
    "### Taking it further\n",
    "\n",
    "You now know how you can install PostgreSQL on your computer. If you are looking to hone your SQL skills using PostgreSQL here are some of the resources that might help you - \n",
    "\n",
    "* [Intro to SQL for Data Science](https://www.datacamp.com/courses/intro-to-sql-for-data-science)\n",
    "* [Joining Data in SQL](https://www.datacamp.com/courses/joining-data-in-postgresql)\n",
    "* [SQL for Exploratory Data Analysis](https://www.datacamp.com/courses/sql-for-exploratory-data-analysis)\n"
   ]
  }
 ],
 "metadata": {
  "kernelspec": {
   "display_name": "Python 3",
   "language": "python",
   "name": "python3"
  },
  "language_info": {
   "codemirror_mode": {
    "name": "ipython",
    "version": 3
   },
   "file_extension": ".py",
   "mimetype": "text/x-python",
   "name": "python",
   "nbconvert_exporter": "python",
   "pygments_lexer": "ipython3",
   "version": "3.6.5"
  },
  "latex_envs": {
   "LaTeX_envs_menu_present": true,
   "autoclose": false,
   "autocomplete": true,
   "bibliofile": "biblio.bib",
   "cite_by": "apalike",
   "current_citInitial": 1,
   "eqLabelWithNumbers": true,
   "eqNumInitial": 1,
   "hotkeys": {
    "equation": "Ctrl-E",
    "itemize": "Ctrl-I"
   },
   "labels_anchors": false,
   "latex_user_defs": false,
   "report_style_numbering": false,
   "user_envs_cfg": false
  },
  "toc": {
   "base_numbering": 1,
   "nav_menu": {},
   "number_sections": false,
   "sideBar": true,
   "skip_h1_title": false,
   "title_cell": "Table of Contents",
   "title_sidebar": "Contents",
   "toc_cell": false,
   "toc_position": {},
   "toc_section_display": true,
   "toc_window_display": false
  }
 },
 "nbformat": 4,
 "nbformat_minor": 2
}
