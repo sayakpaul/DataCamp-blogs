{
  "nbformat": 4,
  "nbformat_minor": 0,
  "metadata": {
    "colab": {
      "name": "K Means: A macroscopic investigation using Python.ipynb",
      "version": "0.3.2",
      "views": {},
      "default_view": {},
      "provenance": [],
      "collapsed_sections": []
    },
    "kernelspec": {
      "name": "python3",
      "display_name": "Python 3"
    }
  },
  "cells": [
    {
      "metadata": {
        "id": "5Y7CYy44-F01",
        "colab_type": "text"
      },
      "cell_type": "markdown",
      "source": [
        "<h1><center>K-Means: A macroscopic investigation using Python</center></h1>"
      ]
    },
    {
      "metadata": {
        "id": "pah0eiSZ-dXK",
        "colab_type": "text"
      },
      "cell_type": "markdown",
      "source": [
        "In Machine Learning, the types of <b>Learning</b> can broadly be classified into three types: <b>1. Supervised Learning, 2. Unsupervised Learning and 3. Semi-supervised Learning</b>. Algorithms belonging to the family of <b>Unsupervised Learning</b> have no variable to predict tied to the data. Instead of having an output, the data only has an input which would be multiple variables that describe the data. This is where clustering comes in.  \n",
        "\n",
        "Clustering is the task of grouping together a set of objects in a way that objects in the same cluster are more similar to each other than to objects in other clusters. Similarity is an amount that reflects the strength of relationship between two data objects. Clustering is mainly used for exploratory data mining. Clustering has manifold usage in many fields such as machine learning, pattern recognition, image analysis, information retrieval, bio-informatics, data compression, and computer graphics.\n",
        "\n",
        "However, this post tries to unravel the inner workings of K-Means, a very popular clustering technique. There's also a very good DataCamp post on K-Means which explains the types of clustering (hard and soft clustering), types of clustering methods (connectivity, centroid, distribution and density) with a case study. K-Means will help you to tackle unlabeled datasets (i.e. the datasets that do not have any class-labels) and draw your own inferences from them with ease. \n",
        "\n",
        "K-Means falls under the category of centroid-based clustering. A centroid is a data point (imaginary or real) at the center of a cluster. In centroid-based clustering, clusters are represented by a central vector or a centroid. This centroid might not necessarily be a member of the dataset. Centroid-baes clustering is an iterative clustering algorithm in which the notion of similarity is derived by how close a data point is to the centroid of the cluster. \n",
        "\n",
        "<h2>In this post you will get to know about:</h2>\n",
        "* The inner workings of K-Means algorithm\n",
        "* A simple case study of K-Means in Python\n",
        "* Disadvantages of K-Means\n",
        "* Further readings on K-Means\n",
        "\n",
        "So, let's dissect the operations of K-Means.\n",
        "\n",
        "<h3>The inner workings of K-Means algorithm:</h3>\n",
        "To do this, you will need a sample dataset (training set):\n",
        "\n",
        "<center><table border = \"1\">\n",
        "  <tr>\n",
        "    <th>Objects</th>\n",
        "    <th>X</th>\n",
        "    <th>Y</th>\n",
        "    <th>Z</th>\n",
        "  </tr>\n",
        "  <tr>\n",
        "    <td>OB-1</td>\n",
        "    <td>1</td>\n",
        "    <td>4</td>\n",
        "    <td>1</td>\n",
        "  </tr>\n",
        "  <tr>\n",
        "    <td>OB-2</td>\n",
        "    <td>1</td>\n",
        "    <td>2</td>\n",
        "    <td>2</td>\n",
        "  </tr>\n",
        "  <tr>\n",
        "    <td>OB-3</td>\n",
        "    <td>1</td>\n",
        "    <td>4</td>\n",
        "    <td>2</td>\n",
        "  </tr>\n",
        "  <tr>\n",
        "    <td>OB-4</td>\n",
        "    <td>2</td>\n",
        "    <td>1</td>\n",
        "    <td>2</td>\n",
        "  </tr>\n",
        "  <tr>\n",
        "    <td>OB-5</td>\n",
        "    <td>1</td>\n",
        "    <td>1</td>\n",
        "    <td>1</td>\n",
        "  </tr>\n",
        "  <tr>\n",
        "    <td>OB-6</td>\n",
        "    <td>2</td>\n",
        "    <td>4</td>\n",
        "    <td>2</td>\n",
        "  </tr>\n",
        "  <tr>\n",
        "    <td>OB-7</td>\n",
        "    <td>1</td>\n",
        "    <td>1</td>\n",
        "    <td>2</td>\n",
        "  </tr>\n",
        "  <tr>\n",
        "    <td>OB-8</td>\n",
        "    <td>2</td>\n",
        "    <td>1</td>\n",
        "    <td>1</td>\n",
        "  </tr>\n",
        " </table></center>\n",
        " \n",
        "The sample dataset contains 8 objects with their X, Y and Z coordinates. Your task is to cluster these objects into two clusters (here you define the value of K (of K-Means) i.e. to be 2).\n",
        "\n",
        "So, the algorithm works by:\n",
        "<ul>\n",
        "<li>Taking any two centroids (as you took 2 as K hence the number of centroids also 2) in its account initially. </li>\n",
        "<li>After choosing the centroids, (say C1 and C2) the data points (coordinates here) are assigned to any of the Clusters (let’s take centroids = clusters for the time being) depending upon the distance between them and the centroids. </li>\n",
        "<li>Assume that the algorithm chose OB-2 (1,2,2) and OB-6 (2,4,2) as centroids and cluster 1 and cluster 2 as well. </li>\n",
        "<li>For measuring the distances, you take the following distance measurement function (also termed as similarity measurement function):</li>\n",
        "</ul>\n",
        "&nbsp;&nbsp;&nbsp;&nbsp;&nbsp;&nbsp;&nbsp;&nbsp;<b>$d = |x2 – x1| + | y2 – y1| + |z2 – z1|$ </b> (This is also known as <b>Taxicab distance</b> or <b>Manhattan distance</b>), where d is distance measurement between two objects, (x1,y1,z1) and (x2,y2,z2) are the X, Y and Z coordinates of any two objects taken for distance measurement. <br><br>\n",
        "\n",
        "Feel free to check out other distance measurement functions like [Euclidean Distance, Cosine Distance](https:///arxiv.org/ftp/arxiv/papers/1405/1405.7471.pdf) etc. <br><br>\n",
        "\n",
        "The following table shows the calculation of distances (using the above distance measurement function) between the objects and centroids (OB-2 and OB-6): <br><br>\n",
        "\n",
        "<center><table border = \"1\">\n",
        "  <tr>\n",
        "    <th>Objects</th>\n",
        "    <th>X</th>\n",
        "    <th>Y</th>\n",
        "    <th>Z</th>\n",
        "    <th>Distance from C1(1,2,2)</th>\n",
        "    <th>Distance from C2(2,4,2)</th>\n",
        "  </tr>\n",
        "  <tr>\n",
        "    <td>OB-1</td>\n",
        "    <td>1</td>\n",
        "    <td>4</td>\n",
        "    <td>1</td>\n",
        "    <td>3</td>\n",
        "    <td>2</td>\n",
        "  </tr>\n",
        "  <tr>\n",
        "    <td>OB-2</td>\n",
        "    <td>1</td>\n",
        "    <td>2</td>\n",
        "    <td>2</td>\n",
        "    <td>0</td>\n",
        "    <td>3</td>\n",
        "  </tr>\n",
        "  <tr>\n",
        "    <td>OB-3</td>\n",
        "    <td>1</td>\n",
        "    <td>4</td>\n",
        "    <td>2</td>\n",
        "    <td>2</td>\n",
        "    <td>1</td>\n",
        "  </tr>\n",
        "  <tr>\n",
        "    <td>OB-4</td>\n",
        "    <td>2</td>\n",
        "    <td>1</td>\n",
        "    <td>2</td>\n",
        "    <td>2</td>\n",
        "    <td>3</td>\n",
        "  </tr>\n",
        "  <tr>\n",
        "    <td>OB-5</td>\n",
        "    <td>1</td>\n",
        "    <td>1</td>\n",
        "    <td>1</td>\n",
        "    <td>2</td>\n",
        "    <td>5</td>\n",
        "  </tr>\n",
        "  <tr>\n",
        "    <td>OB-6</td>\n",
        "    <td>2</td>\n",
        "    <td>4</td>\n",
        "    <td>2</td>\n",
        "    <td>3</td>\n",
        "    <td>0</td>\n",
        "  </tr>\n",
        "  <tr>\n",
        "    <td>OB-7</td>\n",
        "    <td>1</td>\n",
        "    <td>1</td>\n",
        "    <td>2</td>\n",
        "    <td>1</td>\n",
        "    <td>4</td>\n",
        "  </tr>\n",
        "  <tr>\n",
        "    <td>OB-8</td>\n",
        "    <td>2</td>\n",
        "    <td>1</td>\n",
        "    <td>1</td>\n",
        "    <td>3</td>\n",
        "    <td>4</td>\n",
        "  </tr>\n",
        " </table></center>\n",
        "\n",
        "<ul>\n",
        "<li>The objects are clustered based on their distances between the centroids. An object which has a shorter distance between a centroid (say C1) than the other centroid (say C2) will fall into the cluster of C1. After the initial pass of clustering, the clustered objects will look something like the following: </li></ul><br><br>\n",
        "\n",
        "<center><table border = \"1\">\n",
        "  <tr><th>Cluster 1</th>\n",
        "  </tr>\n",
        "  <tr>\n",
        "    <td>OB-2</td>\n",
        "  </tr>\n",
        "  <tr>\n",
        "    <td>OB-4</td>\n",
        "  </tr>\n",
        "  <tr>\n",
        "    <td>OB-5</td>\n",
        "  </tr>\n",
        "  <tr>\n",
        "    <td>OB-7</td>\n",
        "  </tr>\n",
        "  <tr>\n",
        "    <td>OB-8</td>\n",
        "  </tr>\n",
        " </table><br>\n",
        " <table border = \"1\">\n",
        "  <tr><th>Cluster 2</th>\n",
        "  </tr>\n",
        "  <tr>\n",
        "    <td>OB-1</td>\n",
        "  </tr>\n",
        "  <tr>\n",
        "    <td>OB-3</td>\n",
        "  </tr>\n",
        "  <tr>\n",
        "    <td>OB-6</td>\n",
        "  </tr>\n",
        " </table></center> \n",
        "<br><br>\n",
        "<ul><li>\n",
        "Now the algorithm will continue updating cluster centroids (i.e the coordinates) until they cannot be updated anymore (more on when it cannot be updated later). The updation takes place in the following manner: </li></ul>\n",
        "\n",
        "<center>(($\\sum_{i=1}^n xi$)/n , ($\\sum_{i=1}^n yi$)/n , ($\\sum_{i=1}^n zi$)/n) (where n = number of objects belonging to that particular cluster) </center><br>\n",
        "\n",
        "So, following this rule the updated cluster 1 will be ((1+2+1+1+2)/5, (2+1+1+1+1)/5,(2+2+1+2+1)/5) = (1.4,1.2,1.6). And for cluster 2 it will be ((1+1+2)/3, (4+4+4)/3, (1+2+2)/3) = (1.33, 4, 1.66).\n",
        "\n",
        "After this, the algorithm again starts finding the distances between the data points and newly derived cluster centroids. So the new distances will be like following: <br>\n",
        "<center><table border = \"1\">\n",
        "  <tr>\n",
        "    <th>Objects</th>\n",
        "    <th>X</th>\n",
        "    <th>Y</th>\n",
        "    <th>Z</th>\n",
        "    <th>Distance from C1(1.4,1.2,1.6)</th>\n",
        "    <th>Distance from C2(1.33, 4, 1.66)</th>\n",
        "  </tr>\n",
        "  <tr>\n",
        "    <td>OB-1</td>\n",
        "    <td>1</td>\n",
        "    <td>4</td>\n",
        "    <td>1</td>\n",
        "    <td>3.8</td>\n",
        "    <td>1</td>\n",
        "  </tr>\n",
        "  <tr>\n",
        "    <td>OB-2</td>\n",
        "    <td>1</td>\n",
        "    <td>2</td>\n",
        "    <td>2</td>\n",
        "    <td>1.6</td>\n",
        "    <td>2.66</td>\n",
        "  </tr>\n",
        "  <tr>\n",
        "    <td>OB-3</td>\n",
        "    <td>1</td>\n",
        "    <td>4</td>\n",
        "    <td>2</td>\n",
        "    <td>3.6</td>\n",
        "    <td>0.66</td>\n",
        "  </tr>\n",
        "  <tr>\n",
        "    <td>OB-4</td>\n",
        "    <td>2</td>\n",
        "    <td>1</td>\n",
        "    <td>2</td>\n",
        "    <td>1.2</td>\n",
        "    <td>4</td>\n",
        "  </tr>\n",
        "  <tr>\n",
        "    <td>OB-5</td>\n",
        "    <td>1</td>\n",
        "    <td>1</td>\n",
        "    <td>1</td>\n",
        "    <td>1.2</td>\n",
        "    <td>4</td>\n",
        "  </tr>\n",
        "  <tr>\n",
        "    <td>OB-6</td>\n",
        "    <td>2</td>\n",
        "    <td>4</td>\n",
        "    <td>2</td>\n",
        "    <td>3.8</td>\n",
        "    <td>1</td>\n",
        "  </tr>\n",
        "  <tr>\n",
        "    <td>OB-7</td>\n",
        "    <td>1</td>\n",
        "    <td>1</td>\n",
        "    <td>2</td>\n",
        "    <td>1</td>\n",
        "    <td>3.66</td>\n",
        "  </tr>\n",
        "  <tr>\n",
        "    <td>OB-8</td>\n",
        "    <td>2</td>\n",
        "    <td>1</td>\n",
        "    <td>1</td>\n",
        "    <td>1.4</td>\n",
        "    <td>4.33</td>\n",
        "  </tr>\n",
        " </table></center>\n",
        " \n",
        "<br>The new assignments of the objects with respect to the updated clusters will be:\n",
        "<br><br>\n",
        "<center><table border = \"1\">\n",
        "  <tr><th>Cluster 1</th>\n",
        "  </tr>\n",
        "  <tr>\n",
        "    <td>OB-2</td>\n",
        "  </tr>\n",
        "  <tr>\n",
        "    <td>OB-4</td>\n",
        "  </tr>\n",
        "  <tr>\n",
        "    <td>OB-5</td>\n",
        "  </tr>\n",
        "  <tr>\n",
        "    <td>OB-7</td>\n",
        "  </tr>\n",
        "  <tr>\n",
        "    <td>OB-8</td>\n",
        "  </tr>\n",
        " </table><br>\n",
        " <table border = \"1\">\n",
        "  <tr><th>Cluster 2</th>\n",
        "  </tr>\n",
        "  <tr>\n",
        "    <td>OB-1</td>\n",
        "  </tr>\n",
        "  <tr>\n",
        "    <td>OB-3</td>\n",
        "  </tr>\n",
        "  <tr>\n",
        "    <td>OB-6</td>\n",
        "  </tr>\n",
        " </table></center> \n",
        "<br> \n",
        "This is where the algorithm and no more updates the centroids. Because there is no change in the current cluster formation, it is the same as the previous formation.\n",
        " \n",
        "Now when, you are done with the cluster formation with K-Means you may apply it to some data the algorithm has not seen before (what you call a Test set). Let's generate that:\n",
        " <br><br>\n",
        " <center><table border = \"1\">\n",
        "  <tr>\n",
        "    <th>Objects</th>\n",
        "    <th>X</th>\n",
        "    <th>Y</th>\n",
        "    <th>Z</th>\n",
        "  </tr>\n",
        "  <tr>\n",
        "    <td>OB-1</td>\n",
        "    <td>2</td>\n",
        "    <td>4</td>\n",
        "    <td>1</td>\n",
        "  </tr>\n",
        "  <tr>\n",
        "    <td>OB-2</td>\n",
        "    <td>2</td>\n",
        "    <td>2</td>\n",
        "    <td>2</td>\n",
        "  </tr>\n",
        "  <tr>\n",
        "    <td>OB-3</td>\n",
        "    <td>1</td>\n",
        "    <td>2</td>\n",
        "    <td>1</td>\n",
        "  </tr>\n",
        "  <tr>\n",
        "    <td>OB-4</td>\n",
        "    <td>2</td>\n",
        "    <td>2</td>\n",
        "    <td>1</td>\n",
        "  </tr>\n",
        " </table></center>\n",
        " <br>\n",
        "After applying K-means on the above dataset, the final clusters will be:\n",
        " <center>\n",
        "  <table border = \"1\">\n",
        "  <tr><th>Cluster 1</th>\n",
        "  </tr>\n",
        "  <tr>\n",
        "    <td>OB-2</td>\n",
        "  </tr>\n",
        "  <tr>\n",
        "    <td>OB-3</td>\n",
        "  </tr>\n",
        "  <tr>\n",
        "    <td>OB-4</td>\n",
        "  </tr>\n",
        " </table> <br>\n",
        "  <table border = \"1\">\n",
        "  <tr><th>Cluster 2</th>\n",
        "  </tr>\n",
        "  <tr>\n",
        "    <td>OB-1</td>\n",
        "  </tr> \n",
        " </table></center> <br>\n",
        " \n",
        "Any application of an algorithm is incomplete if one is not sure about its performance. Now, in order to know how well the K-Means algorithm is performing there are certain metrics to consider. Some of these metrics are:\n",
        "<ul>\n",
        "<li>Adjusted rand index</li>\n",
        "<li>Mutual information based scoring</li>\n",
        "<li>Homogeneity, completeness and v-measure</li>\n",
        "</ul>\n",
        "\n",
        "\n",
        "Now that you have got familiar with the inner mechanics of K-Means let's see K-Means live in action.\n",
        "\n",
        "<h3>A simple case study of K-Means in Python:</h3>\n",
        "For the implementation part you will be using Titanic dataset (available [here](https://www.kaggle.com/c/titanic)). Before proceeding with it, I would like to discuss some facts about the data itself. The sinking of the RMS Titanic is one of the most infamous shipwrecks in history.  On April 15, 1912, during her maiden voyage, the Titanic sank after colliding with an iceberg, killing 1502 out of 2224 passengers and crew. This sensational tragedy shocked the international community and led to better safety regulations for ships.\n",
        "\n",
        "One of the reasons that the shipwreck led to such loss of life was that there were not enough lifeboats for the passengers and crew. Although there was some element of luck involved in surviving the sinking, some groups of people were more likely to survive than others, such as women, children, and the upper-class.\n",
        "\n",
        "Now talking about the dataset, the training set contains several records about the passengers of Titanic (hence the name of the dataset). It has 12 features capturing information about passernger_class, port_of_Embarkation, passenger_fare etc. The dataset's label is <b>survival</b> which denotes the survivial status of a particular passenger. Your task is to cluster the records into two i.e. the ones who survived and the ones who did not. \n",
        "\n",
        "You might be thinking it is a labelled dataset, how can it be used for a clustering task. Ofcourse, it can be used! You just have to drop the 'survival' column from the dataset and make it unlabelled. It's the task of K-Means to cluster the records of the datasets if they survived or not. "
      ]
    },
    {
      "metadata": {
        "id": "U5tQN7KkoHKY",
        "colab_type": "code",
        "colab": {
          "autoexec": {
            "startup": false,
            "wait_interval": 0
          }
        }
      },
      "cell_type": "code",
      "source": [
        "\n",
        "# Dependencies\n",
        "\n",
        "import pandas as pd\n",
        "import numpy as np\n",
        "from sklearn.cluster import KMeans\n",
        "from sklearn.preprocessing import LabelEncoder\n",
        "from sklearn.preprocessing import MinMaxScaler\n",
        "import seaborn as sns\n",
        "import matplotlib.pyplot as plt\n",
        "%matplotlib inline"
      ],
      "execution_count": 0,
      "outputs": []
    },
    {
      "metadata": {
        "id": "QPerhnkEX_Hx",
        "colab_type": "text"
      },
      "cell_type": "markdown",
      "source": [
        "You have imported all the dependencies that you will need in the course. Now, you will load the dataset."
      ]
    },
    {
      "metadata": {
        "id": "Pb9gJgPgunJt",
        "colab_type": "code",
        "colab": {
          "autoexec": {
            "startup": false,
            "wait_interval": 0
          }
        }
      },
      "cell_type": "code",
      "source": [
        "# Load the train and test datasets to create two DataFrames\n",
        "\n",
        "train_url = \"http://s3.amazonaws.com/assets.datacamp.com/course/Kaggle/train.csv\"\n",
        "train = pd.read_csv(train_url)\n",
        "test_url = \"http://s3.amazonaws.com/assets.datacamp.com/course/Kaggle/test.csv\"\n",
        "test = pd.read_csv(test_url)\n"
      ],
      "execution_count": 0,
      "outputs": []
    },
    {
      "metadata": {
        "id": "XxunLYJUYQxb",
        "colab_type": "text"
      },
      "cell_type": "markdown",
      "source": [
        "Let's preview the kind of data you will be working with."
      ]
    },
    {
      "metadata": {
        "id": "wHIrULmJWmuH",
        "colab_type": "code",
        "colab": {
          "autoexec": {
            "startup": false,
            "wait_interval": 0
          },
          "base_uri": "https://localhost:8080/",
          "height": 646
        },
        "outputId": "5b3e7fd8-0fd4-43f9-a255-ef34c92eb2cd",
        "executionInfo": {
          "status": "ok",
          "timestamp": 1524314905864,
          "user_tz": -330,
          "elapsed": 1782,
          "user": {
            "displayName": "Sayak Paul",
            "photoUrl": "//lh4.googleusercontent.com/-0DcRWUZkYps/AAAAAAAAAAI/AAAAAAAAB78/0RmCGdOjgaA/s50-c-k-no/photo.jpg",
            "userId": "103834756187906230940"
          }
        }
      },
      "cell_type": "code",
      "source": [
        "# Print some samples from both the train and test DataFrames\n",
        "\n",
        "print(\"***** Train_Set *****\")\n",
        "print(train.head())\n",
        "print(\"\\n\")\n",
        "print(\"***** Test_Set *****\")\n",
        "print(test.head())"
      ],
      "execution_count": 3,
      "outputs": [
        {
          "output_type": "stream",
          "text": [
            "***** Train_Set *****\n",
            "   PassengerId  Survived  Pclass  \\\n",
            "0            1         0       3   \n",
            "1            2         1       1   \n",
            "2            3         1       3   \n",
            "3            4         1       1   \n",
            "4            5         0       3   \n",
            "\n",
            "                                                Name     Sex   Age  SibSp  \\\n",
            "0                            Braund, Mr. Owen Harris    male  22.0      1   \n",
            "1  Cumings, Mrs. John Bradley (Florence Briggs Th...  female  38.0      1   \n",
            "2                             Heikkinen, Miss. Laina  female  26.0      0   \n",
            "3       Futrelle, Mrs. Jacques Heath (Lily May Peel)  female  35.0      1   \n",
            "4                           Allen, Mr. William Henry    male  35.0      0   \n",
            "\n",
            "   Parch            Ticket     Fare Cabin Embarked  \n",
            "0      0         A/5 21171   7.2500   NaN        S  \n",
            "1      0          PC 17599  71.2833   C85        C  \n",
            "2      0  STON/O2. 3101282   7.9250   NaN        S  \n",
            "3      0            113803  53.1000  C123        S  \n",
            "4      0            373450   8.0500   NaN        S  \n",
            "\n",
            "\n",
            "***** Test_Set *****\n",
            "   PassengerId  Pclass                                          Name     Sex  \\\n",
            "0          892       3                              Kelly, Mr. James    male   \n",
            "1          893       3              Wilkes, Mrs. James (Ellen Needs)  female   \n",
            "2          894       2                     Myles, Mr. Thomas Francis    male   \n",
            "3          895       3                              Wirz, Mr. Albert    male   \n",
            "4          896       3  Hirvonen, Mrs. Alexander (Helga E Lindqvist)  female   \n",
            "\n",
            "    Age  SibSp  Parch   Ticket     Fare Cabin Embarked  \n",
            "0  34.5      0      0   330911   7.8292   NaN        Q  \n",
            "1  47.0      1      0   363272   7.0000   NaN        S  \n",
            "2  62.0      0      0   240276   9.6875   NaN        Q  \n",
            "3  27.0      0      0   315154   8.6625   NaN        S  \n",
            "4  22.0      1      1  3101298  12.2875   NaN        S  \n"
          ],
          "name": "stdout"
        }
      ]
    },
    {
      "metadata": {
        "id": "3jUCHVYGXC-Q",
        "colab_type": "code",
        "colab": {
          "autoexec": {
            "startup": false,
            "wait_interval": 0
          },
          "base_uri": "https://localhost:8080/",
          "height": 561
        },
        "outputId": "fe74f68e-946f-42f3-c6f9-2cd6aef52020",
        "executionInfo": {
          "status": "ok",
          "timestamp": 1524314916372,
          "user_tz": -330,
          "elapsed": 1111,
          "user": {
            "displayName": "Sayak Paul",
            "photoUrl": "//lh4.googleusercontent.com/-0DcRWUZkYps/AAAAAAAAAAI/AAAAAAAAB78/0RmCGdOjgaA/s50-c-k-no/photo.jpg",
            "userId": "103834756187906230940"
          }
        }
      },
      "cell_type": "code",
      "source": [
        "# Get some initial statistics of both the train and test DataFrames using pandas describe() method\n",
        "\n",
        "print(\"***** Train_Set *****\")\n",
        "print(train.describe())\n",
        "print(\"\\n\")\n",
        "print(\"***** Test_Set *****\")\n",
        "print(test.describe())"
      ],
      "execution_count": 4,
      "outputs": [
        {
          "output_type": "stream",
          "text": [
            "***** Train_Set *****\n",
            "       PassengerId    Survived      Pclass         Age       SibSp  \\\n",
            "count   891.000000  891.000000  891.000000  714.000000  891.000000   \n",
            "mean    446.000000    0.383838    2.308642   29.699118    0.523008   \n",
            "std     257.353842    0.486592    0.836071   14.526497    1.102743   \n",
            "min       1.000000    0.000000    1.000000    0.420000    0.000000   \n",
            "25%     223.500000    0.000000    2.000000   20.125000    0.000000   \n",
            "50%     446.000000    0.000000    3.000000   28.000000    0.000000   \n",
            "75%     668.500000    1.000000    3.000000   38.000000    1.000000   \n",
            "max     891.000000    1.000000    3.000000   80.000000    8.000000   \n",
            "\n",
            "            Parch        Fare  \n",
            "count  891.000000  891.000000  \n",
            "mean     0.381594   32.204208  \n",
            "std      0.806057   49.693429  \n",
            "min      0.000000    0.000000  \n",
            "25%      0.000000    7.910400  \n",
            "50%      0.000000   14.454200  \n",
            "75%      0.000000   31.000000  \n",
            "max      6.000000  512.329200  \n",
            "\n",
            "\n",
            "***** Test_Set *****\n",
            "       PassengerId      Pclass         Age       SibSp       Parch        Fare\n",
            "count   418.000000  418.000000  332.000000  418.000000  418.000000  417.000000\n",
            "mean   1100.500000    2.265550   30.272590    0.447368    0.392344   35.627188\n",
            "std     120.810458    0.841838   14.181209    0.896760    0.981429   55.907576\n",
            "min     892.000000    1.000000    0.170000    0.000000    0.000000    0.000000\n",
            "25%     996.250000    1.000000   21.000000    0.000000    0.000000    7.895800\n",
            "50%    1100.500000    3.000000   27.000000    0.000000    0.000000   14.454200\n",
            "75%    1204.750000    3.000000   39.000000    1.000000    0.000000   31.500000\n",
            "max    1309.000000    3.000000   76.000000    8.000000    9.000000  512.329200\n"
          ],
          "name": "stdout"
        }
      ]
    },
    {
      "metadata": {
        "id": "IaYFvhWjcUNM",
        "colab_type": "text"
      },
      "cell_type": "markdown",
      "source": [
        "So, from the above outputs you definitely got to know about the features of the dataset and some basic statistics of it. I will list the feature names for you:\n"
      ]
    },
    {
      "metadata": {
        "id": "XsuaJpr9chw-",
        "colab_type": "code",
        "colab": {
          "autoexec": {
            "startup": false,
            "wait_interval": 0
          },
          "base_uri": "https://localhost:8080/",
          "height": 51
        },
        "outputId": "b82b5544-dcc9-4f08-ae99-80bff13882d6",
        "executionInfo": {
          "status": "ok",
          "timestamp": 1524116975221,
          "user_tz": -330,
          "elapsed": 1081,
          "user": {
            "displayName": "Sayak Paul",
            "photoUrl": "//lh4.googleusercontent.com/-0DcRWUZkYps/AAAAAAAAAAI/AAAAAAAAB78/0RmCGdOjgaA/s50-c-k-no/photo.jpg",
            "userId": "103834756187906230940"
          }
        }
      },
      "cell_type": "code",
      "source": [
        "print(train.columns.values)"
      ],
      "execution_count": 0,
      "outputs": [
        {
          "output_type": "stream",
          "text": [
            "['PassengerId' 'Survived' 'Pclass' 'Name' 'Sex' 'Age' 'SibSp' 'Parch'\n",
            " 'Ticket' 'Fare' 'Cabin' 'Embarked']\n"
          ],
          "name": "stdout"
        }
      ]
    },
    {
      "metadata": {
        "id": "u_AdJiiXgxFT",
        "colab_type": "text"
      },
      "cell_type": "markdown",
      "source": [
        "It is very important to note that not all machine learning algorithms support missing values in the data that you are feeding to them. K-Means being one of them. So we need to handle the missing values present in the data. Let's first see where are the values missing:\n"
      ]
    },
    {
      "metadata": {
        "id": "awRf4kdujKZe",
        "colab_type": "code",
        "colab": {
          "autoexec": {
            "startup": false,
            "wait_interval": 0
          },
          "base_uri": "https://localhost:8080/",
          "height": 204
        },
        "outputId": "3b41e4ef-8446-43a9-91ad-9735a34adc59",
        "executionInfo": {
          "status": "ok",
          "timestamp": 1524119165526,
          "user_tz": -330,
          "elapsed": 1010,
          "user": {
            "displayName": "Sayak Paul",
            "photoUrl": "//lh4.googleusercontent.com/-0DcRWUZkYps/AAAAAAAAAAI/AAAAAAAAB78/0RmCGdOjgaA/s50-c-k-no/photo.jpg",
            "userId": "103834756187906230940"
          }
        }
      },
      "cell_type": "code",
      "source": [
        "# For the train set\n",
        "train.isna().head()"
      ],
      "execution_count": 0,
      "outputs": [
        {
          "output_type": "execute_result",
          "data": {
            "text/html": [
              "<div>\n",
              "<style scoped>\n",
              "    .dataframe tbody tr th:only-of-type {\n",
              "        vertical-align: middle;\n",
              "    }\n",
              "\n",
              "    .dataframe tbody tr th {\n",
              "        vertical-align: top;\n",
              "    }\n",
              "\n",
              "    .dataframe thead th {\n",
              "        text-align: right;\n",
              "    }\n",
              "</style>\n",
              "<table border=\"1\" class=\"dataframe\">\n",
              "  <thead>\n",
              "    <tr style=\"text-align: right;\">\n",
              "      <th></th>\n",
              "      <th>PassengerId</th>\n",
              "      <th>Survived</th>\n",
              "      <th>Pclass</th>\n",
              "      <th>Name</th>\n",
              "      <th>Sex</th>\n",
              "      <th>Age</th>\n",
              "      <th>SibSp</th>\n",
              "      <th>Parch</th>\n",
              "      <th>Ticket</th>\n",
              "      <th>Fare</th>\n",
              "      <th>Cabin</th>\n",
              "      <th>Embarked</th>\n",
              "    </tr>\n",
              "  </thead>\n",
              "  <tbody>\n",
              "    <tr>\n",
              "      <th>0</th>\n",
              "      <td>False</td>\n",
              "      <td>False</td>\n",
              "      <td>False</td>\n",
              "      <td>False</td>\n",
              "      <td>False</td>\n",
              "      <td>False</td>\n",
              "      <td>False</td>\n",
              "      <td>False</td>\n",
              "      <td>False</td>\n",
              "      <td>False</td>\n",
              "      <td>True</td>\n",
              "      <td>False</td>\n",
              "    </tr>\n",
              "    <tr>\n",
              "      <th>1</th>\n",
              "      <td>False</td>\n",
              "      <td>False</td>\n",
              "      <td>False</td>\n",
              "      <td>False</td>\n",
              "      <td>False</td>\n",
              "      <td>False</td>\n",
              "      <td>False</td>\n",
              "      <td>False</td>\n",
              "      <td>False</td>\n",
              "      <td>False</td>\n",
              "      <td>False</td>\n",
              "      <td>False</td>\n",
              "    </tr>\n",
              "    <tr>\n",
              "      <th>2</th>\n",
              "      <td>False</td>\n",
              "      <td>False</td>\n",
              "      <td>False</td>\n",
              "      <td>False</td>\n",
              "      <td>False</td>\n",
              "      <td>False</td>\n",
              "      <td>False</td>\n",
              "      <td>False</td>\n",
              "      <td>False</td>\n",
              "      <td>False</td>\n",
              "      <td>True</td>\n",
              "      <td>False</td>\n",
              "    </tr>\n",
              "    <tr>\n",
              "      <th>3</th>\n",
              "      <td>False</td>\n",
              "      <td>False</td>\n",
              "      <td>False</td>\n",
              "      <td>False</td>\n",
              "      <td>False</td>\n",
              "      <td>False</td>\n",
              "      <td>False</td>\n",
              "      <td>False</td>\n",
              "      <td>False</td>\n",
              "      <td>False</td>\n",
              "      <td>False</td>\n",
              "      <td>False</td>\n",
              "    </tr>\n",
              "    <tr>\n",
              "      <th>4</th>\n",
              "      <td>False</td>\n",
              "      <td>False</td>\n",
              "      <td>False</td>\n",
              "      <td>False</td>\n",
              "      <td>False</td>\n",
              "      <td>False</td>\n",
              "      <td>False</td>\n",
              "      <td>False</td>\n",
              "      <td>False</td>\n",
              "      <td>False</td>\n",
              "      <td>True</td>\n",
              "      <td>False</td>\n",
              "    </tr>\n",
              "  </tbody>\n",
              "</table>\n",
              "</div>"
            ],
            "text/plain": [
              "   PassengerId  Survived  Pclass   Name    Sex    Age  SibSp  Parch  Ticket  \\\n",
              "0        False     False   False  False  False  False  False  False   False   \n",
              "1        False     False   False  False  False  False  False  False   False   \n",
              "2        False     False   False  False  False  False  False  False   False   \n",
              "3        False     False   False  False  False  False  False  False   False   \n",
              "4        False     False   False  False  False  False  False  False   False   \n",
              "\n",
              "    Fare  Cabin  Embarked  \n",
              "0  False   True     False  \n",
              "1  False  False     False  \n",
              "2  False   True     False  \n",
              "3  False  False     False  \n",
              "4  False   True     False  "
            ]
          },
          "metadata": {
            "tags": []
          },
          "execution_count": 19
        }
      ]
    },
    {
      "metadata": {
        "id": "tCigKdAEjuhG",
        "colab_type": "code",
        "colab": {
          "autoexec": {
            "startup": false,
            "wait_interval": 0
          },
          "base_uri": "https://localhost:8080/",
          "height": 204
        },
        "outputId": "791cc993-3d59-4bac-ecc1-9296c3187b08",
        "executionInfo": {
          "status": "ok",
          "timestamp": 1524119153821,
          "user_tz": -330,
          "elapsed": 1007,
          "user": {
            "displayName": "Sayak Paul",
            "photoUrl": "//lh4.googleusercontent.com/-0DcRWUZkYps/AAAAAAAAAAI/AAAAAAAAB78/0RmCGdOjgaA/s50-c-k-no/photo.jpg",
            "userId": "103834756187906230940"
          }
        }
      },
      "cell_type": "code",
      "source": [
        "# For the test set\n",
        "test.isna().head()"
      ],
      "execution_count": 0,
      "outputs": [
        {
          "output_type": "execute_result",
          "data": {
            "text/html": [
              "<div>\n",
              "<style scoped>\n",
              "    .dataframe tbody tr th:only-of-type {\n",
              "        vertical-align: middle;\n",
              "    }\n",
              "\n",
              "    .dataframe tbody tr th {\n",
              "        vertical-align: top;\n",
              "    }\n",
              "\n",
              "    .dataframe thead th {\n",
              "        text-align: right;\n",
              "    }\n",
              "</style>\n",
              "<table border=\"1\" class=\"dataframe\">\n",
              "  <thead>\n",
              "    <tr style=\"text-align: right;\">\n",
              "      <th></th>\n",
              "      <th>PassengerId</th>\n",
              "      <th>Pclass</th>\n",
              "      <th>Name</th>\n",
              "      <th>Sex</th>\n",
              "      <th>Age</th>\n",
              "      <th>SibSp</th>\n",
              "      <th>Parch</th>\n",
              "      <th>Ticket</th>\n",
              "      <th>Fare</th>\n",
              "      <th>Cabin</th>\n",
              "      <th>Embarked</th>\n",
              "    </tr>\n",
              "  </thead>\n",
              "  <tbody>\n",
              "    <tr>\n",
              "      <th>0</th>\n",
              "      <td>False</td>\n",
              "      <td>False</td>\n",
              "      <td>False</td>\n",
              "      <td>False</td>\n",
              "      <td>False</td>\n",
              "      <td>False</td>\n",
              "      <td>False</td>\n",
              "      <td>False</td>\n",
              "      <td>False</td>\n",
              "      <td>True</td>\n",
              "      <td>False</td>\n",
              "    </tr>\n",
              "    <tr>\n",
              "      <th>1</th>\n",
              "      <td>False</td>\n",
              "      <td>False</td>\n",
              "      <td>False</td>\n",
              "      <td>False</td>\n",
              "      <td>False</td>\n",
              "      <td>False</td>\n",
              "      <td>False</td>\n",
              "      <td>False</td>\n",
              "      <td>False</td>\n",
              "      <td>True</td>\n",
              "      <td>False</td>\n",
              "    </tr>\n",
              "    <tr>\n",
              "      <th>2</th>\n",
              "      <td>False</td>\n",
              "      <td>False</td>\n",
              "      <td>False</td>\n",
              "      <td>False</td>\n",
              "      <td>False</td>\n",
              "      <td>False</td>\n",
              "      <td>False</td>\n",
              "      <td>False</td>\n",
              "      <td>False</td>\n",
              "      <td>True</td>\n",
              "      <td>False</td>\n",
              "    </tr>\n",
              "    <tr>\n",
              "      <th>3</th>\n",
              "      <td>False</td>\n",
              "      <td>False</td>\n",
              "      <td>False</td>\n",
              "      <td>False</td>\n",
              "      <td>False</td>\n",
              "      <td>False</td>\n",
              "      <td>False</td>\n",
              "      <td>False</td>\n",
              "      <td>False</td>\n",
              "      <td>True</td>\n",
              "      <td>False</td>\n",
              "    </tr>\n",
              "    <tr>\n",
              "      <th>4</th>\n",
              "      <td>False</td>\n",
              "      <td>False</td>\n",
              "      <td>False</td>\n",
              "      <td>False</td>\n",
              "      <td>False</td>\n",
              "      <td>False</td>\n",
              "      <td>False</td>\n",
              "      <td>False</td>\n",
              "      <td>False</td>\n",
              "      <td>True</td>\n",
              "      <td>False</td>\n",
              "    </tr>\n",
              "  </tbody>\n",
              "</table>\n",
              "</div>"
            ],
            "text/plain": [
              "   PassengerId  Pclass   Name    Sex    Age  SibSp  Parch  Ticket   Fare  \\\n",
              "0        False   False  False  False  False  False  False   False  False   \n",
              "1        False   False  False  False  False  False  False   False  False   \n",
              "2        False   False  False  False  False  False  False   False  False   \n",
              "3        False   False  False  False  False  False  False   False  False   \n",
              "4        False   False  False  False  False  False  False   False  False   \n",
              "\n",
              "   Cabin  Embarked  \n",
              "0   True     False  \n",
              "1   True     False  \n",
              "2   True     False  \n",
              "3   True     False  \n",
              "4   True     False  "
            ]
          },
          "metadata": {
            "tags": []
          },
          "execution_count": 18
        }
      ]
    },
    {
      "metadata": {
        "id": "wuwVH9BBZY44",
        "colab_type": "text"
      },
      "cell_type": "markdown",
      "source": [
        "Let's get the total number of missing values in both of the datasets."
      ]
    },
    {
      "metadata": {
        "id": "TfGP5_Lij3PV",
        "colab_type": "code",
        "colab": {
          "autoexec": {
            "startup": false,
            "wait_interval": 0
          },
          "base_uri": "https://localhost:8080/",
          "height": 510
        },
        "outputId": "5b90135b-504d-4433-dea6-43cd6f073355",
        "executionInfo": {
          "status": "ok",
          "timestamp": 1524135605804,
          "user_tz": -330,
          "elapsed": 921,
          "user": {
            "displayName": "Sayak Paul",
            "photoUrl": "//lh4.googleusercontent.com/-0DcRWUZkYps/AAAAAAAAAAI/AAAAAAAAB78/0RmCGdOjgaA/s50-c-k-no/photo.jpg",
            "userId": "103834756187906230940"
          }
        }
      },
      "cell_type": "code",
      "source": [
        "# Let's see the number of total missing values\n",
        "print(\"*****In the train set*****\")\n",
        "print(train.isna().sum())\n",
        "print(\"\\n\")\n",
        "print(\"*****In the test set*****\")\n",
        "print(test.isna().sum())\n"
      ],
      "execution_count": 0,
      "outputs": [
        {
          "output_type": "stream",
          "text": [
            "*****In the train set*****\n",
            "PassengerId      0\n",
            "Survived         0\n",
            "Pclass           0\n",
            "Name             0\n",
            "Sex              0\n",
            "Age            177\n",
            "SibSp            0\n",
            "Parch            0\n",
            "Ticket           0\n",
            "Fare             0\n",
            "Cabin          687\n",
            "Embarked         2\n",
            "dtype: int64\n",
            "\n",
            "\n",
            "*****In the test set*****\n",
            "PassengerId      0\n",
            "Pclass           0\n",
            "Name             0\n",
            "Sex              0\n",
            "Age             86\n",
            "SibSp            0\n",
            "Parch            0\n",
            "Ticket           0\n",
            "Fare             1\n",
            "Cabin          327\n",
            "Embarked         0\n",
            "dtype: int64\n"
          ],
          "name": "stdout"
        }
      ]
    },
    {
      "metadata": {
        "id": "nsezu5aBl5R2",
        "colab_type": "text"
      },
      "cell_type": "markdown",
      "source": [
        "So, you can see in the train set in the columns Age, Cabin and Embarked there are missing values and in the test set Age and Cabin columns contain missing values.\n",
        "\n",
        "There are a couple of ways to handle missing values:\n",
        " - Remove rows with missing values\n",
        " -  Impute missing values\n",
        " \n",
        "I prefer the latter one because if you remove the rows with missing values it can cause insufficiency in the data which in turn results in inefficient training of the machine learning model. \n",
        "\n",
        "Now, there are several ways you can perform the imputation:\n",
        "- A constant value that has meaning within the domain, such as 0, distinct from all other values.\n",
        "- A value from another randomly selected record.\n",
        "- A mean, median or mode value for the column.\n",
        "- A value estimated by another machine learning model.\n",
        "\n",
        "Any imputation performed on the train set will have to be performed on test data in the future when predictions are needed from the final machine learning model. This needs to be taken into consideration when choosing how to impute the missing values.\n",
        "\n",
        "Pandas provides the fillna() function for replacing missing values with a specific value. Let's apply that with <b>Mean Imputation</b>."
      ]
    },
    {
      "metadata": {
        "id": "VAOW-QQJn73P",
        "colab_type": "code",
        "colab": {
          "autoexec": {
            "startup": false,
            "wait_interval": 0
          }
        }
      },
      "cell_type": "code",
      "source": [
        "# Fill missing values with mean column values in the train set\n",
        "train.fillna(train.mean(), inplace=True)"
      ],
      "execution_count": 0,
      "outputs": []
    },
    {
      "metadata": {
        "id": "NJpf2B6IoOTp",
        "colab_type": "code",
        "colab": {
          "autoexec": {
            "startup": false,
            "wait_interval": 0
          }
        }
      },
      "cell_type": "code",
      "source": [
        "# Fill missing values with mean column values in the test set\n",
        "test.fillna(test.mean(), inplace=True)"
      ],
      "execution_count": 0,
      "outputs": []
    },
    {
      "metadata": {
        "id": "sg2t73jWbFxE",
        "colab_type": "text"
      },
      "cell_type": "markdown",
      "source": [
        "Now that you have imputed the missing values in the dataset, it's time to see if the dataset still has any missing values. "
      ]
    },
    {
      "metadata": {
        "id": "KlBwpLkcoTPj",
        "colab_type": "code",
        "colab": {
          "autoexec": {
            "startup": false,
            "wait_interval": 0
          },
          "base_uri": "https://localhost:8080/",
          "height": 238
        },
        "outputId": "04a24645-3255-4725-a0cf-a570fffc59ab",
        "executionInfo": {
          "status": "ok",
          "timestamp": 1524120317548,
          "user_tz": -330,
          "elapsed": 976,
          "user": {
            "displayName": "Sayak Paul",
            "photoUrl": "//lh4.googleusercontent.com/-0DcRWUZkYps/AAAAAAAAAAI/AAAAAAAAB78/0RmCGdOjgaA/s50-c-k-no/photo.jpg",
            "userId": "103834756187906230940"
          }
        }
      },
      "cell_type": "code",
      "source": [
        "# Let's see if you have any missing value now in the train set\n",
        "print(train.isna().sum())"
      ],
      "execution_count": 0,
      "outputs": [
        {
          "output_type": "stream",
          "text": [
            "PassengerId      0\n",
            "Survived         0\n",
            "Pclass           0\n",
            "Name             0\n",
            "Sex              0\n",
            "Age              0\n",
            "SibSp            0\n",
            "Parch            0\n",
            "Ticket           0\n",
            "Fare             0\n",
            "Cabin          687\n",
            "Embarked         2\n",
            "dtype: int64\n"
          ],
          "name": "stdout"
        }
      ]
    },
    {
      "metadata": {
        "id": "hrObgbHBotZa",
        "colab_type": "code",
        "colab": {
          "autoexec": {
            "startup": false,
            "wait_interval": 0
          },
          "base_uri": "https://localhost:8080/",
          "height": 221
        },
        "outputId": "b57881f8-407a-48dd-d1f2-f8b36179a5e1",
        "executionInfo": {
          "status": "ok",
          "timestamp": 1524120094356,
          "user_tz": -330,
          "elapsed": 1055,
          "user": {
            "displayName": "Sayak Paul",
            "photoUrl": "//lh4.googleusercontent.com/-0DcRWUZkYps/AAAAAAAAAAI/AAAAAAAAB78/0RmCGdOjgaA/s50-c-k-no/photo.jpg",
            "userId": "103834756187906230940"
          }
        }
      },
      "cell_type": "code",
      "source": [
        "# Let's see if you have any missing value now in the test set\n",
        "print(test.isna().sum())"
      ],
      "execution_count": 0,
      "outputs": [
        {
          "output_type": "stream",
          "text": [
            "PassengerId      0\n",
            "Pclass           0\n",
            "Name             0\n",
            "Sex              0\n",
            "Age              0\n",
            "SibSp            0\n",
            "Parch            0\n",
            "Ticket           0\n",
            "Fare             0\n",
            "Cabin          327\n",
            "Embarked         0\n",
            "dtype: int64\n"
          ],
          "name": "stdout"
        }
      ]
    },
    {
      "metadata": {
        "id": "LINqby43oy_Y",
        "colab_type": "text"
      },
      "cell_type": "markdown",
      "source": [
        "Yes, you can see there are still some missing values in Cabin and Embarked columns. It happened because the values are non-numeric there. In order to perform the imputation the values need to be in numeric form. There are ways to convert a non-numeric value to a numeric one. More on this later."
      ]
    },
    {
      "metadata": {
        "id": "0VVZRsZOc48p",
        "colab_type": "text"
      },
      "cell_type": "markdown",
      "source": [
        "Let's do some more analytics in order to understand the data better. Understanding is really required in order to perform any Machine Learning task. Let's start with finding out which features are categorical and which are numerical.\n",
        "\n",
        "- Categorical: Survived, Sex, and Embarked. Ordinal: Pclass.\n",
        "- Continuous: Age, Fare. Discrete: SibSp, Parch.\n",
        "\n",
        "Two features are left out which are not listed above in any of the categories. Yes, you guessed it right, <b>Ticket</b> and <b>Cabin</b>. Ticket is a mix of numeric and alphanumeric data types. Cabin is alphanumeric. Let see some sample values."
      ]
    },
    {
      "metadata": {
        "id": "OUq8P8fCeYMB",
        "colab_type": "code",
        "colab": {
          "autoexec": {
            "startup": false,
            "wait_interval": 0
          },
          "base_uri": "https://localhost:8080/",
          "height": 119
        },
        "outputId": "6cc494e4-9908-4ee7-ebc1-3e94c29e99b1",
        "executionInfo": {
          "status": "ok",
          "timestamp": 1524117434892,
          "user_tz": -330,
          "elapsed": 951,
          "user": {
            "displayName": "Sayak Paul",
            "photoUrl": "//lh4.googleusercontent.com/-0DcRWUZkYps/AAAAAAAAAAI/AAAAAAAAB78/0RmCGdOjgaA/s50-c-k-no/photo.jpg",
            "userId": "103834756187906230940"
          }
        }
      },
      "cell_type": "code",
      "source": [
        "train['Ticket'].head()"
      ],
      "execution_count": 0,
      "outputs": [
        {
          "output_type": "execute_result",
          "data": {
            "text/plain": [
              "0           A/5 21171\n",
              "1            PC 17599\n",
              "2    STON/O2. 3101282\n",
              "3              113803\n",
              "4              373450\n",
              "Name: Ticket, dtype: object"
            ]
          },
          "metadata": {
            "tags": []
          },
          "execution_count": 12
        }
      ]
    },
    {
      "metadata": {
        "id": "HELAMG3jen7z",
        "colab_type": "code",
        "colab": {
          "autoexec": {
            "startup": false,
            "wait_interval": 0
          },
          "base_uri": "https://localhost:8080/",
          "height": 119
        },
        "outputId": "733cffcb-4f17-415a-f91b-3aecc6b6b3fe",
        "executionInfo": {
          "status": "ok",
          "timestamp": 1524117449062,
          "user_tz": -330,
          "elapsed": 1029,
          "user": {
            "displayName": "Sayak Paul",
            "photoUrl": "//lh4.googleusercontent.com/-0DcRWUZkYps/AAAAAAAAAAI/AAAAAAAAB78/0RmCGdOjgaA/s50-c-k-no/photo.jpg",
            "userId": "103834756187906230940"
          }
        }
      },
      "cell_type": "code",
      "source": [
        "train['Cabin'].head()"
      ],
      "execution_count": 0,
      "outputs": [
        {
          "output_type": "execute_result",
          "data": {
            "text/plain": [
              "0     NaN\n",
              "1     C85\n",
              "2     NaN\n",
              "3    C123\n",
              "4     NaN\n",
              "Name: Cabin, dtype: object"
            ]
          },
          "metadata": {
            "tags": []
          },
          "execution_count": 13
        }
      ]
    },
    {
      "metadata": {
        "id": "QFTMtakjjDRF",
        "colab_type": "text"
      },
      "cell_type": "markdown",
      "source": [
        "Let's see the survival count of passengers with respect to the following features:\n",
        "- Pclass\n",
        "- Sex\n",
        "- SibSp \n",
        "- Parch\n",
        "\n",
        "Let's do that one by one:"
      ]
    },
    {
      "metadata": {
        "id": "zsILmfpyjfK9",
        "colab_type": "code",
        "colab": {
          "autoexec": {
            "startup": false,
            "wait_interval": 0
          },
          "base_uri": "https://localhost:8080/",
          "height": 142
        },
        "outputId": "09b43351-4ec5-4c02-b2e3-79557620d89c",
        "executionInfo": {
          "status": "ok",
          "timestamp": 1524135625124,
          "user_tz": -330,
          "elapsed": 916,
          "user": {
            "displayName": "Sayak Paul",
            "photoUrl": "//lh4.googleusercontent.com/-0DcRWUZkYps/AAAAAAAAAAI/AAAAAAAAB78/0RmCGdOjgaA/s50-c-k-no/photo.jpg",
            "userId": "103834756187906230940"
          }
        }
      },
      "cell_type": "code",
      "source": [
        "# Survival count w.r.t Pclass\n",
        "train[['Pclass', 'Survived']].groupby(['Pclass'], as_index=False).mean().sort_values(by='Survived', ascending=False)"
      ],
      "execution_count": 0,
      "outputs": [
        {
          "output_type": "execute_result",
          "data": {
            "text/html": [
              "<div>\n",
              "<style scoped>\n",
              "    .dataframe tbody tr th:only-of-type {\n",
              "        vertical-align: middle;\n",
              "    }\n",
              "\n",
              "    .dataframe tbody tr th {\n",
              "        vertical-align: top;\n",
              "    }\n",
              "\n",
              "    .dataframe thead th {\n",
              "        text-align: right;\n",
              "    }\n",
              "</style>\n",
              "<table border=\"1\" class=\"dataframe\">\n",
              "  <thead>\n",
              "    <tr style=\"text-align: right;\">\n",
              "      <th></th>\n",
              "      <th>Pclass</th>\n",
              "      <th>Survived</th>\n",
              "    </tr>\n",
              "  </thead>\n",
              "  <tbody>\n",
              "    <tr>\n",
              "      <th>0</th>\n",
              "      <td>1</td>\n",
              "      <td>0.629630</td>\n",
              "    </tr>\n",
              "    <tr>\n",
              "      <th>1</th>\n",
              "      <td>2</td>\n",
              "      <td>0.472826</td>\n",
              "    </tr>\n",
              "    <tr>\n",
              "      <th>2</th>\n",
              "      <td>3</td>\n",
              "      <td>0.242363</td>\n",
              "    </tr>\n",
              "  </tbody>\n",
              "</table>\n",
              "</div>"
            ],
            "text/plain": [
              "   Pclass  Survived\n",
              "0       1  0.629630\n",
              "1       2  0.472826\n",
              "2       3  0.242363"
            ]
          },
          "metadata": {
            "tags": []
          },
          "execution_count": 9
        }
      ]
    },
    {
      "metadata": {
        "id": "55Gxk2BMkE6k",
        "colab_type": "code",
        "colab": {
          "autoexec": {
            "startup": false,
            "wait_interval": 0
          },
          "base_uri": "https://localhost:8080/",
          "height": 111
        },
        "outputId": "02df230c-7906-4f0a-9746-c10948a97827",
        "executionInfo": {
          "status": "ok",
          "timestamp": 1524135674348,
          "user_tz": -330,
          "elapsed": 963,
          "user": {
            "displayName": "Sayak Paul",
            "photoUrl": "//lh4.googleusercontent.com/-0DcRWUZkYps/AAAAAAAAAAI/AAAAAAAAB78/0RmCGdOjgaA/s50-c-k-no/photo.jpg",
            "userId": "103834756187906230940"
          }
        }
      },
      "cell_type": "code",
      "source": [
        "# Survival count w.r.t Sex\n",
        "train[[\"Sex\", \"Survived\"]].groupby(['Sex'], as_index=False).mean().sort_values(by='Survived', ascending=False)"
      ],
      "execution_count": 0,
      "outputs": [
        {
          "output_type": "execute_result",
          "data": {
            "text/html": [
              "<div>\n",
              "<style scoped>\n",
              "    .dataframe tbody tr th:only-of-type {\n",
              "        vertical-align: middle;\n",
              "    }\n",
              "\n",
              "    .dataframe tbody tr th {\n",
              "        vertical-align: top;\n",
              "    }\n",
              "\n",
              "    .dataframe thead th {\n",
              "        text-align: right;\n",
              "    }\n",
              "</style>\n",
              "<table border=\"1\" class=\"dataframe\">\n",
              "  <thead>\n",
              "    <tr style=\"text-align: right;\">\n",
              "      <th></th>\n",
              "      <th>Sex</th>\n",
              "      <th>Survived</th>\n",
              "    </tr>\n",
              "  </thead>\n",
              "  <tbody>\n",
              "    <tr>\n",
              "      <th>0</th>\n",
              "      <td>female</td>\n",
              "      <td>0.742038</td>\n",
              "    </tr>\n",
              "    <tr>\n",
              "      <th>1</th>\n",
              "      <td>male</td>\n",
              "      <td>0.188908</td>\n",
              "    </tr>\n",
              "  </tbody>\n",
              "</table>\n",
              "</div>"
            ],
            "text/plain": [
              "      Sex  Survived\n",
              "0  female  0.742038\n",
              "1    male  0.188908"
            ]
          },
          "metadata": {
            "tags": []
          },
          "execution_count": 10
        }
      ]
    },
    {
      "metadata": {
        "id": "kARz26UUkPEK",
        "colab_type": "text"
      },
      "cell_type": "markdown",
      "source": [
        "<h4>You can see the survival count of female passengers is significantly higher than male ones.</h4>"
      ]
    },
    {
      "metadata": {
        "id": "Qb8Zed4TkgwB",
        "colab_type": "code",
        "colab": {
          "autoexec": {
            "startup": false,
            "wait_interval": 0
          },
          "base_uri": "https://localhost:8080/",
          "height": 266
        },
        "outputId": "84d8d72c-e6c8-46b9-e75a-7f1d3141191b",
        "executionInfo": {
          "status": "ok",
          "timestamp": 1524135813802,
          "user_tz": -330,
          "elapsed": 936,
          "user": {
            "displayName": "Sayak Paul",
            "photoUrl": "//lh4.googleusercontent.com/-0DcRWUZkYps/AAAAAAAAAAI/AAAAAAAAB78/0RmCGdOjgaA/s50-c-k-no/photo.jpg",
            "userId": "103834756187906230940"
          }
        }
      },
      "cell_type": "code",
      "source": [
        "# Survival count w.r.t SibSp\n",
        "train[[\"SibSp\", \"Survived\"]].groupby(['SibSp'], as_index=False).mean().sort_values(by='Survived', ascending=False)"
      ],
      "execution_count": 0,
      "outputs": [
        {
          "output_type": "execute_result",
          "data": {
            "text/html": [
              "<div>\n",
              "<style scoped>\n",
              "    .dataframe tbody tr th:only-of-type {\n",
              "        vertical-align: middle;\n",
              "    }\n",
              "\n",
              "    .dataframe tbody tr th {\n",
              "        vertical-align: top;\n",
              "    }\n",
              "\n",
              "    .dataframe thead th {\n",
              "        text-align: right;\n",
              "    }\n",
              "</style>\n",
              "<table border=\"1\" class=\"dataframe\">\n",
              "  <thead>\n",
              "    <tr style=\"text-align: right;\">\n",
              "      <th></th>\n",
              "      <th>SibSp</th>\n",
              "      <th>Survived</th>\n",
              "    </tr>\n",
              "  </thead>\n",
              "  <tbody>\n",
              "    <tr>\n",
              "      <th>1</th>\n",
              "      <td>1</td>\n",
              "      <td>0.535885</td>\n",
              "    </tr>\n",
              "    <tr>\n",
              "      <th>2</th>\n",
              "      <td>2</td>\n",
              "      <td>0.464286</td>\n",
              "    </tr>\n",
              "    <tr>\n",
              "      <th>0</th>\n",
              "      <td>0</td>\n",
              "      <td>0.345395</td>\n",
              "    </tr>\n",
              "    <tr>\n",
              "      <th>3</th>\n",
              "      <td>3</td>\n",
              "      <td>0.250000</td>\n",
              "    </tr>\n",
              "    <tr>\n",
              "      <th>4</th>\n",
              "      <td>4</td>\n",
              "      <td>0.166667</td>\n",
              "    </tr>\n",
              "    <tr>\n",
              "      <th>5</th>\n",
              "      <td>5</td>\n",
              "      <td>0.000000</td>\n",
              "    </tr>\n",
              "    <tr>\n",
              "      <th>6</th>\n",
              "      <td>8</td>\n",
              "      <td>0.000000</td>\n",
              "    </tr>\n",
              "  </tbody>\n",
              "</table>\n",
              "</div>"
            ],
            "text/plain": [
              "   SibSp  Survived\n",
              "1      1  0.535885\n",
              "2      2  0.464286\n",
              "0      0  0.345395\n",
              "3      3  0.250000\n",
              "4      4  0.166667\n",
              "5      5  0.000000\n",
              "6      8  0.000000"
            ]
          },
          "metadata": {
            "tags": []
          },
          "execution_count": 11
        }
      ]
    },
    {
      "metadata": {
        "id": "__EB6Wxakzkj",
        "colab_type": "text"
      },
      "cell_type": "markdown",
      "source": [
        "Now its time for some quick plotting. Let's first plot the graph of \"Age vs. Survived\":"
      ]
    },
    {
      "metadata": {
        "id": "QMbgLZH1lIp-",
        "colab_type": "code",
        "colab": {
          "autoexec": {
            "startup": false,
            "wait_interval": 0
          },
          "base_uri": "https://localhost:8080/",
          "height": 242
        },
        "outputId": "46c1caf0-9d0e-48d9-f1c1-d9337be7f701",
        "executionInfo": {
          "status": "ok",
          "timestamp": 1524135985258,
          "user_tz": -330,
          "elapsed": 1069,
          "user": {
            "displayName": "Sayak Paul",
            "photoUrl": "//lh4.googleusercontent.com/-0DcRWUZkYps/AAAAAAAAAAI/AAAAAAAAB78/0RmCGdOjgaA/s50-c-k-no/photo.jpg",
            "userId": "103834756187906230940"
          }
        }
      },
      "cell_type": "code",
      "source": [
        "g = sns.FacetGrid(train, col='Survived')\n",
        "g.map(plt.hist, 'Age', bins=20)"
      ],
      "execution_count": 0,
      "outputs": [
        {
          "output_type": "execute_result",
          "data": {
            "text/plain": [
              "<seaborn.axisgrid.FacetGrid at 0x7fa990f87080>"
            ]
          },
          "metadata": {
            "tags": []
          },
          "execution_count": 14
        },
        {
          "output_type": "display_data",
          "data": {
            "image/png": "[encoded data removed]",
            "text/plain": [
              "<matplotlib.figure.Figure at 0x7fa98b674128>"
            ]
          },
          "metadata": {
            "tags": []
          }
        }
      ]
    },
    {
      "metadata": {
        "id": "0y1zoRCbludB",
        "colab_type": "text"
      },
      "cell_type": "markdown",
      "source": [
        "Its time to see how Pclass and Survived features are related each with a graph:\n",
        "  "
      ]
    },
    {
      "metadata": {
        "id": "xiP9Eg_6lvuO",
        "colab_type": "code",
        "colab": {
          "autoexec": {
            "startup": false,
            "wait_interval": 0
          },
          "base_uri": "https://localhost:8080/",
          "height": 485
        },
        "outputId": "8ea81935-f907-4a1d-f52e-f9e8bfc14f50",
        "executionInfo": {
          "status": "ok",
          "timestamp": 1524136099456,
          "user_tz": -330,
          "elapsed": 2125,
          "user": {
            "displayName": "Sayak Paul",
            "photoUrl": "//lh4.googleusercontent.com/-0DcRWUZkYps/AAAAAAAAAAI/AAAAAAAAB78/0RmCGdOjgaA/s50-c-k-no/photo.jpg",
            "userId": "103834756187906230940"
          }
        }
      },
      "cell_type": "code",
      "source": [
        "grid = sns.FacetGrid(train, col='Survived', row='Pclass', size=2.2, aspect=1.6)\n",
        "grid.map(plt.hist, 'Age', alpha=.5, bins=20)\n",
        "grid.add_legend();"
      ],
      "execution_count": 0,
      "outputs": [
        {
          "output_type": "display_data",
          "data": {
            "image/png": "[encoded data removed]",
            "text/plain": [
              "<matplotlib.figure.Figure at 0x7fa9894f6780>"
            ]
          },
          "metadata": {
            "tags": []
          }
        }
      ]
    },
    {
      "metadata": {
        "id": "rOy-orE_l_d2",
        "colab_type": "text"
      },
      "cell_type": "markdown",
      "source": [
        "Enough of visualization and analytics for now! Now let's actually build K-Means model with the train set. But before that you will need some data preprocessing also. You can see all the feature values are not of same type. Some of them are numerical and some of them are not. In order to ease the computation, you will feed all numerical data to the model. Let's see the data types of different features that you have:\n",
        "\n"
      ]
    },
    {
      "metadata": {
        "id": "bodz6eC9tJaO",
        "colab_type": "code",
        "colab": {
          "autoexec": {
            "startup": false,
            "wait_interval": 0
          },
          "base_uri": "https://localhost:8080/",
          "height": 306
        },
        "outputId": "937d160e-3f27-4151-c2fc-c1e7101ffd9a",
        "executionInfo": {
          "status": "ok",
          "timestamp": 1524205469497,
          "user_tz": -330,
          "elapsed": 933,
          "user": {
            "displayName": "Sayak Paul",
            "photoUrl": "//lh4.googleusercontent.com/-0DcRWUZkYps/AAAAAAAAAAI/AAAAAAAAB78/0RmCGdOjgaA/s50-c-k-no/photo.jpg",
            "userId": "103834756187906230940"
          }
        }
      },
      "cell_type": "code",
      "source": [
        "train.info()"
      ],
      "execution_count": 0,
      "outputs": [
        {
          "output_type": "stream",
          "text": [
            "<class 'pandas.core.frame.DataFrame'>\n",
            "RangeIndex: 891 entries, 0 to 890\n",
            "Data columns (total 12 columns):\n",
            "PassengerId    891 non-null int64\n",
            "Survived       891 non-null int64\n",
            "Pclass         891 non-null int64\n",
            "Name           891 non-null object\n",
            "Sex            891 non-null object\n",
            "Age            891 non-null float64\n",
            "SibSp          891 non-null int64\n",
            "Parch          891 non-null int64\n",
            "Ticket         891 non-null object\n",
            "Fare           891 non-null float64\n",
            "Cabin          204 non-null object\n",
            "Embarked       889 non-null object\n",
            "dtypes: float64(2), int64(5), object(5)\n",
            "memory usage: 83.6+ KB\n"
          ],
          "name": "stdout"
        }
      ]
    },
    {
      "metadata": {
        "id": "H8wAWe5Suh9D",
        "colab_type": "text"
      },
      "cell_type": "markdown",
      "source": [
        "So, you can see that the following features are non-numeric:\n",
        "- Name\n",
        "- Sex\n",
        "- Ticket\n",
        "- Cabin\n",
        "- Embarked\n",
        "\n",
        "Before converting them into numeric ones, you might want to do some feature engineering, i.e. features like Name, Ticket, Cabin and Embarked do not have any impact on the survival status of the passengers. Often, it is better to train your model with only significant features than to train it all the features including unnecessary ones. It not only helps in efficient modelling, but also the training of the model can happen in much lesser time. Although, feature engineering is a whole field of study itself, I will encourage you to dig it further. But for this tutorial, know that the features Name, Ticket, Cabin and Embarked can be dropped and they will not have significant impact on the training of the K-Means model. "
      ]
    },
    {
      "metadata": {
        "id": "ZtVoOrfiwQUJ",
        "colab_type": "code",
        "colab": {
          "autoexec": {
            "startup": false,
            "wait_interval": 0
          }
        }
      },
      "cell_type": "code",
      "source": [
        "train = train.drop(['Name','Ticket', 'Cabin','Embarked'], axis=1)\n",
        "test = test.drop(['Name','Ticket', 'Cabin','Embarked'], axis=1)"
      ],
      "execution_count": 0,
      "outputs": []
    },
    {
      "metadata": {
        "id": "ngyNAZDKxCiL",
        "colab_type": "text"
      },
      "cell_type": "markdown",
      "source": [
        "Now that the dropping part is done let's convert the 'Sex' feature to a numerical one (only 'Sex' is remaining now which is a non-numeric feature). You will do this using a technique called [Label Encoding](http://scikit-learn.org/stable/modules/generated/sklearn.preprocessing.LabelEncoder.html)."
      ]
    },
    {
      "metadata": {
        "id": "mn30MFpXxUEr",
        "colab_type": "code",
        "colab": {
          "autoexec": {
            "startup": false,
            "wait_interval": 0
          }
        }
      },
      "cell_type": "code",
      "source": [
        "labelEncoder = LabelEncoder()\n",
        "labelEncoder.fit(train['Sex'])\n",
        "labelEncoder.fit(test['Sex'])\n",
        "train['Sex'] = labelEncoder.transform(train['Sex'])\n",
        "test['Sex'] = labelEncoder.transform(test['Sex'])"
      ],
      "execution_count": 0,
      "outputs": []
    },
    {
      "metadata": {
        "id": "Y0s_KNH9yTNt",
        "colab_type": "code",
        "colab": {
          "autoexec": {
            "startup": false,
            "wait_interval": 0
          },
          "base_uri": "https://localhost:8080/",
          "height": 238
        },
        "outputId": "05a4009f-70fc-4c2f-9837-a64d9567bdf7",
        "executionInfo": {
          "status": "ok",
          "timestamp": 1524206513568,
          "user_tz": -330,
          "elapsed": 1113,
          "user": {
            "displayName": "Sayak Paul",
            "photoUrl": "//lh4.googleusercontent.com/-0DcRWUZkYps/AAAAAAAAAAI/AAAAAAAAB78/0RmCGdOjgaA/s50-c-k-no/photo.jpg",
            "userId": "103834756187906230940"
          }
        }
      },
      "cell_type": "code",
      "source": [
        "# Let's investigate if you have non-numeric data anymore\n",
        "\n",
        "train.info()"
      ],
      "execution_count": 0,
      "outputs": [
        {
          "output_type": "stream",
          "text": [
            "<class 'pandas.core.frame.DataFrame'>\n",
            "RangeIndex: 891 entries, 0 to 890\n",
            "Data columns (total 8 columns):\n",
            "PassengerId    891 non-null int64\n",
            "Survived       891 non-null int64\n",
            "Pclass         891 non-null int64\n",
            "Sex            891 non-null int64\n",
            "Age            891 non-null float64\n",
            "SibSp          891 non-null int64\n",
            "Parch          891 non-null int64\n",
            "Fare           891 non-null float64\n",
            "dtypes: float64(2), int64(6)\n",
            "memory usage: 55.8 KB\n"
          ],
          "name": "stdout"
        }
      ]
    },
    {
      "metadata": {
        "id": "-3_y_hBMycla",
        "colab_type": "code",
        "colab": {
          "autoexec": {
            "startup": false,
            "wait_interval": 0
          },
          "base_uri": "https://localhost:8080/",
          "height": 221
        },
        "outputId": "87f8e253-41a3-450b-9f5a-d641bab01cc3",
        "executionInfo": {
          "status": "ok",
          "timestamp": 1524206529591,
          "user_tz": -330,
          "elapsed": 947,
          "user": {
            "displayName": "Sayak Paul",
            "photoUrl": "//lh4.googleusercontent.com/-0DcRWUZkYps/AAAAAAAAAAI/AAAAAAAAB78/0RmCGdOjgaA/s50-c-k-no/photo.jpg",
            "userId": "103834756187906230940"
          }
        }
      },
      "cell_type": "code",
      "source": [
        "test.info()\n",
        "\n",
        "# Note that the test set does not have Survived feature"
      ],
      "execution_count": 0,
      "outputs": [
        {
          "output_type": "stream",
          "text": [
            "<class 'pandas.core.frame.DataFrame'>\n",
            "RangeIndex: 418 entries, 0 to 417\n",
            "Data columns (total 7 columns):\n",
            "PassengerId    418 non-null int64\n",
            "Pclass         418 non-null int64\n",
            "Sex            418 non-null int64\n",
            "Age            418 non-null float64\n",
            "SibSp          418 non-null int64\n",
            "Parch          418 non-null int64\n",
            "Fare           418 non-null float64\n",
            "dtypes: float64(2), int64(5)\n",
            "memory usage: 22.9 KB\n"
          ],
          "name": "stdout"
        }
      ]
    },
    {
      "metadata": {
        "id": "iVFdD9vyygMq",
        "colab_type": "text"
      },
      "cell_type": "markdown",
      "source": [
        "<h3>Brilliant!</h3>\n",
        "\n",
        "Looks like you are good to go to train your K-Means model now. "
      ]
    },
    {
      "metadata": {
        "id": "2OUuXRx9yz0i",
        "colab_type": "code",
        "colab": {
          "autoexec": {
            "startup": false,
            "wait_interval": 0
          }
        }
      },
      "cell_type": "code",
      "source": [
        "# Let's first drop the Survival column from the data\n",
        "\n",
        "X = np.array(train.drop(['Survived'], 1).astype(float))"
      ],
      "execution_count": 0,
      "outputs": []
    },
    {
      "metadata": {
        "id": "s7tFh2C-3VpV",
        "colab_type": "code",
        "colab": {
          "autoexec": {
            "startup": false,
            "wait_interval": 0
          }
        }
      },
      "cell_type": "code",
      "source": [
        "y = np.array(train['Survived'])"
      ],
      "execution_count": 0,
      "outputs": []
    },
    {
      "metadata": {
        "id": "SuNLjs8mznti",
        "colab_type": "code",
        "colab": {
          "autoexec": {
            "startup": false,
            "wait_interval": 0
          },
          "base_uri": "https://localhost:8080/",
          "height": 221
        },
        "outputId": "96cf8246-de95-4e0c-8468-4ff9eecc8d16",
        "executionInfo": {
          "status": "ok",
          "timestamp": 1524206862393,
          "user_tz": -330,
          "elapsed": 995,
          "user": {
            "displayName": "Sayak Paul",
            "photoUrl": "//lh4.googleusercontent.com/-0DcRWUZkYps/AAAAAAAAAAI/AAAAAAAAB78/0RmCGdOjgaA/s50-c-k-no/photo.jpg",
            "userId": "103834756187906230940"
          }
        }
      },
      "cell_type": "code",
      "source": [
        " # Let's finally review what all features you are going to feed to K-Means\n",
        "  \n",
        "  train.info()"
      ],
      "execution_count": 0,
      "outputs": [
        {
          "output_type": "stream",
          "text": [
            "<class 'pandas.core.frame.DataFrame'>\n",
            "RangeIndex: 891 entries, 0 to 890\n",
            "Data columns (total 7 columns):\n",
            "PassengerId    891 non-null int64\n",
            "Pclass         891 non-null int64\n",
            "Sex            891 non-null int64\n",
            "Age            891 non-null float64\n",
            "SibSp          891 non-null int64\n",
            "Parch          891 non-null int64\n",
            "Fare           891 non-null float64\n",
            "dtypes: float64(2), int64(5)\n",
            "memory usage: 48.8 KB\n"
          ],
          "name": "stdout"
        }
      ]
    },
    {
      "metadata": {
        "id": "09OP730KzymX",
        "colab_type": "code",
        "colab": {
          "autoexec": {
            "startup": false,
            "wait_interval": 0
          },
          "base_uri": "https://localhost:8080/",
          "height": 68
        },
        "outputId": "46e1134a-9c04-4d81-f6a5-4b7f9f25c176",
        "executionInfo": {
          "status": "ok",
          "timestamp": 1524315082914,
          "user_tz": -330,
          "elapsed": 1172,
          "user": {
            "displayName": "Sayak Paul",
            "photoUrl": "//lh4.googleusercontent.com/-0DcRWUZkYps/AAAAAAAAAAI/AAAAAAAAB78/0RmCGdOjgaA/s50-c-k-no/photo.jpg",
            "userId": "103834756187906230940"
          }
        }
      },
      "cell_type": "code",
      "source": [
        "# Let's build the K-Means model now\n",
        "\n",
        "kmeans = KMeans(n_clusters=2) # You want cluster the passenger records into 2: Survived or Not survived\n",
        "kmeans.fit(X)"
      ],
      "execution_count": 12,
      "outputs": [
        {
          "output_type": "execute_result",
          "data": {
            "text/plain": [
              "KMeans(algorithm='auto', copy_x=True, init='k-means++', max_iter=300,\n",
              "    n_clusters=2, n_init=10, n_jobs=1, precompute_distances='auto',\n",
              "    random_state=None, tol=0.0001, verbose=0)"
            ]
          },
          "metadata": {
            "tags": []
          },
          "execution_count": 12
        }
      ]
    },
    {
      "metadata": {
        "id": "R4dbzv0sO4k5",
        "colab_type": "text"
      },
      "cell_type": "markdown",
      "source": [
        "You can see all the other parameters of the model other than <b>n_clusters</b> also."
      ]
    },
    {
      "metadata": {
        "id": "fQC4uVN81qNS",
        "colab_type": "code",
        "colab": {
          "autoexec": {
            "startup": false,
            "wait_interval": 0
          },
          "base_uri": "https://localhost:8080/",
          "height": 34
        },
        "outputId": "458aa31b-937b-4f6b-ec75-f1756871e2d5",
        "executionInfo": {
          "status": "ok",
          "timestamp": 1524315132200,
          "user_tz": -330,
          "elapsed": 1265,
          "user": {
            "displayName": "Sayak Paul",
            "photoUrl": "//lh4.googleusercontent.com/-0DcRWUZkYps/AAAAAAAAAAI/AAAAAAAAB78/0RmCGdOjgaA/s50-c-k-no/photo.jpg",
            "userId": "103834756187906230940"
          }
        }
      },
      "cell_type": "code",
      "source": [
        "# Let's see how well the model is doing i.e. what is its percentage of clustering the passenger records correctly\n",
        "\n",
        "correct = 0\n",
        "for i in range(len(X)):\n",
        "    predict_me = np.array(X[i].astype(float))\n",
        "    predict_me = predict_me.reshape(-1, len(predict_me))\n",
        "    prediction = kmeans.predict(predict_me)\n",
        "    if prediction[0] == y[i]:\n",
        "        correct += 1\n",
        "\n",
        "print(correct/len(X))"
      ],
      "execution_count": 13,
      "outputs": [
        {
          "output_type": "stream",
          "text": [
            "0.5084175084175084\n"
          ],
          "name": "stdout"
        }
      ]
    },
    {
      "metadata": {
        "id": "CrOYe2y_4fCt",
        "colab_type": "text"
      },
      "cell_type": "markdown",
      "source": [
        "That is nice for the first go. Your model was able to cluster correctly with a 50% (accuracy of your model). But in order to enhance the performance of the model you could tweak some parameters of the model itself. I will list some of these parameters which the scikit-learn implementation of K-Means provides:\n",
        " - algorithm\n",
        " - max_iter\n",
        " - n_jobs\n",
        "<br><br>\n",
        "\n",
        "Let's tweak the values of these parameters and see if there is a change in the result.\n",
        "\n",
        "In the [scikit-learn documentation](http://scikit-learn.org/stable/modules/generated/sklearn.cluster.KMeans.html), you will find a solid information about these parameters which you should dig further. "
      ]
    },
    {
      "metadata": {
        "id": "iDf9m9z0Pabg",
        "colab_type": "code",
        "colab": {
          "autoexec": {
            "startup": false,
            "wait_interval": 0
          },
          "base_uri": "https://localhost:8080/",
          "height": 68
        },
        "outputId": "8fdc00ad-b0d2-4ae2-c024-659459d19ce1",
        "executionInfo": {
          "status": "ok",
          "timestamp": 1524315371559,
          "user_tz": -330,
          "elapsed": 1243,
          "user": {
            "displayName": "Sayak Paul",
            "photoUrl": "//lh4.googleusercontent.com/-0DcRWUZkYps/AAAAAAAAAAI/AAAAAAAAB78/0RmCGdOjgaA/s50-c-k-no/photo.jpg",
            "userId": "103834756187906230940"
          }
        }
      },
      "cell_type": "code",
      "source": [
        "kmeans = kmeans = KMeans(n_clusters=2, max_iter=600, algorithm = 'auto') \n",
        "kmeans.fit(X)"
      ],
      "execution_count": 24,
      "outputs": [
        {
          "output_type": "execute_result",
          "data": {
            "text/plain": [
              "KMeans(algorithm='auto', copy_x=True, init='k-means++', max_iter=600,\n",
              "    n_clusters=2, n_init=10, n_jobs=1, precompute_distances='auto',\n",
              "    random_state=None, tol=0.0001, verbose=0)"
            ]
          },
          "metadata": {
            "tags": []
          },
          "execution_count": 24
        }
      ]
    },
    {
      "metadata": {
        "id": "Bh2ig1_DRUQ9",
        "colab_type": "code",
        "colab": {
          "autoexec": {
            "startup": false,
            "wait_interval": 0
          },
          "base_uri": "https://localhost:8080/",
          "height": 34
        },
        "outputId": "1334e480-fee9-495c-bd87-4968269b4e0a",
        "executionInfo": {
          "status": "ok",
          "timestamp": 1524315376644,
          "user_tz": -330,
          "elapsed": 2254,
          "user": {
            "displayName": "Sayak Paul",
            "photoUrl": "//lh4.googleusercontent.com/-0DcRWUZkYps/AAAAAAAAAAI/AAAAAAAAB78/0RmCGdOjgaA/s50-c-k-no/photo.jpg",
            "userId": "103834756187906230940"
          }
        }
      },
      "cell_type": "code",
      "source": [
        "correct = 0\n",
        "for i in range(len(X)):\n",
        "    predict_me = np.array(X[i].astype(float))\n",
        "    predict_me = predict_me.reshape(-1, len(predict_me))\n",
        "    prediction = kmeans.predict(predict_me)\n",
        "    if prediction[0] == y[i]:\n",
        "        correct += 1\n",
        "\n",
        "print(correct/len(X))"
      ],
      "execution_count": 25,
      "outputs": [
        {
          "output_type": "stream",
          "text": [
            "0.49158249158249157\n"
          ],
          "name": "stdout"
        }
      ]
    },
    {
      "metadata": {
        "id": "ANNS1aZuRw6O",
        "colab_type": "text"
      },
      "cell_type": "markdown",
      "source": [
        "You can see a decrease in the score. One of the reasons being you have not scaled the values of the different features that you are feeding to the model. The features in the dataset contain different ranges of values. So, what happens is a small change in a feature does not affect the other feature. So, it is also important to scale the values of the features to a same range. \n",
        "\n",
        "Let's do that now and for this experiment you are going to take 0 - 1 as the uniform value range across all the features. "
      ]
    },
    {
      "metadata": {
        "id": "V6OQS8m0S9AL",
        "colab_type": "code",
        "colab": {
          "autoexec": {
            "startup": false,
            "wait_interval": 0
          }
        }
      },
      "cell_type": "code",
      "source": [
        "scaler = MinMaxScaler()\n",
        "X_scaled = scaler.fit_transform(X)"
      ],
      "execution_count": 0,
      "outputs": []
    },
    {
      "metadata": {
        "id": "Jfo6x0pYUYNh",
        "colab_type": "code",
        "colab": {
          "autoexec": {
            "startup": false,
            "wait_interval": 0
          },
          "base_uri": "https://localhost:8080/",
          "height": 68
        },
        "outputId": "08fd702f-18e6-4b80-81af-dc18c02377fb",
        "executionInfo": {
          "status": "ok",
          "timestamp": 1524316210206,
          "user_tz": -330,
          "elapsed": 886,
          "user": {
            "displayName": "Sayak Paul",
            "photoUrl": "//lh4.googleusercontent.com/-0DcRWUZkYps/AAAAAAAAAAI/AAAAAAAAB78/0RmCGdOjgaA/s50-c-k-no/photo.jpg",
            "userId": "103834756187906230940"
          }
        }
      },
      "cell_type": "code",
      "source": [
        "kmeans.fit(X_scaled)"
      ],
      "execution_count": 33,
      "outputs": [
        {
          "output_type": "execute_result",
          "data": {
            "text/plain": [
              "KMeans(algorithm='auto', copy_x=True, init='k-means++', max_iter=600,\n",
              "    n_clusters=2, n_init=10, n_jobs=1, precompute_distances='auto',\n",
              "    random_state=None, tol=0.0001, verbose=0)"
            ]
          },
          "metadata": {
            "tags": []
          },
          "execution_count": 33
        }
      ]
    },
    {
      "metadata": {
        "id": "iZKvL_XOU8rT",
        "colab_type": "code",
        "colab": {
          "autoexec": {
            "startup": false,
            "wait_interval": 0
          },
          "base_uri": "https://localhost:8080/",
          "height": 34
        },
        "outputId": "4b9c44b2-fdf5-476d-ad45-e3c2d814fa66",
        "executionInfo": {
          "status": "ok",
          "timestamp": 1524316238754,
          "user_tz": -330,
          "elapsed": 949,
          "user": {
            "displayName": "Sayak Paul",
            "photoUrl": "//lh4.googleusercontent.com/-0DcRWUZkYps/AAAAAAAAAAI/AAAAAAAAB78/0RmCGdOjgaA/s50-c-k-no/photo.jpg",
            "userId": "103834756187906230940"
          }
        }
      },
      "cell_type": "code",
      "source": [
        "correct = 0\n",
        "for i in range(len(X)):\n",
        "    predict_me = np.array(X[i].astype(float))\n",
        "    predict_me = predict_me.reshape(-1, len(predict_me))\n",
        "    prediction = kmeans.predict(predict_me)\n",
        "    if prediction[0] == y[i]:\n",
        "        correct += 1\n",
        "\n",
        "print(correct/len(X))"
      ],
      "execution_count": 34,
      "outputs": [
        {
          "output_type": "stream",
          "text": [
            "0.6262626262626263\n"
          ],
          "name": "stdout"
        }
      ]
    },
    {
      "metadata": {
        "id": "H9TSJd_PVBJo",
        "colab_type": "text"
      },
      "cell_type": "markdown",
      "source": [
        "Great! You can see an instant 12% increase in the score. \n",
        "\n",
        "So far you were able to load your data, preprocess it accordingly, do a little bit of feature engineering and finally you were able to make a K-Means model and see it in action. \n",
        "\n",
        "Now, let's discuss K-Means's limitations. "
      ]
    },
    {
      "metadata": {
        "id": "eUP47YmaIlm-",
        "colab_type": "text"
      },
      "cell_type": "markdown",
      "source": [
        "<h3>Disadvantages of K-Means:</h3>\n",
        "Now that you have a fairly good idea on how K-Means algorithm works let's discuss some its disadvantages. \n",
        "\n",
        "The biggest disadvantage is that K-Means requires you to pre-specify the number of clusters (k). However, for the Titanic dataset, you had some domain knowledge available that told you the number of people who survived in the shipwreck. This might not always be the case with real world datasets. Hierarchical clustering is an alternative approach that does not require a particular choice of clusters. An additional disadvantage of k-means is that it is sensitive to outliers and different results can occur if you change the ordering of the data.\n",
        "\n",
        "K-Means is a lazy learner where generalization of the training data is delayed until a query is made to the system. Which means K-Means starts working only when you trigger it to, thus lazy learning methods can construct a different approximation or result to the target function for each encountered query. It is a good method for online learning, but it requires a possibly large amount of memory to store the data, and each request involves starting the identification of a local model from scratch.\n",
        "\n",
        "<h3>Further readings on K-Means:</h3>\n",
        "So, in this tutorial you scratched the surface of one of the most popular clustering techniques - K-Means. You learnt its inner mechanics, you implemented it using the Titanic Dataset in Python. You also got a fair idea of its disadvantages. Following are some points which I would like to leave for you to investigate further on K-Means:\n",
        "\n",
        "* Apply K-Means on a real-life dataset and share your findings. You will find many real life datasets in UCI machine learning repository, Kaggle etc. The datasets may require a lot of Data preprocessing which is another field of study itself. \n",
        "* After applying K-Means measure its performance with the metrics that I mentioned in the reference.\n",
        "* Apply different distance measurement functions mentioned above and examine how the results are getting changed. It will help you to choose the right set of parameters for K-Means algorithm for the given task. \n",
        "* Investigate on how to choose the right value of 'K'. There is no direct method for choosing K's value. However, there are a number of articles on the internet which will tell you what to do about it. My favorite among them is [this one](https://www.datascience.com/blog/k-means-clustering).\n",
        "* Finally study some beautiful business applications of K-Means including research papers that use K-Means.\n"
      ]
    }
  ]
}