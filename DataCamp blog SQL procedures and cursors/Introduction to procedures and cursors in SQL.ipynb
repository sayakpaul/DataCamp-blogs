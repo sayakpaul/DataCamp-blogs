{
 "cells": [
  {
   "cell_type": "markdown",
   "metadata": {},
   "source": [
    "# Introduction to procedures and cursors in SQL\n",
    "\n",
    "**Learn how to write procedures and cursors for an RDBMS.**\n",
    "\n",
    "If you want to learn more about SQL specifically from a Data Science perspective, take DataCamp's free [\"Intro to SQL for Data Science\"](https://www.datacamp.com/courses/intro-to-sql-for-data-science) course. "
   ]
  },
  {
   "cell_type": "markdown",
   "metadata": {},
   "source": [
    "SQL is a must have skill for any modern software engineer. Because most of the softwares depend on some kind of data and integrates well with an RDBMS (Relational Database Management System). Be it a web application, be it an API or be it a n in-house application, RDBMS is there. And SQL is the language for querying an RDBMS. \n",
    "\n",
    "As a data scientist, it is very primary to know SQL and its related techniques. For being able to query an RDBMS and get answers to specific questions that you will have about the data you are dealing with, SQL is the minimum need.\n",
    "\n",
    "In his latest video with DataCamp, [David Robinson](http://varianceexplained.org/about/)(Chief Data Scientist @ DataCamp) [showed us how he uses SQL in a Data Science problem](https://www.youtube.com/watch?v=6M0W-zmau8I). Please check it out, his workflow is very interesting.  \n",
    "\n",
    "In this tutorial, you will learn to write procedures and cursors; another important aspects of SQL. Have you ever wanted your RDBMS to automatically perform a certain of actions when a particular action is taken? For example, let's say you have created a new employee record in table called `Employees` and you want this to reflect in the other related tables like `Departments`. Well, you are going to take just the right tutorial. "
   ]
  },
  {
   "cell_type": "markdown",
   "metadata": {},
   "source": [
    "In this tutorial, you are going to learn: \n",
    "- What is a procedure in an RDBMS?\n",
    "- How can you write one procedure?\n",
    "- Different types of procedures\n",
    "- What is a cursor in an RDBMS?\n",
    "- How to write different types of cursors?\n",
    "- Different types of cursors\n",
    "\n",
    "Sounds exciting? Let's get started. "
   ]
  },
  {
   "cell_type": "markdown",
   "metadata": {},
   "source": [
    "## What is a procedure in an RDBMS?\n",
    "\n",
    "Before proceeding with procedures and cursors, you will need to know a bit about `PL/SQL` which is a block-structured language that enables developers like you to combine the power of SQL with procedural statements. But you will not learn in the conventional way, you will learn it as you go along and as required. \n",
    "\n",
    "So if you have an SQL query and you want to execute it for multiple times. Procedures are one of the solutions for it. Often procedures are called as `Stored Procedures` in this context because they remain stored and get triggered upon a particular action or a series of actions. Procedures are also referred to as `Procs`. \n",
    "\n",
    "Now you will see how to write a procedure. "
   ]
  },
  {
   "cell_type": "markdown",
   "metadata": {},
   "source": [
    "## Writing procedures: \n",
    "\n",
    "The general syntax for writing a procedure is as follows:\n",
    "\n",
    "```SQL\n",
    "\n",
    "CREATE PROCEDURE procedure_name\n",
    "AS\n",
    "sql_statement\n",
    "GO;\n",
    "\n",
    "```\n",
    "\n",
    "Please note that these syntaxes applies to almost any RDBMS be it Oracle, be it PostGreSQL or be it MySQL. "
   ]
  },
  {
   "cell_type": "markdown",
   "metadata": {},
   "source": [
    "After you have created a procedure you will have execute it. Following is the syntax for that. \n",
    "\n",
    "```SQL\n",
    "EXEC procedure_name;\n",
    "```"
   ]
  },
  {
   "cell_type": "markdown",
   "metadata": {},
   "source": [
    "Let's write a simple procedure now. Consider the following snapshot from an RDBMS consisting a table called `Customers`.\n",
    "\n",
    "<img src=\"https://image.ibb.co/b2LXwp/Capture.jpg\"></img>\n",
    "\n",
    "**Source**: [W3Schools](https://www.w3schools.com)"
   ]
  },
  {
   "cell_type": "markdown",
   "metadata": {},
   "source": [
    "You will write a procedure named `SelectAllCustomers` which will select all the customers from `Customers`. \n",
    "\n",
    "```SQL\n",
    "CREATE PROCEDURE SelectAllCustomers\n",
    "AS\n",
    "SELECT * FROM Customers\n",
    "GO;\n",
    "```\n",
    "\n",
    "Execute `SelectAllCustomers` by:\n",
    "\n",
    "```SQL\n",
    "EXEC SelectAllCustomers;\n",
    "```"
   ]
  },
  {
   "cell_type": "markdown",
   "metadata": {},
   "source": [
    "Procedures can be stand-alone blocks of statements as well which makes them independent of any tables unlike the previous one. The following example creates a simple procedure that displays the string 'Hello World!' as output when executed.\n",
    "```SQL\n",
    "CREATE PROCEDURE welcome\n",
    "AS\n",
    "BEGIN\n",
    "dbms_output.put_line('Hello World!');\n",
    "END;\n",
    "```"
   ]
  },
  {
   "cell_type": "markdown",
   "metadata": {},
   "source": [
    "There are two ways of executing a stand-alone procedure. \n",
    "- Using the `EXEC` keyword\n",
    "- Calling the name of the procedure from a PL/SQL block \n",
    "\n",
    "The above procedure named 'welcome' can be called with the `EXEC` keyword as:\n",
    "```SQL\n",
    "EXEC welcome;\n",
    "```\n",
    "\n",
    "You will see the next method now i.e. calling a procedure from another PL/SQL block. \n",
    "```SQL\n",
    "BEGIN\n",
    "welcome;\n",
    "END; \n",
    "```"
   ]
  },
  {
   "cell_type": "markdown",
   "metadata": {},
   "source": [
    "A procedure can be replaced as well. You just need to add `REPLACE` keyword when you are creating the procedure. This will replace the already existing procedure (if) otherwise will create a fresh one. \n",
    "\n",
    "```SQL\n",
    "CREATE OR REPLACE PROCEDURE welcome\n",
    "AS\n",
    "BEGIN\n",
    "dbms_output.put_line('Hello World!');\n",
    "END;\n",
    "```\n",
    "\n",
    "Deleting a stored procedure is no big deal:\n",
    "```SQL\n",
    "DROP PROCEDURE procedure-name; \n",
    "```"
   ]
  },
  {
   "cell_type": "markdown",
   "metadata": {},
   "source": [
    "Procedures can be different based on parameters also. There can be one parameter procedures and also multiple parameters' procedures. Now you will study these variants. \n",
    "\n",
    "You will use the same table `Customers` for this. For your convenience, the snapshot is given again in the below section. \n",
    "\n",
    "<img src=\"https://image.ibb.co/b2LXwp/Capture.jpg\"></img>\n",
    "\n",
    "**Source**: [W3Schools](https://www.w3schools.com)"
   ]
  },
  {
   "cell_type": "markdown",
   "metadata": {},
   "source": [
    "You will write a stored procedure that selects Customers from a particular City from the table:\n",
    "```SQL\n",
    "CREATE PROCEDURE SelectAllCustomers @City nvarchar(30)\n",
    "AS\n",
    "SELECT * FROM Customers WHERE City = @City\n",
    "GO;\n",
    "```\n",
    "\n",
    "Let's dissect the common principles here:\n",
    "- You wrote the first `@City` and defined its type and size as one of the parameters which will be given when the procedure will be executed. \n",
    "- The second `@City` is assigned to condition variable `City` which is nothing but a column in the `Customers` table. "
   ]
  },
  {
   "cell_type": "markdown",
   "metadata": {},
   "source": [
    "The procedure is executed as : \n",
    "```SQL \n",
    "EXEC SelectAllCustomers City = \"London\";\n",
    "```\n",
    "\n",
    "Let's see the other variant now. \n",
    "\n",
    "Writing procedures with _multiple parameters_ is exactly the same as the earlier one. You just need to append them. \n",
    "```SQL\n",
    "CREATE PROCEDURE SelectAllCustomers @City nvarchar(30), @PostalCode nvarchar(10)\n",
    "AS\n",
    "SELECT * FROM Customers WHERE City = @City AND PostalCode = @PostalCode\n",
    "GO;\n",
    "```"
   ]
  },
  {
   "cell_type": "markdown",
   "metadata": {},
   "source": [
    "Execute the procedure as: \n",
    "```SQL\n",
    "EXEC SelectAllCustomers City = \"London\", PostalCode = \"WA1 1DP\";\n",
    "```"
   ]
  },
  {
   "cell_type": "markdown",
   "metadata": {},
   "source": [
    "Aren't codes very readable? When the code is readable, it is more fun to do. That is all for the procedures. You will now study cursors. "
   ]
  },
  {
   "cell_type": "markdown",
   "metadata": {},
   "source": [
    "## What is a Cursor in an RDBMS?\n",
    "\n",
    "Databases like Oracle creates a memory area, known as _context area_, for processing an SQL statement, which contains all\n",
    "information needed for processing the statement, for example - number of rows processed. \n",
    "\n",
    "A cursor is a pointer to this context area. PL/SQL controls the context area through a _Cursor_. A cursor is a temporary work area created in the system memory when a SQL statement is executed. A cursor contains information on a select statement and the rows of data accessed by it. Therefore, cursors are used as to speed the processing time of queries in large databases. The reason you may need to use a database cursor is that you need to perform actions on individual rows.\n",
    "\n",
    "Cursors can be of two types: \n",
    "- Implicit cursors\n",
    "- Explicit cursors\n",
    "\n",
    "Now you will see how to write different types of cursors. "
   ]
  },
  {
   "cell_type": "markdown",
   "metadata": {},
   "source": [
    "## Writing cursors:\n",
    "\n",
    "You will start off this section by understanding what implicit cursors are. \n",
    "\n",
    "**Implicit cursors** are automatically created by Oracle whenever an SQL statement is executed, when there is no explicit cursor defined for the statement. Programmers cannot control the implicit cursors and the information in it. Whenever a DML (Data Manipulation Language) statement (INSERT, UPDATE and DELETE) is issued, an implicit cursor is associated with that statement. For INSERT operations, the cursor holds the data that needs to be inserted. For UPDATE and DELETE operations, the cursor identifies the rows that would be affected. \n",
    "\n",
    "You can refer to the most recent implicit cursor as the SQL cursor, which always has the attributes like:\n",
    "- %FOUND,\n",
    "- %ISOPEN,\n",
    "- %NOTFOUND,\n",
    "- %ROWCOUNT. \n",
    "\n",
    "Following image describes these attributes briefly:\n",
    "<img src = \"https://image.ibb.co/fkG0z9/Capture.jpg\"></img>\n",
    "\n",
    "**Source**: [TutorialsPoint](https://www.tutorialspoint.com/plsql/plsql_cursors.htm)"
   ]
  },
  {
   "cell_type": "markdown",
   "metadata": {},
   "source": [
    "Let's consider a snapshot of database consisting a table called `Employee`:\n",
    "<img src = \"https://image.ibb.co/du1VXU/Capture.jpg\">"
   ]
  },
  {
   "cell_type": "markdown",
   "metadata": {},
   "source": [
    "Now, you will write a cursor that will increase salary by 1000 of those whose age is less than 30. \n",
    "```SQL\n",
    "DECLARE\n",
    "total_rows number(2);\n",
    "\n",
    "BEGIN\n",
    "UPDATE Employee\n",
    "SET salary = salary + 1000\n",
    "where age < 30;\n",
    "IF sql%notfound THEN\n",
    "    dbms_output.put_line('No employees found for under 30 age');\n",
    "ELSIF sql%found THEN\n",
    "    total_rows := sql%rowcount;\n",
    "    dbms_output.put_line( total_rows || ' employees updated ');\n",
    "END IF;\n",
    "END; \n",
    "```"
   ]
  },
  {
   "cell_type": "markdown",
   "metadata": {},
   "source": [
    "Let's now review what all you wrote:\n",
    "\n",
    "- You defined a variable named `total_rows` for storing the count of employees that will be affected for the action of the cursor.\n",
    "- You started the cursors block with `BEGIN` and wrote a simple SQL query which updates the salary of those whose age is less than 30. \n",
    "- You handled the output in case there is not such entry in the DB where an employee's age is less than 30. You used `%notfound` attribute for that. Not the implicit cursor `sql` here which stores all the relevant information. \n",
    "- Finally, you printed the number of records which got affected for the cursor using `%rowcount` attribute.\n",
    "\n",
    "Great! You are doing fine!"
   ]
  },
  {
   "cell_type": "markdown",
   "metadata": {},
   "source": [
    "When the above code is executed at SQL prompt, it produces the following result:\n",
    "\n",
    "2 Employees updated (assume there are 2 records where age < 30)"
   ]
  },
  {
   "cell_type": "markdown",
   "metadata": {},
   "source": [
    "You will now study explicit cursors. \n",
    "\n",
    "**Explicit cursors** give more defined controls over context area.  It is created on a SELECT Statement which returns more than one row. \n",
    "\n",
    "The syntax for creating an explicit cursor is\n",
    "```SQL\n",
    "CURSOR cursor_name IS select_statement; \n",
    "```"
   ]
  },
  {
   "cell_type": "markdown",
   "metadata": {},
   "source": [
    "If you are working with explicit cursors, you need to follow a sequence steps which are as follows:\n",
    "- Declare  the cursor for initializing in memory\n",
    "- Open the cursor for allocating memory area\n",
    "- Fetch the cursor for retrieving data \n",
    "- Close the cursor for deallocating the memory\n",
    "\n",
    "Following image denotes the life cycle of a typical explicit cursor:\n",
    "\n",
    "<img src=\"https://image.ibb.co/izqeRp/Untitled_Diagram.jpg\"></img>\n",
    "\n",
    "You will now study more about each of these steps. "
   ]
  },
  {
   "cell_type": "markdown",
   "metadata": {},
   "source": [
    "### Declaring the cursor: \n",
    "You declare a cursor along with a `SELECT` statement. For example:\n",
    "```SQL\n",
    "CURSOR C IS SELECT id, name, address FROM Employee where age > 30; \n",
    "```\n",
    "\n",
    "### Opening a cursor:\n",
    "When you open the cursor, CPU allocates memory for the cursor and makes it ready for fetching the rows returned by the SQL statement entailed to it. For example, we will open above-defined cursor as follows:\n",
    "```SQL\n",
    "OPEN C;\n",
    "```\n",
    "\n",
    "### Fetching the cursor:\n",
    "Fetching the cursor involves accessing one row at a time from the associated table in the SQL entailed to the cursor.\n",
    "```SQL\n",
    "FETCH C INTO C_id, C_name, C_address; \n",
    "```\n",
    "\n",
    "### Closing the cursor: \n",
    "Closing the cursor means releasing the allocated memory. You will close above-opened cursor as:\n",
    "```SQL\n",
    "CLOSE C;\n",
    "```"
   ]
  },
  {
   "cell_type": "markdown",
   "metadata": {},
   "source": [
    "You will now put all these pieces together in a meaningful way. \n",
    "\n",
    "### Assembling these pieces:\n",
    "```SQL\n",
    "DECLARE\n",
    "C_id Employee.ID%type;\n",
    "C_name Employee.NAME%type;\n",
    "C_address Employee.ADDRESS%type;\n",
    "CURSOR C is\n",
    "SELECT id, name, address FROM Employee where age > 30;\n",
    "BEGIN\n",
    "OPEN C;\n",
    "LOOP\n",
    "FETCH C INTO C_id, C_name, C_address; \n",
    "dbms_output.put_line(ID || ' ' || NAME || ' ' || ADDRESS); \n",
    "EXIT WHEN C%notfound;\n",
    "END LOOP;\n",
    "CLOSE C;\n",
    "END; \n",
    "```"
   ]
  },
  {
   "cell_type": "markdown",
   "metadata": {},
   "source": [
    "You learned to declare the cursor variables C_id, C_name and C_address as well. `C_id Employee.ID%type;` - this ensures that C_id gets created with the same data type as the ID's data type in the `Employee` table. \n",
    "\n",
    "By using `LOOP` you looped through the cursor the fetched the records and displayed it. You also handled the case if no record is found by the cursor. \n",
    "\n",
    "When the code is executed at the SQL prompt, it produces −\n",
    "\n",
    "<img src = \"https://image.ibb.co/nuGZbp/Capture.jpg\"></img>"
   ]
  },
  {
   "cell_type": "markdown",
   "metadata": {},
   "source": [
    "## Conclusion:\n",
    "\n",
    "Congrats! You have made it to the end. You covered two of most prevalent topics of the database world - procedures and cursors. These are very common in the applications which deal with huge amount transactions. Yes, you guessed it right! Banks are using these since time immemorial. You learned how to write a procedure, what are its different types and why they are so. You also studied cursors and its several variants and how you can write them. \n",
    "\n",
    "Amazing!\n",
    "\n",
    "Following are some references that were taken to write this tutorial:\n",
    "- [Oracle PL/SQL Programming](https://www.amazon.com/Oracle-SQL-Programming-Steven-Feuerstein/dp/1565923359)\n",
    "- [TutorialsPoint blog on Cursors](https://www.tutorialspoint.com/plsql/plsql_cursors.htm)"
   ]
  }
 ],
 "metadata": {
  "kernelspec": {
   "display_name": "Python 3",
   "language": "python",
   "name": "python3"
  },
  "language_info": {
   "codemirror_mode": {
    "name": "ipython",
    "version": 3
   },
   "file_extension": ".py",
   "mimetype": "text/x-python",
   "name": "python",
   "nbconvert_exporter": "python",
   "pygments_lexer": "ipython3",
   "version": "3.6.5"
  },
  "latex_envs": {
   "LaTeX_envs_menu_present": true,
   "autoclose": false,
   "autocomplete": true,
   "bibliofile": "biblio.bib",
   "cite_by": "apalike",
   "current_citInitial": 1,
   "eqLabelWithNumbers": true,
   "eqNumInitial": 1,
   "hotkeys": {
    "equation": "Ctrl-E",
    "itemize": "Ctrl-I"
   },
   "labels_anchors": false,
   "latex_user_defs": false,
   "report_style_numbering": false,
   "user_envs_cfg": false
  },
  "toc": {
   "base_numbering": 1,
   "nav_menu": {},
   "number_sections": false,
   "sideBar": true,
   "skip_h1_title": false,
   "title_cell": "Table of Contents",
   "title_sidebar": "Contents",
   "toc_cell": false,
   "toc_position": {},
   "toc_section_display": true,
   "toc_window_display": false
  }
 },
 "nbformat": 4,
 "nbformat_minor": 2
}
