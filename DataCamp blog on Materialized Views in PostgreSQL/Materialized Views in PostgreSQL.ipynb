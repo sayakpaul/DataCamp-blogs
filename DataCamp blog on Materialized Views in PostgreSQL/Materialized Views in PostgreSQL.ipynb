{
  "cells": [
    {
      "metadata": {},
      "cell_type": "markdown",
      "source": "## Materialized Views in PostgreSQL\n\nIn this tutorial, learn to store the result of a query with the help of _materialized views_ in PostgreSQL. "
    },
    {
      "metadata": {},
      "cell_type": "markdown",
      "source": "If you work in SQL (preferably a PostgreSQL user) extensively or on an average level to query databases, then you might have written a good number of complex queries to find answers to critical questions. Also, sometimes it so happens that you need to use the results of those queries quite frequently in your works. Running a complex query multiple times can be _expensive_. What if there was a way to cache the results of a complex query to aid the performance? Well, _materialized views_ are there for you. \n\nYou might be thinking there are simple _views_ also which can store the result of a query. But a simple view differs from a materialized view from multiple aspects. Here is what the [official documentation of PostgreSQL](https://www.postgresql.org/docs/9.2/sql-createview.html) says about simple views - \n\n>  The view is not physically materialized. Instead, the query is run every time the view is referenced in a query.\n\nThe statement means that simple views are not physically stored in the database. Each time a view is used in a query, the query that created the view is executed. Now, this is what makes simple views a bit inefficient when it comes to access time. \n\nOn the other hand, materialized views come with a lot of flexibility by allowing you to persist a view in the database physically. And you can operate on the materialized views just like you do in case of simple views (but with a lower access time). For the rest of this tutorial, you will be studying about materialized views in PostgreSQL. In one of his [webinars](https://support.datacamp.com/hc/en-us/articles/360009513793-Sept-2018-Webinar-A-Day-in-the-Life-of-a-Data-Scientist), DataCamp's Chief Data Scientist David Robinson showed how he uses materialized views to effectively store the results of complex queries. \n\n**Note** that in order to follow along with this tutorial, you should be familiar with the contents covered in the [Joining Data in SQL](https://www.datacamp.com/courses/joining-data-in-postgresql) course. "
    },
    {
      "metadata": {},
      "cell_type": "markdown",
      "source": "## Initial database set up\n\nIt is better to set up a database in PostgreSQL and create a basic table in there so that you can effectively query it. This would help you in the latter sections of the tutorial as well. You can restore [this database backup](http://tinyurl.com/y29da6er) which contains the table which you are going to use in this tutorial. If you want to learn how to restore a database backup in PostgreSQL, you can follow the first section of [this tutorial](https://www.datacamp.com/community/tutorials/intro-to-where-clause-sql). \n\nIf you were able to restore the backup, you should see a table named `international_debt` within the database (you will need to create a database first, if you don't have one). Let's quickly take a look at the first few rows of the table (a simple select query will help you do this) -  \n\n![](https://i.ibb.co/0J2Y700/Capture-1.png)"
    },
    {
      "metadata": {},
      "cell_type": "markdown",
      "source": "The table contains information about the debt statistics of different countries across the globe for this current year in different categories (refer to the columns `indicator_name`, `indicator_code`). The debt column shows the amount of debt (in USD) a particular country has in a particular category. The data belongs to the domain of economics and is often used to analyze the economic conditions of different countries. The data was collected from the [World Bank ](http://datatopics.worldbank.org/debt/ids/)."
    },
    {
      "metadata": {},
      "cell_type": "markdown",
      "source": "Now that you have set up a database successfully, you are good to proceed to the next sections of this tutorial. "
    },
    {
      "metadata": {},
      "cell_type": "markdown",
      "source": "## Creating materialized views\n\nLet's create a materialized view of the following query - \n```sql\nselect country_name, \nsum(debt) as total_debt \nfrom international_debt \ngroup by country_name order by country_name;\n```\nThe query returns the country names with their total debts (in alphabetical order). The output of the query should look like so - \n\n![](https://i.ibb.co/s615G3d/Capture-1.png)\n"
    },
    {
      "metadata": {},
      "cell_type": "markdown",
      "source": "Now the materialized view - \n```sql\nCREATE MATERIALIZED VIEW country_total_debt\nas\n  select country_name, \n  sum(debt) as total_debt \n  from international_debt \n  group by country_name order by country_name;\n```\n\nYou should get a success message saying - `Query returned successfully: 124 rows affected, 242 ms execution time.`"
    },
    {
      "metadata": {},
      "cell_type": "markdown",
      "source": "## Refreshing a materialized view"
    },
    {
      "metadata": {},
      "cell_type": "markdown",
      "source": "You can also instruct PostgreSQL not load any data into the materialized view while you are creating it by specifying the `WITH NO DATA` option - \n```sql\nCREATE MATERIALIZED VIEW country_total_debt_2\nas\n  select country_name, \n  sum(debt) as total_debt \n  from international_debt \n  group by country_name order by country_name\nWITH NO DATA;\n```\n\nYou will get a message saying - `Query returned successfully with no result in 41 ms.` Notice the difference between two output messages. If you append the `WITH NO DATA` option, an empty materialized view gets created. You cannot query this materialized view. However, you can populate the materialized view by executing - \n\n`REFRESH MATERIALIZED VIEW country_total_debt_2;`"
    },
    {
      "metadata": {},
      "cell_type": "markdown",
      "source": "## Querying a materialized view\n\nBy now, you should have two materialized views (country_total_debt, country_total_debt_2) created. Let's execute a simple select query using any of the two - \n```sql\nselect * from country_total_debt_2;\n```\n\nThe query should return something like - \n\n![](https://i.ibb.co/s615G3d/Capture-1.png)\n\nThe output is exactly the same as the query which we wrapped in a materialized view. You can run queries on materialized views with aggregate functions as well - \n```sql\nselect max(total_debt) from country_total_debt_2;\n```\n\nYou should get - \n![](https://i.ibb.co/rm4kx0r/Capture-2.png)"
    },
    {
      "metadata": {},
      "cell_type": "markdown",
      "source": "## Dropping a materialized view\n\nMaterialized views can be dropped just like the way tables are dropped in PostgreSQL. You just need to specify `Materialized View` after `Drop` -  \n\n```sql\nDrop Materialized View country_total_debt_2;\n```"
    },
    {
      "metadata": {},
      "cell_type": "markdown",
      "source": "## Conclusion\n\nThis is all for this tutorial. Thank you reading this it till the end. In this tutorial, you got to know about materialized views in PostgreSQL and you can operate on them. Due to their effectiveness, materialized views are extensively used in database warehousing. If you are interested in learning more cplex queries you can check out the following DataCamp courses - \n\n- [Intermediate SQL](https://www.datacamp.com/courses/intermediate-sql)\n- [Reporting in SQL](https://www.datacamp.com/courses/reporting-in-sql)"
    }
  ],
  "metadata": {
    "kernelspec": {
      "name": "python36",
      "display_name": "Python 3.6",
      "language": "python"
    },
    "language_info": {
      "mimetype": "text/x-python",
      "nbconvert_exporter": "python",
      "name": "python",
      "pygments_lexer": "ipython3",
      "version": "3.6.6",
      "file_extension": ".py",
      "codemirror_mode": {
        "version": 3,
        "name": "ipython"
      }
    }
  },
  "nbformat": 4,
  "nbformat_minor": 1
}