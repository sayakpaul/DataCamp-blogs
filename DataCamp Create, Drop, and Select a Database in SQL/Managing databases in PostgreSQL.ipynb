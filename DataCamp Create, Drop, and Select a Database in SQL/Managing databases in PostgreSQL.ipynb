{
 "cells": [
  {
   "cell_type": "markdown",
   "metadata": {},
   "source": [
    "## Managing databases in PostgreSQL\n",
    "\n",
    "In this tutorial, learn how to create, drop and select a database in SQL."
   ]
  },
  {
   "cell_type": "markdown",
   "metadata": {},
   "source": [
    "If you are an aspiring data scientist or are curious about data in general, you must be knowing the importance of _relational databases_. SQL is a language which lets you query relational databases and ask meaningful questions. For a beginner who is getting started in handling databases, it is useful to know how to quickly get up and running with a database. This comprises three basic operations - \n",
    "* Creating a database\n",
    "* Dropping a database\n",
    "* Selecting a database\n",
    "\n",
    "In this tutorial, you will be performing these operations using PostgreSQL. This tutorial assumes that you already have some background on SQL in general and you have PostgreSQL installed on your system. If you do not have it installed please check [this article]() which guides you about **downloading** and **installing** PostgreSQL. "
   ]
  },
  {
   "cell_type": "markdown",
   "metadata": {},
   "source": [
    "If you are all set up with your PostgreSQL installation, let's get started. "
   ]
  },
  {
   "cell_type": "markdown",
   "metadata": {},
   "source": [
    "## Creating a database"
   ]
  },
  {
   "cell_type": "markdown",
   "metadata": {},
   "source": [
    "Let's open up **pgAdmin** (which come with the PostgreSQL installation). pgAdmin provides you with a nice graphical interface and it lets you perform all the basic SQL stuff. The pgAdmin inteface looks like - \n",
    "![](https://i.ibb.co/4NCgKjP/Capture-1.png)\n",
    "\n"
   ]
  },
  {
   "cell_type": "markdown",
   "metadata": {},
   "source": [
    "From the above image, you can see that the corresponding PostgreSQL system has two databases already - \n",
    "* DataCamp_Courses\n",
    "* posgres\n",
    "\n",
    "You will create a new one now. For that simply right click on the `Databases` tab and select `New Database...` from the options. For your reference - https://bit.ly/2UEfk62.\n",
    "\n",
    "If you were able to successfully create a database, then it should appear on pgAdmin's home screen - \n",
    "\n",
    "![](https://i.ibb.co/cCBH3bw/Capture-2.png)"
   ]
  },
  {
   "cell_type": "markdown",
   "metadata": {},
   "source": [
    "When you are creating the database, you will be provided with a number of options. Do not let that intimidate you. Just give the name of the database that you want to create and hit `enter`.\n",
    "\n",
    "![](https://i.ibb.co/sQDN3PJ/Capture-3.png)"
   ]
  },
  {
   "cell_type": "markdown",
   "metadata": {},
   "source": [
    "One question that you might have is - _what is the need for creating different databases?_\n",
    "\n",
    "Well, think of a scenario where you use a central PostgreSQL system for managing all the database related things which includes managing the data fro different types of applications. You might not want to mix everything and collate in one single database, right? It's better to separate the databases w.r.t the applications. "
   ]
  },
  {
   "cell_type": "markdown",
   "metadata": {},
   "source": [
    "## Dropping a database\n",
    "\n",
    "You might want to drop a database which you do not use anymore. Simply right-click on the database you want to delete and select `Delete/Drop` from the options. For your reference - https://bit.ly/2S7iL8x."
   ]
  },
  {
   "cell_type": "markdown",
   "metadata": {},
   "source": [
    "## Selecting a database\n",
    "\n",
    "Let's do this from command prompt/terminal. With the standard PostgreSQL installation comes **psql (SQL Shell)**. It looks just like a command prompt - \n",
    "\n",
    "![](https://i.ibb.co/S7YH1Rk/Capture-4.png)"
   ]
  },
  {
   "cell_type": "markdown",
   "metadata": {},
   "source": [
    "Open up **psql prompt** and keep hitting enter (if you have anything to specifically connect to feel free give the credentials accordingly) till you are prompted to enter the password. Enter the password you gave during installation and hit enter. The PostgreSQL prompt is `postgres=#`."
   ]
  },
  {
   "cell_type": "markdown",
   "metadata": {},
   "source": [
    "Let's first list all the databases PostgreSQL currently has by giving `\\l` command. It outputs something like this - \n",
    "\n",
    "![](https://i.ibb.co/dp4jN8X/Capture-5.png)"
   ]
  },
  {
   "cell_type": "markdown",
   "metadata": {},
   "source": [
    "Let's select a database to execute a simple SQL query. For connecting to database, you give the following command - \n",
    "\n",
    "```sql\n",
    "\\c School\n",
    "```\n",
    "School is the name of the database to be connected. Once you are connected to the database, the prompt also gets changed to the name of the database - \n",
    "\n",
    "![](https://i.ibb.co/rt0R8QF/Capture-6.png)"
   ]
  },
  {
   "cell_type": "markdown",
   "metadata": {},
   "source": [
    "Let's create a simple table named **Students** in this database. The table will have two columns - \n",
    "* Roll_no\n",
    "* Name\n",
    "\n",
    "You are free specify the data-types and constraints according to your favorites. For creating the table you will need a query similar to this - \n",
    "\n",
    "![](https://i.ibb.co/z8tpq7R/Capture-7.png)"
   ]
  },
  {
   "cell_type": "markdown",
   "metadata": {},
   "source": [
    "Let's go ahead and insert an element into the table and view the table after that -\n",
    "\n",
    "![](https://i.ibb.co/gVfKwqB/Capture-8.png)"
   ]
  },
  {
   "cell_type": "markdown",
   "metadata": {},
   "source": [
    "That is all for today's tutorial. If you to learn more about SQL you check the following DataCamp courses -\n",
    "* [Intro to SQL for Data Science](https://www.datacamp.com/courses/intro-to-sql-for-data-science?tap_a=5644-dce66f&tap_s=357540-5b28dd)\n",
    "* [Joining Data in SQL](https://www.datacamp.com/courses/joining-data-in-postgresql?tap_a=5644-dce66f&tap_s=357540-5b28dd)"
   ]
  }
 ],
 "metadata": {
  "kernelspec": {
   "display_name": "Python 3",
   "language": "python",
   "name": "python3"
  },
  "language_info": {
   "codemirror_mode": {
    "name": "ipython",
    "version": 3
   },
   "file_extension": ".py",
   "mimetype": "text/x-python",
   "name": "python",
   "nbconvert_exporter": "python",
   "pygments_lexer": "ipython3",
   "version": "3.6.5"
  },
  "latex_envs": {
   "LaTeX_envs_menu_present": true,
   "autoclose": false,
   "autocomplete": true,
   "bibliofile": "biblio.bib",
   "cite_by": "apalike",
   "current_citInitial": 1,
   "eqLabelWithNumbers": true,
   "eqNumInitial": 1,
   "hotkeys": {
    "equation": "Ctrl-E",
    "itemize": "Ctrl-I"
   },
   "labels_anchors": false,
   "latex_user_defs": false,
   "report_style_numbering": false,
   "user_envs_cfg": false
  },
  "toc": {
   "base_numbering": 1,
   "nav_menu": {},
   "number_sections": false,
   "sideBar": true,
   "skip_h1_title": false,
   "title_cell": "Table of Contents",
   "title_sidebar": "Contents",
   "toc_cell": false,
   "toc_position": {},
   "toc_section_display": true,
   "toc_window_display": false
  }
 },
 "nbformat": 4,
 "nbformat_minor": 2
}
