{
 "cells": [
  {
   "cell_type": "markdown",
   "metadata": {},
   "source": [
    "# Introduction to Where Clause in SQL\n",
    "\n",
    "In this tutorial, you will be introduced to filtering rows in SQL using the `where` clause. \n",
    "\n",
    "Filtering rows from a table with respect to a given condition or a set of conditions is a very common practice in data analysis. In SQL, you can do this using the `where` clause. In this tutorial, you will be using it to a number of different scenarios. \n",
    "\n",
    "You will use PostgreSQL as the RDBMS (Relational Database Management System) but the syntaxes do not vary much when it comes to using other database systems. You will start off by restoring a PostgreSQL database with a relevant table to work upon and then you will execute several filter queries incorporating the `where` clause. \n",
    "\n",
    "**Note**: To follow along with the tutorial, you must be familiar with the basics of SQL and PostgreSQL. Following resources might be helpful if you are not familiar with them. \n",
    "* [Beginner's introduction to PostgreSQL](https://www.datacamp.com/community/tutorials/beginners-introduction-postgresql) \n",
    "* [Installing PostgreSQL on Windows and Mac OS X](https://www.datacamp.com/community/tutorials/installing-postgresql-windows-macosx)"
   ]
  },
  {
   "cell_type": "markdown",
   "metadata": {},
   "source": [
    "## Restoring a PostgreSQL database\n",
    "\n",
    "Almost every RDBMS allows to take a backup copy of a particular database and restore it back. For this tutorial, you will use [this backup file](https://bit.ly/2EQelJX) into a PostgreSQL database. In PostgreSQL, database backups as exported as `.backup` files. The given DB backup has a table within itself which would be used throughout this tutorial. To restore the backup, you will need to first create a database in PostgreSQL. So, open up the `pgAdmin` tool and create a new PostgreSQL database. Give it a name of your choice. \n",
    "\n",
    "After the database is created, just right-click on it and select **Restore**. The following dialog-box should open up - \n",
    "\n",
    "![](https://i.ibb.co/PDwY8KP/Capture-1.png)"
   ]
  },
  {
   "cell_type": "markdown",
   "metadata": {},
   "source": [
    "Keep the settings as shown in the above figure. You will just have to navigate to the path where the DB backup file is located. After this, click on the **Restore** option. The backup would get restored into the database you selected. Under the **Tables** section, you should see an entry for the table **countries** - \n",
    "\n",
    "![](https://i.ibb.co/7z0dcWF/Capture-2.png)\n",
    "\n",
    "Feel free to execute a `select` query on the table to see its contents. "
   ]
  },
  {
   "cell_type": "markdown",
   "metadata": {},
   "source": [
    "## Inspecting the `countries` table\n",
    "\n",
    "Following is a snapshot of the `countries` table you just restored - \n",
    "\n",
    "![](https://i.ibb.co/DVnx131/Capture-3.png)"
   ]
  },
  {
   "cell_type": "markdown",
   "metadata": {},
   "source": [
    "The table has different information about a total 206 countries around the globe. The table has the following columns - \n",
    "\n",
    "* **code** which is the primary key of the table and denotes the universal country code for a given country\n",
    "* **name** i.e. name of a country\n",
    "* **continent** to which a country belongs\n",
    "* **region** viz. the geographical location where a country is located \n",
    "* **surface_area** of the country\n",
    "* **indep_year** i.e. the year in which a country got its independence\n",
    "* **local_name** of a country\n",
    "* **gov_form** i.e. thek ind of government that is active in a country\n",
    "* **capital** of a country\n",
    "* **cap_long** i.e. longitude of the capital of a country \n",
    "* **cap_lat** i.e. latitude of the capital of a country\n",
    "\n",
    "Let's now start filtering some records with the `where` clause. "
   ]
  },
  {
   "cell_type": "markdown",
   "metadata": {},
   "source": [
    "## Where clause examples\n",
    "\n",
    "In SQL, `where` clause lets you filter records based on both textual and numeric values. You can compare these values and the following comparison-based operations are supported - \n",
    "- `=` equal\n",
    "- `<>` and `!=` not equal\n",
    "- `<` less than\n",
    "- `>` greater than\n",
    "- `<=` less than or equal to\n",
    "- `>=` greater than or equal to\n",
    "\n",
    "It's advised to use `<>` rather than `!=` as per the SQL standards. "
   ]
  },
  {
   "cell_type": "markdown",
   "metadata": {},
   "source": [
    "Let's now get the record of the country where the `code` is `AUS`. The column you should compare here is the `code` column and the value to be compared is `AUS`. The query would be - \n",
    "```sql\n",
    "select * from countries where code = 'AUS';\n",
    "```\n",
    "\n",
    "And you get - \n",
    "\n",
    "![](https://i.ibb.co/yQ7d7TS/Capture-4.png)\n"
   ]
  },
  {
   "cell_type": "markdown",
   "metadata": {},
   "source": [
    "Notice a couple of things here - \n",
    "* The `where` clause always comes after `from`.\n",
    "* In SQL, the strings quoted using single quotes. \n",
    "\n",
    "Let's now see a numerical comparison. Let's get the records of the country which got their independence (`indep_year`) after **1900** - \n",
    "\n",
    "```sql\n",
    "select * from countries where indep_year > 1901;\n",
    "```\n",
    "\n",
    "![](https://i.ibb.co/V2Sg8vg/Capture-5.png)\n",
    "\n",
    "You get the records of total 145 countries which got their independence after **1900**. Take note of the comparator used here. The `indep_year`column is integer in type. Hence, no quotes in the comparison. "
   ]
  },
  {
   "cell_type": "markdown",
   "metadata": {},
   "source": [
    "You can connect multiple conditions in a `where` clause using `AND` and `OR` connectives. Following query gets you the records of those countries `where continent = 'Asia' and indep_year > 1900` - \n",
    "\n",
    "```sql\n",
    "select * from countries where continent = 'Asia' and indep_year > 1900;\n",
    "```\n",
    "\n",
    "![](https://i.ibb.co/V25S2mt/Capture-6.png)\n",
    "\n",
    "You get information about a total of 42 countries which are situated in the continent of **Asia** and got their independence after **1900**. Note that in the above query, you compared both textual and numerical values. As an exercise, you play with different combinations of `AND` and `OR` in the `where` clause.\n",
    "\n",
    "**Note**: When you are combining `AND` and `OR`, don;t forget to enclose each of the condition within parentheses. Otherwise, SQL will get confused to determine of the precedence of the evaluation of the conditions. \n",
    "\n",
    "With the following query, you get a total of 66 countries with condition as ` where (continent = 'Europe' and indep_year > 1900) or (continent = 'Asia' and indep_year > 1900)`. \n",
    "\n",
    "```sql\n",
    "select * from countries where \n",
    "(continent = 'Europe' and indep_year > 1900) \n",
    "or \n",
    "(continent = 'Asia' and indep_year > 1900);\n",
    "```\n",
    "\n",
    "![](https://i.ibb.co/jGnPLd4/Capture-7.png)"
   ]
  },
  {
   "cell_type": "markdown",
   "metadata": {},
   "source": [
    "You can even connect more than two conditions in a `where` clause - \n",
    "\n",
    "```sql\n",
    "select * from countries where continent = 'Asia' or indep_year > 1900 or surface_area > 652090;\n",
    "```\n",
    "\n",
    "![](https://i.ibb.co/C890Pxg/Capture-8.png)\n",
    "\n",
    "You get a total of 165 countries that are either situated in **Asia** continent or got their independence after **1900** or having surface area greater than **652090**. Let's now convert the query into its `AND` variant where each of the conditions will be connected using `AND`. \n",
    "\n",
    "```sql\n",
    "select * from countries where continent = 'Asia' and indep_year > 1900 and surface_area > 652090;\n",
    "```\n",
    "\n",
    "![](https://i.ibb.co/tYFTVbd/Capture-9.png)\n",
    "\n",
    "You will get a total of 9 countries in this case. "
   ]
  },
  {
   "cell_type": "markdown",
   "metadata": {},
   "source": [
    "If you are comparing the same column value for more than once you will have to specify the column name each time. Refer the following query - \n",
    "\n",
    "```sql\n",
    "select * from countries where indep_year = 1947 or indep_year = 1912;\n",
    "```\n",
    "\n",
    "But the query `select * from countries where indep_year = 1947 or 1912;` is wrong. "
   ]
  },
  {
   "cell_type": "markdown",
   "metadata": {},
   "source": [
    "You can pair up sub-queries in a `where` clause as well. Let's say you want to fetch the record of the country having the highest surface area but you don't know what is the maximum surface area obtained by a country. Following query can come to rescue in situations like this - \n",
    "\n",
    "```sql\n",
    "select * from countries where surface_area in (select max(surface_area) from countries);\n",
    "```\n",
    "\n",
    "You should get the record of **Russia**. \n",
    "\n",
    "![](https://i.ibb.co/r0pDFV6/Capture-10.png)"
   ]
  },
  {
   "cell_type": "markdown",
   "metadata": {},
   "source": [
    "## Conclusion\n",
    "\n",
    "Thank you for being present until the end of this tutorial. Filtering query results with respect to conditions is definitely a vital skill and this tutorial served you as an introduction to it. If you want to hone in your SQL skills even further then you can check out the following DataCamp courses - \n",
    "\n",
    "* [Joining Data in SQL](https://www.datacamp.com/courses/joining-data-in-postgresql?tap_a=5644-dce66f&tap_s=3575%2040-5b28dd)\n",
    "* [SQL for Exploratory Data Analysis](https://www.datacamp.com/courses/sql-for-exploratory-data-analysis?tap_a=5644-dce66f&tap_s=3575%2040-5b28dd)"
   ]
  }
 ],
 "metadata": {
  "kernelspec": {
   "display_name": "Python 3",
   "language": "python",
   "name": "python3"
  },
  "language_info": {
   "codemirror_mode": {
    "name": "ipython",
    "version": 3
   },
   "file_extension": ".py",
   "mimetype": "text/x-python",
   "name": "python",
   "nbconvert_exporter": "python",
   "pygments_lexer": "ipython3",
   "version": "3.6.5"
  },
  "latex_envs": {
   "LaTeX_envs_menu_present": true,
   "autoclose": false,
   "autocomplete": true,
   "bibliofile": "biblio.bib",
   "cite_by": "apalike",
   "current_citInitial": 1,
   "eqLabelWithNumbers": true,
   "eqNumInitial": 1,
   "hotkeys": {
    "equation": "Ctrl-E",
    "itemize": "Ctrl-I"
   },
   "labels_anchors": false,
   "latex_user_defs": false,
   "report_style_numbering": false,
   "user_envs_cfg": false
  },
  "toc": {
   "base_numbering": 1,
   "nav_menu": {},
   "number_sections": false,
   "sideBar": true,
   "skip_h1_title": false,
   "title_cell": "Table of Contents",
   "title_sidebar": "Contents",
   "toc_cell": false,
   "toc_position": {},
   "toc_section_display": true,
   "toc_window_display": false
  }
 },
 "nbformat": 4,
 "nbformat_minor": 2
}
