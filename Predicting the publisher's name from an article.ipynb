{
 "cells": [
  {
   "cell_type": "markdown",
   "metadata": {},
   "source": [
    "# Predicting the publisher's name from an article: A case study"
   ]
  },
  {
   "cell_type": "markdown",
   "metadata": {},
   "source": [
    "In this notebook, you will be building a machine learning model for predicting the publisher's name from an article using various Google Cloud technologies."
   ]
  },
  {
   "cell_type": "markdown",
   "metadata": {},
   "source": [
    "But before you proceed,the problem statement needs to have a bit more reality to it:\n",
    "\n",
    "> Imagine being the moderator of an online news forum and you're responsible for determining the source (publisher) of the news article. Doing this manually can be a very tedious task as you'll have to read the news articles and then derive the source. So, what if you could automate this task? So, at a very diluted level the problem statement becomes can I predict the publisher's name from a given article?"
   ]
  },
  {
   "cell_type": "markdown",
   "metadata": {},
   "source": [
    "The problem can now be modeled as a text classification problem. In the rest of the article, you will be building a machine learning model to solve this. The summary of the steps looks like so:\n",
    "* Gather data\n",
    "* Preprocess the dataset\n",
    "* Get the data ready for feeding to a sequence model\n",
    "* Build, train and evaluate the model"
   ]
  },
  {
   "cell_type": "markdown",
   "metadata": {},
   "source": [
    "## System setup\n",
    "\n",
    "You will be using Google Cloud Platform (GCP) as the infrastructure. It's easy to configure a system I would need for this project starting from the data to the libraries for building the model(s). \n",
    "You will start off by spinning off a Jupyter Lab instance which comes as a part of GCP's AI Platform. To be able to spin off a Jupyter Lab instance on GCP's AI Platform, you will need a [billing-enabled GCP Project](https://cloud.google.com/bigquery/docs/visualize-jupyter#beforeyoubegin). One can navigate to the Notebooks section on the AI Platform very easily:\n",
    "\n",
    "![](https://i.ibb.co/rby8yPD/Screenshot-from-2019-07-29-20-23-24.png)"
   ]
  },
  {
   "cell_type": "markdown",
   "metadata": {},
   "source": [
    "After clicking on the Notebooks, a dashboard like the following lands up:\n",
    "\n",
    "![](https://i.ibb.co/55BxghD/Screenshot-from-2019-07-29-20-25-02.png)"
   ]
  },
  {
   "cell_type": "markdown",
   "metadata": {},
   "source": [
    "You will be using `TensorFlow 2.0` for this project, so choose accordingly:\n",
    "\n",
    "![](https://i.ibb.co/m62CNsq/Screenshot-from-2019-07-29-20-26-00.png)"
   ]
  },
  {
   "cell_type": "markdown",
   "metadata": {},
   "source": [
    "After clicking on *With 1 NVIDIA Tesla K80*, you will be shown a basic configuration window. Keep it default, just tick off the GPU driver installation box and then click on CREATE.\n",
    "\n",
    "![](https://i.ibb.co/GQWdyrz/Screenshot-from-2019-07-29-20-26-55.png)"
   ]
  },
  {
   "cell_type": "markdown",
   "metadata": {},
   "source": [
    "It will take some time to get the instance (~ 5 minutes). You just need to click on *OPEN JUPYTERLAB* to access the notebook instance after the instance is ready.\n",
    "\n",
    "![](https://i.ibb.co/dfqhqZT/Screenshot-from-2019-07-29-20-28-17.png)"
   ]
  },
  {
   "cell_type": "markdown",
   "metadata": {},
   "source": [
    "You will also be using [BigQuery](https://cloud.google.com/bigquery/) in this project and that too via the notebooks. So, as soon as I=you get the notebook instance, open up a terminal to install the BigQuery notebook extension:\n",
    "\n",
    "```\n",
    "pip3 install --upgrade google-cloud-bigquery\n",
    "```\n"
   ]
  },
  {
   "cell_type": "markdown",
   "metadata": {},
   "source": [
    "That's it for system setup part.\n",
    "\n",
    "> BigQuery is a serverless, highly-scalable, and cost-effective cloud data warehouse with an in-memory BI Engine and [machine learning](https://cloud.google.com/bigquery/#bigqueryml) built-in."
   ]
  },
  {
   "cell_type": "markdown",
   "metadata": {},
   "source": [
    "## Where do I get the data?\n",
    "\n",
    "It may not always be the case that the data will be readily available for the problem you're trying to solve. Fortunately, in this case, there is already a dataset which is good enough to start with.\n",
    "\n",
    "The dataset you are going to use is already available as a BigQuery public dataset ([link](https://console.cloud.google.com/bigquery?p=bigquery-public-data&d=hacker_news&page=dataset)). But the dataset needs to be shaped a bit aligning to with respect to the problem statement. You'll come to this later. \n",
    "\n",
    "This dataset contains all stories and comments from **Hacker News** from its launch in 2006 to present. Each story contains a story ID, the author that made the post, when it was written, and the number of points the story received.\n",
    "\n",
    "To get the data right in my notebook instance, you'll need to configure the GCP Project within the notebook's environment:"
   ]
  },
  {
   "cell_type": "code",
   "execution_count": 3,
   "metadata": {},
   "outputs": [],
   "source": [
    "# Set your Project ID\n",
    "import os\n",
    "PROJECT = 'your-project-name'\n",
    "os.environ['PROJECT'] = PROJECT"
   ]
  },
  {
   "cell_type": "markdown",
   "metadata": {},
   "source": [
    "Replace `you-project-name` with the name of your GCP project. You are now ready to run a query which would access the BigQuery dataset:"
   ]
  },
  {
   "cell_type": "code",
   "execution_count": 4,
   "metadata": {},
   "outputs": [],
   "source": [
    "%%bigquery --project $PROJECT data_preview\n",
    "SELECT\n",
    "  url, title, score\n",
    "FROM\n",
    "  `bigquery-public-data.hacker_news.stories`\n",
    "WHERE\n",
    "  LENGTH(title) > 10\n",
    "  AND score > 10\n",
    "  AND LENGTH(url) > 0\n",
    "LIMIT 10"
   ]
  },
  {
   "cell_type": "markdown",
   "metadata": {},
   "source": [
    "Let's break down a few things here:\n",
    "\n",
    "- `%%bigquery --project $PROJECT data_preview`: `%%bigquery` is a [magic command](https://ipython.readthedocs.io/en/stable/interactive/magics.html) which lets you run SQL like queries (compatible for BigQuery) from your notebook. `--project $PROJECT` is used to guide BigQuery which GCP Project you're using. `data_preview` is the name of the Pandas DataFrame to which you're going to save results of the query (isn't this very useful?). \n",
    "- `hacker_news` is the name of the BigQuey public dataset and stories is the name of the table residing inside it. \n",
    "- Three columns only: `url` of the article, `title` of the article and `score` of the article. You'll be using the article titles to determine their sources."
   ]
  },
  {
   "cell_type": "markdown",
   "metadata": {},
   "source": [
    "You chose to include only those entries where the length of the article title and article's corresponding URL is greater than 10. The query returned 402 MB of data. \n",
    "\n",
    "Here are the first five rows from the DataFrame data_preview:\n",
    "\n",
    "![](https://i.ibb.co/Zg5bG14/Screenshot-from-2019-07-30-08-15-08.png)"
   ]
  },
  {
   "cell_type": "markdown",
   "metadata": {},
   "source": [
    "The data collection part is now done for the project. At this stage, I was good to proceed to the next steps: cleaning and preprocessing!"
   ]
  },
  {
   "cell_type": "markdown",
   "metadata": {},
   "source": [
    "## Beginning data wrangling\n",
    "\n",
    "The problem in the current data is in place of `url` I need the source of the URL. For example, `https://github.com/Groundworkstech/Submicron` should appear as `github`. I would also want to rename the `url` column to source. But before doing that, I figured out the distribution in the titles belonging to several sources."
   ]
  },
  {
   "cell_type": "code",
   "execution_count": 7,
   "metadata": {},
   "outputs": [],
   "source": [
    "%%bigquery --project $PROJECT source_num_articles\n",
    "SELECT\n",
    "  ARRAY_REVERSE(SPLIT(REGEXP_EXTRACT(url, '.*://(.[^/]+)/'), '.'))[OFFSET(1)] AS source,\n",
    "  COUNT(title) AS num_articles\n",
    "FROM\n",
    "  `bigquery-public-data.hacker_news.stories`\n",
    "WHERE\n",
    "  REGEXP_CONTAINS(REGEXP_EXTRACT(url, '.*://(.[^/]+)/'), '.com$')\n",
    "  AND LENGTH(title) > 10\n",
    "GROUP BY\n",
    "  source\n",
    "ORDER BY num_articles DESC"
   ]
  },
  {
   "cell_type": "markdown",
   "metadata": {},
   "source": [
    "Preview the `source_num_articles` DataFrame:"
   ]
  },
  {
   "cell_type": "code",
   "execution_count": 8,
   "metadata": {},
   "outputs": [
    {
     "data": {
      "text/html": [
       "<div>\n",
       "<style scoped>\n",
       "    .dataframe tbody tr th:only-of-type {\n",
       "        vertical-align: middle;\n",
       "    }\n",
       "\n",
       "    .dataframe tbody tr th {\n",
       "        vertical-align: top;\n",
       "    }\n",
       "\n",
       "    .dataframe thead th {\n",
       "        text-align: right;\n",
       "    }\n",
       "</style>\n",
       "<table border=\"1\" class=\"dataframe\">\n",
       "  <thead>\n",
       "    <tr style=\"text-align: right;\">\n",
       "      <th></th>\n",
       "      <th>source</th>\n",
       "      <th>num_articles</th>\n",
       "    </tr>\n",
       "  </thead>\n",
       "  <tbody>\n",
       "    <tr>\n",
       "      <th>0</th>\n",
       "      <td>blogspot</td>\n",
       "      <td>41386</td>\n",
       "    </tr>\n",
       "    <tr>\n",
       "      <th>1</th>\n",
       "      <td>github</td>\n",
       "      <td>36525</td>\n",
       "    </tr>\n",
       "    <tr>\n",
       "      <th>2</th>\n",
       "      <td>techcrunch</td>\n",
       "      <td>30891</td>\n",
       "    </tr>\n",
       "    <tr>\n",
       "      <th>3</th>\n",
       "      <td>youtube</td>\n",
       "      <td>30848</td>\n",
       "    </tr>\n",
       "    <tr>\n",
       "      <th>4</th>\n",
       "      <td>nytimes</td>\n",
       "      <td>28787</td>\n",
       "    </tr>\n",
       "  </tbody>\n",
       "</table>\n",
       "</div>"
      ],
      "text/plain": [
       "       source  num_articles\n",
       "0    blogspot         41386\n",
       "1      github         36525\n",
       "2  techcrunch         30891\n",
       "3     youtube         30848\n",
       "4     nytimes         28787"
      ]
     },
     "execution_count": 8,
     "metadata": {},
     "output_type": "execute_result"
    }
   ],
   "source": [
    "source_num_articles.head()"
   ]
  },
  {
   "cell_type": "markdown",
   "metadata": {},
   "source": [
    "BigQuery provides a number of functions like `ARRAY_REVERSE()`, `REGEXP_EXTRACT()` and so on for useful tasks. With the above query, I first split the URLs with respect to // and / and then I extracted the domains from the URLs."
   ]
  },
  {
   "cell_type": "markdown",
   "metadata": {},
   "source": [
    "But the project needs different data - a dataset which will contain the articles along with their sources. The stories table contains a lot of article sources other than the ones shown above. So, to keep it a bit more light-weighted, let's go with these five ones: blogpost, github, techcrunch, youtube and nytimes."
   ]
  },
  {
   "cell_type": "code",
   "execution_count": 9,
   "metadata": {},
   "outputs": [],
   "source": [
    "%%bigquery --project $PROJECT full_data\n",
    "SELECT source, LOWER(REGEXP_REPLACE(title, '[^a-zA-Z0-9 $.-]', ' ')) AS title FROM\n",
    "  (SELECT\n",
    "    ARRAY_REVERSE(SPLIT(REGEXP_EXTRACT(url, '.*://(.[^/]+)/'), '.'))[OFFSET(1)] AS source,\n",
    "    title\n",
    "  FROM\n",
    "    `bigquery-public-data.hacker_news.stories`\n",
    "  WHERE\n",
    "    REGEXP_CONTAINS(REGEXP_EXTRACT(url, '.*://(.[^/]+)/'), '.com$')\n",
    "    AND LENGTH(title) > 10\n",
    "  )\n",
    "WHERE (source = 'github' OR source = 'nytimes' OR \n",
    "       source = 'techcrunch' or source = 'blogspot' OR\n",
    "       source = 'youtube')"
   ]
  },
  {
   "cell_type": "markdown",
   "metadata": {},
   "source": [
    "Previewing the `full_data` DataFrame, you get:"
   ]
  },
  {
   "cell_type": "code",
   "execution_count": 10,
   "metadata": {},
   "outputs": [
    {
     "data": {
      "text/html": [
       "<div>\n",
       "<style scoped>\n",
       "    .dataframe tbody tr th:only-of-type {\n",
       "        vertical-align: middle;\n",
       "    }\n",
       "\n",
       "    .dataframe tbody tr th {\n",
       "        vertical-align: top;\n",
       "    }\n",
       "\n",
       "    .dataframe thead th {\n",
       "        text-align: right;\n",
       "    }\n",
       "</style>\n",
       "<table border=\"1\" class=\"dataframe\">\n",
       "  <thead>\n",
       "    <tr style=\"text-align: right;\">\n",
       "      <th></th>\n",
       "      <th>source</th>\n",
       "      <th>title</th>\n",
       "    </tr>\n",
       "  </thead>\n",
       "  <tbody>\n",
       "    <tr>\n",
       "      <th>0</th>\n",
       "      <td>github</td>\n",
       "      <td>feminist-software-foundation complains about r...</td>\n",
       "    </tr>\n",
       "    <tr>\n",
       "      <th>1</th>\n",
       "      <td>github</td>\n",
       "      <td>expose sps as web services on the fly.</td>\n",
       "    </tr>\n",
       "    <tr>\n",
       "      <th>2</th>\n",
       "      <td>github</td>\n",
       "      <td>show hn  scrwl   shorthand code reading and wr...</td>\n",
       "    </tr>\n",
       "    <tr>\n",
       "      <th>3</th>\n",
       "      <td>github</td>\n",
       "      <td>geoip module on nodejs now is a c   addon</td>\n",
       "    </tr>\n",
       "    <tr>\n",
       "      <th>4</th>\n",
       "      <td>github</td>\n",
       "      <td>show hn  linuxexplorer</td>\n",
       "    </tr>\n",
       "  </tbody>\n",
       "</table>\n",
       "</div>"
      ],
      "text/plain": [
       "   source                                              title\n",
       "0  github  feminist-software-foundation complains about r...\n",
       "1  github             expose sps as web services on the fly.\n",
       "2  github  show hn  scrwl   shorthand code reading and wr...\n",
       "3  github          geoip module on nodejs now is a c   addon\n",
       "4  github                             show hn  linuxexplorer"
      ]
     },
     "execution_count": 10,
     "metadata": {},
     "output_type": "execute_result"
    }
   ],
   "source": [
    "full_data.head()"
   ]
  },
  {
   "cell_type": "markdown",
   "metadata": {},
   "source": [
    "Data understanding is vital for machine learning modeling to work well and to be understood. Let's take some time out and perform some basic EDA. "
   ]
  },
  {
   "cell_type": "markdown",
   "metadata": {},
   "source": [
    "## Data understanding\n",
    "\n",
    "You will start the process of EDA by investigating the dimensions of the dataset. In this case, the dataset prepared in the above step had 168437 rows including 2 columns as can be seen in the preview. \n",
    "\n",
    "Following is the class distribution of the articles:\n",
    "\n",
    "![](https://i.ibb.co/phyx9SQ/Screenshot-from-2019-07-30-08-25-05.png)"
   ]
  },
  {
   "cell_type": "markdown",
   "metadata": {},
   "source": [
    "Fortunately enough there is no missing values in the dataset and the following little tweedle can help you knowing that:"
   ]
  },
  {
   "cell_type": "code",
   "execution_count": 11,
   "metadata": {},
   "outputs": [
    {
     "data": {
      "text/plain": [
       "source    0\n",
       "title     0\n",
       "dtype: int64"
      ]
     },
     "execution_count": 11,
     "metadata": {},
     "output_type": "execute_result"
    }
   ],
   "source": [
    "# Missing value inspection\n",
    "full_data.isna().sum()"
   ]
  },
  {
   "cell_type": "markdown",
   "metadata": {},
   "source": [
    "A common question that arises while dealing with text data like this is - *how is the length of the titles distributed?*\n",
    "\n",
    "Fortunately, Pandas provides a lot of useful functions to answer questions like this"
   ]
  },
  {
   "cell_type": "code",
   "execution_count": 12,
   "metadata": {},
   "outputs": [
    {
     "data": {
      "text/plain": [
       "count    168437.000000\n",
       "mean         46.663174\n",
       "std          17.080766\n",
       "min          11.000000\n",
       "25%          34.000000\n",
       "50%          46.000000\n",
       "75%          59.000000\n",
       "max         138.000000\n",
       "Name: title, dtype: float64"
      ]
     },
     "execution_count": 12,
     "metadata": {},
     "output_type": "execute_result"
    }
   ],
   "source": [
    "full_data['title'].apply(len).describe()"
   ]
  },
  {
   "cell_type": "markdown",
   "metadata": {},
   "source": [
    "You have a minimum length of 11 and a maximum length of 138. I will come to this again in a moment. \n",
    "\n",
    "EDA is incomplete without plots! In this case, a very useful plot could be **Count vs. Title lengths**:"
   ]
  },
  {
   "cell_type": "code",
   "execution_count": 13,
   "metadata": {},
   "outputs": [
    {
     "name": "stderr",
     "output_type": "stream",
     "text": [
      "/usr/local/lib/python3.5/site-packages/scipy/stats/stats.py:1713: FutureWarning: Using a non-tuple sequence for multidimensional indexing is deprecated; use `arr[tuple(seq)]` instead of `arr[seq]`. In the future this will be interpreted as an array index, `arr[np.array(seq)]`, which will result either in an error or a different result.\n",
      "  return np.add.reduce(sorted[indexer] * weights, axis=axis) / sumval\n"
     ]
    },
    {
     "data": {
      "image/png": "[encoded data removed]",
      "text/plain": [
       "<Figure size 720x576 with 1 Axes>"
      ]
     },
     "metadata": {
      "needs_background": "light"
     },
     "output_type": "display_data"
    }
   ],
   "source": [
    "import numpy as np\n",
    "import matplotlib.pyplot as plt\n",
    "import seaborn as sns\n",
    "\n",
    "plt.style.use('ggplot')\n",
    "%matplotlib inline\n",
    "\n",
    "text_lens = full_data['title'].apply(len).values\n",
    "plt.figure(figsize=(10,8))\n",
    "sns.set()\n",
    "g = sns.distplot(text_lens, kde=False, hist_kws={'rwidth':1})\n",
    "g.set_xlabel('Title length')\n",
    "g.set_ylabel('Count')\n",
    "plt.show()"
   ]
  },
  {
   "cell_type": "markdown",
   "metadata": {},
   "source": [
    "Almost bell, isn't it? From the plot, it is evident that the counts are skewed for title lengths < 20 and > 80. So, you may have to be careful in tackling them. Let's perform some manual inspections to figure out:\n",
    "- how many titles fall above the minimum title length (11)?\n",
    "- how many titles have the maximum length (138)?\n",
    "\n",
    "Let's find out."
   ]
  },
  {
   "cell_type": "code",
   "execution_count": 14,
   "metadata": {},
   "outputs": [
    {
     "data": {
      "text/plain": [
       "(513, 1)"
      ]
     },
     "execution_count": 14,
     "metadata": {},
     "output_type": "execute_result"
    }
   ],
   "source": [
    "(text_lens <= 11).sum(), (text_lens == 138).sum()"
   ]
  },
  {
   "cell_type": "markdown",
   "metadata": {},
   "source": [
    "You should be getting 513 and 1 respectively. You will now remove the entry denoting the maximum article length from the dataset since it's just 1:"
   ]
  },
  {
   "cell_type": "code",
   "execution_count": 15,
   "metadata": {},
   "outputs": [],
   "source": [
    "full_data = full_data[text_lens < 138].reset_index(drop=True)"
   ]
  },
  {
   "cell_type": "markdown",
   "metadata": {},
   "source": [
    "The last thing you'll be doing in this step was splitting the dataset into train/validation/test sets in a ratio of 80:10:10."
   ]
  },
  {
   "cell_type": "code",
   "execution_count": 16,
   "metadata": {},
   "outputs": [
    {
     "data": {
      "text/plain": [
       "((134749, 2), (16844, 2), (16843, 2))"
      ]
     },
     "execution_count": 16,
     "metadata": {},
     "output_type": "execute_result"
    }
   ],
   "source": [
    "# 80% for train\n",
    "train = full_data.sample(frac=0.8)\n",
    "full_data.drop(train.index, axis=0, inplace=True)\n",
    "\n",
    "# 10% for validation\n",
    "valid = full_data.sample(frac=0.5)\n",
    "full_data.drop(valid.index, axis=0, inplace=True)\n",
    "\n",
    "# 10% for test\n",
    "test = full_data\n",
    "train.shape, valid.shape, test.shape"
   ]
  },
  {
   "cell_type": "markdown",
   "metadata": {},
   "source": [
    "The new data dimensions are: ((110070, 2), (13759, 2), (13759, 2)). Just to be a little more certain on the class distribution, you will now verify that across the three sets:\n",
    "\n",
    "![](https://i.ibb.co/m9z91rJ/Screenshot-from-2019-07-30-08-33-40.png)"
   ]
  },
  {
   "cell_type": "markdown",
   "metadata": {},
   "source": [
    "The distributions are relatively same across the three sets. Let's serialize these three sets to Pandas DataFrames."
   ]
  },
  {
   "cell_type": "code",
   "execution_count": null,
   "metadata": {},
   "outputs": [],
   "source": [
    "train.to_csv('data/train.csv', index=False)\n",
    "valid.to_csv('data/valid.csv', index-False)\n",
    "test.to_csv('data/test.csv', index=False)"
   ]
  },
  {
   "cell_type": "markdown",
   "metadata": {},
   "source": [
    "There's still some amount of data preprocessing need - as computers only understand numbers, you'll to prepare the data accordingly to stream to the machine learning model:\n",
    "\n",
    "- Encoding the classes to some numbers (label encoding/one-hot encoding)\n",
    "- Creating a vocabulary from the training corpus - tokenization\n",
    "- Numericalizing the titles and pad them to a fixed-length\n",
    "- Preparing the embedding matrix with respect to pre-trained embeddings like [GloVe](https://nlp.stanford.edu/projects/glove/).\n",
    "\n",
    "Let's proceed accordingly."
   ]
  },
  {
   "cell_type": "markdown",
   "metadata": {},
   "source": [
    "## Additional data preprocessing\n",
    "\n",
    "First, you'll define the constants that would be necessary here:"
   ]
  },
  {
   "cell_type": "code",
   "execution_count": 18,
   "metadata": {},
   "outputs": [],
   "source": [
    "# Label encode\n",
    "CLASSES = {'blogspot': 0, 'github': 1, 'techcrunch': 2, 'nytimes': 3, 'youtube': 4} \n",
    "# Maximum vocabulary size used for tokenization\n",
    "TOP_K = 20000 \n",
    "# Sentences will be truncated/padded to this length\n",
    "MAX_SEQUENCE_LENGTH = 50"
   ]
  },
  {
   "cell_type": "markdown",
   "metadata": {},
   "source": [
    "Now, you'll define a tiny helper function which would take a Pandas DataFrame and would\n",
    "- prepare a list of titles from the DataFrame (needed for further preprocessing)\n",
    "- take the sources from the DataFrame, map them to integers and append to a NumPy array"
   ]
  },
  {
   "cell_type": "code",
   "execution_count": 19,
   "metadata": {},
   "outputs": [
    {
     "name": "stdout",
     "output_type": "stream",
     "text": [
      "the davos question. what one thing must be done to make the world a better place in 2008  4\n"
     ]
    }
   ],
   "source": [
    "def return_data(df):\n",
    "    return list(df['title']), np.array(df['source'].map(CLASSES))\n",
    "\n",
    "# Apply it to the three splits\n",
    "train_text, train_labels = return_data(train)\n",
    "valid_text, valid_labels = return_data(valid)\n",
    "test_text, test_labels = return_data(test)\n",
    "\n",
    "print(train_text[0], train_labels[0])"
   ]
  },
  {
   "cell_type": "markdown",
   "metadata": {},
   "source": [
    "The result is as expected. "
   ]
  },
  {
   "cell_type": "markdown",
   "metadata": {},
   "source": [
    "You'll use the `text` and `sequence` modules provided by `tensorflow.keras.preprocessing` to tokenize and pad the titles. You'll start with tokenization:"
   ]
  },
  {
   "cell_type": "code",
   "execution_count": 21,
   "metadata": {},
   "outputs": [],
   "source": [
    "# TensorFlow imports\n",
    "import tensorflow as tf\n",
    "from tensorflow.keras.preprocessing import sequence, text\n",
    "from tensorflow.keras import models\n",
    "from tensorflow.keras.layers import Dense, Dropout, Embedding, Conv1D, MaxPooling1D, GlobalAveragePooling1D"
   ]
  },
  {
   "cell_type": "code",
   "execution_count": 22,
   "metadata": {},
   "outputs": [],
   "source": [
    "# Create a vocabulary from training corpus\n",
    "tokenizer = text.Tokenizer(num_words=TOP_K)\n",
    "tokenizer.fit_on_texts(train_text)"
   ]
  },
  {
   "cell_type": "markdown",
   "metadata": {},
   "source": [
    "You'll be using the *GloVe* embeddings to represent the words in the titles to a dense representation. The embeddings' file is of more than 650 MB and the GCP team has it stored in a [Google Storage Bucket](https://cloud.google.com/storage/docs/json_api/v1/buckets). This was incredibly helpful since it would allow you to directly use it in the notebook at a very fast speed. You'lle be using the `gsutil` command (available in the Notebooks) to aid this."
   ]
  },
  {
   "cell_type": "markdown",
   "metadata": {},
   "source": [
    "```\n",
    "!gsutil cp gs://cloud-training-demos/courses/machine_learning/deepdive/09_sequence/text_classification/glove.6B.200d.txt glove.6B.200d.txt\n",
    "```"
   ]
  },
  {
   "cell_type": "markdown",
   "metadata": {},
   "source": [
    "You would need a helper function which would map the words in the titles with respect to the Glove embeddings."
   ]
  },
  {
   "cell_type": "code",
   "execution_count": 25,
   "metadata": {},
   "outputs": [],
   "source": [
    "def get_embedding_matrix(word_index, embedding_path, embedding_dim):\n",
    "    embedding_matrix_all = {}\n",
    "    with open(embedding_path) as f:\n",
    "        for line in f:  # Every line contains word followed by the vector value\n",
    "            values = line.split()\n",
    "            word = values[0]\n",
    "            coefs = np.asarray(values[1:], dtype='float32')\n",
    "            embedding_matrix_all[word] = coefs\n",
    "# Prepare embedding matrix with just the words in our word_index dictionary\n",
    "    num_words = min(len(word_index) + 1, TOP_K)\n",
    "    embedding_matrix = np.zeros((num_words, embedding_dim))\n",
    "    for word, i in word_index.items():\n",
    "        if i >= TOP_K:\n",
    "            continue\n",
    "        embedding_vector = embedding_matrix_all.get(word)\n",
    "        if embedding_vector is not None:\n",
    "            # Words not found in embedding index will be all-zeros.\n",
    "            embedding_matrix[i] = embedding_vector\n",
    "  \n",
    "    return embedding_matrix"
   ]
  },
  {
   "cell_type": "markdown",
   "metadata": {},
   "source": [
    "This is all you will need to stream the text data to the yet-to-be-built machine learning model."
   ]
  },
  {
   "cell_type": "markdown",
   "metadata": {},
   "source": [
    "## Building the Horcrux: A sequential language model\n",
    "\n",
    "Let's specify a couple of hyperparameter values towards the very beginning of the modeling process."
   ]
  },
  {
   "cell_type": "code",
   "execution_count": 26,
   "metadata": {},
   "outputs": [],
   "source": [
    "# Specify the hyperparameters\n",
    "filters=64\n",
    "dropout_rate=0.2\n",
    "embedding_dim=200\n",
    "kernel_size=3\n",
    "pool_size=3\n",
    "word_index=tokenizer.word_index\n",
    "embedding_path = 'glove.6B.200d.txt'\n",
    "embedding_dim=200"
   ]
  },
  {
   "cell_type": "markdown",
   "metadata": {},
   "source": [
    "You'll be using a Convolutional Neural Network based model which would basically start by convolving on the embeddings fed to it. Locality is important in sequential data and CNNs would allow me to capture that effectively. The trick is to do all the fundamental CNN operations (convolution, pooling) in 1D.\n",
    "\n",
    "You'll be following the typical Keras paradigm - you'll first instantiate the model, then will define the topology and then compile the model accordingly."
   ]
  },
  {
   "cell_type": "code",
   "execution_count": null,
   "metadata": {},
   "outputs": [],
   "source": [
    "# Create model instance\n",
    "model = models.Sequential()\n",
    "num_features = min(len(word_index) + 1, TOP_K)\n",
    "# Add embedding layer - GloVe embeddings\n",
    "model.add(Embedding(input_dim=num_features,\n",
    "              output_dim=embedding_dim,\n",
    "              input_length=MAX_SEQUENCE_LENGTH,\n",
    "              weights=[get_embedding_matrix(word_index, \n",
    "                              embedding_path, embedding_dim)],\n",
    "              trainable=True))\n",
    "model.add(Dropout(rate=dropout_rate))\n",
    "model.add(Conv1D(filters=filters,\n",
    "              kernel_size=kernel_size,\n",
    "              activation='relu',\n",
    "              bias_initializer='he_normal',\n",
    "              padding='same'))\n",
    "model.add(MaxPooling1D(pool_size=pool_size))\n",
    "model.add(Conv1D(filters=filters * 2,\n",
    "              kernel_size=kernel_size,\n",
    "              activation='relu',\n",
    "              bias_initializer='he_normal',\n",
    "              padding='same'))\n",
    "model.add(GlobalAveragePooling1D())\n",
    "model.add(Dropout(rate=dropout_rate))\n",
    "model.add(Dense(len(CLASSES), activation='softmax'))\n",
    "# Compile model with learning parameters.\n",
    "optimizer = tf.keras.optimizers.Adam(lr=0.001)\n",
    "model.compile(optimizer=optimizer, loss='sparse_categorical_crossentropy', metrics=['acc'])"
   ]
  },
  {
   "cell_type": "markdown",
   "metadata": {},
   "source": [
    "The architecture looks like so:\n",
    "\n",
    "![](https://i.ibb.co/rt5Cxgd/cnn-txt-cls.png)"
   ]
  },
  {
   "cell_type": "markdown",
   "metadata": {},
   "source": [
    "One more step that was remaining at this point was Numericalizing the titles and pad them to a fixed-length."
   ]
  },
  {
   "cell_type": "code",
   "execution_count": null,
   "metadata": {},
   "outputs": [],
   "source": [
    "# Preprocess the train, validation and test sets\n",
    "# Tokenize and pad sentences\n",
    "preproc_train = tokenizer.texts_to_sequences(train_text)\n",
    "preproc_train = sequence.pad_sequences(preproc_train, maxlen=MAX_SEQUENCE_LENGTH)\n",
    "\n",
    "preproc_valid = tokenizer.texts_to_sequences(valid_text)\n",
    "preproc_valid = sequence.pad_sequences(preproc_valid, maxlen=MAX_SEQUENCE_LENGTH)\n",
    "\n",
    "preproc_test = tokenizer.texts_to_sequences(test_text)\n",
    "preproc_test = sequence.pad_sequences(preproc_test, maxlen=MAX_SEQUENCE_LENGTH)"
   ]
  },
  {
   "cell_type": "markdown",
   "metadata": {},
   "source": [
    "And finally, you're prepared to kickstart the training process!"
   ]
  },
  {
   "cell_type": "code",
   "execution_count": null,
   "metadata": {},
   "outputs": [],
   "source": [
    "H = model.fit(preproc_train,\n",
    "         train_labels,\n",
    "         validation_data=(preproc_valid, valid_labels),\n",
    "         batch_size=128,\n",
    "         epochs=10,\n",
    "         verbose=1)"
   ]
  },
  {
   "cell_type": "markdown",
   "metadata": {},
   "source": [
    "Here's a snap of the training log:\n",
    "\n",
    "![](https://i.ibb.co/rb2pWHR/Screenshot-from-2019-07-30-09-01-57.png)"
   ]
  },
  {
   "cell_type": "markdown",
   "metadata": {},
   "source": [
    "The network does overfit and the training graph also confirms it:\n",
    "\n",
    "![](https://i.ibb.co/rdY4c4b/training-history.png)"
   ]
  },
  {
   "cell_type": "markdown",
   "metadata": {},
   "source": [
    "Overall, the model yields an accuracy of ~66% which is not upto the mark given the developments of the hour. But it is a good start. Let's now write a little function to use the network to predict the on individual samples:"
   ]
  },
  {
   "cell_type": "code",
   "execution_count": null,
   "metadata": {},
   "outputs": [],
   "source": [
    "# Helper function to test on single samples\n",
    "def test_on_single_sample(text):\n",
    "    category = None\n",
    "    text_tokenized = tokenizer.texts_to_sequences(text)\n",
    "    text_tokenized = sequence.pad_sequences(text_tokenized,maxlen=50)\n",
    "    prediction = int(model.predict_classes(text_tokenized))\n",
    "    for key, value in CLASSES.items():\n",
    "    if value==prediction:\n",
    "        category=key\n",
    "  \n",
    "  return category"
   ]
  },
  {
   "cell_type": "markdown",
   "metadata": {},
   "source": [
    "Prepare the samples accordingly:"
   ]
  },
  {
   "cell_type": "code",
   "execution_count": 27,
   "metadata": {},
   "outputs": [],
   "source": [
    "# Prepare the samples\n",
    "github=['Invaders game in 512 bytes']\n",
    "nytimes = ['Michael Bloomberg Promises $500M to Help End Coal']\n",
    "techcrunch = ['Facebook plans June 18th cryptocurrency debut']\n",
    "blogspot = ['Android Security: A walk-through of SELinux']"
   ]
  },
  {
   "cell_type": "markdown",
   "metadata": {},
   "source": [
    "Finally, test `test_on_single_sample()` on the above samples:"
   ]
  },
  {
   "cell_type": "code",
   "execution_count": null,
   "metadata": {},
   "outputs": [],
   "source": [
    "for sample in [github, nytimes, techcrunch, blogspot]:\n",
    "    print(test_on_single_sample(sample))"
   ]
  },
  {
   "cell_type": "markdown",
   "metadata": {},
   "source": [
    "```\n",
    "github\n",
    "techcrunch\n",
    "techcrunch\n",
    "blogspot\n",
    "```"
   ]
  },
  {
   "cell_type": "markdown",
   "metadata": {},
   "source": [
    "That was it for this project. In the next section, you'll find my comments on the future directions for this project and then some references used for this project."
   ]
  },
  {
   "cell_type": "markdown",
   "metadata": {},
   "source": [
    "## Future directions and references\n",
    "\n",
    "Just like in the computer vision domain, we expect models that understand the domain to be robust against certain transformations like rotation and translation, in the sequence domain, it's important then models be robust to changes in the length of the pattern. Keeping that in mind, here's a list of what I would try in the near future:\n",
    "- Try other sequence models\n",
    "- A bit of hyperparameter tuning\n",
    "- Learn the embeddings from scratch\n",
    "- Try different embeddings like universal sentence encoder, nnlm-128 and so on\n",
    "\n",
    "After I have a decent model (with at least ~80% accuracy), I plan to serve the model as a REST API and deploy it on AppEngine.\n",
    "\n",
    "Following are the references that were very useful for this project:\n",
    "- [Guide on Text Classification](https://developers.google.com/machine-learning/guides/text-classification/) by Google\n",
    "- [Deep Learning for Time Series Forecasting](https://machinelearningmastery.com/deep-learning-for-time-series-forecasting/) by Jason Brownlee (Machine Learning Mastery)\n",
    "- [Deep Learning with Python](https://www.manning.com/books/deep-learning-with-python) by François Chollet\n",
    "- [Sequence Models for Time Series and Natural Language Processing](https://www.coursera.org/learn/sequence-models-tensorflow-gcp/home/welcome), a course designed and developed by the Google Cloud team (offered via Coursera)\n",
    "\n",
    "It's an end to the article here. I wrote this article to walk the readers through the approach I generally take for a machine learning problem. Of course, there's more to it but the steps I showed above are the most important ones for me. Thank you for taking the time to read the article and I will see you next time :)"
   ]
  }
 ],
 "metadata": {
  "kernelspec": {
   "display_name": "Python 3",
   "language": "python",
   "name": "python3"
  },
  "language_info": {
   "codemirror_mode": {
    "name": "ipython",
    "version": 3
   },
   "file_extension": ".py",
   "mimetype": "text/x-python",
   "name": "python",
   "nbconvert_exporter": "python",
   "pygments_lexer": "ipython3",
   "version": "3.5.3"
  }
 },
 "nbformat": 4,
 "nbformat_minor": 2
}
