{
 "cells": [
  {
   "cell_type": "markdown",
   "metadata": {},
   "source": [
    "## Using Order By Keyword in SQL\n",
    "\n",
    "In this tutorial, you will learn how to use the **order by** keyword in SQL. \n",
    "\n",
    "This tutorial assumes that you are already familiar with the basics of SQL and this includes CRUD queries (**C**reate, **R**ead, **U**pdate and **D**elete). If you want a refresher on the basics of SQL following resources might come in handy - \n",
    "\n",
    "* [Intro to SQL for Data Science](https://www.datacamp.com/courses/intro-to-sql-for-data-science)\n",
    "* [Beginner's Guide to PostgreSQL](Beginner's Guide to PostgreSQL)\n",
    "\n",
    "During your data analysis in SQL, you will need to sort your results with respect to the values of one or more columns of the table(s) you are analyzing. In SQL, this is done using the **order by** keyword in SQL. This tutorial is going to introduce you to the **order by** keyword by walking you through real examples in PostgreSQL. The second link as given above covers a decent introduction to PostgreSQL. Make sure you check it out if you are not familiar with using PostgreSQL. "
   ]
  },
  {
   "cell_type": "markdown",
   "metadata": {},
   "source": [
    "Let's first create a table named **countries** in PostgreSQL. The table will contain the following columns and data-types - \n",
    "* country_code (character)\n",
    "* country_name (character)\n",
    "* continent (character)\n",
    "* region (character)\n",
    "* independence_year (integer)\n",
    "* local_name (character)\n",
    "* gov_form (character)\n",
    "* capital (character)\n",
    "\n",
    "Let's quickly create a table realizing these specifications. Following SQL query would do this for you - "
   ]
  },
  {
   "cell_type": "markdown",
   "metadata": {},
   "source": [
    "```sql\n",
    "CREATE TABLE countries(\n",
    " country_code varchar(50) primary key,\n",
    " country_name varchar(50),\n",
    " continent varchar(50),\n",
    " region varchar(50),\n",
    " independence_year smallint,\n",
    " local_name varchar(50),\n",
    " gov_form varchar(50),\n",
    " capital varchar(50)\n",
    ");\n",
    "```"
   ]
  },
  {
   "cell_type": "markdown",
   "metadata": {},
   "source": [
    "You will be needing a decent number of records in the table **countries** in order to understand the full potential of the **order by** keyword. You can import [this .csv file](https://bit.ly/2GMz84D) into the **countries** table you just created. \n",
    "\n",
    "(If you want to know how to import a .csv file into PostgreSQL you can follow [this link](https://www.datacamp.com/community/tutorials/working-spreadsheets-sql))\n",
    "\n",
    "After you import the .csv file into PostgreSQL, just run a select query on the **countries** table and you should get something like the following - \n",
    "\n",
    "![](https://i.ibb.co/hVp4SQy/Capture-1.jpg)"
   ]
  },
  {
   "cell_type": "markdown",
   "metadata": {},
   "source": [
    "You now have a database ready on which you can experiment with the **order by** keyword. Let's start by the following query which will sort the countries with respect to the names of the countries. Country names are stored into **country_name** column. \n",
    "\n",
    "```sql\n",
    "select * from countries order by country_name;\n",
    "```\n",
    "\n",
    "The output is - \n",
    "\n",
    "![](https://i.ibb.co/CWhGK14/Capture-2.jpg)"
   ]
  },
  {
   "cell_type": "markdown",
   "metadata": {},
   "source": [
    "By default, **order by** sort the values with the in ascending order. In this case, **order by** is sorting the country names in alphabetical order. "
   ]
  },
  {
   "cell_type": "markdown",
   "metadata": {},
   "source": [
    "We can also sort the columns in descending manner by providing the `DESC` keyword - \n",
    "\n",
    "```sql\n",
    "select * from countries order by country_name desc;\n",
    "```\n",
    "\n",
    "The result it would return - \n",
    "\n",
    "![](https://i.ibb.co/q7m9vTy/Capture-3.jpg)"
   ]
  },
  {
   "cell_type": "markdown",
   "metadata": {},
   "source": [
    "The **countries** table contain a column called **independence_year**. Let's see the details of the countries that got their independence in between 1850 and 1900 and let's also sort them alphabetically - \n",
    "\n",
    "```sql\n",
    "select * from countries where independence_year >= 1800 and independence_year <= 1900 order by country_name;\n",
    "```"
   ]
  },
  {
   "cell_type": "markdown",
   "metadata": {},
   "source": [
    "The results would look like - \n",
    "\n",
    "![](https://i.ibb.co/vxdp2tB/Capture-4.jpg)"
   ]
  },
  {
   "cell_type": "markdown",
   "metadata": {},
   "source": [
    "Let's now sort the details of the countries with respect to the capitals of the countries in descending order - \n",
    "```sql\n",
    "select * from countries order by capital desc;\n",
    "```\n",
    "\n",
    "And you get - \n",
    "\n",
    "![](https://i.ibb.co/99qwgF8/Capture-5.jpg)"
   ]
  },
  {
   "cell_type": "markdown",
   "metadata": {},
   "source": [
    "Look the first couple of values in the **capital** column. They are null values and alphabetically they appear towards the very end. "
   ]
  },
  {
   "cell_type": "markdown",
   "metadata": {},
   "source": [
    "You can also specify particular columns names as well in conjugation with **order by**. \n",
    "\n",
    "```sql\n",
    "select country_code, country_name, capital from countries order by capital;\n",
    "```\n",
    "\n",
    "The results would be - \n",
    "![](https://i.ibb.co/nfPhKXp/Capture-6.jpg)"
   ]
  },
  {
   "cell_type": "markdown",
   "metadata": {},
   "source": [
    "That is it for this tutorial. In this tutorial, you learned to use the **order by** keyword in SQL to sort column values. If you want to strengthen your SQL knowledge, you check this DataCamp course - [Joining Data in SQL](https://www.datacamp.com/courses/joining-data-in-postgresql). "
   ]
  }
 ],
 "metadata": {
  "kernelspec": {
   "display_name": "Python 3",
   "language": "python",
   "name": "python3"
  },
  "language_info": {
   "codemirror_mode": {
    "name": "ipython",
    "version": 3
   },
   "file_extension": ".py",
   "mimetype": "text/x-python",
   "name": "python",
   "nbconvert_exporter": "python",
   "pygments_lexer": "ipython3",
   "version": "3.6.5"
  }
 },
 "nbformat": 4,
 "nbformat_minor": 2
}
