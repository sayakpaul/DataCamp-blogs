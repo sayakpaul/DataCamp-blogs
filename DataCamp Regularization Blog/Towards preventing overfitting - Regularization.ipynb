{
 "cells": [
  {
   "cell_type": "markdown",
   "metadata": {},
   "source": [
    "<h1><center>Towards preventing overfitting: Regularization</center></h1>"
   ]
  },
  {
   "cell_type": "markdown",
   "metadata": {},
   "source": [
    "In machine learning, you must have come across the term <b><i>Overfitting</i></b>. Overfitting is a phenomenon where a machine learning model models the training data too well but fails to perform well on the testing data. Performing sufficiently good on testing data is considered as a kind of ultimatum in machine learning.\n"
   ]
  },
  {
   "cell_type": "markdown",
   "metadata": {},
   "source": [
    "There are quite a number of techniques which help to prevent overfitting. <b><i>Regularization</i></b> is one such technique. And this post is all dedicated to that. In this post, I will try to explain Regularization with less maths but with more intuition. Unlike my other tutorials it will not cover any sort of case study. Before delving into any case study, I would like you to understand the importance and little delicacies of Regularization. Because Regularization is tricky but a very import technique to know as a Data Scientist. \n",
    "\n",
    "This post is outlined as the following:\n",
    "\n",
    "<ul>\n",
    "<li>What is overfitting in machine learning?</li>\n",
    "<li>What is Regularization and how does it help prevent the phenomenon of Overfitting?</li>\n",
    "<li>Conclusion</li>\n",
    "</ul>"
   ]
  },
  {
   "cell_type": "markdown",
   "metadata": {},
   "source": [
    "<h2>What is overfitting in machine learning?</h2>\n",
    "\n",
    "Before explaining overfitting, let’s talk a bit about generalization in machine learning.  \n",
    "\n",
    "Generalization refers to how well the concepts learned by a machine learning model apply to specific examples not seen by the model when it was learning (testing set in short).\n",
    "<br>The goal of a good machine learning model is to generalize well from the training data to any data from the problem domain. This allows you to make predictions in the future on data the model has never seen.\n",
    "<br>I will just quote from the introduction section:\n",
    "<i>“Overfitting is a phenomenon where a machine learning model models the training data too well but fails to perform well on the testing data.\"</i>\n"
   ]
  },
  {
   "cell_type": "markdown",
   "metadata": {},
   "source": [
    "Overfitting happens when a model learns the details and noise in the training data to the extent that it negatively impacts the performance of the model on unseen data. This means that the noise or random fluctuations in the training data is picked up and learned as concepts by the model. The problem is that these concepts do not apply to new data and negatively impact the models ability to generalize.\n",
    "<br><br>Overfitting is more likely with nonparametric and nonlinear models that have more flexibility when learning a target function. As such, many nonparametric machine learning algorithms also include parameters or techniques to limit and constrain how much detail the model learns.\n",
    "<br><br>For example, decision trees are a nonparametric machine learning algorithm that is very flexible and is subject to overfitting training data. This problem can be addressed by pruning a tree after it has learned in order to remove some of the detail it has picked up.\n",
    "On the other hand, <b><i>Underfitting</i></b> refers to a model that can neither model the training data nor generalize to new data."
   ]
  },
  {
   "cell_type": "markdown",
   "metadata": {},
   "source": [
    "<h2>What is Regularization?</h2>\n",
    "\n",
    "When you hear the word Regularization without anything else related to Machine Learning, you all understand that Regularization is the process of regularizing something, or the process in which something is regularized. The problem is: what is exactly something. In terms of Machine Learning, you talk about learning algorithms or models, and what is actually inside the algorithms or models? That’s the set of parameters. In short, Regularization in machine learning is the process of regularizing the parameters that constrains / regularizes or shrinks the coefficient estimates towards zero. In other words, this technique discourages learning a more complex or flexible model, so as to avoid the risk of Overfitting.\n",
    "\n",
    "<br>Now, you are slowly moving towards understaning how Regularization actually helps in preventing Overfitting? Let's get straight to that.\n"
   ]
  },
  {
   "cell_type": "markdown",
   "metadata": {},
   "source": [
    "After knowing that Regularization is actually to regularize our parameters, then you may wonder: Why regularizing the parameters helps to prevent Overfitting? Let’s consider the graph below graph:\n"
   ]
  },
  {
   "cell_type": "markdown",
   "metadata": {},
   "source": [
    "<img src = \"https://chunml.github.io/images/tutorials/regularization/reg_graph.png\"></img>"
   ]
  },
  {
   "cell_type": "markdown",
   "metadata": {},
   "source": [
    "As you can see in the graph, it has got two functions represented by a green curve and a blue curve respectively. Both the curves fit those red points so well that you can consider they both incur zero loss. From the intuition of Overfitting you may have guessed that green curve is the on that overfits. Yeah, you are totally right! But have you ever wondered why the green curve (or any curve which is similar to it) is overfitting the data?\n",
    "<br><br>To understand that in a bit more mathematical way, let’s assume the two functions that are used to draw the graph above:\n",
    "\n",
    "<br>The green curve:\n"
   ]
  },
  {
   "cell_type": "markdown",
   "metadata": {},
   "source": [
    "\\begin{align}\n",
    "h_1(x)=-x^4+7x^3-5x^2-31x+30\n",
    "\\end{align}"
   ]
  },
  {
   "cell_type": "markdown",
   "metadata": {},
   "source": [
    "The red curve:"
   ]
  },
  {
   "cell_type": "markdown",
   "metadata": {},
   "source": [
    "\\begin{align}\n",
    "h_2(x)=\\frac{x^4}{5}-\\frac{7x^3}{5}+x^2+\\frac{31x}{5}-6\n",
    "\\end{align}"
   ]
  },
  {
   "cell_type": "markdown",
   "metadata": {},
   "source": [
    "If you look at each function’s equation, you will find that the green curve has larger coefficients, and that’s the main cause of Overfitting. As mentioned before, Overfitting can be interpreted that your model fits the dataset so well, which it seems to memorize the data we showed rather than actually learn from it. Intuitively, having large coefficients can be seen as an evidence of memorizing the data. For example, you got some noises in our training dataset, where the data’s magnitude is far different than the others, those noises will cause our model to put more weight into the coefficient of higher degree, and what you received is a model that overfits our training data!\n"
   ]
  },
  {
   "cell_type": "markdown",
   "metadata": {},
   "source": [
    "Often in Data Science problems, with increasing number of features a machine learning model can fit your data really well. But everything has its drawback, if you add so many features, we will be punished with Overfitting.  Some of you may think, if adding so many features causes Overfitting, than why don’t we just stop adding features when we got an acceptable model? But think about that this way. If your customer or your boss wants a learned model with 95% accuracy, but you can’t achieve that result without adding some more features, which results in overfitting the data. What will you do in the next step? \n",
    "<br><br>Or think about it in one other way. You are facing a problem where you are provided with a large dataset, which each of them contains a great deal of features. You don’t know which features to drop, and even worse if it turns out that every feature is fairly informative, which means that dropping some features will likely ruin the algorithm’s performance. What do you plan to do next?\n",
    "<br><br>The answer is regularization. \n"
   ]
  },
  {
   "cell_type": "markdown",
   "metadata": {},
   "source": [
    "<h4>The Regularization term:</h4>"
   ]
  },
  {
   "cell_type": "markdown",
   "metadata": {},
   "source": [
    "Therefore, it’s not always a good idea to drop some features just to prevent Overfitting. And as you saw in the example above, it requires further analysis to know whether you can remove some less informative features. So, it’s a good practice that you use all features to build your first model in the beginning. And <b><i>Regularization</i></b> comes out as a solution. To make it clearer, let’s first take a look at the <i>MSE<i> cost function (MSE: Mean Squared Error):"
   ]
  },
  {
   "cell_type": "markdown",
   "metadata": {},
   "source": [
    "\\begin{align}\n",
    "J = \\frac{1}{2m}\\sum_{i=1}^m(h_\\theta(X^{(i)})-y^{(i)})^2\n",
    "\\end{align}"
   ]
  },
  {
   "cell_type": "markdown",
   "metadata": {},
   "source": [
    "where, \n",
    "- <b> h<sub>θ</sub>(X<sup>(i)</sup>)</b> is the learned predicition given on the i-th input parameter <b>X<sup>i</sup></b>\n",
    "- <b>y<sup>(i)</sup></b> is the origianl predicition \n",
    "- m is the total number of input sample"
   ]
  },
  {
   "cell_type": "markdown",
   "metadata": {},
   "source": [
    "In models like <b><i>Logistic Regression</i></b>, the objective of learning is to minimize this MSE function. It means that your parameters can be updated in anyway, just to lower the MSE value. And as mentioned you above, the larger your parameters become, the higher chance your model overfits the data. So the question is: can you not only minimize the cost function, but also restrict the parameters not to become too large? The answer is: YOU CAN, by adding the regularization term like below:"
   ]
  },
  {
   "cell_type": "markdown",
   "metadata": {},
   "source": [
    "\\begin{align}\n",
    "J = \\frac{1}{2m}\\sum_{i=1}^m(h_\\theta(X^{(i)})-y^{(i)})^2+\\frac{\\lambda}{2m}\\sum_{j=1}^n\\theta_j^2\n",
    "\\end{align}"
   ]
  },
  {
   "cell_type": "markdown",
   "metadata": {},
   "source": [
    "where,\n",
    " - λ is a constant to control the value of regularization term\n",
    " - n is the number of the features."
   ]
  },
  {
   "cell_type": "markdown",
   "metadata": {},
   "source": [
    "Take a look at your new cost function after adding the regularization term. The regularization term penalizes large parameters. Obviously, minimize the cost function consists of minimizing both terms in the right: the MSE term and the regularization term. So each time some parameter is updated to become significantly large, it will increase the value of the cost function by the regularization term, and as a result, it will be penalized and updated to a small value.\n"
   ]
  },
  {
   "cell_type": "markdown",
   "metadata": {},
   "source": [
    "I will conclude this post right here. I believe the post is not that long but there's enough for you to revise and rework for yourselves. When you feel confident with the intuition you built with this post, the next steps would be to \n",
    "\n",
    "- Study about the different types of Regularization viz. L1 and L2 variants of Regularization.\n",
    "- Implement Regularization in any Machine Learning model that is parameterized. "
   ]
  }
 ],
 "metadata": {
  "anaconda-cloud": {},
  "kernelspec": {
   "display_name": "Python [conda root]",
   "language": "python",
   "name": "conda-root-py"
  },
  "language_info": {
   "codemirror_mode": {
    "name": "ipython",
    "version": 3
   },
   "file_extension": ".py",
   "mimetype": "text/x-python",
   "name": "python",
   "nbconvert_exporter": "python",
   "pygments_lexer": "ipython3",
   "version": "3.5.2"
  }
 },
 "nbformat": 4,
 "nbformat_minor": 1
}
